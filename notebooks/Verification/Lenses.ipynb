{
 "cells": [
  {
   "cell_type": "markdown",
   "id": "180eddbc-f395-436a-bf74-46ea6da4f094",
   "metadata": {},
   "source": [
    "# Настройка среды"
   ]
  },
  {
   "cell_type": "code",
   "execution_count": 1,
   "id": "e5cd5ca1-fca5-4425-a59d-e68f4bbbc9a7",
   "metadata": {},
   "outputs": [],
   "source": [
    "import os\n",
    "import sys\n",
    "sys.path.append(os.path.abspath(\"../..\"))"
   ]
  },
  {
   "cell_type": "code",
   "execution_count": 7,
   "id": "68871c06-077a-4fe4-9bd9-8e5f6c88aca0",
   "metadata": {},
   "outputs": [],
   "source": [
    "from belashovplot import TiledPlot\n",
    "from utilities import *\n",
    "from utilities.filters import Gaussian, Window\n",
    "from elements.abstracts import AbstractModulator, AbstractPropagator\n",
    "from elements.modulators import Lens, PhaseModulator, AmplitudeModulator\n",
    "from elements.propagators import FurrierPropagation, ConvolutionalPropagation\n",
    "from elements.composition import CompositeModel, HybridModel\n",
    "from elements.wrappers import CudaMemoryChunker, Incoherent\n",
    "from elements.detectors import ClassificationDetectors, MatrixDetectors\n",
    "from elements.simple import AdjustSize\n",
    "from parameters import FigureWidthHeight, FontLibrary\n",
    "from tqdm import tqdm\n",
    "from math import sin, sqrt\n",
    "import torch\n",
    "import numpy\n",
    "import pandas\n",
    "from copy import deepcopy\n",
    "from itertools import product\n",
    "from typing import Iterable\n",
    "from cluster import train, confusion, execute, epochs"
   ]
  },
  {
   "cell_type": "code",
   "execution_count": 3,
   "id": "3f1356b7-0ba6-4ae6-ae59-f84774776078",
   "metadata": {},
   "outputs": [],
   "source": [
    "FontLibrary.Fonts.PlotTitle.FontSize = 16\n",
    "\n",
    "FontLibrary.Fonts.DescriptionLeft.FontSize = 12\n",
    "FontLibrary.Fonts.DescriptionLeft.FontWeight = 'bold'\n",
    "FontLibrary.Fonts.DescriptionLeft.FontStyle = 'italic'\n",
    "\n",
    "FontLibrary.Fonts.DescriptionBottom.FontSize = 10\n",
    "FontLibrary.Fonts.DescriptionBottom.FontWeight = 'bold'\n",
    "FontLibrary.Fonts.DescriptionBottom.FontStyle = 'italic'\n",
    "\n",
    "FontLibrary.Fonts.DescriptionTop.FontSize = 10\n",
    "FontLibrary.Fonts.DescriptionTop.FontWeight = 'bold'\n",
    "FontLibrary.Fonts.DescriptionTop.FontStyle = 'italic'\n",
    "\n",
    "FontLibrary.Fonts.ColumnDescriptionTop.FontSize = 9\n",
    "FontLibrary.Fonts.ColumnDescriptionBottom.FontSize = 9\n",
    "FontLibrary.Fonts.RowDescriptionLeft.FontSize = 9\n",
    "FontLibrary.Fonts.RowDescriptionRight.FontSize = 9\n",
    "FontLibrary.Fonts.AxisX.FontSize = 8\n",
    "FontLibrary.Fonts.AxisY.FontSize = 8\n",
    "FigureWidthHeight = (6.69291, 10.1181-1.0)"
   ]
  },
  {
   "cell_type": "code",
   "execution_count": 4,
   "id": "f8569922-d9d4-48fa-bc31-ab50484d5f41",
   "metadata": {},
   "outputs": [
    {
     "name": "stdout",
     "output_type": "stream",
     "text": [
      "Используемый девайс: NVIDIA A100-SXM4-80GB\n"
     ]
    }
   ],
   "source": [
    "device = torch.device('cuda' if torch.cuda.is_available() else 'cpu')\n",
    "print('Используемый девайс:', torch.cuda.get_device_name(device) if torch.cuda.is_available() else 'ЦП')"
   ]
  },
  {
   "cell_type": "markdown",
   "id": "5be0390a-49a7-4a27-8d24-0dd6260fc428",
   "metadata": {},
   "source": [
    "# Построение изображения с помощью линзы"
   ]
  },
  {
   "cell_type": "markdown",
   "id": "4dce234e-7aa5-43e7-a1af-2288513ea70e",
   "metadata": {},
   "source": [
    "## Предопределение функций"
   ]
  },
  {
   "cell_type": "markdown",
   "id": "f8aa51ea-61a1-472a-b6f1-de75001fa19c",
   "metadata": {},
   "source": [
    "### Функция генерации результатов построение изображения в линзе"
   ]
  },
  {
   "cell_type": "code",
   "execution_count": 8,
   "id": "f864ff91-c456-4343-873d-09427f1791dd",
   "metadata": {},
   "outputs": [],
   "source": [
    "def abstract_lens_image_construction(\n",
    "    full_model:CompositeModel,\n",
    "    propagation_module_a:AbstractPropagator,\n",
    "    propagation_module_b:AbstractPropagator,\n",
    "    focus:float,\n",
    "    scales:Iterable[int],\n",
    "    images:torch.Tensor,\n",
    "    device:torch.device = None\n",
    "):  \n",
    "    if hasattr(scales, '__len__'):\n",
    "        scales_count:int = len(scales)\n",
    "    else:\n",
    "        scales_count = 0\n",
    "        for scale in scales:\n",
    "            scales_count += 1\n",
    "\n",
    "    if len(images.shape) != 4: raise AttributeError\n",
    "    \n",
    "    if device is None:\n",
    "        device = torch.device('cuda' if torch.cuda.is_available() else 'cpu')\n",
    "    full_model.to(device)\n",
    "    images = images.to(device)\n",
    "\n",
    "    with torch.no_grad():\n",
    "        results = []\n",
    "        for scale_i, scale in enumerate(scales):\n",
    "            a = focus*(1.0 + 1.0/scale)\n",
    "            b = focus*(1.0 + scale)\n",
    "            propagation_module_a.distance = a\n",
    "            propagation_module_b.distance = b\n",
    "    \n",
    "            result = full_model.forward(images).cpu()\n",
    "            results.append(result)\n",
    "\n",
    "    return results\n",
    "        \n"
   ]
  },
  {
   "cell_type": "markdown",
   "id": "569d5c77-4674-4b5e-bd13-e014c035243e",
   "metadata": {},
   "source": [
    "### Функция отрисовки результатов"
   ]
  }
 ],
 "metadata": {
  "kernelspec": {
   "display_name": "Python 3 (ipykernel)",
   "language": "python",
   "name": "python3"
  },
  "language_info": {
   "codemirror_mode": {
    "name": "ipython",
    "version": 3
   },
   "file_extension": ".py",
   "mimetype": "text/x-python",
   "name": "python",
   "nbconvert_exporter": "python",
   "pygments_lexer": "ipython3",
   "version": "3.10.12"
  }
 },
 "nbformat": 4,
 "nbformat_minor": 5
}
