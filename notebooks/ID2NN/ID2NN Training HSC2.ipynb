{
 "cells": [
  {
   "cell_type": "markdown",
   "id": "ccc45c47-db3b-4054-9d55-fe9d135dc729",
   "metadata": {
    "id": "ccc45c47-db3b-4054-9d55-fe9d135dc729",
    "tags": []
   },
   "source": [
    "# Настройка среды"
   ]
  },
  {
   "cell_type": "code",
   "execution_count": 1,
   "id": "eb08733f-d647-4841-baf1-21705ed7c72e",
   "metadata": {
    "colab": {
     "base_uri": "https://localhost:8080/"
    },
    "id": "eb08733f-d647-4841-baf1-21705ed7c72e",
    "outputId": "68907ff5-6494-4d13-f4d1-796b0d66d334",
    "tags": []
   },
   "outputs": [],
   "source": [
    "import os\n",
    "import sys\n",
    "sys.path.append(os.path.abspath(\"../..\"))"
   ]
  },
  {
   "cell_type": "code",
   "execution_count": 2,
   "id": "198fbffb-6335-4e54-b0d5-94d0109e255d",
   "metadata": {
    "colab": {
     "base_uri": "https://localhost:8080/"
    },
    "id": "198fbffb-6335-4e54-b0d5-94d0109e255d",
    "outputId": "39bd3c64-7529-457c-9293-256e5c758a92",
    "tags": []
   },
   "outputs": [],
   "source": [
    "# %pip install optuna\n",
    "# %pip install belashovplot\n",
    "# %pip install timm"
   ]
  },
  {
   "cell_type": "markdown",
   "id": "37ff20f3-4e63-47b8-95fc-1aa99e092bce",
   "metadata": {
    "tags": []
   },
   "source": [
    "# Импорты и настройка модулей"
   ]
  },
  {
   "cell_type": "code",
   "execution_count": 3,
   "id": "d1193e17-e375-41a3-8f98-9bea9bfd4d70",
   "metadata": {
    "id": "d1193e17-e375-41a3-8f98-9bea9bfd4d70",
    "tags": []
   },
   "outputs": [
    {
     "name": "stderr",
     "output_type": "stream",
     "text": [
      "C:\\Users\\uclap\\Documents\\Coding\\Python\\OpticalEncoder\\.venv\\Lib\\site-packages\\tqdm\\auto.py:21: TqdmWarning: IProgress not found. Please update jupyter and ipywidgets. See https://ipywidgets.readthedocs.io/en/stable/user_install.html\n",
      "  from .autonotebook import tqdm as notebook_tqdm\n"
     ]
    }
   ],
   "source": [
    "from belashovplot import TiledPlot\n",
    "from utilities import *\n",
    "from utilities.filters import Gaussian, Window\n",
    "from utilities.training import train, confusion\n",
    "from elements.modulators import Lens, PhaseModulator, AmplitudeModulator\n",
    "from elements.propagators import FurrierPropagation, ConvolutionalPropagation\n",
    "from elements.composition import CompositeModel, HybridModel\n",
    "from elements.wrappers import CudaMemoryChunker, Incoherent\n",
    "from elements.detectors import ClassificationDetectors, MatrixDetectors\n",
    "from parameters import FigureWidthHeight, FontLibrary\n",
    "from tqdm import tqdm\n",
    "from math import sin, sqrt\n",
    "from pickle import dump\n",
    "import torch\n",
    "import numpy\n",
    "import timm\n",
    "import optuna\n",
    "import pandas"
   ]
  },
  {
   "cell_type": "code",
   "execution_count": 4,
   "id": "66a672ad-9c85-4de4-a507-f3362e4e70b1",
   "metadata": {},
   "outputs": [],
   "source": [
    "FontLibrary.Fonts.ColumnDescriptionTop.FontSize = 9\n",
    "FontLibrary.Fonts.ColumnDescriptionBottom.FontSize = 9\n",
    "FontLibrary.Fonts.RowDescriptionLeft.FontSize = 9\n",
    "FontLibrary.Fonts.RowDescriptionRight.FontSize = 9\n",
    "FigureWidthHeight = (16, 16)"
   ]
  },
  {
   "cell_type": "code",
   "execution_count": 5,
   "id": "4a9fa281-9013-4533-9078-55616af24213",
   "metadata": {},
   "outputs": [
    {
     "name": "stdout",
     "output_type": "stream",
     "text": [
      "Используемый девайс: NVIDIA GeForce RTX 3060 Ti\n"
     ]
    }
   ],
   "source": [
    "device = torch.device('cuda' if torch.cuda.is_available() else 'cpu')\n",
    "print('Используемый девайс:', torch.cuda.get_device_name(device) if torch.cuda.is_available() else 'ЦП')"
   ]
  },
  {
   "cell_type": "markdown",
   "id": "b8a780e5-2a92-4ef1-9e8f-a4b9f5b546ef",
   "metadata": {
    "tags": []
   },
   "source": [
    "# Инициализация вспомогательных методов"
   ]
  },
  {
   "cell_type": "markdown",
   "id": "c69944b5-20cb-40a4-a6a1-683706cd8c29",
   "metadata": {
    "jp-MarkdownHeadingCollapsed": true,
    "tags": []
   },
   "source": [
    "## Комбинированная лосс функция"
   ]
  },
  {
   "cell_type": "code",
   "execution_count": 6,
   "id": "085cb466-1ca7-42f1-b994-d7cae2408970",
   "metadata": {},
   "outputs": [],
   "source": [
    "def combined_loss(cross_entropy_to_mse_proportion:float=1.0):\n",
    "    def loss_function(outputs, targets):\n",
    "        CELoss = torch.nn.functional.cross_entropy(outputs, targets)\n",
    "        MSELoss = torch.nn.functional.mse_loss(torch.nn.functional.softmax(outputs, dim=1), torch.nn.functional.one_hot(targets, num_classes=10).float())\n",
    "        loss = cross_entropy_to_mse_proportion*CELoss + (1.0-cross_entropy_to_mse_proportion)*MSELoss\n",
    "        return loss\n",
    "    return loss_function"
   ]
  },
  {
   "cell_type": "markdown",
   "id": "96b4241c-654f-4ea2-a6d6-dcbd90ab7042",
   "metadata": {
    "jp-MarkdownHeadingCollapsed": true,
    "tags": []
   },
   "source": [
    "## Электронная моель ResNet"
   ]
  },
  {
   "cell_type": "code",
   "execution_count": 7,
   "id": "8af3af1b-89ad-4e4f-bd6d-366ea0ff94bb",
   "metadata": {},
   "outputs": [],
   "source": [
    "def resnet18(classes:int=10):\n",
    "    return timm.create_model('resnet18', pretrained=True,  in_chans=1, num_classes=classes).to(device)"
   ]
  },
  {
   "cell_type": "markdown",
   "id": "8854a17b-af3d-4331-8279-b91b59cae295",
   "metadata": {},
   "source": [
    "## Инициализация системы по полному набору параметров"
   ]
  },
  {
   "cell_type": "code",
   "execution_count": 8,
   "id": "586131b4-a9e4-4b65-baf3-8bfb332c13cd",
   "metadata": {
    "tags": []
   },
   "outputs": [],
   "source": [
    "def initialize(\n",
    "    wavelength:float, N:int, length:float, pixels:int, masks_amount:int, distance:float,\n",
    "    spatial_coherence:float, time_coherence:float, time_relaxation:float, mean_samples:int,\n",
    "    detector_size:float, detectors_amount:int,\n",
    "    loss_function_proportion:float,  batch_size:int, optimizer_type:str\n",
    "):\n",
    "    print(\"Инициализированна модель со следующими параметрами:\")\n",
    "    print(f\"\\tДлинна волны:                             {engineering(wavelength, 'м')}\")\n",
    "    print(f\"\\tКоличество вычислительных пикселей:       {N}\")\n",
    "    print(f\"\\tКоличество пикселей маски:                {pixels}\")\n",
    "    print(f\"\\tРазмер оптических элементов:              {engineering(length, 'м')}\")\n",
    "    print(f\"\\tРазмер пикселя маски:                     {engineering(length/pixels, 'м')}\")\n",
    "    print(f\"\\tРасстояние между слоями:                  {engineering(distance, 'м')}\")\n",
    "    \n",
    "    print(f\"\\tВременная когерентность:                  {engineering(time_coherence, 'с')}\")\n",
    "    print(f\"\\tВремя релаксации:                         {engineering(time_relaxation, 'c')}\")\n",
    "    print(f\"\\tПространственная когерентность:           {engineering(spatial_coherence, 'м')}\")\n",
    "    print(f\"\\tКоличество усреднений:                    {mean_samples}\")\n",
    "\n",
    "    print(f\"\\tРазмер детекторов:                        {engineering(detector_size, 'м')}\")\n",
    "    print(f\"\\tКоличество детекторов:                    {detectors_amount} на {detectors_amount}\")\n",
    "\n",
    "    print(f\"\\tПропорция CE к MSE лосс:                  {loss_function_proportion}\")\n",
    "    print(f\"\\tРазмер батча:                             {batch_size}\")\n",
    "    print(f\"\\tТип оптимизатора:                         {optimizer_type}\")\n",
    "    print()\n",
    "    \n",
    "    incoherent = Incoherent(spatial_coherence, time_coherence, time_relaxation, mean_samples, N, length).to(device)\n",
    "\n",
    "    spectral_filter = Window(centers=wavelength, sizes=300.0E-9)\n",
    "    detectors_filter = Gaussian((detector_size, detector_size), (0,0))\n",
    "    detectors = MatrixDetectors(N, length, wavelength, detectors_amount, detectors_filter, spectral_filter).to(device)\n",
    "\n",
    "    electronic = resnet18()\n",
    "\n",
    "    propagation = FurrierPropagation(N, length, wavelength, 1.0, 0.0, distance, 0.4)\n",
    "    phase_modulators = [PhaseModulator(N, length, pixels) for i in range(masks_amount)]\n",
    "    amplitude_modulators = [AmplitudeModulator(N, length, pixels) for i in range(masks_amount)]\n",
    "    elements = [phase_modulators[0], amplitude_modulators[0]]\n",
    "    for phase_modulator, amplitude_modulator in zip(phase_modulators[1:], amplitude_modulators[1:]):\n",
    "        elements.append(propagation)\n",
    "        elements.append(phase_modulator)\n",
    "        elements.append(amplitude_modulator)\n",
    "    elements.append(propagation)\n",
    "    chunker = CudaMemoryChunker(sub_chunks=mean_samples)\n",
    "    optical = CompositeModel(*elements)\n",
    "    optical.wrap(chunker)\n",
    "    optical.wrap(incoherent)\n",
    "    optical.to(device)\n",
    "    model = HybridModel(optical, detectors, electronic).to(device)\n",
    "\n",
    "    dataset = Dataset('CIFAR10', batch_size, N, N, torch.complex64)\n",
    "    dataset.train\n",
    "    dataset.test\n",
    "    \n",
    "    loss_function = combined_loss(loss_function_proportion)\n",
    "    optimizer_types_list = {'Adam':torch.optim.Adam, 'SGD':torch.optim.SGD, 'RMSprop':torch.optim.RMSprop, 'Adagrad':torch.optim.Adagrad}\n",
    "    optimizer_type = optimizer_types_list[optimizer_type]\n",
    "\n",
    "    return model, dataset, loss_function, optimizer_type, (incoherent, chunker, optical, detectors, electronic)"
   ]
  },
  {
   "cell_type": "markdown",
   "id": "a777e3a4-bcde-4580-b71d-77e0fce1db5a",
   "metadata": {
    "id": "a777e3a4-bcde-4580-b71d-77e0fce1db5a",
    "tags": []
   },
   "source": [
    "# Установка не изменяемых параметров системы"
   ]
  },
  {
   "cell_type": "code",
   "execution_count": 9,
   "id": "d0a396e3-03a4-4310-a955-1275ce11aebd",
   "metadata": {
    "colab": {
     "base_uri": "https://localhost:8080/"
    },
    "id": "d0a396e3-03a4-4310-a955-1275ce11aebd",
    "outputId": "f6d473d3-ed12-4806-b64c-023742be2101",
    "tags": []
   },
   "outputs": [],
   "source": [
    "# Предпочтительные параметры\n",
    "size = 50.0E-6\n",
    "near_N = 300\n",
    "near_length = 5.0E-3\n",
    "wavelength = 500.0E-9\n",
    "detectors_amount = 24\n",
    "\n",
    "# Параметры когерентности\n",
    "spatial_coherence = 3000.0E-6\n",
    "time_coherence = 10.0E-9\n",
    "time_relaxation = 1.0E-6\n",
    "mean_samples = 7"
   ]
  },
  {
   "cell_type": "code",
   "execution_count": 10,
   "id": "5fd8878d-4b4e-4db4-81ec-195a0414e82f",
   "metadata": {
    "tags": []
   },
   "outputs": [],
   "source": [
    "# Вычисляемые параметры\n",
    "pixels = upper_integer(near_length/size)\n",
    "length = pixels * size\n",
    "cppp = upper_integer(near_N * size / length)\n",
    "N = int(length / size) * cppp\n",
    "detector_size = length / 60"
   ]
  },
  {
   "cell_type": "markdown",
   "id": "8e66db38-721b-4cea-834c-41aa587ca64e",
   "metadata": {
    "tags": []
   },
   "source": [
    "# Отображение базы данных тренировок"
   ]
  },
  {
   "cell_type": "code",
   "execution_count": 11,
   "id": "c875cb02-9c92-4d2e-83eb-ed3da9be1dcb",
   "metadata": {
    "tags": []
   },
   "outputs": [
    {
     "name": "stderr",
     "output_type": "stream",
     "text": [
      "[I 2024-05-12 22:48:11,814] Using an existing study with name 'ID2NN' instead of creating a new one.\n"
     ]
    },
    {
     "name": "stdout",
     "output_type": "stream",
     "text": [
      "Кол-во исследований: 518\n"
     ]
    }
   ],
   "source": [
    "study = optuna.create_study(study_name=\"ID2NN\", storage=\"sqlite:///ID2NN.db\", direction='maximize', load_if_exists=True)\n",
    "dataframe:pandas.DataFrame = study.trials_dataframe()\n",
    "print(f\"Кол-во исследований: {len(study.trials)}\")"
   ]
  },
  {
   "cell_type": "code",
   "execution_count": 12,
   "id": "e3d9cd86-f0fa-42db-a612-bb080b83c89f",
   "metadata": {},
   "outputs": [
    {
     "data": {
      "text/html": [
       "<div>\n",
       "<style scoped>\n",
       "    .dataframe tbody tr th:only-of-type {\n",
       "        vertical-align: middle;\n",
       "    }\n",
       "\n",
       "    .dataframe tbody tr th {\n",
       "        vertical-align: top;\n",
       "    }\n",
       "\n",
       "    .dataframe thead th {\n",
       "        text-align: right;\n",
       "    }\n",
       "</style>\n",
       "<table border=\"1\" class=\"dataframe\">\n",
       "  <thead>\n",
       "    <tr style=\"text-align: right;\">\n",
       "      <th></th>\n",
       "      <th>number</th>\n",
       "      <th>value</th>\n",
       "      <th>datetime_start</th>\n",
       "      <th>datetime_complete</th>\n",
       "      <th>duration</th>\n",
       "      <th>params_batch size</th>\n",
       "      <th>params_cross entorpy proportion</th>\n",
       "      <th>params_distance</th>\n",
       "      <th>params_learning rate</th>\n",
       "      <th>params_masks amount</th>\n",
       "      <th>params_optimizer type</th>\n",
       "      <th>state</th>\n",
       "    </tr>\n",
       "  </thead>\n",
       "  <tbody>\n",
       "    <tr>\n",
       "      <th>318</th>\n",
       "      <td>318</td>\n",
       "      <td>27.78</td>\n",
       "      <td>2024-05-07 13:51:45.791768</td>\n",
       "      <td>2024-05-07 13:58:16.192132</td>\n",
       "      <td>0 days 00:06:30.400364</td>\n",
       "      <td>21</td>\n",
       "      <td>0.609088</td>\n",
       "      <td>0.080086</td>\n",
       "      <td>0.004227</td>\n",
       "      <td>3</td>\n",
       "      <td>RMSprop</td>\n",
       "      <td>COMPLETE</td>\n",
       "    </tr>\n",
       "    <tr>\n",
       "      <th>464</th>\n",
       "      <td>464</td>\n",
       "      <td>27.52</td>\n",
       "      <td>2024-05-08 09:44:42.080341</td>\n",
       "      <td>2024-05-08 09:51:11.168711</td>\n",
       "      <td>0 days 00:06:29.088370</td>\n",
       "      <td>22</td>\n",
       "      <td>0.609798</td>\n",
       "      <td>0.090520</td>\n",
       "      <td>0.009854</td>\n",
       "      <td>3</td>\n",
       "      <td>RMSprop</td>\n",
       "      <td>COMPLETE</td>\n",
       "    </tr>\n",
       "    <tr>\n",
       "      <th>170</th>\n",
       "      <td>170</td>\n",
       "      <td>27.02</td>\n",
       "      <td>2024-05-06 16:44:10.393688</td>\n",
       "      <td>2024-05-06 16:51:03.435147</td>\n",
       "      <td>0 days 00:06:53.041459</td>\n",
       "      <td>22</td>\n",
       "      <td>0.585650</td>\n",
       "      <td>0.081026</td>\n",
       "      <td>0.006971</td>\n",
       "      <td>3</td>\n",
       "      <td>RMSprop</td>\n",
       "      <td>COMPLETE</td>\n",
       "    </tr>\n",
       "    <tr>\n",
       "      <th>282</th>\n",
       "      <td>282</td>\n",
       "      <td>27.00</td>\n",
       "      <td>2024-05-07 07:57:43.898133</td>\n",
       "      <td>2024-05-07 08:04:11.998489</td>\n",
       "      <td>0 days 00:06:28.100356</td>\n",
       "      <td>24</td>\n",
       "      <td>0.871667</td>\n",
       "      <td>0.087308</td>\n",
       "      <td>0.006792</td>\n",
       "      <td>3</td>\n",
       "      <td>RMSprop</td>\n",
       "      <td>COMPLETE</td>\n",
       "    </tr>\n",
       "    <tr>\n",
       "      <th>486</th>\n",
       "      <td>486</td>\n",
       "      <td>26.84</td>\n",
       "      <td>2024-05-08 12:11:16.355451</td>\n",
       "      <td>2024-05-08 12:17:44.135148</td>\n",
       "      <td>0 days 00:06:27.779697</td>\n",
       "      <td>23</td>\n",
       "      <td>0.924804</td>\n",
       "      <td>0.084454</td>\n",
       "      <td>0.008574</td>\n",
       "      <td>3</td>\n",
       "      <td>RMSprop</td>\n",
       "      <td>COMPLETE</td>\n",
       "    </tr>\n",
       "    <tr>\n",
       "      <th>473</th>\n",
       "      <td>473</td>\n",
       "      <td>26.65</td>\n",
       "      <td>2024-05-08 10:44:57.743102</td>\n",
       "      <td>2024-05-08 10:51:41.548426</td>\n",
       "      <td>0 days 00:06:43.805324</td>\n",
       "      <td>23</td>\n",
       "      <td>0.947274</td>\n",
       "      <td>0.082832</td>\n",
       "      <td>0.012314</td>\n",
       "      <td>3</td>\n",
       "      <td>RMSprop</td>\n",
       "      <td>COMPLETE</td>\n",
       "    </tr>\n",
       "    <tr>\n",
       "      <th>328</th>\n",
       "      <td>328</td>\n",
       "      <td>26.57</td>\n",
       "      <td>2024-05-07 14:57:25.478992</td>\n",
       "      <td>2024-05-07 15:04:07.806165</td>\n",
       "      <td>0 days 00:06:42.327173</td>\n",
       "      <td>22</td>\n",
       "      <td>0.619450</td>\n",
       "      <td>0.088087</td>\n",
       "      <td>0.002438</td>\n",
       "      <td>3</td>\n",
       "      <td>RMSprop</td>\n",
       "      <td>COMPLETE</td>\n",
       "    </tr>\n",
       "    <tr>\n",
       "      <th>185</th>\n",
       "      <td>185</td>\n",
       "      <td>26.56</td>\n",
       "      <td>2024-05-06 18:33:01.453181</td>\n",
       "      <td>2024-05-06 18:40:32.413576</td>\n",
       "      <td>0 days 00:07:30.960395</td>\n",
       "      <td>22</td>\n",
       "      <td>0.918696</td>\n",
       "      <td>0.082408</td>\n",
       "      <td>0.003772</td>\n",
       "      <td>3</td>\n",
       "      <td>RMSprop</td>\n",
       "      <td>COMPLETE</td>\n",
       "    </tr>\n",
       "    <tr>\n",
       "      <th>202</th>\n",
       "      <td>202</td>\n",
       "      <td>26.47</td>\n",
       "      <td>2024-05-06 20:34:45.985106</td>\n",
       "      <td>2024-05-06 20:41:43.901028</td>\n",
       "      <td>0 days 00:06:57.915922</td>\n",
       "      <td>22</td>\n",
       "      <td>0.881049</td>\n",
       "      <td>0.099628</td>\n",
       "      <td>0.005962</td>\n",
       "      <td>3</td>\n",
       "      <td>RMSprop</td>\n",
       "      <td>COMPLETE</td>\n",
       "    </tr>\n",
       "    <tr>\n",
       "      <th>368</th>\n",
       "      <td>368</td>\n",
       "      <td>26.42</td>\n",
       "      <td>2024-05-07 21:54:43.933547</td>\n",
       "      <td>2024-05-07 22:01:20.587107</td>\n",
       "      <td>0 days 00:06:36.653560</td>\n",
       "      <td>22</td>\n",
       "      <td>0.989623</td>\n",
       "      <td>0.083510</td>\n",
       "      <td>0.006275</td>\n",
       "      <td>3</td>\n",
       "      <td>RMSprop</td>\n",
       "      <td>COMPLETE</td>\n",
       "    </tr>\n",
       "  </tbody>\n",
       "</table>\n",
       "</div>"
      ],
      "text/plain": [
       "     number  value             datetime_start          datetime_complete  \\\n",
       "318     318  27.78 2024-05-07 13:51:45.791768 2024-05-07 13:58:16.192132   \n",
       "464     464  27.52 2024-05-08 09:44:42.080341 2024-05-08 09:51:11.168711   \n",
       "170     170  27.02 2024-05-06 16:44:10.393688 2024-05-06 16:51:03.435147   \n",
       "282     282  27.00 2024-05-07 07:57:43.898133 2024-05-07 08:04:11.998489   \n",
       "486     486  26.84 2024-05-08 12:11:16.355451 2024-05-08 12:17:44.135148   \n",
       "473     473  26.65 2024-05-08 10:44:57.743102 2024-05-08 10:51:41.548426   \n",
       "328     328  26.57 2024-05-07 14:57:25.478992 2024-05-07 15:04:07.806165   \n",
       "185     185  26.56 2024-05-06 18:33:01.453181 2024-05-06 18:40:32.413576   \n",
       "202     202  26.47 2024-05-06 20:34:45.985106 2024-05-06 20:41:43.901028   \n",
       "368     368  26.42 2024-05-07 21:54:43.933547 2024-05-07 22:01:20.587107   \n",
       "\n",
       "                  duration  params_batch size  \\\n",
       "318 0 days 00:06:30.400364                 21   \n",
       "464 0 days 00:06:29.088370                 22   \n",
       "170 0 days 00:06:53.041459                 22   \n",
       "282 0 days 00:06:28.100356                 24   \n",
       "486 0 days 00:06:27.779697                 23   \n",
       "473 0 days 00:06:43.805324                 23   \n",
       "328 0 days 00:06:42.327173                 22   \n",
       "185 0 days 00:07:30.960395                 22   \n",
       "202 0 days 00:06:57.915922                 22   \n",
       "368 0 days 00:06:36.653560                 22   \n",
       "\n",
       "     params_cross entorpy proportion  params_distance  params_learning rate  \\\n",
       "318                         0.609088         0.080086              0.004227   \n",
       "464                         0.609798         0.090520              0.009854   \n",
       "170                         0.585650         0.081026              0.006971   \n",
       "282                         0.871667         0.087308              0.006792   \n",
       "486                         0.924804         0.084454              0.008574   \n",
       "473                         0.947274         0.082832              0.012314   \n",
       "328                         0.619450         0.088087              0.002438   \n",
       "185                         0.918696         0.082408              0.003772   \n",
       "202                         0.881049         0.099628              0.005962   \n",
       "368                         0.989623         0.083510              0.006275   \n",
       "\n",
       "     params_masks amount params_optimizer type     state  \n",
       "318                    3               RMSprop  COMPLETE  \n",
       "464                    3               RMSprop  COMPLETE  \n",
       "170                    3               RMSprop  COMPLETE  \n",
       "282                    3               RMSprop  COMPLETE  \n",
       "486                    3               RMSprop  COMPLETE  \n",
       "473                    3               RMSprop  COMPLETE  \n",
       "328                    3               RMSprop  COMPLETE  \n",
       "185                    3               RMSprop  COMPLETE  \n",
       "202                    3               RMSprop  COMPLETE  \n",
       "368                    3               RMSprop  COMPLETE  "
      ]
     },
     "execution_count": 12,
     "metadata": {},
     "output_type": "execute_result"
    }
   ],
   "source": [
    "dataframe.nlargest(10, 'value')"
   ]
  },
  {
   "cell_type": "code",
   "execution_count": 13,
   "id": "e73f94ef-2f06-4980-87b6-153c70a98a03",
   "metadata": {},
   "outputs": [
    {
     "data": {
      "text/html": [
       "<div>\n",
       "<style scoped>\n",
       "    .dataframe tbody tr th:only-of-type {\n",
       "        vertical-align: middle;\n",
       "    }\n",
       "\n",
       "    .dataframe tbody tr th {\n",
       "        vertical-align: top;\n",
       "    }\n",
       "\n",
       "    .dataframe thead th {\n",
       "        text-align: right;\n",
       "    }\n",
       "</style>\n",
       "<table border=\"1\" class=\"dataframe\">\n",
       "  <thead>\n",
       "    <tr style=\"text-align: right;\">\n",
       "      <th></th>\n",
       "      <th>number</th>\n",
       "      <th>value</th>\n",
       "      <th>datetime_start</th>\n",
       "      <th>datetime_complete</th>\n",
       "      <th>duration</th>\n",
       "      <th>params_batch size</th>\n",
       "      <th>params_cross entorpy proportion</th>\n",
       "      <th>params_distance</th>\n",
       "      <th>params_learning rate</th>\n",
       "      <th>params_masks amount</th>\n",
       "      <th>params_optimizer type</th>\n",
       "      <th>state</th>\n",
       "    </tr>\n",
       "  </thead>\n",
       "  <tbody>\n",
       "    <tr>\n",
       "      <th>419</th>\n",
       "      <td>419</td>\n",
       "      <td>25.39</td>\n",
       "      <td>2024-05-08 04:43:19.471215</td>\n",
       "      <td>2024-05-08 04:50:06.184039</td>\n",
       "      <td>0 days 00:06:46.712824</td>\n",
       "      <td>21</td>\n",
       "      <td>0.927108</td>\n",
       "      <td>0.161614</td>\n",
       "      <td>0.006927</td>\n",
       "      <td>3</td>\n",
       "      <td>RMSprop</td>\n",
       "      <td>COMPLETE</td>\n",
       "    </tr>\n",
       "    <tr>\n",
       "      <th>148</th>\n",
       "      <td>148</td>\n",
       "      <td>25.66</td>\n",
       "      <td>2024-05-06 14:09:26.010912</td>\n",
       "      <td>2024-05-06 14:16:19.416841</td>\n",
       "      <td>0 days 00:06:53.405929</td>\n",
       "      <td>21</td>\n",
       "      <td>0.016943</td>\n",
       "      <td>0.136854</td>\n",
       "      <td>0.006616</td>\n",
       "      <td>3</td>\n",
       "      <td>RMSprop</td>\n",
       "      <td>COMPLETE</td>\n",
       "    </tr>\n",
       "    <tr>\n",
       "      <th>78</th>\n",
       "      <td>78</td>\n",
       "      <td>25.73</td>\n",
       "      <td>2024-05-06 04:14:13.851739</td>\n",
       "      <td>2024-05-06 04:22:15.120051</td>\n",
       "      <td>0 days 00:08:01.268312</td>\n",
       "      <td>20</td>\n",
       "      <td>0.046140</td>\n",
       "      <td>0.111767</td>\n",
       "      <td>0.006598</td>\n",
       "      <td>4</td>\n",
       "      <td>Adam</td>\n",
       "      <td>COMPLETE</td>\n",
       "    </tr>\n",
       "    <tr>\n",
       "      <th>256</th>\n",
       "      <td>256</td>\n",
       "      <td>25.32</td>\n",
       "      <td>2024-05-07 05:01:05.373643</td>\n",
       "      <td>2024-05-07 05:07:34.515358</td>\n",
       "      <td>0 days 00:06:29.141715</td>\n",
       "      <td>23</td>\n",
       "      <td>0.873216</td>\n",
       "      <td>0.108465</td>\n",
       "      <td>0.005069</td>\n",
       "      <td>3</td>\n",
       "      <td>RMSprop</td>\n",
       "      <td>COMPLETE</td>\n",
       "    </tr>\n",
       "    <tr>\n",
       "      <th>234</th>\n",
       "      <td>234</td>\n",
       "      <td>25.36</td>\n",
       "      <td>2024-05-07 02:27:20.326281</td>\n",
       "      <td>2024-05-07 02:34:03.267210</td>\n",
       "      <td>0 days 00:06:42.940929</td>\n",
       "      <td>22</td>\n",
       "      <td>0.834854</td>\n",
       "      <td>0.105779</td>\n",
       "      <td>0.006482</td>\n",
       "      <td>3</td>\n",
       "      <td>RMSprop</td>\n",
       "      <td>COMPLETE</td>\n",
       "    </tr>\n",
       "    <tr>\n",
       "      <th>238</th>\n",
       "      <td>238</td>\n",
       "      <td>26.07</td>\n",
       "      <td>2024-05-07 02:54:01.686042</td>\n",
       "      <td>2024-05-07 03:00:36.468071</td>\n",
       "      <td>0 days 00:06:34.782029</td>\n",
       "      <td>21</td>\n",
       "      <td>0.822325</td>\n",
       "      <td>0.104663</td>\n",
       "      <td>0.004283</td>\n",
       "      <td>3</td>\n",
       "      <td>RMSprop</td>\n",
       "      <td>COMPLETE</td>\n",
       "    </tr>\n",
       "    <tr>\n",
       "      <th>249</th>\n",
       "      <td>249</td>\n",
       "      <td>26.38</td>\n",
       "      <td>2024-05-07 04:15:40.388794</td>\n",
       "      <td>2024-05-07 04:22:08.712510</td>\n",
       "      <td>0 days 00:06:28.323716</td>\n",
       "      <td>23</td>\n",
       "      <td>0.822749</td>\n",
       "      <td>0.104230</td>\n",
       "      <td>0.007333</td>\n",
       "      <td>3</td>\n",
       "      <td>RMSprop</td>\n",
       "      <td>COMPLETE</td>\n",
       "    </tr>\n",
       "    <tr>\n",
       "      <th>210</th>\n",
       "      <td>210</td>\n",
       "      <td>25.71</td>\n",
       "      <td>2024-05-06 21:28:15.845935</td>\n",
       "      <td>2024-05-06 21:34:54.754249</td>\n",
       "      <td>0 days 00:06:38.908314</td>\n",
       "      <td>22</td>\n",
       "      <td>0.873626</td>\n",
       "      <td>0.103672</td>\n",
       "      <td>0.002602</td>\n",
       "      <td>3</td>\n",
       "      <td>RMSprop</td>\n",
       "      <td>COMPLETE</td>\n",
       "    </tr>\n",
       "    <tr>\n",
       "      <th>195</th>\n",
       "      <td>195</td>\n",
       "      <td>25.30</td>\n",
       "      <td>2024-05-06 19:45:30.912470</td>\n",
       "      <td>2024-05-06 19:52:49.290034</td>\n",
       "      <td>0 days 00:07:18.377564</td>\n",
       "      <td>23</td>\n",
       "      <td>0.877697</td>\n",
       "      <td>0.103050</td>\n",
       "      <td>0.004641</td>\n",
       "      <td>3</td>\n",
       "      <td>RMSprop</td>\n",
       "      <td>COMPLETE</td>\n",
       "    </tr>\n",
       "    <tr>\n",
       "      <th>182</th>\n",
       "      <td>182</td>\n",
       "      <td>25.01</td>\n",
       "      <td>2024-05-06 18:10:28.976053</td>\n",
       "      <td>2024-05-06 18:18:01.601154</td>\n",
       "      <td>0 days 00:07:32.625101</td>\n",
       "      <td>22</td>\n",
       "      <td>0.861536</td>\n",
       "      <td>0.100905</td>\n",
       "      <td>0.003497</td>\n",
       "      <td>3</td>\n",
       "      <td>RMSprop</td>\n",
       "      <td>COMPLETE</td>\n",
       "    </tr>\n",
       "  </tbody>\n",
       "</table>\n",
       "</div>"
      ],
      "text/plain": [
       "     number  value             datetime_start          datetime_complete  \\\n",
       "419     419  25.39 2024-05-08 04:43:19.471215 2024-05-08 04:50:06.184039   \n",
       "148     148  25.66 2024-05-06 14:09:26.010912 2024-05-06 14:16:19.416841   \n",
       "78       78  25.73 2024-05-06 04:14:13.851739 2024-05-06 04:22:15.120051   \n",
       "256     256  25.32 2024-05-07 05:01:05.373643 2024-05-07 05:07:34.515358   \n",
       "234     234  25.36 2024-05-07 02:27:20.326281 2024-05-07 02:34:03.267210   \n",
       "238     238  26.07 2024-05-07 02:54:01.686042 2024-05-07 03:00:36.468071   \n",
       "249     249  26.38 2024-05-07 04:15:40.388794 2024-05-07 04:22:08.712510   \n",
       "210     210  25.71 2024-05-06 21:28:15.845935 2024-05-06 21:34:54.754249   \n",
       "195     195  25.30 2024-05-06 19:45:30.912470 2024-05-06 19:52:49.290034   \n",
       "182     182  25.01 2024-05-06 18:10:28.976053 2024-05-06 18:18:01.601154   \n",
       "\n",
       "                  duration  params_batch size  \\\n",
       "419 0 days 00:06:46.712824                 21   \n",
       "148 0 days 00:06:53.405929                 21   \n",
       "78  0 days 00:08:01.268312                 20   \n",
       "256 0 days 00:06:29.141715                 23   \n",
       "234 0 days 00:06:42.940929                 22   \n",
       "238 0 days 00:06:34.782029                 21   \n",
       "249 0 days 00:06:28.323716                 23   \n",
       "210 0 days 00:06:38.908314                 22   \n",
       "195 0 days 00:07:18.377564                 23   \n",
       "182 0 days 00:07:32.625101                 22   \n",
       "\n",
       "     params_cross entorpy proportion  params_distance  params_learning rate  \\\n",
       "419                         0.927108         0.161614              0.006927   \n",
       "148                         0.016943         0.136854              0.006616   \n",
       "78                          0.046140         0.111767              0.006598   \n",
       "256                         0.873216         0.108465              0.005069   \n",
       "234                         0.834854         0.105779              0.006482   \n",
       "238                         0.822325         0.104663              0.004283   \n",
       "249                         0.822749         0.104230              0.007333   \n",
       "210                         0.873626         0.103672              0.002602   \n",
       "195                         0.877697         0.103050              0.004641   \n",
       "182                         0.861536         0.100905              0.003497   \n",
       "\n",
       "     params_masks amount params_optimizer type     state  \n",
       "419                    3               RMSprop  COMPLETE  \n",
       "148                    3               RMSprop  COMPLETE  \n",
       "78                     4                  Adam  COMPLETE  \n",
       "256                    3               RMSprop  COMPLETE  \n",
       "234                    3               RMSprop  COMPLETE  \n",
       "238                    3               RMSprop  COMPLETE  \n",
       "249                    3               RMSprop  COMPLETE  \n",
       "210                    3               RMSprop  COMPLETE  \n",
       "195                    3               RMSprop  COMPLETE  \n",
       "182                    3               RMSprop  COMPLETE  "
      ]
     },
     "execution_count": 13,
     "metadata": {},
     "output_type": "execute_result"
    }
   ],
   "source": [
    "dataframe[dataframe['value'] >= 25].nlargest(10, 'params_distance')"
   ]
  },
  {
   "cell_type": "markdown",
   "id": "ec1b022d-3792-4df7-89a0-9343ca365d0f",
   "metadata": {},
   "source": [
    "# Модель №1"
   ]
  },
  {
   "cell_type": "code",
   "execution_count": 14,
   "id": "effc4d0a-6952-42c7-8e28-21cb2a80bea6",
   "metadata": {},
   "outputs": [
    {
     "data": {
      "text/html": [
       "<div>\n",
       "<style scoped>\n",
       "    .dataframe tbody tr th:only-of-type {\n",
       "        vertical-align: middle;\n",
       "    }\n",
       "\n",
       "    .dataframe tbody tr th {\n",
       "        vertical-align: top;\n",
       "    }\n",
       "\n",
       "    .dataframe thead th {\n",
       "        text-align: right;\n",
       "    }\n",
       "</style>\n",
       "<table border=\"1\" class=\"dataframe\">\n",
       "  <thead>\n",
       "    <tr style=\"text-align: right;\">\n",
       "      <th></th>\n",
       "      <th>number</th>\n",
       "      <th>value</th>\n",
       "      <th>datetime_start</th>\n",
       "      <th>datetime_complete</th>\n",
       "      <th>duration</th>\n",
       "      <th>params_batch size</th>\n",
       "      <th>params_cross entorpy proportion</th>\n",
       "      <th>params_distance</th>\n",
       "      <th>params_learning rate</th>\n",
       "      <th>params_masks amount</th>\n",
       "      <th>params_optimizer type</th>\n",
       "      <th>state</th>\n",
       "    </tr>\n",
       "  </thead>\n",
       "  <tbody>\n",
       "    <tr>\n",
       "      <th>464</th>\n",
       "      <td>464</td>\n",
       "      <td>27.52</td>\n",
       "      <td>2024-05-08 09:44:42.080341</td>\n",
       "      <td>2024-05-08 09:51:11.168711</td>\n",
       "      <td>0 days 00:06:29.088370</td>\n",
       "      <td>22</td>\n",
       "      <td>0.609798</td>\n",
       "      <td>0.09052</td>\n",
       "      <td>0.009854</td>\n",
       "      <td>3</td>\n",
       "      <td>RMSprop</td>\n",
       "      <td>COMPLETE</td>\n",
       "    </tr>\n",
       "  </tbody>\n",
       "</table>\n",
       "</div>"
      ],
      "text/plain": [
       "     number  value             datetime_start          datetime_complete  \\\n",
       "464     464  27.52 2024-05-08 09:44:42.080341 2024-05-08 09:51:11.168711   \n",
       "\n",
       "                  duration  params_batch size  \\\n",
       "464 0 days 00:06:29.088370                 22   \n",
       "\n",
       "     params_cross entorpy proportion  params_distance  params_learning rate  \\\n",
       "464                         0.609798          0.09052              0.009854   \n",
       "\n",
       "     params_masks amount params_optimizer type     state  \n",
       "464                    3               RMSprop  COMPLETE  "
      ]
     },
     "execution_count": 14,
     "metadata": {},
     "output_type": "execute_result"
    }
   ],
   "source": [
    "dataframe[dataframe['number'] == 464]"
   ]
  },
  {
   "cell_type": "markdown",
   "id": "b41b81ee-9f7d-4f32-b717-397919ea0af4",
   "metadata": {},
   "source": [
    "## Утсановка оптимизированных параметров системы"
   ]
  },
  {
   "cell_type": "code",
   "execution_count": 15,
   "id": "9a1f9518-3595-4e52-9be9-c3d0b31117fb",
   "metadata": {},
   "outputs": [],
   "source": [
    "masks_amount = 3\n",
    "batch_size = 22\n",
    "distance = 0.09052\n",
    "learning_rate = 0.009854\n",
    "loss_function_proportion = 0.609798\n",
    "optimizer_type = 'RMSprop'"
   ]
  },
  {
   "cell_type": "code",
   "execution_count": 16,
   "id": "e10b01e9-1385-48c7-a471-4c6938a5f33c",
   "metadata": {
    "tags": []
   },
   "outputs": [
    {
     "name": "stdout",
     "output_type": "stream",
     "text": [
      "Инициализированна модель со следующими параметрами:\n",
      "\tДлинна волны:                             500.0 нм\n",
      "\tКоличество вычислительных пикселей:       300\n",
      "\tКоличество пикселей маски:                100\n",
      "\tРазмер оптических элементов:              5.0 мм\n",
      "\tРазмер пикселя маски:                     50.0 мкм\n",
      "\tРасстояние между слоями:                  90.52 мм\n",
      "\tВременная когерентность:                  10.0 нс\n",
      "\tВремя релаксации:                         1.0 мкc\n",
      "\tПространственная когерентность:           3.0 мм\n",
      "\tКоличество усреднений:                    7\n",
      "\tРазмер детекторов:                        83.333 мкм\n",
      "\tКоличество детекторов:                    24 на 24\n",
      "\tПропорция CE к MSE лосс:                  0.609798\n",
      "\tРазмер батча:                             22\n",
      "\tТип оптимизатора:                         RMSprop\n",
      "\n",
      "Files already downloaded and verified\n",
      "Files already downloaded and verified\n"
     ]
    }
   ],
   "source": [
    "model, dataset, loss_function, optimizer_type, (incoherent, chunker, optical, detectors, electronic) = initialize(\n",
    "    wavelength, N, length, pixels, masks_amount, distance,\n",
    "    spatial_coherence, time_coherence, time_relaxation, mean_samples,\n",
    "    detector_size, detectors_amount,\n",
    "    loss_function_proportion,  batch_size, optimizer_type\n",
    ")"
   ]
  },
  {
   "cell_type": "markdown",
   "id": "9692c4e4-b530-4bae-ade0-19bf8616530c",
   "metadata": {},
   "source": [
    "## Тренировка"
   ]
  },
  {
   "cell_type": "code",
   "execution_count": 17,
   "id": "010f4a0a-7cfd-4113-b5f2-18b19af7ca73",
   "metadata": {},
   "outputs": [],
   "source": [
    "loss_histories = []\n",
    "cofusion_matrixes = []"
   ]
  },
  {
   "cell_type": "code",
   "execution_count": null,
   "id": "44ad4fd4-4ac1-4950-b608-d3645b29aae0",
   "metadata": {
    "tags": []
   },
   "outputs": [
    {
     "name": "stderr",
     "output_type": "stream",
     "text": [
      "100%|█████████████████████████████████████████████████████████████████████████████████████████████████████████████████████████████████████████████████████████████████████████████████| 455/455 [00:45<00:00,  9.93it/s]\n"
     ]
    },
    {
     "name": "stdout",
     "output_type": "stream",
     "text": [
      "Точность: 10.0%\n"
     ]
    },
    {
     "name": "stderr",
     "output_type": "stream",
     "text": [
      "RLoss: 1.2992996979175695, RPI1000: -0.08771273286367932: 100%|█████████████████████████████████████████████████████████████████████████████████████████████████████████████████████| 2273/2273 [05:59<00:00,  6.32it/s]\n",
      "100%|█████████████████████████████████████████████████████████████████████████████████████████████████████████████████████████████████████████████████████████████████████████████████| 455/455 [00:38<00:00, 11.81it/s]\n"
     ]
    },
    {
     "name": "stdout",
     "output_type": "stream",
     "text": [
      "Точность: 21.83%\n"
     ]
    },
    {
     "name": "stderr",
     "output_type": "stream",
     "text": [
      "RLoss: 1.2926688450544026, RPI1000: -0.018273079259202213: 100%|████████████████████████████████████████████████████████████████████████████████████████████████████████████████████| 2273/2273 [05:58<00:00,  6.34it/s]\n",
      "100%|█████████████████████████████████████████████████████████████████████████████████████████████████████████████████████████████████████████████████████████████████████████████████| 455/455 [00:38<00:00, 11.74it/s]\n"
     ]
    },
    {
     "name": "stdout",
     "output_type": "stream",
     "text": [
      "Точность: 21.61%\n"
     ]
    },
    {
     "name": "stderr",
     "output_type": "stream",
     "text": [
      "RLoss: 1.220367915714465, RPI1000: -0.018628015032571592: 100%|█████████████████████████████████████████████████████████████████████████████████████████████████████████████████████| 2273/2273 [05:57<00:00,  6.36it/s]\n",
      "100%|█████████████████████████████████████████████████████████████████████████████████████████████████████████████████████████████████████████████████████████████████████████████████| 455/455 [00:38<00:00, 11.72it/s]\n"
     ]
    },
    {
     "name": "stdout",
     "output_type": "stream",
     "text": [
      "Точность: 27.53%\n"
     ]
    },
    {
     "name": "stderr",
     "output_type": "stream",
     "text": [
      "RLoss: 1.1462027867491305, RPI1000: -0.010650954802065859: 100%|████████████████████████████████████████████████████████████████████████████████████████████████████████████████████| 2273/2273 [05:57<00:00,  6.36it/s]\n",
      "100%|█████████████████████████████████████████████████████████████████████████████████████████████████████████████████████████████████████████████████████████████████████████████████| 455/455 [00:38<00:00, 11.72it/s]\n"
     ]
    },
    {
     "name": "stdout",
     "output_type": "stream",
     "text": [
      "Точность: 31.87%\n"
     ]
    },
    {
     "name": "stderr",
     "output_type": "stream",
     "text": [
      "RLoss: 1.1816806639594795, RPI1000: -0.017574680200195644: 100%|████████████████████████████████████████████████████████████████████████████████████████████████████████████████████| 2273/2273 [05:57<00:00,  6.35it/s]\n",
      "100%|█████████████████████████████████████████████████████████████████████████████████████████████████████████████████████████████████████████████████████████████████████████████████| 455/455 [00:38<00:00, 11.73it/s]\n"
     ]
    },
    {
     "name": "stdout",
     "output_type": "stream",
     "text": [
      "Точность: 34.92%\n"
     ]
    },
    {
     "name": "stderr",
     "output_type": "stream",
     "text": [
      "RLoss: 1.1188247626718133, RPI1000: -0.005417646435600385: 100%|████████████████████████████████████████████████████████████████████████████████████████████████████████████████████| 2273/2273 [06:17<00:00,  6.02it/s]\n",
      "100%|█████████████████████████████████████████████████████████████████████████████████████████████████████████████████████████████████████████████████████████████████████████████████| 455/455 [00:39<00:00, 11.52it/s]\n"
     ]
    },
    {
     "name": "stdout",
     "output_type": "stream",
     "text": [
      "Точность: 36.65%\n"
     ]
    },
    {
     "name": "stderr",
     "output_type": "stream",
     "text": [
      "RLoss: 1.079900784626339, RPI1000: -0.004818015626028551: 100%|█████████████████████████████████████████████████████████████████████████████████████████████████████████████████████| 2273/2273 [06:08<00:00,  6.17it/s]\n",
      "100%|█████████████████████████████████████████████████████████████████████████████████████████████████████████████████████████████████████████████████████████████████████████████████| 455/455 [00:39<00:00, 11.39it/s]\n"
     ]
    },
    {
     "name": "stdout",
     "output_type": "stream",
     "text": [
      "Точность: 36.99%\n"
     ]
    },
    {
     "name": "stderr",
     "output_type": "stream",
     "text": [
      "RLoss: 1.1022160943053727, RPI1000: 0.00023423402153794864: 100%|███████████████████████████████████████████████████████████████████████████████████████████████████████████████████| 2273/2273 [06:03<00:00,  6.26it/s]\n",
      "100%|█████████████████████████████████████████████████████████████████████████████████████████████████████████████████████████████████████████████████████████████████████████████████| 455/455 [00:42<00:00, 10.64it/s]\n"
     ]
    },
    {
     "name": "stdout",
     "output_type": "stream",
     "text": [
      "Точность: 39.38%\n"
     ]
    },
    {
     "name": "stderr",
     "output_type": "stream",
     "text": [
      "RLoss: 1.0681255317621707, RPI1000: -0.004128944104795918: 100%|████████████████████████████████████████████████████████████████████████████████████████████████████████████████████| 2273/2273 [06:46<00:00,  5.59it/s]\n",
      "100%|█████████████████████████████████████████████████████████████████████████████████████████████████████████████████████████████████████████████████████████████████████████████████| 455/455 [00:44<00:00, 10.27it/s]\n"
     ]
    },
    {
     "name": "stdout",
     "output_type": "stream",
     "text": [
      "Точность: 39.6%\n"
     ]
    },
    {
     "name": "stderr",
     "output_type": "stream",
     "text": [
      "RLoss: 1.097533609676839, RPI1000: 0.005392568993096813: 100%|██████████████████████████████████████████████████████████████████████████████████████████████████████████████████████| 2273/2273 [06:44<00:00,  5.62it/s]\n",
      "100%|█████████████████████████████████████████████████████████████████████████████████████████████████████████████████████████████████████████████████████████████████████████████████| 455/455 [00:45<00:00, 10.08it/s]\n"
     ]
    },
    {
     "name": "stdout",
     "output_type": "stream",
     "text": [
      "Точность: 40.94%\n"
     ]
    },
    {
     "name": "stderr",
     "output_type": "stream",
     "text": [
      "RLoss: 1.0582769438175044, RPI1000: 0.001450007643868386: 100%|█████████████████████████████████████████████████████████████████████████████████████████████████████████████████████| 2273/2273 [06:34<00:00,  5.76it/s]\n",
      "100%|█████████████████████████████████████████████████████████████████████████████████████████████████████████████████████████████████████████████████████████████████████████████████| 455/455 [00:42<00:00, 10.58it/s]\n"
     ]
    },
    {
     "name": "stdout",
     "output_type": "stream",
     "text": [
      "Точность: 42.16%\n"
     ]
    },
    {
     "name": "stderr",
     "output_type": "stream",
     "text": [
      "RLoss: 1.0198598593188681, RPI1000: 0.005554511357168147: 100%|█████████████████████████████████████████████████████████████████████████████████████████████████████████████████████| 2273/2273 [06:45<00:00,  5.61it/s]\n",
      "100%|█████████████████████████████████████████████████████████████████████████████████████████████████████████████████████████████████████████████████████████████████████████████████| 455/455 [00:44<00:00, 10.28it/s]\n"
     ]
    },
    {
     "name": "stdout",
     "output_type": "stream",
     "text": [
      "Точность: 41.91%\n"
     ]
    },
    {
     "name": "stderr",
     "output_type": "stream",
     "text": [
      "RLoss: 0.9817194410687888, RPI1000: 0.01207942493076599: 100%|██████████████████████████████████████████████████████████████████████████████████████████████████████████████████████| 2273/2273 [06:31<00:00,  5.81it/s]\n",
      "100%|█████████████████████████████████████████████████████████████████████████████████████████████████████████████████████████████████████████████████████████████████████████████████| 455/455 [00:41<00:00, 10.98it/s]\n"
     ]
    },
    {
     "name": "stdout",
     "output_type": "stream",
     "text": [
      "Точность: 42.73%\n"
     ]
    },
    {
     "name": "stderr",
     "output_type": "stream",
     "text": [
      "RLoss: 0.9837813035776758, RPI1000: 0.007368221515460826: 100%|█████████████████████████████████████████████████████████████████████████████████████████████████████████████████████| 2273/2273 [06:15<00:00,  6.06it/s]\n",
      "100%|█████████████████████████████████████████████████████████████████████████████████████████████████████████████████████████████████████████████████████████████████████████████████| 455/455 [00:39<00:00, 11.42it/s]\n"
     ]
    },
    {
     "name": "stdout",
     "output_type": "stream",
     "text": [
      "Точность: 44.02%\n"
     ]
    },
    {
     "name": "stderr",
     "output_type": "stream",
     "text": [
      "RLoss: 0.8314038758653508, RPI1000: 0.01079702644775581: 100%|██████████████████████████████████████████████████████████████████████████████████████████████████████████████████████| 2273/2273 [06:02<00:00,  6.26it/s]\n",
      "100%|█████████████████████████████████████████████████████████████████████████████████████████████████████████████████████████████████████████████████████████████████████████████████| 455/455 [00:39<00:00, 11.49it/s]\n"
     ]
    },
    {
     "name": "stdout",
     "output_type": "stream",
     "text": [
      "Точность: 44.51%\n"
     ]
    },
    {
     "name": "stderr",
     "output_type": "stream",
     "text": [
      "RLoss: 0.8923521467482202, RPI1000: 0.010491084923594346: 100%|█████████████████████████████████████████████████████████████████████████████████████████████████████████████████████| 2273/2273 [06:05<00:00,  6.22it/s]\n",
      "100%|█████████████████████████████████████████████████████████████████████████████████████████████████████████████████████████████████████████████████████████████████████████████████| 455/455 [00:39<00:00, 11.52it/s]\n"
     ]
    },
    {
     "name": "stdout",
     "output_type": "stream",
     "text": [
      "Точность: 43.88%\n"
     ]
    },
    {
     "name": "stderr",
     "output_type": "stream",
     "text": [
      "RLoss: 0.9180112592521722, RPI1000: 0.01299972124772554: 100%|██████████████████████████████████████████████████████████████████████████████████████████████████████████████████████| 2273/2273 [06:07<00:00,  6.19it/s]\n",
      "100%|█████████████████████████████████████████████████████████████████████████████████████████████████████████████████████████████████████████████████████████████████████████████████| 455/455 [00:40<00:00, 11.23it/s]\n"
     ]
    },
    {
     "name": "stdout",
     "output_type": "stream",
     "text": [
      "Точность: 44.35%\n"
     ]
    },
    {
     "name": "stderr",
     "output_type": "stream",
     "text": [
      "RLoss: 0.8619634105911781, RPI1000: -0.536108606948456:   4%|█████▎                                                                                                                   | 99/2273 [00:15<06:07,  5.91it/s]"
     ]
    }
   ],
   "source": [
    "optimizer = optimizer_type(model.parameters(), lr=learning_rate)\n",
    "cofusion_matrixes.append(confusion(model, dataset))\n",
    "print(f\"Точность: {100*numpy.sum(numpy.diagonal(cofusion_matrixes[-1], 0))/numpy.sum(cofusion_matrixes[-1])}%\")\n",
    "for i in range(30):\n",
    "    loss_histories.append(train(model, dataset, optimizer, loss_function))\n",
    "    cofusion_matrixes.append(confusion(model, dataset))\n",
    "    print(f\"Точность: {100*numpy.sum(numpy.diagonal(cofusion_matrixes[-1], 0))/numpy.sum(cofusion_matrixes[-1])}%\")"
   ]
  },
  {
   "cell_type": "code",
   "execution_count": null,
   "id": "626905b1-0905-4fbe-8667-0e662facc814",
   "metadata": {},
   "outputs": [],
   "source": [
    "optimizer = optimizer_type(model.parameters(), lr=learning_rate/100)\n",
    "for i in range(30):\n",
    "    loss_histories.append(train(model, dataset, optimizer, loss_function))\n",
    "    cofusion_matrixes.append(confusion(model, dataset))\n",
    "    print(f\"Точность: {100*numpy.sum(numpy.diagonal(cofusion_matrixes[-1], 0))/numpy.sum(cofusion_matrixes[-1])}%\")"
   ]
  },
  {
   "cell_type": "code",
   "execution_count": null,
   "id": "739a6885-de01-4c8c-829e-23dd98eec7c4",
   "metadata": {},
   "outputs": [],
   "source": [
    "data = (model, dataset, loss_function_proportion, optimizer_type, (incoherent, chunker, optical, detectors, electronic), loss_histories, cofusion_matrixes)\n",
    "with open('Trained ID2NN HSC2.pkl', 'wb') as file:\n",
    "    dump(data, file)"
   ]
  },
  {
   "cell_type": "code",
   "execution_count": null,
   "id": "a1e61e3f-3596-4e88-892c-2db607f73816",
   "metadata": {},
   "outputs": [],
   "source": []
  }
 ],
 "metadata": {
  "accelerator": "GPU",
  "colab": {
   "gpuType": "L4",
   "machine_shape": "hm",
   "provenance": []
  },
  "kernelspec": {
   "display_name": "Python 3 (ipykernel)",
   "language": "python",
   "name": "python3"
  },
  "language_info": {
   "codemirror_mode": {
    "name": "ipython",
    "version": 3
   },
   "file_extension": ".py",
   "mimetype": "text/x-python",
   "name": "python",
   "nbconvert_exporter": "python",
   "pygments_lexer": "ipython3",
   "version": "3.12.1"
  },
  "toc-autonumbering": false,
  "toc-showmarkdowntxt": false
 },
 "nbformat": 4,
 "nbformat_minor": 5
}
