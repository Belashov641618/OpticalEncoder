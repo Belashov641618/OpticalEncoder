{
 "cells": [
  {
   "cell_type": "markdown",
   "id": "ccc45c47-db3b-4054-9d55-fe9d135dc729",
   "metadata": {
    "id": "ccc45c47-db3b-4054-9d55-fe9d135dc729",
    "tags": []
   },
   "source": [
    "# Настройка среды"
   ]
  },
  {
   "cell_type": "code",
   "execution_count": 2,
   "id": "eb08733f-d647-4841-baf1-21705ed7c72e",
   "metadata": {
    "colab": {
     "base_uri": "https://localhost:8080/"
    },
    "execution": {
     "iopub.execute_input": "2024-05-12T22:01:54.119205Z",
     "iopub.status.busy": "2024-05-12T22:01:54.118821Z",
     "iopub.status.idle": "2024-05-12T22:01:54.140289Z",
     "shell.execute_reply": "2024-05-12T22:01:54.139768Z",
     "shell.execute_reply.started": "2024-05-12T22:01:54.119183Z"
    },
    "id": "eb08733f-d647-4841-baf1-21705ed7c72e",
    "outputId": "68907ff5-6494-4d13-f4d1-796b0d66d334",
    "tags": []
   },
   "outputs": [],
   "source": [
    "import os\n",
    "import sys\n",
    "sys.path.append(os.path.abspath(\"../..\"))"
   ]
  },
  {
   "cell_type": "code",
   "execution_count": 3,
   "id": "198fbffb-6335-4e54-b0d5-94d0109e255d",
   "metadata": {
    "colab": {
     "base_uri": "https://localhost:8080/"
    },
    "execution": {
     "iopub.execute_input": "2024-05-12T22:01:54.509532Z",
     "iopub.status.busy": "2024-05-12T22:01:54.509263Z",
     "iopub.status.idle": "2024-05-12T22:01:59.564549Z",
     "shell.execute_reply": "2024-05-12T22:01:59.563803Z",
     "shell.execute_reply.started": "2024-05-12T22:01:54.509515Z"
    },
    "id": "198fbffb-6335-4e54-b0d5-94d0109e255d",
    "outputId": "39bd3c64-7529-457c-9293-256e5c758a92",
    "tags": []
   },
   "outputs": [
    {
     "name": "stdout",
     "output_type": "stream",
     "text": [
      "Defaulting to user installation because normal site-packages is not writeable\n",
      "Requirement already satisfied: belashovplot in /home/jupyter/.local/lib/python3.10/site-packages (1.0)\n",
      "\n",
      "\u001b[1m[\u001b[0m\u001b[34;49mnotice\u001b[0m\u001b[1;39;49m]\u001b[0m\u001b[39;49m A new release of pip is available: \u001b[0m\u001b[31;49m23.0.1\u001b[0m\u001b[39;49m -> \u001b[0m\u001b[32;49m24.0\u001b[0m\n",
      "\u001b[1m[\u001b[0m\u001b[34;49mnotice\u001b[0m\u001b[1;39;49m]\u001b[0m\u001b[39;49m To update, run: \u001b[0m\u001b[32;49mpython3 -m pip install --upgrade pip\u001b[0m\n"
     ]
    }
   ],
   "source": [
    "%pip install belashovplot"
   ]
  },
  {
   "cell_type": "markdown",
   "id": "37ff20f3-4e63-47b8-95fc-1aa99e092bce",
   "metadata": {
    "tags": []
   },
   "source": [
    "# Импорты и настройка модулей"
   ]
  },
  {
   "cell_type": "code",
   "execution_count": 4,
   "id": "d1193e17-e375-41a3-8f98-9bea9bfd4d70",
   "metadata": {
    "execution": {
     "iopub.execute_input": "2024-05-12T22:01:59.566034Z",
     "iopub.status.busy": "2024-05-12T22:01:59.565717Z",
     "iopub.status.idle": "2024-05-12T22:02:07.869527Z",
     "shell.execute_reply": "2024-05-12T22:02:07.868856Z",
     "shell.execute_reply.started": "2024-05-12T22:01:59.566008Z"
    },
    "id": "d1193e17-e375-41a3-8f98-9bea9bfd4d70",
    "tags": []
   },
   "outputs": [],
   "source": [
    "from belashovplot import TiledPlot\n",
    "from utilities import *\n",
    "from utilities.filters import Gaussian, Window\n",
    "from utilities.training import train, confusion\n",
    "from elements.modulators import Lens, PhaseModulator, AmplitudeModulator\n",
    "from elements.propagators import FurrierPropagation, ConvolutionalPropagation\n",
    "from elements.composition import CompositeModel, HybridModel\n",
    "from elements.wrappers import CudaMemoryChunker, Incoherent\n",
    "from elements.detectors import ClassificationDetectors, MatrixDetectors\n",
    "from parameters import FigureWidthHeight, FontLibrary\n",
    "from tqdm import tqdm\n",
    "from math import sin, sqrt\n",
    "from pickle import dump\n",
    "import torch\n",
    "import numpy\n",
    "import timm\n",
    "import optuna\n",
    "import pandas"
   ]
  },
  {
   "cell_type": "code",
   "execution_count": 5,
   "id": "66a672ad-9c85-4de4-a507-f3362e4e70b1",
   "metadata": {
    "execution": {
     "iopub.execute_input": "2024-05-12T22:02:07.871096Z",
     "iopub.status.busy": "2024-05-12T22:02:07.870730Z",
     "iopub.status.idle": "2024-05-12T22:02:07.884808Z",
     "shell.execute_reply": "2024-05-12T22:02:07.884241Z",
     "shell.execute_reply.started": "2024-05-12T22:02:07.871072Z"
    }
   },
   "outputs": [],
   "source": [
    "FontLibrary.Fonts.ColumnDescriptionTop.FontSize = 9\n",
    "FontLibrary.Fonts.ColumnDescriptionBottom.FontSize = 9\n",
    "FontLibrary.Fonts.RowDescriptionLeft.FontSize = 9\n",
    "FontLibrary.Fonts.RowDescriptionRight.FontSize = 9\n",
    "FigureWidthHeight = (16, 16)"
   ]
  },
  {
   "cell_type": "code",
   "execution_count": 6,
   "id": "4a9fa281-9013-4533-9078-55616af24213",
   "metadata": {
    "execution": {
     "iopub.execute_input": "2024-05-12T22:02:07.886122Z",
     "iopub.status.busy": "2024-05-12T22:02:07.885702Z",
     "iopub.status.idle": "2024-05-12T22:02:07.988052Z",
     "shell.execute_reply": "2024-05-12T22:02:07.987334Z",
     "shell.execute_reply.started": "2024-05-12T22:02:07.886098Z"
    }
   },
   "outputs": [
    {
     "name": "stdout",
     "output_type": "stream",
     "text": [
      "Используемый девайс: NVIDIA A100-SXM4-80GB\n"
     ]
    }
   ],
   "source": [
    "device = torch.device('cuda' if torch.cuda.is_available() else 'cpu')\n",
    "print('Используемый девайс:', torch.cuda.get_device_name(device) if torch.cuda.is_available() else 'ЦП')"
   ]
  },
  {
   "cell_type": "markdown",
   "id": "b8a780e5-2a92-4ef1-9e8f-a4b9f5b546ef",
   "metadata": {
    "tags": []
   },
   "source": [
    "# Инициализация вспомогательных методов"
   ]
  },
  {
   "cell_type": "markdown",
   "id": "c69944b5-20cb-40a4-a6a1-683706cd8c29",
   "metadata": {
    "jp-MarkdownHeadingCollapsed": true,
    "tags": []
   },
   "source": [
    "## Комбинированная лосс функция"
   ]
  },
  {
   "cell_type": "code",
   "execution_count": 7,
   "id": "085cb466-1ca7-42f1-b994-d7cae2408970",
   "metadata": {
    "execution": {
     "iopub.execute_input": "2024-05-12T22:02:07.989196Z",
     "iopub.status.busy": "2024-05-12T22:02:07.988911Z",
     "iopub.status.idle": "2024-05-12T22:02:08.007406Z",
     "shell.execute_reply": "2024-05-12T22:02:08.006835Z",
     "shell.execute_reply.started": "2024-05-12T22:02:07.989174Z"
    }
   },
   "outputs": [],
   "source": [
    "def combined_loss(cross_entropy_to_mse_proportion:float=1.0):\n",
    "    def loss_function(outputs, targets):\n",
    "        CELoss = torch.nn.functional.cross_entropy(outputs, targets)\n",
    "        MSELoss = torch.nn.functional.mse_loss(torch.nn.functional.softmax(outputs, dim=1), torch.nn.functional.one_hot(targets, num_classes=10).float())\n",
    "        loss = cross_entropy_to_mse_proportion*CELoss + (1.0-cross_entropy_to_mse_proportion)*MSELoss\n",
    "        return loss\n",
    "    return loss_function"
   ]
  },
  {
   "cell_type": "markdown",
   "id": "96b4241c-654f-4ea2-a6d6-dcbd90ab7042",
   "metadata": {
    "jp-MarkdownHeadingCollapsed": true,
    "tags": []
   },
   "source": [
    "## Электронная моель ResNet"
   ]
  },
  {
   "cell_type": "code",
   "execution_count": 8,
   "id": "8af3af1b-89ad-4e4f-bd6d-366ea0ff94bb",
   "metadata": {
    "execution": {
     "iopub.execute_input": "2024-05-12T22:02:08.008283Z",
     "iopub.status.busy": "2024-05-12T22:02:08.008044Z",
     "iopub.status.idle": "2024-05-12T22:02:08.020258Z",
     "shell.execute_reply": "2024-05-12T22:02:08.019709Z",
     "shell.execute_reply.started": "2024-05-12T22:02:08.008267Z"
    }
   },
   "outputs": [],
   "source": [
    "def resnet18(classes:int=10):\n",
    "    return timm.create_model('resnet18', pretrained=True,  in_chans=1, num_classes=classes).to(device)"
   ]
  },
  {
   "cell_type": "markdown",
   "id": "8854a17b-af3d-4331-8279-b91b59cae295",
   "metadata": {},
   "source": [
    "## Инициализация системы по полному набору параметров"
   ]
  },
  {
   "cell_type": "code",
   "execution_count": 9,
   "id": "586131b4-a9e4-4b65-baf3-8bfb332c13cd",
   "metadata": {
    "execution": {
     "iopub.execute_input": "2024-05-12T22:02:08.021554Z",
     "iopub.status.busy": "2024-05-12T22:02:08.020940Z",
     "iopub.status.idle": "2024-05-12T22:02:08.041681Z",
     "shell.execute_reply": "2024-05-12T22:02:08.041109Z",
     "shell.execute_reply.started": "2024-05-12T22:02:08.021529Z"
    },
    "tags": []
   },
   "outputs": [],
   "source": [
    "def initialize(\n",
    "    wavelength:float, N:int, length:float, pixels:int, masks_amount:int, distance:float,\n",
    "    spatial_coherence:float, time_coherence:float, time_relaxation:float, mean_samples:int,\n",
    "    detector_size:float, detectors_amount:int,\n",
    "    loss_function_proportion:float,  batch_size:int, optimizer_type:str\n",
    "):\n",
    "    print(\"Инициализированна модель со следующими параметрами:\")\n",
    "    print(f\"\\tДлинна волны:                             {engineering(wavelength, 'м')}\")\n",
    "    print(f\"\\tКоличество вычислительных пикселей:       {N}\")\n",
    "    print(f\"\\tКоличество пикселей маски:                {pixels}\")\n",
    "    print(f\"\\tРазмер оптических элементов:              {engineering(length, 'м')}\")\n",
    "    print(f\"\\tРазмер пикселя маски:                     {engineering(length/pixels, 'м')}\")\n",
    "    print(f\"\\tРасстояние между слоями:                  {engineering(distance, 'м')}\")\n",
    "    \n",
    "    print(f\"\\tВременная когерентность:                  {engineering(time_coherence, 'с')}\")\n",
    "    print(f\"\\tВремя релаксации:                         {engineering(time_relaxation, 'c')}\")\n",
    "    print(f\"\\tПространственная когерентность:           {engineering(spatial_coherence, 'м')}\")\n",
    "    print(f\"\\tКоличество усреднений:                    {mean_samples}\")\n",
    "\n",
    "    print(f\"\\tРазмер детекторов:                        {engineering(detector_size, 'м')}\")\n",
    "    print(f\"\\tКоличество детекторов:                    {detectors_amount} на {detectors_amount}\")\n",
    "\n",
    "    print(f\"\\tПропорция CE к MSE лосс:                  {loss_function_proportion}\")\n",
    "    print(f\"\\tРазмер батча:                             {batch_size}\")\n",
    "    print(f\"\\tТип оптимизатора:                         {optimizer_type}\")\n",
    "    print()\n",
    "    \n",
    "    incoherent = Incoherent(spatial_coherence, time_coherence, time_relaxation, mean_samples, N, length).to(device)\n",
    "\n",
    "    spectral_filter = Window(centers=wavelength, sizes=300.0E-9)\n",
    "    detectors_filter = Gaussian((detector_size, detector_size), (0,0))\n",
    "    detectors = MatrixDetectors(N, length, wavelength, detectors_amount, detectors_filter, spectral_filter).to(device)\n",
    "\n",
    "    electronic = resnet18()\n",
    "\n",
    "    propagation = FurrierPropagation(N, length, wavelength, 1.0, 0.0, distance, 0.4)\n",
    "    phase_modulators = [PhaseModulator(N, length, pixels) for i in range(masks_amount)]\n",
    "    amplitude_modulators = [AmplitudeModulator(N, length, pixels) for i in range(masks_amount)]\n",
    "    elements = [phase_modulators[0], amplitude_modulators[0]]\n",
    "    for phase_modulator, amplitude_modulator in zip(phase_modulators[1:], amplitude_modulators[1:]):\n",
    "        elements.append(propagation)\n",
    "        elements.append(phase_modulator)\n",
    "        elements.append(amplitude_modulator)\n",
    "    elements.append(propagation)\n",
    "    chunker = CudaMemoryChunker(sub_chunks=mean_samples)\n",
    "    optical = CompositeModel(*elements)\n",
    "    optical.wrap(chunker)\n",
    "    optical.wrap(incoherent)\n",
    "    optical.to(device)\n",
    "    model = HybridModel(optical, detectors, electronic).to(device)\n",
    "\n",
    "    dataset = Dataset('CIFAR10', batch_size, N, N, torch.complex64)\n",
    "    dataset.train\n",
    "    dataset.test\n",
    "    \n",
    "    loss_function = combined_loss(loss_function_proportion)\n",
    "    optimizer_types_list = {'Adam':torch.optim.Adam, 'SGD':torch.optim.SGD, 'RMSprop':torch.optim.RMSprop, 'Adagrad':torch.optim.Adagrad}\n",
    "    optimizer_type = optimizer_types_list[optimizer_type]\n",
    "\n",
    "    return model, dataset, loss_function, optimizer_type, (incoherent, chunker, optical, detectors, electronic)"
   ]
  },
  {
   "cell_type": "markdown",
   "id": "a777e3a4-bcde-4580-b71d-77e0fce1db5a",
   "metadata": {
    "id": "a777e3a4-bcde-4580-b71d-77e0fce1db5a",
    "tags": []
   },
   "source": [
    "# Установка не изменяемых параметров системы"
   ]
  },
  {
   "cell_type": "code",
   "execution_count": 10,
   "id": "d0a396e3-03a4-4310-a955-1275ce11aebd",
   "metadata": {
    "colab": {
     "base_uri": "https://localhost:8080/"
    },
    "execution": {
     "iopub.execute_input": "2024-05-12T22:02:08.043673Z",
     "iopub.status.busy": "2024-05-12T22:02:08.043344Z",
     "iopub.status.idle": "2024-05-12T22:02:08.053423Z",
     "shell.execute_reply": "2024-05-12T22:02:08.052896Z",
     "shell.execute_reply.started": "2024-05-12T22:02:08.043653Z"
    },
    "id": "d0a396e3-03a4-4310-a955-1275ce11aebd",
    "outputId": "f6d473d3-ed12-4806-b64c-023742be2101",
    "tags": []
   },
   "outputs": [],
   "source": [
    "# Предпочтительные параметры\n",
    "size = 50.0E-6\n",
    "near_N = 300\n",
    "near_length = 5.0E-3\n",
    "wavelength = 500.0E-9\n",
    "detectors_amount = 24\n",
    "\n",
    "# Параметры когерентности\n",
    "spatial_coherence = 3000.0E-6\n",
    "time_coherence = 10.0E-9\n",
    "time_relaxation = 1.0E-6\n",
    "mean_samples = 7"
   ]
  },
  {
   "cell_type": "code",
   "execution_count": 11,
   "id": "5fd8878d-4b4e-4db4-81ec-195a0414e82f",
   "metadata": {
    "execution": {
     "iopub.execute_input": "2024-05-12T22:02:08.054436Z",
     "iopub.status.busy": "2024-05-12T22:02:08.054153Z",
     "iopub.status.idle": "2024-05-12T22:02:08.064153Z",
     "shell.execute_reply": "2024-05-12T22:02:08.063593Z",
     "shell.execute_reply.started": "2024-05-12T22:02:08.054413Z"
    },
    "tags": []
   },
   "outputs": [],
   "source": [
    "# Вычисляемые параметры\n",
    "pixels = upper_integer(near_length/size)\n",
    "length = pixels * size\n",
    "cppp = upper_integer(near_N * size / length)\n",
    "N = int(length / size) * cppp\n",
    "detector_size = length / 60"
   ]
  },
  {
   "cell_type": "markdown",
   "id": "8e66db38-721b-4cea-834c-41aa587ca64e",
   "metadata": {
    "tags": []
   },
   "source": [
    "# Отображение базы данных тренировок"
   ]
  },
  {
   "cell_type": "code",
   "execution_count": 12,
   "id": "c875cb02-9c92-4d2e-83eb-ed3da9be1dcb",
   "metadata": {
    "execution": {
     "iopub.execute_input": "2024-05-12T22:02:08.065043Z",
     "iopub.status.busy": "2024-05-12T22:02:08.064667Z",
     "iopub.status.idle": "2024-05-12T22:02:09.417395Z",
     "shell.execute_reply": "2024-05-12T22:02:09.416887Z",
     "shell.execute_reply.started": "2024-05-12T22:02:08.065022Z"
    },
    "tags": []
   },
   "outputs": [
    {
     "name": "stderr",
     "output_type": "stream",
     "text": [
      "[I 2024-05-12 22:02:08,954] Using an existing study with name 'ID2NN' instead of creating a new one.\n"
     ]
    },
    {
     "name": "stdout",
     "output_type": "stream",
     "text": [
      "Кол-во исследований: 518\n"
     ]
    }
   ],
   "source": [
    "study = optuna.create_study(study_name=\"ID2NN\", storage=\"sqlite:///ID2NN.db\", direction='maximize', load_if_exists=True)\n",
    "dataframe:pandas.DataFrame = study.trials_dataframe()\n",
    "print(f\"Кол-во исследований: {len(study.trials)}\")"
   ]
  },
  {
   "cell_type": "code",
   "execution_count": 13,
   "id": "e3d9cd86-f0fa-42db-a612-bb080b83c89f",
   "metadata": {
    "execution": {
     "iopub.execute_input": "2024-05-12T22:02:09.418457Z",
     "iopub.status.busy": "2024-05-12T22:02:09.418083Z",
     "iopub.status.idle": "2024-05-12T22:02:09.461237Z",
     "shell.execute_reply": "2024-05-12T22:02:09.460674Z",
     "shell.execute_reply.started": "2024-05-12T22:02:09.418432Z"
    }
   },
   "outputs": [
    {
     "data": {
      "text/html": [
       "<div>\n",
       "<style scoped>\n",
       "    .dataframe tbody tr th:only-of-type {\n",
       "        vertical-align: middle;\n",
       "    }\n",
       "\n",
       "    .dataframe tbody tr th {\n",
       "        vertical-align: top;\n",
       "    }\n",
       "\n",
       "    .dataframe thead th {\n",
       "        text-align: right;\n",
       "    }\n",
       "</style>\n",
       "<table border=\"1\" class=\"dataframe\">\n",
       "  <thead>\n",
       "    <tr style=\"text-align: right;\">\n",
       "      <th></th>\n",
       "      <th>number</th>\n",
       "      <th>value</th>\n",
       "      <th>datetime_start</th>\n",
       "      <th>datetime_complete</th>\n",
       "      <th>duration</th>\n",
       "      <th>params_batch size</th>\n",
       "      <th>params_cross entorpy proportion</th>\n",
       "      <th>params_distance</th>\n",
       "      <th>params_learning rate</th>\n",
       "      <th>params_masks amount</th>\n",
       "      <th>params_optimizer type</th>\n",
       "      <th>state</th>\n",
       "    </tr>\n",
       "  </thead>\n",
       "  <tbody>\n",
       "    <tr>\n",
       "      <th>318</th>\n",
       "      <td>318</td>\n",
       "      <td>27.78</td>\n",
       "      <td>2024-05-07 13:51:45.791768</td>\n",
       "      <td>2024-05-07 13:58:16.192132</td>\n",
       "      <td>0 days 00:06:30.400364</td>\n",
       "      <td>21</td>\n",
       "      <td>0.609088</td>\n",
       "      <td>0.080086</td>\n",
       "      <td>0.004227</td>\n",
       "      <td>3</td>\n",
       "      <td>RMSprop</td>\n",
       "      <td>COMPLETE</td>\n",
       "    </tr>\n",
       "    <tr>\n",
       "      <th>464</th>\n",
       "      <td>464</td>\n",
       "      <td>27.52</td>\n",
       "      <td>2024-05-08 09:44:42.080341</td>\n",
       "      <td>2024-05-08 09:51:11.168711</td>\n",
       "      <td>0 days 00:06:29.088370</td>\n",
       "      <td>22</td>\n",
       "      <td>0.609798</td>\n",
       "      <td>0.090520</td>\n",
       "      <td>0.009854</td>\n",
       "      <td>3</td>\n",
       "      <td>RMSprop</td>\n",
       "      <td>COMPLETE</td>\n",
       "    </tr>\n",
       "    <tr>\n",
       "      <th>170</th>\n",
       "      <td>170</td>\n",
       "      <td>27.02</td>\n",
       "      <td>2024-05-06 16:44:10.393688</td>\n",
       "      <td>2024-05-06 16:51:03.435147</td>\n",
       "      <td>0 days 00:06:53.041459</td>\n",
       "      <td>22</td>\n",
       "      <td>0.585650</td>\n",
       "      <td>0.081026</td>\n",
       "      <td>0.006971</td>\n",
       "      <td>3</td>\n",
       "      <td>RMSprop</td>\n",
       "      <td>COMPLETE</td>\n",
       "    </tr>\n",
       "    <tr>\n",
       "      <th>282</th>\n",
       "      <td>282</td>\n",
       "      <td>27.00</td>\n",
       "      <td>2024-05-07 07:57:43.898133</td>\n",
       "      <td>2024-05-07 08:04:11.998489</td>\n",
       "      <td>0 days 00:06:28.100356</td>\n",
       "      <td>24</td>\n",
       "      <td>0.871667</td>\n",
       "      <td>0.087308</td>\n",
       "      <td>0.006792</td>\n",
       "      <td>3</td>\n",
       "      <td>RMSprop</td>\n",
       "      <td>COMPLETE</td>\n",
       "    </tr>\n",
       "    <tr>\n",
       "      <th>486</th>\n",
       "      <td>486</td>\n",
       "      <td>26.84</td>\n",
       "      <td>2024-05-08 12:11:16.355451</td>\n",
       "      <td>2024-05-08 12:17:44.135148</td>\n",
       "      <td>0 days 00:06:27.779697</td>\n",
       "      <td>23</td>\n",
       "      <td>0.924804</td>\n",
       "      <td>0.084454</td>\n",
       "      <td>0.008574</td>\n",
       "      <td>3</td>\n",
       "      <td>RMSprop</td>\n",
       "      <td>COMPLETE</td>\n",
       "    </tr>\n",
       "    <tr>\n",
       "      <th>473</th>\n",
       "      <td>473</td>\n",
       "      <td>26.65</td>\n",
       "      <td>2024-05-08 10:44:57.743102</td>\n",
       "      <td>2024-05-08 10:51:41.548426</td>\n",
       "      <td>0 days 00:06:43.805324</td>\n",
       "      <td>23</td>\n",
       "      <td>0.947274</td>\n",
       "      <td>0.082832</td>\n",
       "      <td>0.012314</td>\n",
       "      <td>3</td>\n",
       "      <td>RMSprop</td>\n",
       "      <td>COMPLETE</td>\n",
       "    </tr>\n",
       "    <tr>\n",
       "      <th>328</th>\n",
       "      <td>328</td>\n",
       "      <td>26.57</td>\n",
       "      <td>2024-05-07 14:57:25.478992</td>\n",
       "      <td>2024-05-07 15:04:07.806165</td>\n",
       "      <td>0 days 00:06:42.327173</td>\n",
       "      <td>22</td>\n",
       "      <td>0.619450</td>\n",
       "      <td>0.088087</td>\n",
       "      <td>0.002438</td>\n",
       "      <td>3</td>\n",
       "      <td>RMSprop</td>\n",
       "      <td>COMPLETE</td>\n",
       "    </tr>\n",
       "    <tr>\n",
       "      <th>185</th>\n",
       "      <td>185</td>\n",
       "      <td>26.56</td>\n",
       "      <td>2024-05-06 18:33:01.453181</td>\n",
       "      <td>2024-05-06 18:40:32.413576</td>\n",
       "      <td>0 days 00:07:30.960395</td>\n",
       "      <td>22</td>\n",
       "      <td>0.918696</td>\n",
       "      <td>0.082408</td>\n",
       "      <td>0.003772</td>\n",
       "      <td>3</td>\n",
       "      <td>RMSprop</td>\n",
       "      <td>COMPLETE</td>\n",
       "    </tr>\n",
       "    <tr>\n",
       "      <th>202</th>\n",
       "      <td>202</td>\n",
       "      <td>26.47</td>\n",
       "      <td>2024-05-06 20:34:45.985106</td>\n",
       "      <td>2024-05-06 20:41:43.901028</td>\n",
       "      <td>0 days 00:06:57.915922</td>\n",
       "      <td>22</td>\n",
       "      <td>0.881049</td>\n",
       "      <td>0.099628</td>\n",
       "      <td>0.005962</td>\n",
       "      <td>3</td>\n",
       "      <td>RMSprop</td>\n",
       "      <td>COMPLETE</td>\n",
       "    </tr>\n",
       "    <tr>\n",
       "      <th>368</th>\n",
       "      <td>368</td>\n",
       "      <td>26.42</td>\n",
       "      <td>2024-05-07 21:54:43.933547</td>\n",
       "      <td>2024-05-07 22:01:20.587107</td>\n",
       "      <td>0 days 00:06:36.653560</td>\n",
       "      <td>22</td>\n",
       "      <td>0.989623</td>\n",
       "      <td>0.083510</td>\n",
       "      <td>0.006275</td>\n",
       "      <td>3</td>\n",
       "      <td>RMSprop</td>\n",
       "      <td>COMPLETE</td>\n",
       "    </tr>\n",
       "  </tbody>\n",
       "</table>\n",
       "</div>"
      ],
      "text/plain": [
       "     number  value  ... params_optimizer type     state\n",
       "318     318  27.78  ...               RMSprop  COMPLETE\n",
       "464     464  27.52  ...               RMSprop  COMPLETE\n",
       "170     170  27.02  ...               RMSprop  COMPLETE\n",
       "282     282  27.00  ...               RMSprop  COMPLETE\n",
       "486     486  26.84  ...               RMSprop  COMPLETE\n",
       "473     473  26.65  ...               RMSprop  COMPLETE\n",
       "328     328  26.57  ...               RMSprop  COMPLETE\n",
       "185     185  26.56  ...               RMSprop  COMPLETE\n",
       "202     202  26.47  ...               RMSprop  COMPLETE\n",
       "368     368  26.42  ...               RMSprop  COMPLETE\n",
       "\n",
       "[10 rows x 12 columns]"
      ]
     },
     "execution_count": 13,
     "metadata": {},
     "output_type": "execute_result"
    }
   ],
   "source": [
    "dataframe.nlargest(10, 'value')"
   ]
  },
  {
   "cell_type": "code",
   "execution_count": 14,
   "id": "e73f94ef-2f06-4980-87b6-153c70a98a03",
   "metadata": {
    "execution": {
     "iopub.execute_input": "2024-05-12T22:02:09.462164Z",
     "iopub.status.busy": "2024-05-12T22:02:09.461860Z",
     "iopub.status.idle": "2024-05-12T22:02:09.487648Z",
     "shell.execute_reply": "2024-05-12T22:02:09.487194Z",
     "shell.execute_reply.started": "2024-05-12T22:02:09.462138Z"
    }
   },
   "outputs": [
    {
     "data": {
      "text/html": [
       "<div>\n",
       "<style scoped>\n",
       "    .dataframe tbody tr th:only-of-type {\n",
       "        vertical-align: middle;\n",
       "    }\n",
       "\n",
       "    .dataframe tbody tr th {\n",
       "        vertical-align: top;\n",
       "    }\n",
       "\n",
       "    .dataframe thead th {\n",
       "        text-align: right;\n",
       "    }\n",
       "</style>\n",
       "<table border=\"1\" class=\"dataframe\">\n",
       "  <thead>\n",
       "    <tr style=\"text-align: right;\">\n",
       "      <th></th>\n",
       "      <th>number</th>\n",
       "      <th>value</th>\n",
       "      <th>datetime_start</th>\n",
       "      <th>datetime_complete</th>\n",
       "      <th>duration</th>\n",
       "      <th>params_batch size</th>\n",
       "      <th>params_cross entorpy proportion</th>\n",
       "      <th>params_distance</th>\n",
       "      <th>params_learning rate</th>\n",
       "      <th>params_masks amount</th>\n",
       "      <th>params_optimizer type</th>\n",
       "      <th>state</th>\n",
       "    </tr>\n",
       "  </thead>\n",
       "  <tbody>\n",
       "    <tr>\n",
       "      <th>419</th>\n",
       "      <td>419</td>\n",
       "      <td>25.39</td>\n",
       "      <td>2024-05-08 04:43:19.471215</td>\n",
       "      <td>2024-05-08 04:50:06.184039</td>\n",
       "      <td>0 days 00:06:46.712824</td>\n",
       "      <td>21</td>\n",
       "      <td>0.927108</td>\n",
       "      <td>0.161614</td>\n",
       "      <td>0.006927</td>\n",
       "      <td>3</td>\n",
       "      <td>RMSprop</td>\n",
       "      <td>COMPLETE</td>\n",
       "    </tr>\n",
       "    <tr>\n",
       "      <th>148</th>\n",
       "      <td>148</td>\n",
       "      <td>25.66</td>\n",
       "      <td>2024-05-06 14:09:26.010912</td>\n",
       "      <td>2024-05-06 14:16:19.416841</td>\n",
       "      <td>0 days 00:06:53.405929</td>\n",
       "      <td>21</td>\n",
       "      <td>0.016943</td>\n",
       "      <td>0.136854</td>\n",
       "      <td>0.006616</td>\n",
       "      <td>3</td>\n",
       "      <td>RMSprop</td>\n",
       "      <td>COMPLETE</td>\n",
       "    </tr>\n",
       "    <tr>\n",
       "      <th>78</th>\n",
       "      <td>78</td>\n",
       "      <td>25.73</td>\n",
       "      <td>2024-05-06 04:14:13.851739</td>\n",
       "      <td>2024-05-06 04:22:15.120051</td>\n",
       "      <td>0 days 00:08:01.268312</td>\n",
       "      <td>20</td>\n",
       "      <td>0.046140</td>\n",
       "      <td>0.111767</td>\n",
       "      <td>0.006598</td>\n",
       "      <td>4</td>\n",
       "      <td>Adam</td>\n",
       "      <td>COMPLETE</td>\n",
       "    </tr>\n",
       "    <tr>\n",
       "      <th>256</th>\n",
       "      <td>256</td>\n",
       "      <td>25.32</td>\n",
       "      <td>2024-05-07 05:01:05.373643</td>\n",
       "      <td>2024-05-07 05:07:34.515358</td>\n",
       "      <td>0 days 00:06:29.141715</td>\n",
       "      <td>23</td>\n",
       "      <td>0.873216</td>\n",
       "      <td>0.108465</td>\n",
       "      <td>0.005069</td>\n",
       "      <td>3</td>\n",
       "      <td>RMSprop</td>\n",
       "      <td>COMPLETE</td>\n",
       "    </tr>\n",
       "    <tr>\n",
       "      <th>234</th>\n",
       "      <td>234</td>\n",
       "      <td>25.36</td>\n",
       "      <td>2024-05-07 02:27:20.326281</td>\n",
       "      <td>2024-05-07 02:34:03.267210</td>\n",
       "      <td>0 days 00:06:42.940929</td>\n",
       "      <td>22</td>\n",
       "      <td>0.834854</td>\n",
       "      <td>0.105779</td>\n",
       "      <td>0.006482</td>\n",
       "      <td>3</td>\n",
       "      <td>RMSprop</td>\n",
       "      <td>COMPLETE</td>\n",
       "    </tr>\n",
       "    <tr>\n",
       "      <th>238</th>\n",
       "      <td>238</td>\n",
       "      <td>26.07</td>\n",
       "      <td>2024-05-07 02:54:01.686042</td>\n",
       "      <td>2024-05-07 03:00:36.468071</td>\n",
       "      <td>0 days 00:06:34.782029</td>\n",
       "      <td>21</td>\n",
       "      <td>0.822325</td>\n",
       "      <td>0.104663</td>\n",
       "      <td>0.004283</td>\n",
       "      <td>3</td>\n",
       "      <td>RMSprop</td>\n",
       "      <td>COMPLETE</td>\n",
       "    </tr>\n",
       "    <tr>\n",
       "      <th>249</th>\n",
       "      <td>249</td>\n",
       "      <td>26.38</td>\n",
       "      <td>2024-05-07 04:15:40.388794</td>\n",
       "      <td>2024-05-07 04:22:08.712510</td>\n",
       "      <td>0 days 00:06:28.323716</td>\n",
       "      <td>23</td>\n",
       "      <td>0.822749</td>\n",
       "      <td>0.104230</td>\n",
       "      <td>0.007333</td>\n",
       "      <td>3</td>\n",
       "      <td>RMSprop</td>\n",
       "      <td>COMPLETE</td>\n",
       "    </tr>\n",
       "    <tr>\n",
       "      <th>210</th>\n",
       "      <td>210</td>\n",
       "      <td>25.71</td>\n",
       "      <td>2024-05-06 21:28:15.845935</td>\n",
       "      <td>2024-05-06 21:34:54.754249</td>\n",
       "      <td>0 days 00:06:38.908314</td>\n",
       "      <td>22</td>\n",
       "      <td>0.873626</td>\n",
       "      <td>0.103672</td>\n",
       "      <td>0.002602</td>\n",
       "      <td>3</td>\n",
       "      <td>RMSprop</td>\n",
       "      <td>COMPLETE</td>\n",
       "    </tr>\n",
       "    <tr>\n",
       "      <th>195</th>\n",
       "      <td>195</td>\n",
       "      <td>25.30</td>\n",
       "      <td>2024-05-06 19:45:30.912470</td>\n",
       "      <td>2024-05-06 19:52:49.290034</td>\n",
       "      <td>0 days 00:07:18.377564</td>\n",
       "      <td>23</td>\n",
       "      <td>0.877697</td>\n",
       "      <td>0.103050</td>\n",
       "      <td>0.004641</td>\n",
       "      <td>3</td>\n",
       "      <td>RMSprop</td>\n",
       "      <td>COMPLETE</td>\n",
       "    </tr>\n",
       "    <tr>\n",
       "      <th>182</th>\n",
       "      <td>182</td>\n",
       "      <td>25.01</td>\n",
       "      <td>2024-05-06 18:10:28.976053</td>\n",
       "      <td>2024-05-06 18:18:01.601154</td>\n",
       "      <td>0 days 00:07:32.625101</td>\n",
       "      <td>22</td>\n",
       "      <td>0.861536</td>\n",
       "      <td>0.100905</td>\n",
       "      <td>0.003497</td>\n",
       "      <td>3</td>\n",
       "      <td>RMSprop</td>\n",
       "      <td>COMPLETE</td>\n",
       "    </tr>\n",
       "  </tbody>\n",
       "</table>\n",
       "</div>"
      ],
      "text/plain": [
       "     number  value  ... params_optimizer type     state\n",
       "419     419  25.39  ...               RMSprop  COMPLETE\n",
       "148     148  25.66  ...               RMSprop  COMPLETE\n",
       "78       78  25.73  ...                  Adam  COMPLETE\n",
       "256     256  25.32  ...               RMSprop  COMPLETE\n",
       "234     234  25.36  ...               RMSprop  COMPLETE\n",
       "238     238  26.07  ...               RMSprop  COMPLETE\n",
       "249     249  26.38  ...               RMSprop  COMPLETE\n",
       "210     210  25.71  ...               RMSprop  COMPLETE\n",
       "195     195  25.30  ...               RMSprop  COMPLETE\n",
       "182     182  25.01  ...               RMSprop  COMPLETE\n",
       "\n",
       "[10 rows x 12 columns]"
      ]
     },
     "execution_count": 14,
     "metadata": {},
     "output_type": "execute_result"
    }
   ],
   "source": [
    "dataframe[dataframe['value'] >= 25].nlargest(10, 'params_distance')"
   ]
  },
  {
   "cell_type": "markdown",
   "id": "ec1b022d-3792-4df7-89a0-9343ca365d0f",
   "metadata": {},
   "source": [
    "# Модель №1"
   ]
  },
  {
   "cell_type": "code",
   "execution_count": 15,
   "id": "effc4d0a-6952-42c7-8e28-21cb2a80bea6",
   "metadata": {
    "execution": {
     "iopub.execute_input": "2024-05-12T22:02:09.488374Z",
     "iopub.status.busy": "2024-05-12T22:02:09.488142Z",
     "iopub.status.idle": "2024-05-12T22:02:09.509726Z",
     "shell.execute_reply": "2024-05-12T22:02:09.509096Z",
     "shell.execute_reply.started": "2024-05-12T22:02:09.488357Z"
    }
   },
   "outputs": [
    {
     "data": {
      "text/html": [
       "<div>\n",
       "<style scoped>\n",
       "    .dataframe tbody tr th:only-of-type {\n",
       "        vertical-align: middle;\n",
       "    }\n",
       "\n",
       "    .dataframe tbody tr th {\n",
       "        vertical-align: top;\n",
       "    }\n",
       "\n",
       "    .dataframe thead th {\n",
       "        text-align: right;\n",
       "    }\n",
       "</style>\n",
       "<table border=\"1\" class=\"dataframe\">\n",
       "  <thead>\n",
       "    <tr style=\"text-align: right;\">\n",
       "      <th></th>\n",
       "      <th>number</th>\n",
       "      <th>value</th>\n",
       "      <th>datetime_start</th>\n",
       "      <th>datetime_complete</th>\n",
       "      <th>duration</th>\n",
       "      <th>params_batch size</th>\n",
       "      <th>params_cross entorpy proportion</th>\n",
       "      <th>params_distance</th>\n",
       "      <th>params_learning rate</th>\n",
       "      <th>params_masks amount</th>\n",
       "      <th>params_optimizer type</th>\n",
       "      <th>state</th>\n",
       "    </tr>\n",
       "  </thead>\n",
       "  <tbody>\n",
       "    <tr>\n",
       "      <th>464</th>\n",
       "      <td>464</td>\n",
       "      <td>27.52</td>\n",
       "      <td>2024-05-08 09:44:42.080341</td>\n",
       "      <td>2024-05-08 09:51:11.168711</td>\n",
       "      <td>0 days 00:06:29.088370</td>\n",
       "      <td>22</td>\n",
       "      <td>0.609798</td>\n",
       "      <td>0.09052</td>\n",
       "      <td>0.009854</td>\n",
       "      <td>3</td>\n",
       "      <td>RMSprop</td>\n",
       "      <td>COMPLETE</td>\n",
       "    </tr>\n",
       "  </tbody>\n",
       "</table>\n",
       "</div>"
      ],
      "text/plain": [
       "     number  value  ... params_optimizer type     state\n",
       "464     464  27.52  ...               RMSprop  COMPLETE\n",
       "\n",
       "[1 rows x 12 columns]"
      ]
     },
     "execution_count": 15,
     "metadata": {},
     "output_type": "execute_result"
    }
   ],
   "source": [
    "dataframe[dataframe['number'] == 464]"
   ]
  },
  {
   "cell_type": "markdown",
   "id": "b41b81ee-9f7d-4f32-b717-397919ea0af4",
   "metadata": {},
   "source": [
    "## Утсановка оптимизированных параметров системы"
   ]
  },
  {
   "cell_type": "code",
   "execution_count": 16,
   "id": "9a1f9518-3595-4e52-9be9-c3d0b31117fb",
   "metadata": {
    "execution": {
     "iopub.execute_input": "2024-05-12T22:02:09.510873Z",
     "iopub.status.busy": "2024-05-12T22:02:09.510579Z",
     "iopub.status.idle": "2024-05-12T22:02:09.519524Z",
     "shell.execute_reply": "2024-05-12T22:02:09.518928Z",
     "shell.execute_reply.started": "2024-05-12T22:02:09.510852Z"
    }
   },
   "outputs": [],
   "source": [
    "masks_amount = 3\n",
    "batch_size = 22\n",
    "distance = 0.09052\n",
    "learning_rate = 0.009854\n",
    "loss_function_proportion = 0.609798\n",
    "optimizer_type = 'RMSprop'"
   ]
  },
  {
   "cell_type": "code",
   "execution_count": 17,
   "id": "e10b01e9-1385-48c7-a471-4c6938a5f33c",
   "metadata": {
    "execution": {
     "iopub.execute_input": "2024-05-12T22:02:09.520559Z",
     "iopub.status.busy": "2024-05-12T22:02:09.520270Z",
     "iopub.status.idle": "2024-05-12T22:02:13.711616Z",
     "shell.execute_reply": "2024-05-12T22:02:13.710918Z",
     "shell.execute_reply.started": "2024-05-12T22:02:09.520537Z"
    },
    "tags": []
   },
   "outputs": [
    {
     "name": "stdout",
     "output_type": "stream",
     "text": [
      "Инициализированна модель со следующими параметрами:\n",
      "\tДлинна волны:                             500.0 нм\n",
      "\tКоличество вычислительных пикселей:       300\n",
      "\tКоличество пикселей маски:                100\n",
      "\tРазмер оптических элементов:              5.0 мм\n",
      "\tРазмер пикселя маски:                     50.0 мкм\n",
      "\tРасстояние между слоями:                  90.52 мм\n",
      "\tВременная когерентность:                  10.0 нс\n",
      "\tВремя релаксации:                         1.0 мкc\n",
      "\tПространственная когерентность:           3.0 мм\n",
      "\tКоличество усреднений:                    7\n",
      "\tРазмер детекторов:                        83.333 мкм\n",
      "\tКоличество детекторов:                    24 на 24\n",
      "\tПропорция CE к MSE лосс:                  0.609798\n",
      "\tРазмер батча:                             22\n",
      "\tТип оптимизатора:                         RMSprop\n",
      "\n",
      "Files already downloaded and verified\n",
      "Files already downloaded and verified\n"
     ]
    }
   ],
   "source": [
    "model, dataset, loss_function, optimizer_type, (incoherent, chunker, optical, detectors, electronic) = initialize(\n",
    "    wavelength, N, length, pixels, masks_amount, distance,\n",
    "    spatial_coherence, time_coherence, time_relaxation, mean_samples,\n",
    "    detector_size, detectors_amount,\n",
    "    loss_function_proportion,  batch_size, optimizer_type\n",
    ")"
   ]
  },
  {
   "cell_type": "markdown",
   "id": "9692c4e4-b530-4bae-ade0-19bf8616530c",
   "metadata": {},
   "source": [
    "## Тренировка"
   ]
  },
  {
   "cell_type": "code",
   "execution_count": 18,
   "id": "010f4a0a-7cfd-4113-b5f2-18b19af7ca73",
   "metadata": {
    "execution": {
     "iopub.execute_input": "2024-05-12T22:02:13.712829Z",
     "iopub.status.busy": "2024-05-12T22:02:13.712468Z",
     "iopub.status.idle": "2024-05-12T22:02:13.722603Z",
     "shell.execute_reply": "2024-05-12T22:02:13.721988Z",
     "shell.execute_reply.started": "2024-05-12T22:02:13.712803Z"
    }
   },
   "outputs": [],
   "source": [
    "loss_histories = []\n",
    "cofusion_matrixes = []"
   ]
  },
  {
   "cell_type": "code",
   "execution_count": 19,
   "id": "44ad4fd4-4ac1-4950-b608-d3645b29aae0",
   "metadata": {
    "execution": {
     "iopub.execute_input": "2024-05-12T22:02:13.723739Z",
     "iopub.status.busy": "2024-05-12T22:02:13.723362Z",
     "iopub.status.idle": "2024-05-12T23:15:07.506963Z",
     "shell.execute_reply": "2024-05-12T23:15:07.506347Z",
     "shell.execute_reply.started": "2024-05-12T22:02:13.723715Z"
    },
    "tags": []
   },
   "outputs": [
    {
     "name": "stderr",
     "output_type": "stream",
     "text": [
      "100%|██████████| 455/455 [00:18<00:00, 23.97it/s]\n"
     ]
    },
    {
     "name": "stdout",
     "output_type": "stream",
     "text": [
      "Точность: 10.0%\n"
     ]
    },
    {
     "name": "stderr",
     "output_type": "stream",
     "text": [
      "RLoss: 1.294476573953948, RPI1000: -0.06767239575563634: 100%|██████████| 2273/2273 [02:12<00:00, 17.22it/s] \n",
      "100%|██████████| 455/455 [00:15<00:00, 28.93it/s]\n"
     ]
    },
    {
     "name": "stdout",
     "output_type": "stream",
     "text": [
      "Точность: 22.38%\n"
     ]
    },
    {
     "name": "stderr",
     "output_type": "stream",
     "text": [
      "RLoss: 1.177549479867943, RPI1000: -0.0297619472763566: 100%|██████████| 2273/2273 [02:10<00:00, 17.40it/s]   \n",
      "100%|██████████| 455/455 [00:16<00:00, 26.89it/s]\n"
     ]
    },
    {
     "name": "stdout",
     "output_type": "stream",
     "text": [
      "Точность: 24.73%\n"
     ]
    },
    {
     "name": "stderr",
     "output_type": "stream",
     "text": [
      "RLoss: 1.197047997462608, RPI1000: -0.019489926966398827: 100%|██████████| 2273/2273 [02:08<00:00, 17.63it/s]  \n",
      "100%|██████████| 455/455 [00:16<00:00, 27.11it/s]\n"
     ]
    },
    {
     "name": "stdout",
     "output_type": "stream",
     "text": [
      "Точность: 32.97%\n"
     ]
    },
    {
     "name": "stderr",
     "output_type": "stream",
     "text": [
      "RLoss: 1.1126915487362523, RPI1000: -0.008622448558332978: 100%|██████████| 2273/2273 [02:15<00:00, 16.80it/s] \n",
      "100%|██████████| 455/455 [00:16<00:00, 26.78it/s]\n"
     ]
    },
    {
     "name": "stdout",
     "output_type": "stream",
     "text": [
      "Точность: 33.85%\n"
     ]
    },
    {
     "name": "stderr",
     "output_type": "stream",
     "text": [
      "RLoss: 1.0918892189002805, RPI1000: -0.004050942388313056: 100%|██████████| 2273/2273 [02:12<00:00, 17.10it/s]\n",
      "100%|██████████| 455/455 [00:15<00:00, 29.01it/s]\n"
     ]
    },
    {
     "name": "stdout",
     "output_type": "stream",
     "text": [
      "Точность: 31.55%\n"
     ]
    },
    {
     "name": "stderr",
     "output_type": "stream",
     "text": [
      "RLoss: 1.0823477167318374, RPI1000: -0.011617571353664454: 100%|██████████| 2273/2273 [02:07<00:00, 17.79it/s]\n",
      "100%|██████████| 455/455 [00:16<00:00, 28.25it/s]\n"
     ]
    },
    {
     "name": "stdout",
     "output_type": "stream",
     "text": [
      "Точность: 33.64%\n"
     ]
    },
    {
     "name": "stderr",
     "output_type": "stream",
     "text": [
      "RLoss: 1.0367210008089898, RPI1000: -0.005800636760593028: 100%|██████████| 2273/2273 [02:08<00:00, 17.64it/s]\n",
      "100%|██████████| 455/455 [00:15<00:00, 28.93it/s]\n"
     ]
    },
    {
     "name": "stdout",
     "output_type": "stream",
     "text": [
      "Точность: 38.77%\n"
     ]
    },
    {
     "name": "stderr",
     "output_type": "stream",
     "text": [
      "RLoss: 1.109676231629962, RPI1000: 0.00032556650551213324: 100%|██████████| 2273/2273 [02:09<00:00, 17.55it/s] \n",
      "100%|██████████| 455/455 [00:16<00:00, 28.13it/s]\n"
     ]
    },
    {
     "name": "stdout",
     "output_type": "stream",
     "text": [
      "Точность: 38.14%\n"
     ]
    },
    {
     "name": "stderr",
     "output_type": "stream",
     "text": [
      "RLoss: 0.9834892650527136, RPI1000: 0.005385375088058503: 100%|██████████| 2273/2273 [02:07<00:00, 17.84it/s]  \n",
      "100%|██████████| 455/455 [00:15<00:00, 29.04it/s]\n"
     ]
    },
    {
     "name": "stdout",
     "output_type": "stream",
     "text": [
      "Точность: 40.82%\n"
     ]
    },
    {
     "name": "stderr",
     "output_type": "stream",
     "text": [
      "RLoss: 0.9297290923727582, RPI1000: -0.005117845568450145: 100%|██████████| 2273/2273 [02:08<00:00, 17.71it/s] \n",
      "100%|██████████| 455/455 [00:16<00:00, 26.81it/s]\n"
     ]
    },
    {
     "name": "stdout",
     "output_type": "stream",
     "text": [
      "Точность: 41.17%\n"
     ]
    },
    {
     "name": "stderr",
     "output_type": "stream",
     "text": [
      "RLoss: 0.9571670732624172, RPI1000: 0.005952625282501745: 100%|██████████| 2273/2273 [02:08<00:00, 17.73it/s] \n",
      "100%|██████████| 455/455 [00:15<00:00, 29.08it/s]\n"
     ]
    },
    {
     "name": "stdout",
     "output_type": "stream",
     "text": [
      "Точность: 41.58%\n"
     ]
    },
    {
     "name": "stderr",
     "output_type": "stream",
     "text": [
      "RLoss: 0.9870535825684532, RPI1000: 0.0033957488640552354: 100%|██████████| 2273/2273 [02:07<00:00, 17.78it/s]\n",
      "100%|██████████| 455/455 [00:15<00:00, 28.99it/s]\n"
     ]
    },
    {
     "name": "stdout",
     "output_type": "stream",
     "text": [
      "Точность: 42.87%\n"
     ]
    },
    {
     "name": "stderr",
     "output_type": "stream",
     "text": [
      "RLoss: 0.972572441268098, RPI1000: -0.0010319126761762169: 100%|██████████| 2273/2273 [02:07<00:00, 17.77it/s] \n",
      "100%|██████████| 455/455 [00:16<00:00, 28.27it/s]\n"
     ]
    },
    {
     "name": "stdout",
     "output_type": "stream",
     "text": [
      "Точность: 42.04%\n"
     ]
    },
    {
     "name": "stderr",
     "output_type": "stream",
     "text": [
      "RLoss: 0.9232569659263182, RPI1000: 0.007835048360002058: 100%|██████████| 2273/2273 [02:10<00:00, 17.47it/s]\n",
      "100%|██████████| 455/455 [00:16<00:00, 26.77it/s]\n"
     ]
    },
    {
     "name": "stdout",
     "output_type": "stream",
     "text": [
      "Точность: 42.63%\n"
     ]
    },
    {
     "name": "stderr",
     "output_type": "stream",
     "text": [
      "RLoss: 0.9448597095658862, RPI1000: 0.008148587999694278: 100%|██████████| 2273/2273 [02:07<00:00, 17.79it/s]  \n",
      "100%|██████████| 455/455 [00:15<00:00, 29.08it/s]\n"
     ]
    },
    {
     "name": "stdout",
     "output_type": "stream",
     "text": [
      "Точность: 44.52%\n"
     ]
    },
    {
     "name": "stderr",
     "output_type": "stream",
     "text": [
      "RLoss: 0.8890386877074666, RPI1000: 0.0007716886140313098: 100%|██████████| 2273/2273 [02:07<00:00, 17.80it/s] \n",
      "100%|██████████| 455/455 [00:15<00:00, 29.09it/s]\n"
     ]
    },
    {
     "name": "stdout",
     "output_type": "stream",
     "text": [
      "Точность: 45.57%\n"
     ]
    },
    {
     "name": "stderr",
     "output_type": "stream",
     "text": [
      "RLoss: 0.8799137675357225, RPI1000: 0.0022196062634432744: 100%|██████████| 2273/2273 [02:07<00:00, 17.78it/s] \n",
      "100%|██████████| 455/455 [00:15<00:00, 29.02it/s]\n"
     ]
    },
    {
     "name": "stdout",
     "output_type": "stream",
     "text": [
      "Точность: 43.78%\n"
     ]
    },
    {
     "name": "stderr",
     "output_type": "stream",
     "text": [
      "RLoss: 0.8312380123553911, RPI1000: 0.01610169438747739: 100%|██████████| 2273/2273 [02:10<00:00, 17.42it/s] \n",
      "100%|██████████| 455/455 [00:16<00:00, 27.77it/s]\n"
     ]
    },
    {
     "name": "stdout",
     "output_type": "stream",
     "text": [
      "Точность: 45.76%\n"
     ]
    },
    {
     "name": "stderr",
     "output_type": "stream",
     "text": [
      "RLoss: 0.906073068403544, RPI1000: 0.011328877189672666: 100%|██████████| 2273/2273 [02:11<00:00, 17.31it/s]   \n",
      "100%|██████████| 455/455 [00:15<00:00, 29.19it/s]\n"
     ]
    },
    {
     "name": "stdout",
     "output_type": "stream",
     "text": [
      "Точность: 44.83%\n"
     ]
    },
    {
     "name": "stderr",
     "output_type": "stream",
     "text": [
      "RLoss: 0.8135522030764473, RPI1000: 0.014780129930696535: 100%|██████████| 2273/2273 [02:07<00:00, 17.81it/s]\n",
      "100%|██████████| 455/455 [00:15<00:00, 28.48it/s]\n"
     ]
    },
    {
     "name": "stdout",
     "output_type": "stream",
     "text": [
      "Точность: 46.02%\n"
     ]
    },
    {
     "name": "stderr",
     "output_type": "stream",
     "text": [
      "RLoss: 0.8294531188420114, RPI1000: 0.025491867899978236: 100%|██████████| 2273/2273 [02:08<00:00, 17.70it/s] \n",
      "100%|██████████| 455/455 [00:15<00:00, 29.15it/s]\n"
     ]
    },
    {
     "name": "stdout",
     "output_type": "stream",
     "text": [
      "Точность: 46.73%\n"
     ]
    },
    {
     "name": "stderr",
     "output_type": "stream",
     "text": [
      "RLoss: 0.8030004760882765, RPI1000: 0.023039337314884303: 100%|██████████| 2273/2273 [02:08<00:00, 17.69it/s] \n",
      "100%|██████████| 455/455 [00:15<00:00, 29.32it/s]\n"
     ]
    },
    {
     "name": "stdout",
     "output_type": "stream",
     "text": [
      "Точность: 46.31%\n"
     ]
    },
    {
     "name": "stderr",
     "output_type": "stream",
     "text": [
      "RLoss: 0.6726170026368641, RPI1000: 0.017479916735029216: 100%|██████████| 2273/2273 [02:07<00:00, 17.87it/s] \n",
      "100%|██████████| 455/455 [00:15<00:00, 29.23it/s]\n"
     ]
    },
    {
     "name": "stdout",
     "output_type": "stream",
     "text": [
      "Точность: 46.36%\n"
     ]
    },
    {
     "name": "stderr",
     "output_type": "stream",
     "text": [
      "RLoss: 0.7450120994398236, RPI1000: 0.015865893809063027: 100%|██████████| 2273/2273 [02:07<00:00, 17.88it/s]\n",
      "100%|██████████| 455/455 [00:15<00:00, 29.17it/s]\n"
     ]
    },
    {
     "name": "stdout",
     "output_type": "stream",
     "text": [
      "Точность: 47.06%\n"
     ]
    },
    {
     "name": "stderr",
     "output_type": "stream",
     "text": [
      "RLoss: 0.7820558969580838, RPI1000: 0.024713880506643218: 100%|██████████| 2273/2273 [02:08<00:00, 17.74it/s]\n",
      "100%|██████████| 455/455 [00:15<00:00, 29.22it/s]\n"
     ]
    },
    {
     "name": "stdout",
     "output_type": "stream",
     "text": [
      "Точность: 44.81%\n"
     ]
    },
    {
     "name": "stderr",
     "output_type": "stream",
     "text": [
      "RLoss: 0.7496057974910635, RPI1000: 0.02926543613313243: 100%|██████████| 2273/2273 [02:08<00:00, 17.72it/s] \n",
      "100%|██████████| 455/455 [00:16<00:00, 27.06it/s]\n"
     ]
    },
    {
     "name": "stdout",
     "output_type": "stream",
     "text": [
      "Точность: 45.58%\n"
     ]
    },
    {
     "name": "stderr",
     "output_type": "stream",
     "text": [
      "RLoss: 0.6539227997945172, RPI1000: 0.022346682948589363: 100%|██████████| 2273/2273 [02:09<00:00, 17.54it/s]\n",
      "100%|██████████| 455/455 [00:15<00:00, 29.34it/s]\n"
     ]
    },
    {
     "name": "stdout",
     "output_type": "stream",
     "text": [
      "Точность: 45.97%\n"
     ]
    },
    {
     "name": "stderr",
     "output_type": "stream",
     "text": [
      "RLoss: 0.7016446106184415, RPI1000: 0.016218607063579204: 100%|██████████| 2273/2273 [02:10<00:00, 17.43it/s]\n",
      "100%|██████████| 455/455 [00:15<00:00, 28.89it/s]\n"
     ]
    },
    {
     "name": "stdout",
     "output_type": "stream",
     "text": [
      "Точность: 44.52%\n"
     ]
    },
    {
     "name": "stderr",
     "output_type": "stream",
     "text": [
      "RLoss: 0.6363205745977218, RPI1000: 0.017284886393775335: 100%|██████████| 2273/2273 [02:07<00:00, 17.83it/s] \n",
      "100%|██████████| 455/455 [00:15<00:00, 28.59it/s]\n"
     ]
    },
    {
     "name": "stdout",
     "output_type": "stream",
     "text": [
      "Точность: 45.37%\n"
     ]
    },
    {
     "name": "stderr",
     "output_type": "stream",
     "text": [
      "RLoss: 0.5876375626673418, RPI1000: 0.01990176334732017: 100%|██████████| 2273/2273 [02:11<00:00, 17.30it/s]  \n",
      "100%|██████████| 455/455 [00:15<00:00, 28.73it/s]"
     ]
    },
    {
     "name": "stdout",
     "output_type": "stream",
     "text": [
      "Точность: 44.7%\n"
     ]
    },
    {
     "name": "stderr",
     "output_type": "stream",
     "text": [
      "\n"
     ]
    }
   ],
   "source": [
    "optimizer = optimizer_type(model.parameters(), lr=learning_rate)\n",
    "cofusion_matrixes.append(confusion(model, dataset))\n",
    "print(f\"Точность: {100*numpy.sum(numpy.diagonal(cofusion_matrixes[-1], 0))/numpy.sum(cofusion_matrixes[-1])}%\")\n",
    "for i in range(30):\n",
    "    loss_histories.append(train(model, dataset, optimizer, loss_function))\n",
    "    cofusion_matrixes.append(confusion(model, dataset))\n",
    "    print(f\"Точность: {100*numpy.sum(numpy.diagonal(cofusion_matrixes[-1], 0))/numpy.sum(cofusion_matrixes[-1])}%\")"
   ]
  },
  {
   "cell_type": "code",
   "execution_count": 20,
   "id": "626905b1-0905-4fbe-8667-0e662facc814",
   "metadata": {
    "execution": {
     "iopub.execute_input": "2024-05-12T23:15:07.507972Z",
     "iopub.status.busy": "2024-05-12T23:15:07.507709Z",
     "iopub.status.idle": "2024-05-13T00:27:52.677058Z",
     "shell.execute_reply": "2024-05-13T00:27:52.676563Z",
     "shell.execute_reply.started": "2024-05-12T23:15:07.507954Z"
    },
    "tags": []
   },
   "outputs": [
    {
     "name": "stderr",
     "output_type": "stream",
     "text": [
      "RLoss: 0.492980859094979, RPI1000: -0.033405637287208655: 100%|██████████| 2273/2273 [02:13<00:00, 17.08it/s]  \n",
      "100%|██████████| 455/455 [00:15<00:00, 28.95it/s]\n"
     ]
    },
    {
     "name": "stdout",
     "output_type": "stream",
     "text": [
      "Точность: 47.5%\n"
     ]
    },
    {
     "name": "stderr",
     "output_type": "stream",
     "text": [
      "RLoss: 0.5175051999279807, RPI1000: -0.014891159596128694: 100%|██████████| 2273/2273 [02:07<00:00, 17.83it/s] \n",
      "100%|██████████| 455/455 [00:15<00:00, 29.24it/s]\n"
     ]
    },
    {
     "name": "stdout",
     "output_type": "stream",
     "text": [
      "Точность: 47.59%\n"
     ]
    },
    {
     "name": "stderr",
     "output_type": "stream",
     "text": [
      "RLoss: 0.4004625889862693, RPI1000: -0.009944887330778193: 100%|██████████| 2273/2273 [02:07<00:00, 17.83it/s] \n",
      "100%|██████████| 455/455 [00:15<00:00, 29.10it/s]\n"
     ]
    },
    {
     "name": "stdout",
     "output_type": "stream",
     "text": [
      "Точность: 47.21%\n"
     ]
    },
    {
     "name": "stderr",
     "output_type": "stream",
     "text": [
      "RLoss: 0.47693446670111933, RPI1000: -0.006593186572017126: 100%|██████████| 2273/2273 [02:07<00:00, 17.83it/s] \n",
      "100%|██████████| 455/455 [00:15<00:00, 29.25it/s]\n"
     ]
    },
    {
     "name": "stdout",
     "output_type": "stream",
     "text": [
      "Точность: 47.13%\n"
     ]
    },
    {
     "name": "stderr",
     "output_type": "stream",
     "text": [
      "RLoss: 0.39701910246907346, RPI1000: -0.011648930530386634: 100%|██████████| 2273/2273 [02:10<00:00, 17.36it/s]\n",
      "100%|██████████| 455/455 [00:15<00:00, 29.22it/s]\n"
     ]
    },
    {
     "name": "stdout",
     "output_type": "stream",
     "text": [
      "Точность: 47.07%\n"
     ]
    },
    {
     "name": "stderr",
     "output_type": "stream",
     "text": [
      "RLoss: 0.35078720336046443, RPI1000: -0.003670628216435345: 100%|██████████| 2273/2273 [02:14<00:00, 16.89it/s] \n",
      "100%|██████████| 455/455 [00:16<00:00, 27.69it/s]\n"
     ]
    },
    {
     "name": "stdout",
     "output_type": "stream",
     "text": [
      "Точность: 47.58%\n"
     ]
    },
    {
     "name": "stderr",
     "output_type": "stream",
     "text": [
      "RLoss: 0.3555423474551819, RPI1000: 0.00045466558570790344: 100%|██████████| 2273/2273 [02:07<00:00, 17.83it/s] \n",
      "100%|██████████| 455/455 [00:15<00:00, 29.09it/s]\n"
     ]
    },
    {
     "name": "stdout",
     "output_type": "stream",
     "text": [
      "Точность: 46.53%\n"
     ]
    },
    {
     "name": "stderr",
     "output_type": "stream",
     "text": [
      "RLoss: 0.40786731414224453, RPI1000: 0.003314907538925436: 100%|██████████| 2273/2273 [02:06<00:00, 17.91it/s] \n",
      "100%|██████████| 455/455 [00:15<00:00, 29.38it/s]\n"
     ]
    },
    {
     "name": "stdout",
     "output_type": "stream",
     "text": [
      "Точность: 46.6%\n"
     ]
    },
    {
     "name": "stderr",
     "output_type": "stream",
     "text": [
      "RLoss: 0.464437603798293, RPI1000: -0.004496234886835963: 100%|██████████| 2273/2273 [02:08<00:00, 17.66it/s]  \n",
      "100%|██████████| 455/455 [00:16<00:00, 27.72it/s]\n"
     ]
    },
    {
     "name": "stdout",
     "output_type": "stream",
     "text": [
      "Точность: 47.32%\n"
     ]
    },
    {
     "name": "stderr",
     "output_type": "stream",
     "text": [
      "RLoss: 0.41059692344916787, RPI1000: -0.001643379103579637: 100%|██████████| 2273/2273 [02:13<00:00, 16.99it/s]\n",
      "100%|██████████| 455/455 [00:15<00:00, 29.42it/s]\n"
     ]
    },
    {
     "name": "stdout",
     "output_type": "stream",
     "text": [
      "Точность: 47.04%\n"
     ]
    },
    {
     "name": "stderr",
     "output_type": "stream",
     "text": [
      "RLoss: 0.3558904494931091, RPI1000: 0.0015720657722550731: 100%|██████████| 2273/2273 [02:06<00:00, 17.91it/s]  \n",
      "100%|██████████| 455/455 [00:15<00:00, 29.25it/s]\n"
     ]
    },
    {
     "name": "stdout",
     "output_type": "stream",
     "text": [
      "Точность: 46.94%\n"
     ]
    },
    {
     "name": "stderr",
     "output_type": "stream",
     "text": [
      "RLoss: 0.35120192713063897, RPI1000: -0.006569075917027036: 100%|██████████| 2273/2273 [02:07<00:00, 17.86it/s]  \n",
      "100%|██████████| 455/455 [00:15<00:00, 29.17it/s]\n"
     ]
    },
    {
     "name": "stdout",
     "output_type": "stream",
     "text": [
      "Точность: 45.94%\n"
     ]
    },
    {
     "name": "stderr",
     "output_type": "stream",
     "text": [
      "RLoss: 0.3479526457975938, RPI1000: -0.000956042559665479: 100%|██████████| 2273/2273 [02:07<00:00, 17.85it/s]  \n",
      "100%|██████████| 455/455 [00:16<00:00, 28.40it/s]\n"
     ]
    },
    {
     "name": "stdout",
     "output_type": "stream",
     "text": [
      "Точность: 47.21%\n"
     ]
    },
    {
     "name": "stderr",
     "output_type": "stream",
     "text": [
      "RLoss: 0.3573676376479194, RPI1000: 0.0013680069385301173: 100%|██████████| 2273/2273 [02:08<00:00, 17.75it/s]  \n",
      "100%|██████████| 455/455 [00:15<00:00, 28.86it/s]\n"
     ]
    },
    {
     "name": "stdout",
     "output_type": "stream",
     "text": [
      "Точность: 46.98%\n"
     ]
    },
    {
     "name": "stderr",
     "output_type": "stream",
     "text": [
      "RLoss: 0.46827037722430087, RPI1000: 0.002064463301811256: 100%|██████████| 2273/2273 [02:08<00:00, 17.64it/s] \n",
      "100%|██████████| 455/455 [00:15<00:00, 29.20it/s]\n"
     ]
    },
    {
     "name": "stdout",
     "output_type": "stream",
     "text": [
      "Точность: 46.0%\n"
     ]
    },
    {
     "name": "stderr",
     "output_type": "stream",
     "text": [
      "RLoss: 0.2836234933870336, RPI1000: 0.00484742023247779: 100%|██████████| 2273/2273 [02:11<00:00, 17.23it/s]   \n",
      "100%|██████████| 455/455 [00:16<00:00, 27.55it/s]\n"
     ]
    },
    {
     "name": "stdout",
     "output_type": "stream",
     "text": [
      "Точность: 46.94%\n"
     ]
    },
    {
     "name": "stderr",
     "output_type": "stream",
     "text": [
      "RLoss: 0.37292623688689575, RPI1000: -0.0008131087058061708: 100%|██████████| 2273/2273 [02:07<00:00, 17.83it/s]\n",
      "100%|██████████| 455/455 [00:15<00:00, 29.16it/s]\n"
     ]
    },
    {
     "name": "stdout",
     "output_type": "stream",
     "text": [
      "Точность: 46.68%\n"
     ]
    },
    {
     "name": "stderr",
     "output_type": "stream",
     "text": [
      "RLoss: 0.44052285844670225, RPI1000: 0.0018169782263633416: 100%|██████████| 2273/2273 [02:09<00:00, 17.60it/s]\n",
      "100%|██████████| 455/455 [00:15<00:00, 29.25it/s]\n"
     ]
    },
    {
     "name": "stdout",
     "output_type": "stream",
     "text": [
      "Точность: 46.47%\n"
     ]
    },
    {
     "name": "stderr",
     "output_type": "stream",
     "text": [
      "RLoss: 0.38768011775782585, RPI1000: 0.0066391337590169875: 100%|██████████| 2273/2273 [02:07<00:00, 17.77it/s] \n",
      "100%|██████████| 455/455 [00:15<00:00, 29.13it/s]\n"
     ]
    },
    {
     "name": "stdout",
     "output_type": "stream",
     "text": [
      "Точность: 46.45%\n"
     ]
    },
    {
     "name": "stderr",
     "output_type": "stream",
     "text": [
      "RLoss: 0.40494060911528096, RPI1000: 0.0017843118315570483: 100%|██████████| 2273/2273 [02:10<00:00, 17.48it/s]  \n",
      "100%|██████████| 455/455 [00:15<00:00, 29.43it/s]\n"
     ]
    },
    {
     "name": "stdout",
     "output_type": "stream",
     "text": [
      "Точность: 46.53%\n"
     ]
    },
    {
     "name": "stderr",
     "output_type": "stream",
     "text": [
      "RLoss: 0.33431516171533215, RPI1000: 0.0016042766054481525: 100%|██████████| 2273/2273 [02:06<00:00, 17.92it/s] \n",
      "100%|██████████| 455/455 [00:15<00:00, 29.19it/s]\n"
     ]
    },
    {
     "name": "stdout",
     "output_type": "stream",
     "text": [
      "Точность: 46.31%\n"
     ]
    },
    {
     "name": "stderr",
     "output_type": "stream",
     "text": [
      "RLoss: 0.3124051407313658, RPI1000: 0.0008745892310503589: 100%|██████████| 2273/2273 [02:07<00:00, 17.85it/s] \n",
      "100%|██████████| 455/455 [00:15<00:00, 29.17it/s]\n"
     ]
    },
    {
     "name": "stdout",
     "output_type": "stream",
     "text": [
      "Точность: 46.15%\n"
     ]
    },
    {
     "name": "stderr",
     "output_type": "stream",
     "text": [
      "RLoss: 0.38014922518403327, RPI1000: -0.006880715291053195: 100%|██████████| 2273/2273 [02:12<00:00, 17.13it/s]  \n",
      "100%|██████████| 455/455 [00:16<00:00, 26.87it/s]\n"
     ]
    },
    {
     "name": "stdout",
     "output_type": "stream",
     "text": [
      "Точность: 46.36%\n"
     ]
    },
    {
     "name": "stderr",
     "output_type": "stream",
     "text": [
      "RLoss: 0.3029577553758682, RPI1000: -0.0010648883804846416: 100%|██████████| 2273/2273 [02:12<00:00, 17.12it/s] \n",
      "100%|██████████| 455/455 [00:16<00:00, 26.85it/s]\n"
     ]
    },
    {
     "name": "stdout",
     "output_type": "stream",
     "text": [
      "Точность: 46.91%\n"
     ]
    },
    {
     "name": "stderr",
     "output_type": "stream",
     "text": [
      "RLoss: 0.3354378966870827, RPI1000: 0.0021324197912905335: 100%|██████████| 2273/2273 [02:09<00:00, 17.59it/s]  \n",
      "100%|██████████| 455/455 [00:15<00:00, 29.04it/s]\n"
     ]
    },
    {
     "name": "stdout",
     "output_type": "stream",
     "text": [
      "Точность: 46.93%\n"
     ]
    },
    {
     "name": "stderr",
     "output_type": "stream",
     "text": [
      "RLoss: 0.3039788570528949, RPI1000: 0.003952200007235956: 100%|██████████| 2273/2273 [02:08<00:00, 17.67it/s]  \n",
      "100%|██████████| 455/455 [00:15<00:00, 28.87it/s]\n"
     ]
    },
    {
     "name": "stdout",
     "output_type": "stream",
     "text": [
      "Точность: 46.86%\n"
     ]
    },
    {
     "name": "stderr",
     "output_type": "stream",
     "text": [
      "RLoss: 0.35028928730959663, RPI1000: 0.005992315801745536: 100%|██████████| 2273/2273 [02:09<00:00, 17.49it/s] \n",
      "100%|██████████| 455/455 [00:15<00:00, 29.15it/s]\n"
     ]
    },
    {
     "name": "stdout",
     "output_type": "stream",
     "text": [
      "Точность: 46.52%\n"
     ]
    },
    {
     "name": "stderr",
     "output_type": "stream",
     "text": [
      "RLoss: 0.3212650057795638, RPI1000: -0.0007754001181152581: 100%|██████████| 2273/2273 [02:14<00:00, 16.86it/s] \n",
      "100%|██████████| 455/455 [00:17<00:00, 26.72it/s]\n"
     ]
    },
    {
     "name": "stdout",
     "output_type": "stream",
     "text": [
      "Точность: 46.48%\n"
     ]
    },
    {
     "name": "stderr",
     "output_type": "stream",
     "text": [
      "RLoss: 0.3359616985420584, RPI1000: -0.002256092983347901: 100%|██████████| 2273/2273 [02:12<00:00, 17.17it/s]  \n",
      "100%|██████████| 455/455 [00:17<00:00, 26.30it/s]\n"
     ]
    },
    {
     "name": "stdout",
     "output_type": "stream",
     "text": [
      "Точность: 46.11%\n"
     ]
    },
    {
     "name": "stderr",
     "output_type": "stream",
     "text": [
      "RLoss: 0.2728805222342243, RPI1000: 0.0027416919119746482: 100%|██████████| 2273/2273 [02:10<00:00, 17.40it/s] \n",
      "100%|██████████| 455/455 [00:15<00:00, 29.12it/s]"
     ]
    },
    {
     "name": "stdout",
     "output_type": "stream",
     "text": [
      "Точность: 46.41%\n"
     ]
    },
    {
     "name": "stderr",
     "output_type": "stream",
     "text": [
      "\n"
     ]
    }
   ],
   "source": [
    "optimizer = optimizer_type(model.parameters(), lr=learning_rate/100)\n",
    "for i in range(30):\n",
    "    loss_histories.append(train(model, dataset, optimizer, loss_function))\n",
    "    cofusion_matrixes.append(confusion(model, dataset))\n",
    "    print(f\"Точность: {100*numpy.sum(numpy.diagonal(cofusion_matrixes[-1], 0))/numpy.sum(cofusion_matrixes[-1])}%\")"
   ]
  },
  {
   "cell_type": "code",
   "execution_count": 21,
   "id": "739a6885-de01-4c8c-829e-23dd98eec7c4",
   "metadata": {
    "execution": {
     "iopub.execute_input": "2024-05-13T00:27:52.678050Z",
     "iopub.status.busy": "2024-05-13T00:27:52.677728Z",
     "iopub.status.idle": "2024-05-13T00:27:55.265291Z",
     "shell.execute_reply": "2024-05-13T00:27:55.264661Z",
     "shell.execute_reply.started": "2024-05-13T00:27:52.678031Z"
    }
   },
   "outputs": [],
   "source": [
    "data = (model, dataset, loss_function_proportion, optimizer_type, (incoherent, chunker, optical, detectors, electronic), loss_histories, cofusion_matrixes)\n",
    "with open('Trained ID2NN HSC2.pkl', 'wb') as file:\n",
    "    dump(data, file)"
   ]
  },
  {
   "cell_type": "code",
   "execution_count": null,
   "id": "a1e61e3f-3596-4e88-892c-2db607f73816",
   "metadata": {},
   "outputs": [],
   "source": []
  }
 ],
 "metadata": {
  "accelerator": "GPU",
  "colab": {
   "gpuType": "L4",
   "machine_shape": "hm",
   "provenance": []
  },
  "kernelspec": {
   "display_name": "DataSphere Kernel",
   "language": "python",
   "name": "python3"
  },
  "language_info": {
   "codemirror_mode": {
    "name": "ipython",
    "version": 3
   },
   "file_extension": ".py",
   "mimetype": "text/x-python",
   "name": "python",
   "nbconvert_exporter": "python",
   "pygments_lexer": "ipython3",
   "version": "3.10.12"
  },
  "toc-autonumbering": false,
  "toc-showmarkdowntxt": false
 },
 "nbformat": 4,
 "nbformat_minor": 5
}
