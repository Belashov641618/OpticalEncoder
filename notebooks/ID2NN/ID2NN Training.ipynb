{
 "cells": [
  {
   "cell_type": "markdown",
   "id": "ccc45c47-db3b-4054-9d55-fe9d135dc729",
   "metadata": {
    "id": "ccc45c47-db3b-4054-9d55-fe9d135dc729",
    "jp-MarkdownHeadingCollapsed": true,
    "tags": []
   },
   "source": [
    "# Настройка среды"
   ]
  },
  {
   "cell_type": "code",
   "execution_count": 2,
   "id": "eb08733f-d647-4841-baf1-21705ed7c72e",
   "metadata": {
    "colab": {
     "base_uri": "https://localhost:8080/"
    },
    "execution": {
     "iopub.execute_input": "2024-05-04T18:12:06.013048Z",
     "iopub.status.busy": "2024-05-04T18:12:06.012111Z",
     "iopub.status.idle": "2024-05-04T18:12:06.041955Z",
     "shell.execute_reply": "2024-05-04T18:12:06.041113Z",
     "shell.execute_reply.started": "2024-05-04T18:12:06.013001Z"
    },
    "id": "eb08733f-d647-4841-baf1-21705ed7c72e",
    "outputId": "68907ff5-6494-4d13-f4d1-796b0d66d334",
    "tags": []
   },
   "outputs": [],
   "source": [
    "import os\n",
    "import sys\n",
    "sys.path.append(os.path.abspath(\"../..\"))"
   ]
  },
  {
   "cell_type": "code",
   "execution_count": 3,
   "id": "198fbffb-6335-4e54-b0d5-94d0109e255d",
   "metadata": {
    "colab": {
     "base_uri": "https://localhost:8080/"
    },
    "execution": {
     "iopub.execute_input": "2024-05-04T18:12:06.408068Z",
     "iopub.status.busy": "2024-05-04T18:12:06.407233Z",
     "iopub.status.idle": "2024-05-04T18:12:30.784348Z",
     "shell.execute_reply": "2024-05-04T18:12:30.783544Z",
     "shell.execute_reply.started": "2024-05-04T18:12:06.408026Z"
    },
    "id": "198fbffb-6335-4e54-b0d5-94d0109e255d",
    "outputId": "39bd3c64-7529-457c-9293-256e5c758a92",
    "tags": []
   },
   "outputs": [
    {
     "name": "stdout",
     "output_type": "stream",
     "text": [
      "Defaulting to user installation because normal site-packages is not writeable\n",
      "Requirement already satisfied: pip in /kernel/lib/python3.10/site-packages (23.0.1)\n",
      "Collecting pip\n",
      "  Downloading pip-24.0-py3-none-any.whl.metadata (3.6 kB)\n",
      "Downloading pip-24.0-py3-none-any.whl (2.1 MB)\n",
      "\u001b[2K   \u001b[90m━━━━━━━━━━━━━━━━━━━━━━━━━━━━━━━━━━━━━━━━\u001b[0m \u001b[32m2.1/2.1 MB\u001b[0m \u001b[31m5.6 MB/s\u001b[0m eta \u001b[36m0:00:00\u001b[0ma \u001b[36m0:00:01\u001b[0m\n",
      "\u001b[?25hInstalling collected packages: pip\n",
      "\u001b[33m  WARNING: The scripts pip, pip3 and pip3.10 are installed in '/home/jupyter/.local/bin' which is not on PATH.\n",
      "  Consider adding this directory to PATH or, if you prefer to suppress this warning, use --no-warn-script-location.\u001b[0m\u001b[33m\n",
      "\u001b[0mSuccessfully installed pip-24.0\n",
      "\n",
      "\u001b[1m[\u001b[0m\u001b[34;49mnotice\u001b[0m\u001b[1;39;49m]\u001b[0m\u001b[39;49m A new release of pip is available: \u001b[0m\u001b[31;49m23.0.1\u001b[0m\u001b[39;49m -> \u001b[0m\u001b[32;49m24.0\u001b[0m\n",
      "\u001b[1m[\u001b[0m\u001b[34;49mnotice\u001b[0m\u001b[1;39;49m]\u001b[0m\u001b[39;49m To update, run: \u001b[0m\u001b[32;49mpython3 -m pip install --upgrade pip\u001b[0m\n",
      "Defaulting to user installation because normal site-packages is not writeable\n",
      "Requirement already satisfied: optuna in /home/jupyter/.local/lib/python3.10/site-packages (3.6.1)\n",
      "Requirement already satisfied: alembic>=1.5.0 in /home/jupyter/.local/lib/python3.10/site-packages (from optuna) (1.13.1)\n",
      "Requirement already satisfied: colorlog in /home/jupyter/.local/lib/python3.10/site-packages (from optuna) (6.8.2)\n",
      "Requirement already satisfied: numpy in /usr/local/lib/python3.10/dist-packages (from optuna) (1.22.4)\n",
      "Requirement already satisfied: packaging>=20.0 in /kernel/lib/python3.10/site-packages (from optuna) (24.0)\n",
      "Requirement already satisfied: sqlalchemy>=1.3.0 in /usr/local/lib/python3.10/dist-packages (from optuna) (2.0.19)\n",
      "Requirement already satisfied: tqdm in /usr/local/lib/python3.10/dist-packages (from optuna) (4.65.0)\n",
      "Requirement already satisfied: PyYAML in /usr/local/lib/python3.10/dist-packages (from optuna) (6.0.1)\n",
      "Requirement already satisfied: Mako in /home/jupyter/.local/lib/python3.10/site-packages (from alembic>=1.5.0->optuna) (1.3.3)\n",
      "Requirement already satisfied: typing-extensions>=4 in /kernel/lib/python3.10/site-packages (from alembic>=1.5.0->optuna) (4.11.0)\n",
      "Requirement already satisfied: greenlet!=0.4.17 in /usr/local/lib/python3.10/dist-packages (from sqlalchemy>=1.3.0->optuna) (2.0.2)\n",
      "Requirement already satisfied: MarkupSafe>=0.9.2 in /kernel/lib/python3.10/site-packages (from Mako->alembic>=1.5.0->optuna) (2.1.5)\n",
      "\n",
      "\u001b[1m[\u001b[0m\u001b[34;49mnotice\u001b[0m\u001b[1;39;49m]\u001b[0m\u001b[39;49m A new release of pip is available: \u001b[0m\u001b[31;49m23.0.1\u001b[0m\u001b[39;49m -> \u001b[0m\u001b[32;49m24.0\u001b[0m\n",
      "\u001b[1m[\u001b[0m\u001b[34;49mnotice\u001b[0m\u001b[1;39;49m]\u001b[0m\u001b[39;49m To update, run: \u001b[0m\u001b[32;49mpython3 -m pip install --upgrade pip\u001b[0m\n",
      "Defaulting to user installation because normal site-packages is not writeable\n",
      "Requirement already satisfied: belashovplot in /home/jupyter/.local/lib/python3.10/site-packages (1.0)\n",
      "\n",
      "\u001b[1m[\u001b[0m\u001b[34;49mnotice\u001b[0m\u001b[1;39;49m]\u001b[0m\u001b[39;49m A new release of pip is available: \u001b[0m\u001b[31;49m23.0.1\u001b[0m\u001b[39;49m -> \u001b[0m\u001b[32;49m24.0\u001b[0m\n",
      "\u001b[1m[\u001b[0m\u001b[34;49mnotice\u001b[0m\u001b[1;39;49m]\u001b[0m\u001b[39;49m To update, run: \u001b[0m\u001b[32;49mpython3 -m pip install --upgrade pip\u001b[0m\n",
      "Defaulting to user installation because normal site-packages is not writeable\n",
      "Requirement already satisfied: belashovplot in /home/jupyter/.local/lib/python3.10/site-packages (1.0)\n",
      "\n",
      "\u001b[1m[\u001b[0m\u001b[34;49mnotice\u001b[0m\u001b[1;39;49m]\u001b[0m\u001b[39;49m A new release of pip is available: \u001b[0m\u001b[31;49m23.0.1\u001b[0m\u001b[39;49m -> \u001b[0m\u001b[32;49m24.0\u001b[0m\n",
      "\u001b[1m[\u001b[0m\u001b[34;49mnotice\u001b[0m\u001b[1;39;49m]\u001b[0m\u001b[39;49m To update, run: \u001b[0m\u001b[32;49mpython3 -m pip install --upgrade pip\u001b[0m\n",
      "Defaulting to user installation because normal site-packages is not writeable\n",
      "Requirement already satisfied: timm in /home/jupyter/.local/lib/python3.10/site-packages (0.9.16)\n",
      "Requirement already satisfied: torch in /usr/local/lib/python3.10/dist-packages (from timm) (2.0.1+cu118)\n",
      "Requirement already satisfied: torchvision in /usr/local/lib/python3.10/dist-packages (from timm) (0.15.2+cu118)\n",
      "Requirement already satisfied: pyyaml in /usr/local/lib/python3.10/dist-packages (from timm) (6.0.1)\n",
      "Requirement already satisfied: huggingface_hub in /home/jupyter/.local/lib/python3.10/site-packages (from timm) (0.23.0)\n",
      "Requirement already satisfied: safetensors in /home/jupyter/.local/lib/python3.10/site-packages (from timm) (0.4.3)\n",
      "Requirement already satisfied: filelock in /usr/local/lib/python3.10/dist-packages (from huggingface_hub->timm) (3.12.2)\n",
      "Requirement already satisfied: fsspec>=2023.5.0 in /usr/local/lib/python3.10/dist-packages (from huggingface_hub->timm) (2023.6.0)\n",
      "Requirement already satisfied: packaging>=20.9 in /kernel/lib/python3.10/site-packages (from huggingface_hub->timm) (24.0)\n",
      "Requirement already satisfied: requests in /kernel/lib/python3.10/site-packages (from huggingface_hub->timm) (2.31.0)\n",
      "Requirement already satisfied: tqdm>=4.42.1 in /usr/local/lib/python3.10/dist-packages (from huggingface_hub->timm) (4.65.0)\n",
      "Requirement already satisfied: typing-extensions>=3.7.4.3 in /kernel/lib/python3.10/site-packages (from huggingface_hub->timm) (4.11.0)\n",
      "Requirement already satisfied: sympy in /usr/local/lib/python3.10/dist-packages (from torch->timm) (1.11.1)\n",
      "Requirement already satisfied: networkx in /usr/local/lib/python3.10/dist-packages (from torch->timm) (3.1)\n",
      "Requirement already satisfied: jinja2 in /kernel/lib/python3.10/site-packages (from torch->timm) (3.1.3)\n",
      "Requirement already satisfied: triton==2.0.0 in /usr/local/lib/python3.10/dist-packages (from torch->timm) (2.0.0)\n",
      "Requirement already satisfied: cmake in /usr/local/lib/python3.10/dist-packages (from triton==2.0.0->torch->timm) (3.25.2)\n",
      "Requirement already satisfied: lit in /usr/local/lib/python3.10/dist-packages (from triton==2.0.0->torch->timm) (16.0.6)\n",
      "Requirement already satisfied: numpy in /usr/local/lib/python3.10/dist-packages (from torchvision->timm) (1.22.4)\n",
      "Requirement already satisfied: pillow!=8.3.*,>=5.3.0 in /usr/local/lib/python3.10/dist-packages (from torchvision->timm) (9.4.0)\n",
      "Requirement already satisfied: MarkupSafe>=2.0 in /kernel/lib/python3.10/site-packages (from jinja2->torch->timm) (2.1.5)\n",
      "Requirement already satisfied: charset-normalizer<4,>=2 in /kernel/lib/python3.10/site-packages (from requests->huggingface_hub->timm) (3.3.2)\n",
      "Requirement already satisfied: idna<4,>=2.5 in /kernel/lib/python3.10/site-packages (from requests->huggingface_hub->timm) (3.7)\n",
      "Requirement already satisfied: urllib3<3,>=1.21.1 in /kernel/lib/python3.10/site-packages (from requests->huggingface_hub->timm) (1.25.11)\n",
      "Requirement already satisfied: certifi>=2017.4.17 in /kernel/lib/python3.10/site-packages (from requests->huggingface_hub->timm) (2024.2.2)\n",
      "Requirement already satisfied: mpmath>=0.19 in /usr/local/lib/python3.10/dist-packages (from sympy->torch->timm) (1.3.0)\n",
      "\n",
      "\u001b[1m[\u001b[0m\u001b[34;49mnotice\u001b[0m\u001b[1;39;49m]\u001b[0m\u001b[39;49m A new release of pip is available: \u001b[0m\u001b[31;49m23.0.1\u001b[0m\u001b[39;49m -> \u001b[0m\u001b[32;49m24.0\u001b[0m\n",
      "\u001b[1m[\u001b[0m\u001b[34;49mnotice\u001b[0m\u001b[1;39;49m]\u001b[0m\u001b[39;49m To update, run: \u001b[0m\u001b[32;49mpython3 -m pip install --upgrade pip\u001b[0m\n"
     ]
    }
   ],
   "source": [
    "%pip install --upgrade pip\n",
    "%pip install optuna\n",
    "%pip install belashovplot\n",
    "%pip install belashovplot\n",
    "%pip install timm"
   ]
  },
  {
   "cell_type": "markdown",
   "id": "37ff20f3-4e63-47b8-95fc-1aa99e092bce",
   "metadata": {
    "jp-MarkdownHeadingCollapsed": true,
    "tags": []
   },
   "source": [
    "# Импорты и настройка модулей"
   ]
  },
  {
   "cell_type": "code",
   "execution_count": 4,
   "id": "d1193e17-e375-41a3-8f98-9bea9bfd4d70",
   "metadata": {
    "execution": {
     "iopub.execute_input": "2024-05-04T18:12:30.786658Z",
     "iopub.status.busy": "2024-05-04T18:12:30.785887Z",
     "iopub.status.idle": "2024-05-04T18:12:32.755373Z",
     "shell.execute_reply": "2024-05-04T18:12:32.754666Z",
     "shell.execute_reply.started": "2024-05-04T18:12:30.786620Z"
    },
    "id": "d1193e17-e375-41a3-8f98-9bea9bfd4d70",
    "tags": []
   },
   "outputs": [],
   "source": [
    "from belashovplot import TiledPlot\n",
    "from utilities import *\n",
    "from utilities.filters import Gaussian, Window\n",
    "from utilities.training import train, confusion\n",
    "from elements.modulators import Lens, PhaseModulator, AmplitudeModulator\n",
    "from elements.propagators import FurrierPropagation, ConvolutionalPropagation\n",
    "from elements.composition import CompositeModel, HybridModel\n",
    "from elements.wrappers import CudaMemoryChunker, Incoherent\n",
    "from elements.detectors import ClassificationDetectors, MatrixDetectors\n",
    "from parameters import FigureWidthHeight, FontLibrary\n",
    "from tqdm import tqdm\n",
    "from math import sin, sqrt\n",
    "from pickle import dump\n",
    "import torch\n",
    "import numpy\n",
    "import timm\n",
    "import optuna\n",
    "import pandas"
   ]
  },
  {
   "cell_type": "code",
   "execution_count": 5,
   "id": "66a672ad-9c85-4de4-a507-f3362e4e70b1",
   "metadata": {
    "execution": {
     "iopub.execute_input": "2024-05-04T18:12:32.758981Z",
     "iopub.status.busy": "2024-05-04T18:12:32.758025Z",
     "iopub.status.idle": "2024-05-04T18:12:32.774168Z",
     "shell.execute_reply": "2024-05-04T18:12:32.773405Z",
     "shell.execute_reply.started": "2024-05-04T18:12:32.758932Z"
    }
   },
   "outputs": [],
   "source": [
    "FontLibrary.Fonts.ColumnDescriptionTop.FontSize = 9\n",
    "FontLibrary.Fonts.ColumnDescriptionBottom.FontSize = 9\n",
    "FontLibrary.Fonts.RowDescriptionLeft.FontSize = 9\n",
    "FontLibrary.Fonts.RowDescriptionRight.FontSize = 9\n",
    "FigureWidthHeight = (16, 16)"
   ]
  },
  {
   "cell_type": "code",
   "execution_count": 6,
   "id": "4a9fa281-9013-4533-9078-55616af24213",
   "metadata": {
    "execution": {
     "iopub.execute_input": "2024-05-04T18:12:32.777062Z",
     "iopub.status.busy": "2024-05-04T18:12:32.775619Z",
     "iopub.status.idle": "2024-05-04T18:12:32.817271Z",
     "shell.execute_reply": "2024-05-04T18:12:32.816452Z",
     "shell.execute_reply.started": "2024-05-04T18:12:32.777025Z"
    }
   },
   "outputs": [
    {
     "name": "stdout",
     "output_type": "stream",
     "text": [
      "Используемый девайс: Tesla T4\n"
     ]
    }
   ],
   "source": [
    "device = torch.device('cuda' if torch.cuda.is_available() else 'cpu')\n",
    "print('Используемый девайс:', torch.cuda.get_device_name(device) if torch.cuda.is_available() else 'ЦП')"
   ]
  },
  {
   "cell_type": "markdown",
   "id": "b8a780e5-2a92-4ef1-9e8f-a4b9f5b546ef",
   "metadata": {
    "jp-MarkdownHeadingCollapsed": true,
    "tags": []
   },
   "source": [
    "# Инициализация вспомогательных методов"
   ]
  },
  {
   "cell_type": "markdown",
   "id": "c69944b5-20cb-40a4-a6a1-683706cd8c29",
   "metadata": {
    "jp-MarkdownHeadingCollapsed": true,
    "tags": []
   },
   "source": [
    "## Комбинированная лосс функция"
   ]
  },
  {
   "cell_type": "code",
   "execution_count": 7,
   "id": "085cb466-1ca7-42f1-b994-d7cae2408970",
   "metadata": {
    "execution": {
     "iopub.execute_input": "2024-05-04T18:12:32.818895Z",
     "iopub.status.busy": "2024-05-04T18:12:32.818454Z",
     "iopub.status.idle": "2024-05-04T18:12:32.844312Z",
     "shell.execute_reply": "2024-05-04T18:12:32.843613Z",
     "shell.execute_reply.started": "2024-05-04T18:12:32.818857Z"
    }
   },
   "outputs": [],
   "source": [
    "def combined_loss(cross_entropy_to_mse_proportion:float=1.0):\n",
    "    def loss_function(outputs, targets):\n",
    "        CELoss = torch.nn.functional.cross_entropy(outputs, targets)\n",
    "        MSELoss = torch.nn.functional.mse_loss(torch.nn.functional.softmax(outputs, dim=1), torch.nn.functional.one_hot(targets, num_classes=10).float())\n",
    "        loss = cross_entropy_to_mse_proportion*CELoss + (1.0-cross_entropy_to_mse_proportion)*MSELoss\n",
    "        return loss\n",
    "    return loss_function"
   ]
  },
  {
   "cell_type": "markdown",
   "id": "96b4241c-654f-4ea2-a6d6-dcbd90ab7042",
   "metadata": {
    "jp-MarkdownHeadingCollapsed": true,
    "tags": []
   },
   "source": [
    "## Электронная моель ResNet"
   ]
  },
  {
   "cell_type": "code",
   "execution_count": 8,
   "id": "8af3af1b-89ad-4e4f-bd6d-366ea0ff94bb",
   "metadata": {
    "execution": {
     "iopub.execute_input": "2024-05-04T18:12:32.845718Z",
     "iopub.status.busy": "2024-05-04T18:12:32.845302Z",
     "iopub.status.idle": "2024-05-04T18:12:32.867834Z",
     "shell.execute_reply": "2024-05-04T18:12:32.867088Z",
     "shell.execute_reply.started": "2024-05-04T18:12:32.845687Z"
    }
   },
   "outputs": [],
   "source": [
    "def resnet18(classes:int=10):\n",
    "    return timm.create_model('resnet18', pretrained=False,  in_chans=1, num_classes=classes).to(device)"
   ]
  },
  {
   "cell_type": "markdown",
   "id": "8854a17b-af3d-4331-8279-b91b59cae295",
   "metadata": {},
   "source": [
    "## Инициализация системы по полному набору параметров"
   ]
  },
  {
   "cell_type": "code",
   "execution_count": 9,
   "id": "586131b4-a9e4-4b65-baf3-8bfb332c13cd",
   "metadata": {
    "execution": {
     "iopub.execute_input": "2024-05-04T18:12:32.870110Z",
     "iopub.status.busy": "2024-05-04T18:12:32.868801Z",
     "iopub.status.idle": "2024-05-04T18:12:32.885731Z",
     "shell.execute_reply": "2024-05-04T18:12:32.885088Z",
     "shell.execute_reply.started": "2024-05-04T18:12:32.870037Z"
    },
    "tags": []
   },
   "outputs": [],
   "source": [
    "def initialize(\n",
    "    wavelength:float, N:int, length:float, pixels:int, masks_amount:int, distance:float,\n",
    "    spatial_coherence:float, time_coherence:float, time_relaxation:float, mean_samples:int,\n",
    "    detector_size:float, detectors_amount:int,\n",
    "    loss_function_proportion:float,  batch_size:int, optimizer_type:str\n",
    "):\n",
    "    print(\"Инициализированна модель со следующими параметрами:\")\n",
    "    print(f\"\\tДлинна волны:                             {engineering(wavelength, 'м')}\")\n",
    "    print(f\"\\tКоличество вычислительных пикселей:       {N}\")\n",
    "    print(f\"\\tКоличество пикселей маски:                {pixels}\")\n",
    "    print(f\"\\tРазмер оптических элементов:              {engineering(length, 'м')}\")\n",
    "    print(f\"\\tРазмер пикселя маски:                     {engineering(length/pixels, 'м')}\")\n",
    "    print(f\"\\tРасстояние между слоями:                  {engineering(distance, 'м')}\")\n",
    "    \n",
    "    print(f\"\\tВременная когерентность:                  {engineering(time_coherence, 'с')}\")\n",
    "    print(f\"\\tВремя релаксации:                         {engineering(time_relaxation, 'c')}\")\n",
    "    print(f\"\\tПространственная когерентность:           {engineering(spatial_coherence, 'м')}\")\n",
    "    print(f\"\\tКоличество усреднений:                    {mean_samples}\")\n",
    "\n",
    "    print(f\"\\tРазмер детекторов:                        {engineering(detector_size, 'м')}\")\n",
    "    print(f\"\\tКоличество детекторов:                    {detectors_amount} на {detectors_amount}\")\n",
    "\n",
    "    print(f\"\\tПропорция CE к MSE лосс:                  {loss_function_proportion}\")\n",
    "    print(f\"\\tРазмер батча:                             {batch_size}\")\n",
    "    print(f\"\\tТип оптимизатора:                         {optimizer_type}\")\n",
    "    print()\n",
    "    \n",
    "    incoherent = Incoherent(spatial_coherence, time_coherence, time_relaxation, mean_samples, N, length).to(device)\n",
    "\n",
    "    spectral_filter = Window(centers=wavelength, sizes=300.0E-9)\n",
    "    detectors_filter = Gaussian((detector_size, detector_size), (0,0))\n",
    "    detectors = MatrixDetectors(N, length, wavelength, detectors_amount, detectors_filter, spectral_filter).to(device)\n",
    "\n",
    "    electronic = resnet18()\n",
    "\n",
    "    propagation = FurrierPropagation(N, length, wavelength, 1.0, 0.0, distance, 0.4)\n",
    "    phase_modulators = [PhaseModulator(N, length, pixels) for i in range(masks_amount)]\n",
    "    amplitude_modulators = [AmplitudeModulator(N, length, pixels) for i in range(masks_amount)]\n",
    "    elements = [phase_modulators[0], amplitude_modulators[0]]\n",
    "    for phase_modulator, amplitude_modulator in zip(phase_modulators[1:], amplitude_modulators[1:]):\n",
    "        elements.append(propagation)\n",
    "        elements.append(phase_modulator)\n",
    "        elements.append(amplitude_modulator)\n",
    "    elements.append(propagation)\n",
    "    chunker = CudaMemoryChunker()\n",
    "    optical = CompositeModel(*elements)\n",
    "    optical.wrap(chunker)\n",
    "    optical.wrap(incoherent)\n",
    "    optical.to(device)\n",
    "    model = HybridModel(optical, detectors, electronic).to(device)\n",
    "\n",
    "    dataset = Dataset('CIFAR10', batch_size, N, N, torch.complex64)\n",
    "    dataset.train\n",
    "    dataset.test\n",
    "    \n",
    "    loss_function = combined_loss(loss_function_proportion)\n",
    "    optimizer_types_list = {'Adam':torch.optim.Adam, 'SGD':torch.optim.SGD, 'RMSprop':torch.optim.RMSprop, 'Adagrad':torch.optim.Adagrad}\n",
    "    optimizer_type = optimizer_types_list[optimizer_type]\n",
    "\n",
    "    return model, dataset, loss_function, optimizer_type, (incoherent, chunker, optical, detectors, electronic)"
   ]
  },
  {
   "cell_type": "markdown",
   "id": "a777e3a4-bcde-4580-b71d-77e0fce1db5a",
   "metadata": {
    "id": "a777e3a4-bcde-4580-b71d-77e0fce1db5a",
    "jp-MarkdownHeadingCollapsed": true,
    "tags": []
   },
   "source": [
    "# Установка не изменяемых параметров системы"
   ]
  },
  {
   "cell_type": "code",
   "execution_count": 10,
   "id": "d0a396e3-03a4-4310-a955-1275ce11aebd",
   "metadata": {
    "colab": {
     "base_uri": "https://localhost:8080/"
    },
    "execution": {
     "iopub.execute_input": "2024-05-04T18:12:32.889103Z",
     "iopub.status.busy": "2024-05-04T18:12:32.888413Z",
     "iopub.status.idle": "2024-05-04T18:12:32.898731Z",
     "shell.execute_reply": "2024-05-04T18:12:32.898061Z",
     "shell.execute_reply.started": "2024-05-04T18:12:32.889067Z"
    },
    "id": "d0a396e3-03a4-4310-a955-1275ce11aebd",
    "outputId": "f6d473d3-ed12-4806-b64c-023742be2101",
    "tags": []
   },
   "outputs": [],
   "source": [
    "# Предпочтительные параметры\n",
    "size = 50.0E-6\n",
    "near_N = 300\n",
    "near_length = 5.0E-3\n",
    "wavelength = 500.0E-9\n",
    "detectors_amount = 24\n",
    "\n",
    "# Параметры когерентности\n",
    "spatial_coherence = 50.0E-6\n",
    "time_coherence = 10.0E-9\n",
    "time_relaxation = 1.0E-6\n",
    "mean_samples = 7"
   ]
  },
  {
   "cell_type": "code",
   "execution_count": 11,
   "id": "5fd8878d-4b4e-4db4-81ec-195a0414e82f",
   "metadata": {
    "execution": {
     "iopub.execute_input": "2024-05-04T18:12:32.900575Z",
     "iopub.status.busy": "2024-05-04T18:12:32.900103Z",
     "iopub.status.idle": "2024-05-04T18:12:32.911139Z",
     "shell.execute_reply": "2024-05-04T18:12:32.910478Z",
     "shell.execute_reply.started": "2024-05-04T18:12:32.900542Z"
    },
    "tags": []
   },
   "outputs": [],
   "source": [
    "# Вычисляемые параметры\n",
    "pixels = upper_integer(near_length/size)\n",
    "length = pixels * size\n",
    "cppp = upper_integer(near_N * size / length)\n",
    "N = int(length / size) * cppp\n",
    "detector_size = length / 60"
   ]
  },
  {
   "cell_type": "markdown",
   "id": "8e66db38-721b-4cea-834c-41aa587ca64e",
   "metadata": {
    "jp-MarkdownHeadingCollapsed": true,
    "tags": []
   },
   "source": [
    "# Отображение базы данных тренировок"
   ]
  },
  {
   "cell_type": "code",
   "execution_count": 12,
   "id": "c875cb02-9c92-4d2e-83eb-ed3da9be1dcb",
   "metadata": {
    "execution": {
     "iopub.execute_input": "2024-05-04T18:12:32.912873Z",
     "iopub.status.busy": "2024-05-04T18:12:32.912210Z",
     "iopub.status.idle": "2024-05-04T18:12:33.626205Z",
     "shell.execute_reply": "2024-05-04T18:12:33.625339Z",
     "shell.execute_reply.started": "2024-05-04T18:12:32.912827Z"
    },
    "tags": []
   },
   "outputs": [
    {
     "name": "stderr",
     "output_type": "stream",
     "text": [
      "[I 2024-05-04 18:12:33,438] Using an existing study with name 'ID2NN' instead of creating a new one.\n"
     ]
    },
    {
     "name": "stdout",
     "output_type": "stream",
     "text": [
      "Кол-во исследований: 265\n"
     ]
    }
   ],
   "source": [
    "study = optuna.create_study(study_name=\"ID2NN\", storage=\"sqlite:///ID2NN.db\", direction='maximize', load_if_exists=True)\n",
    "dataframe:pandas.DataFrame = study.trials_dataframe()\n",
    "print(f\"Кол-во исследований: {len(study.trials)}\")"
   ]
  },
  {
   "cell_type": "code",
   "execution_count": 13,
   "id": "e3d9cd86-f0fa-42db-a612-bb080b83c89f",
   "metadata": {
    "execution": {
     "iopub.execute_input": "2024-05-04T18:12:33.627796Z",
     "iopub.status.busy": "2024-05-04T18:12:33.627107Z",
     "iopub.status.idle": "2024-05-04T18:12:33.655656Z",
     "shell.execute_reply": "2024-05-04T18:12:33.655006Z",
     "shell.execute_reply.started": "2024-05-04T18:12:33.627764Z"
    }
   },
   "outputs": [
    {
     "data": {
      "text/html": [
       "<div>\n",
       "<style scoped>\n",
       "    .dataframe tbody tr th:only-of-type {\n",
       "        vertical-align: middle;\n",
       "    }\n",
       "\n",
       "    .dataframe tbody tr th {\n",
       "        vertical-align: top;\n",
       "    }\n",
       "\n",
       "    .dataframe thead th {\n",
       "        text-align: right;\n",
       "    }\n",
       "</style>\n",
       "<table border=\"1\" class=\"dataframe\">\n",
       "  <thead>\n",
       "    <tr style=\"text-align: right;\">\n",
       "      <th></th>\n",
       "      <th>number</th>\n",
       "      <th>value</th>\n",
       "      <th>datetime_start</th>\n",
       "      <th>datetime_complete</th>\n",
       "      <th>duration</th>\n",
       "      <th>params_batch size</th>\n",
       "      <th>params_cross entorpy proportion</th>\n",
       "      <th>params_distance</th>\n",
       "      <th>params_learning rate</th>\n",
       "      <th>params_masks amount</th>\n",
       "      <th>params_optimizer type</th>\n",
       "      <th>state</th>\n",
       "    </tr>\n",
       "  </thead>\n",
       "  <tbody>\n",
       "    <tr>\n",
       "      <th>108</th>\n",
       "      <td>108</td>\n",
       "      <td>30.02</td>\n",
       "      <td>2024-05-02 22:18:41.949319</td>\n",
       "      <td>2024-05-02 22:30:25.700272</td>\n",
       "      <td>0 days 00:11:43.750953</td>\n",
       "      <td>36</td>\n",
       "      <td>0.931286</td>\n",
       "      <td>0.080028</td>\n",
       "      <td>0.005589</td>\n",
       "      <td>6</td>\n",
       "      <td>RMSprop</td>\n",
       "      <td>COMPLETE</td>\n",
       "    </tr>\n",
       "    <tr>\n",
       "      <th>109</th>\n",
       "      <td>109</td>\n",
       "      <td>29.42</td>\n",
       "      <td>2024-05-02 22:30:25.719252</td>\n",
       "      <td>2024-05-02 22:42:09.999907</td>\n",
       "      <td>0 days 00:11:44.280655</td>\n",
       "      <td>36</td>\n",
       "      <td>0.992874</td>\n",
       "      <td>0.080766</td>\n",
       "      <td>0.005603</td>\n",
       "      <td>6</td>\n",
       "      <td>RMSprop</td>\n",
       "      <td>COMPLETE</td>\n",
       "    </tr>\n",
       "    <tr>\n",
       "      <th>261</th>\n",
       "      <td>261</td>\n",
       "      <td>29.29</td>\n",
       "      <td>2024-05-04 19:52:31.046571</td>\n",
       "      <td>2024-05-04 20:04:16.509982</td>\n",
       "      <td>0 days 00:11:45.463411</td>\n",
       "      <td>37</td>\n",
       "      <td>0.785131</td>\n",
       "      <td>0.103529</td>\n",
       "      <td>0.003100</td>\n",
       "      <td>5</td>\n",
       "      <td>Adam</td>\n",
       "      <td>COMPLETE</td>\n",
       "    </tr>\n",
       "    <tr>\n",
       "      <th>264</th>\n",
       "      <td>264</td>\n",
       "      <td>29.04</td>\n",
       "      <td>2024-05-04 20:26:50.107605</td>\n",
       "      <td>2024-05-04 20:38:10.500097</td>\n",
       "      <td>0 days 00:11:20.392492</td>\n",
       "      <td>38</td>\n",
       "      <td>0.793974</td>\n",
       "      <td>0.103155</td>\n",
       "      <td>0.004389</td>\n",
       "      <td>5</td>\n",
       "      <td>Adam</td>\n",
       "      <td>COMPLETE</td>\n",
       "    </tr>\n",
       "    <tr>\n",
       "      <th>242</th>\n",
       "      <td>242</td>\n",
       "      <td>29.03</td>\n",
       "      <td>2024-05-04 16:33:44.271063</td>\n",
       "      <td>2024-05-04 16:43:33.993515</td>\n",
       "      <td>0 days 00:09:49.722452</td>\n",
       "      <td>36</td>\n",
       "      <td>0.913746</td>\n",
       "      <td>0.096982</td>\n",
       "      <td>0.002657</td>\n",
       "      <td>5</td>\n",
       "      <td>Adam</td>\n",
       "      <td>COMPLETE</td>\n",
       "    </tr>\n",
       "  </tbody>\n",
       "</table>\n",
       "</div>"
      ],
      "text/plain": [
       "     number  value  ... params_optimizer type     state\n",
       "108     108  30.02  ...               RMSprop  COMPLETE\n",
       "109     109  29.42  ...               RMSprop  COMPLETE\n",
       "261     261  29.29  ...                  Adam  COMPLETE\n",
       "264     264  29.04  ...                  Adam  COMPLETE\n",
       "242     242  29.03  ...                  Adam  COMPLETE\n",
       "\n",
       "[5 rows x 12 columns]"
      ]
     },
     "execution_count": 13,
     "metadata": {},
     "output_type": "execute_result"
    }
   ],
   "source": [
    "dataframe.nlargest(5, 'value')"
   ]
  },
  {
   "cell_type": "code",
   "execution_count": 14,
   "id": "e73f94ef-2f06-4980-87b6-153c70a98a03",
   "metadata": {
    "execution": {
     "iopub.execute_input": "2024-05-04T18:12:33.657240Z",
     "iopub.status.busy": "2024-05-04T18:12:33.656533Z",
     "iopub.status.idle": "2024-05-04T18:12:33.685187Z",
     "shell.execute_reply": "2024-05-04T18:12:33.684503Z",
     "shell.execute_reply.started": "2024-05-04T18:12:33.657204Z"
    }
   },
   "outputs": [
    {
     "data": {
      "text/html": [
       "<div>\n",
       "<style scoped>\n",
       "    .dataframe tbody tr th:only-of-type {\n",
       "        vertical-align: middle;\n",
       "    }\n",
       "\n",
       "    .dataframe tbody tr th {\n",
       "        vertical-align: top;\n",
       "    }\n",
       "\n",
       "    .dataframe thead th {\n",
       "        text-align: right;\n",
       "    }\n",
       "</style>\n",
       "<table border=\"1\" class=\"dataframe\">\n",
       "  <thead>\n",
       "    <tr style=\"text-align: right;\">\n",
       "      <th></th>\n",
       "      <th>number</th>\n",
       "      <th>value</th>\n",
       "      <th>datetime_start</th>\n",
       "      <th>datetime_complete</th>\n",
       "      <th>duration</th>\n",
       "      <th>params_batch size</th>\n",
       "      <th>params_cross entorpy proportion</th>\n",
       "      <th>params_distance</th>\n",
       "      <th>params_learning rate</th>\n",
       "      <th>params_masks amount</th>\n",
       "      <th>params_optimizer type</th>\n",
       "      <th>state</th>\n",
       "    </tr>\n",
       "  </thead>\n",
       "  <tbody>\n",
       "    <tr>\n",
       "      <th>261</th>\n",
       "      <td>261</td>\n",
       "      <td>29.29</td>\n",
       "      <td>2024-05-04 19:52:31.046571</td>\n",
       "      <td>2024-05-04 20:04:16.509982</td>\n",
       "      <td>0 days 00:11:45.463411</td>\n",
       "      <td>37</td>\n",
       "      <td>0.785131</td>\n",
       "      <td>0.103529</td>\n",
       "      <td>0.003100</td>\n",
       "      <td>5</td>\n",
       "      <td>Adam</td>\n",
       "      <td>COMPLETE</td>\n",
       "    </tr>\n",
       "    <tr>\n",
       "      <th>264</th>\n",
       "      <td>264</td>\n",
       "      <td>29.04</td>\n",
       "      <td>2024-05-04 20:26:50.107605</td>\n",
       "      <td>2024-05-04 20:38:10.500097</td>\n",
       "      <td>0 days 00:11:20.392492</td>\n",
       "      <td>38</td>\n",
       "      <td>0.793974</td>\n",
       "      <td>0.103155</td>\n",
       "      <td>0.004389</td>\n",
       "      <td>5</td>\n",
       "      <td>Adam</td>\n",
       "      <td>COMPLETE</td>\n",
       "    </tr>\n",
       "    <tr>\n",
       "      <th>242</th>\n",
       "      <td>242</td>\n",
       "      <td>29.03</td>\n",
       "      <td>2024-05-04 16:33:44.271063</td>\n",
       "      <td>2024-05-04 16:43:33.993515</td>\n",
       "      <td>0 days 00:09:49.722452</td>\n",
       "      <td>36</td>\n",
       "      <td>0.913746</td>\n",
       "      <td>0.096982</td>\n",
       "      <td>0.002657</td>\n",
       "      <td>5</td>\n",
       "      <td>Adam</td>\n",
       "      <td>COMPLETE</td>\n",
       "    </tr>\n",
       "    <tr>\n",
       "      <th>109</th>\n",
       "      <td>109</td>\n",
       "      <td>29.42</td>\n",
       "      <td>2024-05-02 22:30:25.719252</td>\n",
       "      <td>2024-05-02 22:42:09.999907</td>\n",
       "      <td>0 days 00:11:44.280655</td>\n",
       "      <td>36</td>\n",
       "      <td>0.992874</td>\n",
       "      <td>0.080766</td>\n",
       "      <td>0.005603</td>\n",
       "      <td>6</td>\n",
       "      <td>RMSprop</td>\n",
       "      <td>COMPLETE</td>\n",
       "    </tr>\n",
       "    <tr>\n",
       "      <th>108</th>\n",
       "      <td>108</td>\n",
       "      <td>30.02</td>\n",
       "      <td>2024-05-02 22:18:41.949319</td>\n",
       "      <td>2024-05-02 22:30:25.700272</td>\n",
       "      <td>0 days 00:11:43.750953</td>\n",
       "      <td>36</td>\n",
       "      <td>0.931286</td>\n",
       "      <td>0.080028</td>\n",
       "      <td>0.005589</td>\n",
       "      <td>6</td>\n",
       "      <td>RMSprop</td>\n",
       "      <td>COMPLETE</td>\n",
       "    </tr>\n",
       "  </tbody>\n",
       "</table>\n",
       "</div>"
      ],
      "text/plain": [
       "     number  value  ... params_optimizer type     state\n",
       "261     261  29.29  ...                  Adam  COMPLETE\n",
       "264     264  29.04  ...                  Adam  COMPLETE\n",
       "242     242  29.03  ...                  Adam  COMPLETE\n",
       "109     109  29.42  ...               RMSprop  COMPLETE\n",
       "108     108  30.02  ...               RMSprop  COMPLETE\n",
       "\n",
       "[5 rows x 12 columns]"
      ]
     },
     "execution_count": 14,
     "metadata": {},
     "output_type": "execute_result"
    }
   ],
   "source": [
    "dataframe[dataframe['value'] >= 29].nlargest(5, 'params_distance')"
   ]
  },
  {
   "cell_type": "markdown",
   "id": "ec1b022d-3792-4df7-89a0-9343ca365d0f",
   "metadata": {},
   "source": [
    "# Модель №1"
   ]
  },
  {
   "cell_type": "code",
   "execution_count": 15,
   "id": "effc4d0a-6952-42c7-8e28-21cb2a80bea6",
   "metadata": {
    "execution": {
     "iopub.execute_input": "2024-05-04T18:12:33.687212Z",
     "iopub.status.busy": "2024-05-04T18:12:33.686134Z",
     "iopub.status.idle": "2024-05-04T18:12:33.719380Z",
     "shell.execute_reply": "2024-05-04T18:12:33.718694Z",
     "shell.execute_reply.started": "2024-05-04T18:12:33.687177Z"
    }
   },
   "outputs": [
    {
     "data": {
      "text/html": [
       "<div>\n",
       "<style scoped>\n",
       "    .dataframe tbody tr th:only-of-type {\n",
       "        vertical-align: middle;\n",
       "    }\n",
       "\n",
       "    .dataframe tbody tr th {\n",
       "        vertical-align: top;\n",
       "    }\n",
       "\n",
       "    .dataframe thead th {\n",
       "        text-align: right;\n",
       "    }\n",
       "</style>\n",
       "<table border=\"1\" class=\"dataframe\">\n",
       "  <thead>\n",
       "    <tr style=\"text-align: right;\">\n",
       "      <th></th>\n",
       "      <th>number</th>\n",
       "      <th>value</th>\n",
       "      <th>datetime_start</th>\n",
       "      <th>datetime_complete</th>\n",
       "      <th>duration</th>\n",
       "      <th>params_batch size</th>\n",
       "      <th>params_cross entorpy proportion</th>\n",
       "      <th>params_distance</th>\n",
       "      <th>params_learning rate</th>\n",
       "      <th>params_masks amount</th>\n",
       "      <th>params_optimizer type</th>\n",
       "      <th>state</th>\n",
       "    </tr>\n",
       "  </thead>\n",
       "  <tbody>\n",
       "    <tr>\n",
       "      <th>108</th>\n",
       "      <td>108</td>\n",
       "      <td>30.02</td>\n",
       "      <td>2024-05-02 22:18:41.949319</td>\n",
       "      <td>2024-05-02 22:30:25.700272</td>\n",
       "      <td>0 days 00:11:43.750953</td>\n",
       "      <td>36</td>\n",
       "      <td>0.931286</td>\n",
       "      <td>0.080028</td>\n",
       "      <td>0.005589</td>\n",
       "      <td>6</td>\n",
       "      <td>RMSprop</td>\n",
       "      <td>COMPLETE</td>\n",
       "    </tr>\n",
       "  </tbody>\n",
       "</table>\n",
       "</div>"
      ],
      "text/plain": [
       "     number  value  ... params_optimizer type     state\n",
       "108     108  30.02  ...               RMSprop  COMPLETE\n",
       "\n",
       "[1 rows x 12 columns]"
      ]
     },
     "execution_count": 15,
     "metadata": {},
     "output_type": "execute_result"
    }
   ],
   "source": [
    "# Выберем самый лучший вариант 108\n",
    "dataframe[dataframe['number'] == 108]"
   ]
  },
  {
   "cell_type": "markdown",
   "id": "b41b81ee-9f7d-4f32-b717-397919ea0af4",
   "metadata": {},
   "source": [
    "## Утсановка оптимизированных параметров системы"
   ]
  },
  {
   "cell_type": "code",
   "execution_count": 16,
   "id": "9a1f9518-3595-4e52-9be9-c3d0b31117fb",
   "metadata": {
    "execution": {
     "iopub.execute_input": "2024-05-04T18:12:33.721250Z",
     "iopub.status.busy": "2024-05-04T18:12:33.720494Z",
     "iopub.status.idle": "2024-05-04T18:12:33.737289Z",
     "shell.execute_reply": "2024-05-04T18:12:33.736698Z",
     "shell.execute_reply.started": "2024-05-04T18:12:33.721215Z"
    }
   },
   "outputs": [],
   "source": [
    "masks_amount = 6\n",
    "batch_size = 36\n",
    "distance = 0.08\n",
    "learning_rate = 0.005589\n",
    "loss_function_proportion = 0.931286\n",
    "optimizer_type = 'RMSprop'"
   ]
  },
  {
   "cell_type": "code",
   "execution_count": 17,
   "id": "e10b01e9-1385-48c7-a471-4c6938a5f33c",
   "metadata": {
    "execution": {
     "iopub.execute_input": "2024-05-04T18:12:33.739089Z",
     "iopub.status.busy": "2024-05-04T18:12:33.738186Z",
     "iopub.status.idle": "2024-05-04T18:12:35.707639Z",
     "shell.execute_reply": "2024-05-04T18:12:35.706831Z",
     "shell.execute_reply.started": "2024-05-04T18:12:33.739057Z"
    },
    "tags": []
   },
   "outputs": [
    {
     "name": "stdout",
     "output_type": "stream",
     "text": [
      "Инициализированна модель со следующими параметрами:\n",
      "\tДлинна волны:                             500.0 нм\n",
      "\tКоличество вычислительных пикселей:       300\n",
      "\tКоличество пикселей маски:                100\n",
      "\tРазмер оптических элементов:              5.0 мм\n",
      "\tРазмер пикселя маски:                     50.0 мкм\n",
      "\tРасстояние между слоями:                  80.0 мм\n",
      "\tВременная когерентность:                  10.0 нс\n",
      "\tВремя релаксации:                         1.0 мкc\n",
      "\tПространственная когерентность:           50.0 мкм\n",
      "\tКоличество усреднений:                    7\n",
      "\tРазмер детекторов:                        83.333 мкм\n",
      "\tКоличество детекторов:                    24 на 24\n",
      "\tПропорция CE к MSE лосс:                  0.931286\n",
      "\tРазмер батча:                             36\n",
      "\tТип оптимизатора:                         RMSprop\n",
      "\n",
      "Files already downloaded and verified\n",
      "Files already downloaded and verified\n"
     ]
    }
   ],
   "source": [
    "model, dataset, loss_function, optimizer_type, (incoherent, chunker, optical, detectors, electronic) = initialize(\n",
    "    wavelength, N, length, pixels, masks_amount, distance,\n",
    "    spatial_coherence, time_coherence, time_relaxation, mean_samples,\n",
    "    detector_size, detectors_amount,\n",
    "    loss_function_proportion,  batch_size, optimizer_type\n",
    ")"
   ]
  },
  {
   "cell_type": "markdown",
   "id": "9692c4e4-b530-4bae-ade0-19bf8616530c",
   "metadata": {},
   "source": [
    "## Тренировка"
   ]
  },
  {
   "cell_type": "code",
   "execution_count": 18,
   "id": "010f4a0a-7cfd-4113-b5f2-18b19af7ca73",
   "metadata": {
    "execution": {
     "iopub.execute_input": "2024-05-04T18:12:35.709129Z",
     "iopub.status.busy": "2024-05-04T18:12:35.708652Z",
     "iopub.status.idle": "2024-05-04T18:12:35.736227Z",
     "shell.execute_reply": "2024-05-04T18:12:35.735517Z",
     "shell.execute_reply.started": "2024-05-04T18:12:35.709094Z"
    }
   },
   "outputs": [],
   "source": [
    "loss_histories = []\n",
    "cofusion_matrixes = []"
   ]
  },
  {
   "cell_type": "code",
   "execution_count": null,
   "id": "44ad4fd4-4ac1-4950-b608-d3645b29aae0",
   "metadata": {
    "execution": {
     "iopub.execute_input": "2024-05-04T18:12:35.738231Z",
     "iopub.status.busy": "2024-05-04T18:12:35.737239Z"
    },
    "tags": []
   },
   "outputs": [
    {
     "name": "stderr",
     "output_type": "stream",
     "text": [
      "100%|██████████| 278/278 [01:41<00:00,  2.75it/s]\n"
     ]
    },
    {
     "name": "stdout",
     "output_type": "stream",
     "text": [
      "Точность: 10.0%\n"
     ]
    },
    {
     "name": "stderr",
     "output_type": "stream",
     "text": [
      "RLoss: 2.0045414852488435, RPI1000: -0.22099296374655575: 100%|██████████| 1389/1389 [17:38<00:00,  1.31it/s]\n",
      "100%|██████████| 278/278 [01:39<00:00,  2.80it/s]\n"
     ]
    },
    {
     "name": "stdout",
     "output_type": "stream",
     "text": [
      "Точность: 21.65%\n"
     ]
    },
    {
     "name": "stderr",
     "output_type": "stream",
     "text": [
      "RLoss: 1.952499848216772, RPI1000: -0.16558760326646996:   8%|▊         | 105/1389 [01:19<16:19,  1.31it/s] "
     ]
    }
   ],
   "source": [
    "optimizer = optimizer_type(model.parameters(), lr=learning_rate)\n",
    "cofusion_matrixes.append(confusion(model, dataset))\n",
    "print(f\"Точность: {100*numpy.sum(numpy.diagonal(cofusion_matrixes[-1], 0))/numpy.sum(cofusion_matrixes[-1])}%\")\n",
    "for i in range(10):\n",
    "    loss_histories.append(train(model, dataset, optimizer, loss_function))\n",
    "    cofusion_matrixes.append(confusion(model, dataset))\n",
    "    print(f\"Точность: {100*numpy.sum(numpy.diagonal(cofusion_matrixes[-1], 0))/numpy.sum(cofusion_matrixes[-1])}%\")"
   ]
  },
  {
   "cell_type": "code",
   "execution_count": null,
   "id": "4d2caf54-075a-4697-ba0e-c20b439ef046",
   "metadata": {},
   "outputs": [],
   "source": []
  }
 ],
 "metadata": {
  "accelerator": "GPU",
  "colab": {
   "gpuType": "L4",
   "machine_shape": "hm",
   "provenance": []
  },
  "kernelspec": {
   "display_name": "DataSphere Kernel",
   "language": "python",
   "name": "python3"
  },
  "language_info": {
   "codemirror_mode": {
    "name": "ipython",
    "version": 3
   },
   "file_extension": ".py",
   "mimetype": "text/x-python",
   "name": "python",
   "nbconvert_exporter": "python",
   "pygments_lexer": "ipython3",
   "version": "3.12.1"
  },
  "toc-autonumbering": false,
  "toc-showmarkdowntxt": false
 },
 "nbformat": 4,
 "nbformat_minor": 5
}
