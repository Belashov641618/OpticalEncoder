{
 "cells": [
  {
   "cell_type": "markdown",
   "id": "ccc45c47-db3b-4054-9d55-fe9d135dc729",
   "metadata": {
    "id": "ccc45c47-db3b-4054-9d55-fe9d135dc729",
    "jp-MarkdownHeadingCollapsed": true,
    "tags": []
   },
   "source": [
    "# Настройка среды"
   ]
  },
  {
   "cell_type": "code",
   "execution_count": 1,
   "id": "eb08733f-d647-4841-baf1-21705ed7c72e",
   "metadata": {
    "colab": {
     "base_uri": "https://localhost:8080/"
    },
    "id": "eb08733f-d647-4841-baf1-21705ed7c72e",
    "outputId": "68907ff5-6494-4d13-f4d1-796b0d66d334",
    "tags": []
   },
   "outputs": [],
   "source": [
    "import os\n",
    "import sys\n",
    "sys.path.append(os.path.abspath(\"../..\"))"
   ]
  },
  {
   "cell_type": "code",
   "execution_count": 2,
   "id": "pVlSUHYglqtt",
   "metadata": {
    "colab": {
     "base_uri": "https://localhost:8080/"
    },
    "id": "pVlSUHYglqtt",
    "outputId": "aa9a6cea-d479-4fb9-9584-df604178fb5b"
   },
   "outputs": [],
   "source": [
    "# %cd OpticalEncoder\n",
    "# !dir\n",
    "# !git pull"
   ]
  },
  {
   "cell_type": "code",
   "execution_count": 3,
   "id": "198fbffb-6335-4e54-b0d5-94d0109e255d",
   "metadata": {
    "colab": {
     "base_uri": "https://localhost:8080/"
    },
    "id": "198fbffb-6335-4e54-b0d5-94d0109e255d",
    "outputId": "39bd3c64-7529-457c-9293-256e5c758a92",
    "tags": []
   },
   "outputs": [],
   "source": [
    "# %pip install belashovplot\n",
    "# %pip install timm"
   ]
  },
  {
   "cell_type": "markdown",
   "id": "37ff20f3-4e63-47b8-95fc-1aa99e092bce",
   "metadata": {
    "jp-MarkdownHeadingCollapsed": true
   },
   "source": [
    "# Импорты и настройка модулей"
   ]
  },
  {
   "cell_type": "code",
   "execution_count": 5,
   "id": "d1193e17-e375-41a3-8f98-9bea9bfd4d70",
   "metadata": {
    "id": "d1193e17-e375-41a3-8f98-9bea9bfd4d70",
    "tags": []
   },
   "outputs": [],
   "source": [
    "from belashovplot import TiledPlot\n",
    "from utilities import *\n",
    "from utilities.filters import Gaussian, Window\n",
    "from utilities.training import train, confusion\n",
    "from elements.modulators import Lens, PhaseModulator, AmplitudeModulator\n",
    "from elements.propagators import FurrierPropagation, ConvolutionalPropagation\n",
    "from elements.composition import CompositeModel, HybridModel\n",
    "from elements.wrappers import CudaMemoryChunker, Incoherent\n",
    "from elements.detectors import ClassificationDetectors, MatrixDetectors\n",
    "from parameters import FigureWidthHeight, FontLibrary\n",
    "from tqdm import tqdm\n",
    "from math import sin, sqrt\n",
    "from pickle import dump\n",
    "import torch\n",
    "import numpy\n",
    "import timm"
   ]
  },
  {
   "cell_type": "code",
   "execution_count": 6,
   "id": "66a672ad-9c85-4de4-a507-f3362e4e70b1",
   "metadata": {},
   "outputs": [],
   "source": [
    "FontLibrary.Fonts.ColumnDescriptionTop.FontSize = 9\n",
    "FontLibrary.Fonts.ColumnDescriptionBottom.FontSize = 9\n",
    "FontLibrary.Fonts.RowDescriptionLeft.FontSize = 9\n",
    "FontLibrary.Fonts.RowDescriptionRight.FontSize = 9\n",
    "FigureWidthHeight = (16, 16)"
   ]
  },
  {
   "cell_type": "code",
   "execution_count": 7,
   "id": "4a9fa281-9013-4533-9078-55616af24213",
   "metadata": {},
   "outputs": [
    {
     "name": "stdout",
     "output_type": "stream",
     "text": [
      "Используемый девайс: NVIDIA GeForce RTX 3060 Ti\n"
     ]
    }
   ],
   "source": [
    "device = torch.device('cuda' if torch.cuda.is_available() else 'cpu')\n",
    "print('Используемый девайс:', torch.cuda.get_device_name(device) if torch.cuda.is_available() else 'ЦП')"
   ]
  },
  {
   "cell_type": "markdown",
   "id": "b8a780e5-2a92-4ef1-9e8f-a4b9f5b546ef",
   "metadata": {
    "jp-MarkdownHeadingCollapsed": true
   },
   "source": [
    "# Инициализация вспомогательных методов"
   ]
  },
  {
   "cell_type": "markdown",
   "id": "c69944b5-20cb-40a4-a6a1-683706cd8c29",
   "metadata": {
    "jp-MarkdownHeadingCollapsed": true
   },
   "source": [
    "## Комбинированная лосс функция"
   ]
  },
  {
   "cell_type": "code",
   "execution_count": 11,
   "id": "085cb466-1ca7-42f1-b994-d7cae2408970",
   "metadata": {},
   "outputs": [],
   "source": [
    "def combined_loss(cross_entropy_to_mse_proportion:float=1.0):\n",
    "    def loss_function(outputs, targets):\n",
    "        CELoss = torch.nn.functional.cross_entropy(outputs, targets)\n",
    "        MSELoss = torch.nn.functional.mse_loss(torch.nn.functional.softmax(outputs, dim=1), torch.nn.functional.one_hot(targets, num_classes=10).float())\n",
    "        loss = cross_entropy_to_mse_proportion*CELoss + (1.0-cross_entropy_to_mse_proportion)*MSELoss\n",
    "        return loss\n",
    "    return loss_function"
   ]
  },
  {
   "cell_type": "markdown",
   "id": "96b4241c-654f-4ea2-a6d6-dcbd90ab7042",
   "metadata": {
    "jp-MarkdownHeadingCollapsed": true
   },
   "source": [
    "## Электронная моель ResNet"
   ]
  },
  {
   "cell_type": "code",
   "execution_count": 13,
   "id": "8af3af1b-89ad-4e4f-bd6d-366ea0ff94bb",
   "metadata": {},
   "outputs": [],
   "source": [
    "def resnet18(classes:int=10):\n",
    "    return timm.create_model('resnet18', pretrained=False,  in_chans=1, num_classes=classes).to(device)"
   ]
  },
  {
   "cell_type": "markdown",
   "id": "8854a17b-af3d-4331-8279-b91b59cae295",
   "metadata": {
    "jp-MarkdownHeadingCollapsed": true
   },
   "source": [
    "## Инициализация системы по полному набору параметров"
   ]
  },
  {
   "cell_type": "code",
   "execution_count": 35,
   "id": "586131b4-a9e4-4b65-baf3-8bfb332c13cd",
   "metadata": {},
   "outputs": [],
   "source": [
    "def initialize(\n",
    "    wavelength:float, N:int, length:float, pixels:int, masks_amount:int, distance:float,\n",
    "    spatial_coherence:float, time_coherence:float, time_relaxation:float, mean_samples:int,\n",
    "    detector_size:float, detectors_amount:int,\n",
    "    loss_function_proportion:float,  batch_size:int, optimizer_type:str\n",
    "):\n",
    "    print(\"Инициализированна модель со следующими параметрами:\")\n",
    "    print(f\"\\tДлинна волны:                             {engineering(wavelength, 'м')}\")\n",
    "    print(f\"\\tКоличество вычислительных пикселей:       {N}\")\n",
    "    print(f\"\\tКоличество пикселей маски:                {pixels}\")\n",
    "    print(f\"\\tРазмер оптических элементов:              {engineering(length, 'м')}\")\n",
    "    print(f\"\\tРазмер пикселя маски:                     {engineering(length/pixels, 'м')}\")\n",
    "    print(f\"\\tРасстояние между слоями:                  {engineering(distance, 'м')}\")\n",
    "    \n",
    "    print(f\"\\tВременная когерентность:                  {engineering(time_coherence, 'с')}\")\n",
    "    print(f\"\\tВремя релаксации:                         {engineering(time_relaxation, 'c')}\")\n",
    "    print(f\"\\tПространственная когерентность:           {engineering(spatial_coherence, 'м')}\")\n",
    "    print(f\"\\tКоличество усреднений:                    {mean_samples}\")\n",
    "\n",
    "    print(f\"\\tРазмер детекторов:                        {engineering(detector_size, 'м')}\")\n",
    "    print(f\"\\tКоличество детекторов:                    {detectors_amount} на {detectors_amount}\")\n",
    "\n",
    "    print(f\"\\tПропорция CE к MSE лосс:                  {loss_function_proportion}\")\n",
    "    print(f\"\\tРазмер батча:                             {batch_size}\")\n",
    "    print(f\"\\tТип оптимизатора:                         {optimizer_type}\")\n",
    "    print()\n",
    "    \n",
    "    incoherent = Incoherent(spatial_coherence, time_coherence, time_relaxation, mean_samples, N, length).to(device)\n",
    "\n",
    "    spectral_filter = Window(centers=wavelength, sizes=300.0E-9)\n",
    "    detectors_filter = Gaussian((detector_size, detector_size), (0,0))\n",
    "    detectors = MatrixDetectors(N, length, wavelength, detectors_amount, detectors_filter, spectral_filter).to(device)\n",
    "\n",
    "    electronic = resnet18()\n",
    "\n",
    "    propagation = FurrierPropagation(N, length, wavelength, 1.0, 0.0, distance, 0.4)\n",
    "    phase_modulators = [PhaseModulator(N, length, pixels) for i in range(masks_amount)]\n",
    "    amplitude_modulators = [AmplitudeModulator(N, length, pixels) for i in range(masks_amount)]\n",
    "    elements = [phase_modulators[0], amplitude_modulators[0]]\n",
    "    for phase_modulator, amplitude_modulator in zip(phase_modulators[1:], amplitude_modulators[1:]):\n",
    "        elements.append(propagation)\n",
    "        elements.append(phase_modulator)\n",
    "        elements.append(amplitude_modulator)\n",
    "    elements.append(propagation)\n",
    "    chunker = CudaMemoryChunker()\n",
    "    optical = CompositeModel(*elements)\n",
    "    optical.wrap(chunker)\n",
    "    optical.wrap(incoherent)\n",
    "    optical.to(device)\n",
    "    model = HybridModel(optical, detectors, electronic).to(device)\n",
    "\n",
    "    dataset = Dataset('CIFAR10', batch_size, N, N, torch.complex64)\n",
    "    dataset.train\n",
    "    dataset.test\n",
    "    \n",
    "    loss_function = combined_loss(loss_functions_proportion)\n",
    "    optimizer_types_list = {'Adam':torch.optim.Adam, 'SGD':torch.optim.SGD, 'RMSprop':torch.optim.RMSprop, 'Adagrad':torch.optim.Adagrad}\n",
    "    optimizer_type = optimizer_types_list[optimizer_type]\n",
    "\n",
    "    return model, dataset, loss_function, optimizer_type, (incoherent, chunker, optical, detectors, electronic)"
   ]
  },
  {
   "cell_type": "markdown",
   "id": "a777e3a4-bcde-4580-b71d-77e0fce1db5a",
   "metadata": {
    "id": "a777e3a4-bcde-4580-b71d-77e0fce1db5a",
    "jp-MarkdownHeadingCollapsed": true,
    "tags": []
   },
   "source": [
    "# Установка не изменяемых параметров системы"
   ]
  },
  {
   "cell_type": "code",
   "execution_count": 36,
   "id": "d0a396e3-03a4-4310-a955-1275ce11aebd",
   "metadata": {
    "colab": {
     "base_uri": "https://localhost:8080/"
    },
    "id": "d0a396e3-03a4-4310-a955-1275ce11aebd",
    "outputId": "f6d473d3-ed12-4806-b64c-023742be2101",
    "tags": []
   },
   "outputs": [],
   "source": [
    "# Предпочтительные параметры\n",
    "size = 50.0E-6\n",
    "near_N = 300\n",
    "near_length = 5.0E-3\n",
    "wavelength = 500.0E-9\n",
    "detectors_amount = 24\n",
    "detector_size = length / 60\n",
    "\n",
    "# Параметры когерентности\n",
    "spatial_coherence = 50.0E-6\n",
    "time_coherence = 10.0E-9\n",
    "time_relaxation = 1.0E-6\n",
    "mean_samples = 7"
   ]
  },
  {
   "cell_type": "code",
   "execution_count": 37,
   "id": "5fd8878d-4b4e-4db4-81ec-195a0414e82f",
   "metadata": {},
   "outputs": [],
   "source": [
    "# Вычисляемые параметры\n",
    "pixels = upper_integer(near_length/size)\n",
    "length = pixels * size\n",
    "cppp = upper_integer(near_N * size / length)\n",
    "N = int(length / size) * cppp"
   ]
  },
  {
   "cell_type": "markdown",
   "id": "ec1b022d-3792-4df7-89a0-9343ca365d0f",
   "metadata": {},
   "source": [
    "# Модель №1"
   ]
  },
  {
   "cell_type": "markdown",
   "id": "b41b81ee-9f7d-4f32-b717-397919ea0af4",
   "metadata": {},
   "source": [
    "## Утсановка оптимизированных параметров системы"
   ]
  },
  {
   "cell_type": "code",
   "execution_count": 38,
   "id": "9a1f9518-3595-4e52-9be9-c3d0b31117fb",
   "metadata": {},
   "outputs": [],
   "source": [
    "masks_amount = 6\n",
    "batch_size = 36\n",
    "distance = 0.8\n",
    "learning_rate = 1.0E-3\n",
    "loss_function_proportion = 0.7\n",
    "optimizer_type = 'Adam'"
   ]
  },
  {
   "cell_type": "code",
   "execution_count": 39,
   "id": "e10b01e9-1385-48c7-a471-4c6938a5f33c",
   "metadata": {},
   "outputs": [
    {
     "name": "stdout",
     "output_type": "stream",
     "text": [
      "Инициализированна модель со следующими параметрами:\n",
      "\tДлинна волны:                             500.0 нм\n",
      "\tКоличество вычислительных пикселей:       300\n",
      "\tКоличество пикселей маски:                100\n",
      "\tРазмер оптических элементов:              5.0 мм\n",
      "\tРазмер пикселя маски:                     50.0 мкм\n",
      "\tРасстояние между слоями:                  800.0 мм\n",
      "\tВременная когерентность:                  10.0 нс\n",
      "\tВремя релаксации:                         1.0 мкc\n",
      "\tПространственная когерентность:           50.0 мкм\n",
      "\tКоличество усреднений:                    7\n",
      "\tРазмер детекторов:                        83.333 мкм\n",
      "\tКоличество детекторов:                    24 на 24\n",
      "\tПропорция CE к MSE лосс:                  0.7\n",
      "\tРазмер батча:                             36\n",
      "\tТип оптимизатора:                         Adam\n",
      "\n",
      "Files already downloaded and verified\n",
      "Files already downloaded and verified\n"
     ]
    }
   ],
   "source": [
    "model, dataset, loss_function, optimizer_type, (incoherent, chunker, optical, detectors, electronic) = initialize(\n",
    "    wavelength, N, length, pixels, masks_amount, distance,\n",
    "    spatial_coherence, time_coherence, time_relaxation, mean_samples,\n",
    "    detector_size, detectors_amount,\n",
    "    loss_function_proportion,  batch_size, optimizer_type\n",
    ")"
   ]
  },
  {
   "cell_type": "markdown",
   "id": "9692c4e4-b530-4bae-ade0-19bf8616530c",
   "metadata": {},
   "source": [
    "## Тренировка"
   ]
  },
  {
   "cell_type": "code",
   "execution_count": 40,
   "id": "44ad4fd4-4ac1-4950-b608-d3645b29aae0",
   "metadata": {},
   "outputs": [],
   "source": [
    "optimizer = optimizer_type(model.parameters(), lr=learning_rate)\n",
    "for i in range(10):\n",
    "    train(model, dataset, optimizer, loss_function)"
   ]
  },
  {
   "cell_type": "code",
   "execution_count": null,
   "id": "4d2caf54-075a-4697-ba0e-c20b439ef046",
   "metadata": {},
   "outputs": [],
   "source": []
  }
 ],
 "metadata": {
  "accelerator": "GPU",
  "colab": {
   "gpuType": "L4",
   "machine_shape": "hm",
   "provenance": []
  },
  "kernelspec": {
   "display_name": "Python 3 (ipykernel)",
   "language": "python",
   "name": "python3"
  },
  "language_info": {
   "codemirror_mode": {
    "name": "ipython",
    "version": 3
   },
   "file_extension": ".py",
   "mimetype": "text/x-python",
   "name": "python",
   "nbconvert_exporter": "python",
   "pygments_lexer": "ipython3",
   "version": "3.12.1"
  },
  "toc-autonumbering": false,
  "toc-showmarkdowntxt": false
 },
 "nbformat": 4,
 "nbformat_minor": 5
}
