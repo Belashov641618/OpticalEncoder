{
 "cells": [
  {
   "cell_type": "markdown",
   "id": "ccc45c47-db3b-4054-9d55-fe9d135dc729",
   "metadata": {
    "id": "ccc45c47-db3b-4054-9d55-fe9d135dc729",
    "tags": []
   },
   "source": [
    "# Настройка среды"
   ]
  },
  {
   "cell_type": "code",
   "execution_count": 1,
   "id": "eb08733f-d647-4841-baf1-21705ed7c72e",
   "metadata": {
    "colab": {
     "base_uri": "https://localhost:8080/"
    },
    "id": "eb08733f-d647-4841-baf1-21705ed7c72e",
    "outputId": "68907ff5-6494-4d13-f4d1-796b0d66d334",
    "tags": []
   },
   "outputs": [],
   "source": [
    "import os\n",
    "import sys\n",
    "sys.path.append(os.path.abspath(\"../..\"))"
   ]
  },
  {
   "cell_type": "code",
   "execution_count": 2,
   "id": "198fbffb-6335-4e54-b0d5-94d0109e255d",
   "metadata": {
    "colab": {
     "base_uri": "https://localhost:8080/"
    },
    "id": "198fbffb-6335-4e54-b0d5-94d0109e255d",
    "outputId": "39bd3c64-7529-457c-9293-256e5c758a92",
    "tags": []
   },
   "outputs": [
    {
     "name": "stdout",
     "output_type": "stream",
     "text": [
      "Requirement already satisfied: optuna in c:\\users\\uclap\\documents\\coding\\python\\opticalencoder\\.venv\\lib\\site-packages (3.6.1)\n",
      "Requirement already satisfied: alembic>=1.5.0 in c:\\users\\uclap\\documents\\coding\\python\\opticalencoder\\.venv\\lib\\site-packages (from optuna) (1.13.1)\n",
      "Requirement already satisfied: colorlog in c:\\users\\uclap\\documents\\coding\\python\\opticalencoder\\.venv\\lib\\site-packages (from optuna) (6.8.2)\n",
      "Requirement already satisfied: numpy in c:\\users\\uclap\\documents\\coding\\python\\opticalencoder\\.venv\\lib\\site-packages (from optuna) (1.26.3)\n",
      "Requirement already satisfied: packaging>=20.0 in c:\\users\\uclap\\documents\\coding\\python\\opticalencoder\\.venv\\lib\\site-packages (from optuna) (24.0)\n",
      "Requirement already satisfied: sqlalchemy>=1.3.0 in c:\\users\\uclap\\documents\\coding\\python\\opticalencoder\\.venv\\lib\\site-packages (from optuna) (2.0.29)\n",
      "Requirement already satisfied: tqdm in c:\\users\\uclap\\documents\\coding\\python\\opticalencoder\\.venv\\lib\\site-packages (from optuna) (4.66.2)\n",
      "Requirement already satisfied: PyYAML in c:\\users\\uclap\\documents\\coding\\python\\opticalencoder\\.venv\\lib\\site-packages (from optuna) (6.0.1)\n",
      "Requirement already satisfied: Mako in c:\\users\\uclap\\documents\\coding\\python\\opticalencoder\\.venv\\lib\\site-packages (from alembic>=1.5.0->optuna) (1.3.3)\n",
      "Requirement already satisfied: typing-extensions>=4 in c:\\users\\uclap\\documents\\coding\\python\\opticalencoder\\.venv\\lib\\site-packages (from alembic>=1.5.0->optuna) (4.8.0)\n",
      "Requirement already satisfied: greenlet!=0.4.17 in c:\\users\\uclap\\documents\\coding\\python\\opticalencoder\\.venv\\lib\\site-packages (from sqlalchemy>=1.3.0->optuna) (3.0.3)\n",
      "Requirement already satisfied: colorama in c:\\users\\uclap\\documents\\coding\\python\\opticalencoder\\.venv\\lib\\site-packages (from colorlog->optuna) (0.4.6)\n",
      "Requirement already satisfied: MarkupSafe>=0.9.2 in c:\\users\\uclap\\documents\\coding\\python\\opticalencoder\\.venv\\lib\\site-packages (from Mako->alembic>=1.5.0->optuna) (2.1.3)\n",
      "Note: you may need to restart the kernel to use updated packages.\n",
      "Requirement already satisfied: belashovplot in c:\\users\\uclap\\documents\\coding\\python\\opticalencoder\\.venv\\lib\\site-packages (1.0)Note: you may need to restart the kernel to use updated packages.\n",
      "\n",
      "Requirement already satisfied: timm in c:\\users\\uclap\\documents\\coding\\python\\opticalencoder\\.venv\\lib\\site-packages (0.9.16)\n",
      "Requirement already satisfied: torch in c:\\users\\uclap\\documents\\coding\\python\\opticalencoder\\.venv\\lib\\site-packages (from timm) (2.2.2+cu121)\n",
      "Requirement already satisfied: torchvision in c:\\users\\uclap\\documents\\coding\\python\\opticalencoder\\.venv\\lib\\site-packages (from timm) (0.17.2+cu121)\n",
      "Requirement already satisfied: pyyaml in c:\\users\\uclap\\documents\\coding\\python\\opticalencoder\\.venv\\lib\\site-packages (from timm) (6.0.1)\n",
      "Requirement already satisfied: huggingface_hub in c:\\users\\uclap\\documents\\coding\\python\\opticalencoder\\.venv\\lib\\site-packages (from timm) (0.22.2)\n",
      "Requirement already satisfied: safetensors in c:\\users\\uclap\\documents\\coding\\python\\opticalencoder\\.venv\\lib\\site-packages (from timm) (0.4.3)\n",
      "Requirement already satisfied: filelock in c:\\users\\uclap\\documents\\coding\\python\\opticalencoder\\.venv\\lib\\site-packages (from huggingface_hub->timm) (3.9.0)\n",
      "Requirement already satisfied: fsspec>=2023.5.0 in c:\\users\\uclap\\documents\\coding\\python\\opticalencoder\\.venv\\lib\\site-packages (from huggingface_hub->timm) (2024.3.1)\n",
      "Requirement already satisfied: packaging>=20.9 in c:\\users\\uclap\\documents\\coding\\python\\opticalencoder\\.venv\\lib\\site-packages (from huggingface_hub->timm) (24.0)\n",
      "Requirement already satisfied: requests in c:\\users\\uclap\\documents\\coding\\python\\opticalencoder\\.venv\\lib\\site-packages (from huggingface_hub->timm) (2.31.0)\n",
      "Requirement already satisfied: tqdm>=4.42.1 in c:\\users\\uclap\\documents\\coding\\python\\opticalencoder\\.venv\\lib\\site-packages (from huggingface_hub->timm) (4.66.2)\n",
      "Requirement already satisfied: typing-extensions>=3.7.4.3 in c:\\users\\uclap\\documents\\coding\\python\\opticalencoder\\.venv\\lib\\site-packages (from huggingface_hub->timm) (4.8.0)\n",
      "Requirement already satisfied: sympy in c:\\users\\uclap\\documents\\coding\\python\\opticalencoder\\.venv\\lib\\site-packages (from torch->timm) (1.12)\n",
      "Requirement already satisfied: networkx in c:\\users\\uclap\\documents\\coding\\python\\opticalencoder\\.venv\\lib\\site-packages (from torch->timm) (3.2.1)\n",
      "Requirement already satisfied: jinja2 in c:\\users\\uclap\\documents\\coding\\python\\opticalencoder\\.venv\\lib\\site-packages (from torch->timm) (3.1.2)\n",
      "Requirement already satisfied: numpy in c:\\users\\uclap\\documents\\coding\\python\\opticalencoder\\.venv\\lib\\site-packages (from torchvision->timm) (1.26.3)\n",
      "Requirement already satisfied: pillow!=8.3.*,>=5.3.0 in c:\\users\\uclap\\documents\\coding\\python\\opticalencoder\\.venv\\lib\\site-packages (from torchvision->timm) (10.2.0)\n",
      "Requirement already satisfied: colorama in c:\\users\\uclap\\documents\\coding\\python\\opticalencoder\\.venv\\lib\\site-packages (from tqdm>=4.42.1->huggingface_hub->timm) (0.4.6)\n",
      "Requirement already satisfied: MarkupSafe>=2.0 in c:\\users\\uclap\\documents\\coding\\python\\opticalencoder\\.venv\\lib\\site-packages (from jinja2->torch->timm) (2.1.3)\n",
      "Requirement already satisfied: charset-normalizer<4,>=2 in c:\\users\\uclap\\documents\\coding\\python\\opticalencoder\\.venv\\lib\\site-packages (from requests->huggingface_hub->timm) (3.3.2)\n",
      "Requirement already satisfied: idna<4,>=2.5 in c:\\users\\uclap\\documents\\coding\\python\\opticalencoder\\.venv\\lib\\site-packages (from requests->huggingface_hub->timm) (3.7)\n",
      "Requirement already satisfied: urllib3<3,>=1.21.1 in c:\\users\\uclap\\documents\\coding\\python\\opticalencoder\\.venv\\lib\\site-packages (from requests->huggingface_hub->timm) (2.2.1)\n",
      "Requirement already satisfied: certifi>=2017.4.17 in c:\\users\\uclap\\documents\\coding\\python\\opticalencoder\\.venv\\lib\\site-packages (from requests->huggingface_hub->timm) (2024.2.2)\n",
      "Requirement already satisfied: mpmath>=0.19 in c:\\users\\uclap\\documents\\coding\\python\\opticalencoder\\.venv\\lib\\site-packages (from sympy->torch->timm) (1.3.0)\n",
      "Note: you may need to restart the kernel to use updated packages.\n"
     ]
    }
   ],
   "source": [
    "%pip install optuna\n",
    "%pip install belashovplot\n",
    "%pip install timm"
   ]
  },
  {
   "cell_type": "markdown",
   "id": "37ff20f3-4e63-47b8-95fc-1aa99e092bce",
   "metadata": {
    "tags": []
   },
   "source": [
    "# Импорты и настройка модулей"
   ]
  },
  {
   "cell_type": "code",
   "execution_count": 3,
   "id": "d1193e17-e375-41a3-8f98-9bea9bfd4d70",
   "metadata": {
    "id": "d1193e17-e375-41a3-8f98-9bea9bfd4d70",
    "tags": []
   },
   "outputs": [
    {
     "name": "stderr",
     "output_type": "stream",
     "text": [
      "C:\\Users\\uclap\\Documents\\Coding\\Python\\OpticalEncoder\\.venv\\Lib\\site-packages\\tqdm\\auto.py:21: TqdmWarning: IProgress not found. Please update jupyter and ipywidgets. See https://ipywidgets.readthedocs.io/en/stable/user_install.html\n",
      "  from .autonotebook import tqdm as notebook_tqdm\n"
     ]
    }
   ],
   "source": [
    "from belashovplot import TiledPlot\n",
    "from utilities import *\n",
    "from utilities.filters import Gaussian, Window\n",
    "from utilities.training import train, confusion\n",
    "from elements.modulators import Lens, PhaseModulator, AmplitudeModulator\n",
    "from elements.propagators import FurrierPropagation, ConvolutionalPropagation\n",
    "from elements.composition import CompositeModel, HybridModel\n",
    "from elements.wrappers import CudaMemoryChunker, Incoherent\n",
    "from elements.detectors import ClassificationDetectors, MatrixDetectors\n",
    "from parameters import FigureWidthHeight, FontLibrary\n",
    "from tqdm import tqdm\n",
    "from math import sin, sqrt\n",
    "from pickle import dump\n",
    "import torch\n",
    "import numpy\n",
    "import timm\n",
    "import optuna\n",
    "import pandas"
   ]
  },
  {
   "cell_type": "code",
   "execution_count": 4,
   "id": "66a672ad-9c85-4de4-a507-f3362e4e70b1",
   "metadata": {},
   "outputs": [],
   "source": [
    "FontLibrary.Fonts.ColumnDescriptionTop.FontSize = 9\n",
    "FontLibrary.Fonts.ColumnDescriptionBottom.FontSize = 9\n",
    "FontLibrary.Fonts.RowDescriptionLeft.FontSize = 9\n",
    "FontLibrary.Fonts.RowDescriptionRight.FontSize = 9\n",
    "FigureWidthHeight = (16, 16)"
   ]
  },
  {
   "cell_type": "code",
   "execution_count": 5,
   "id": "4a9fa281-9013-4533-9078-55616af24213",
   "metadata": {},
   "outputs": [
    {
     "name": "stdout",
     "output_type": "stream",
     "text": [
      "Используемый девайс: NVIDIA GeForce RTX 3060 Ti\n"
     ]
    }
   ],
   "source": [
    "device = torch.device('cuda' if torch.cuda.is_available() else 'cpu')\n",
    "print('Используемый девайс:', torch.cuda.get_device_name(device) if torch.cuda.is_available() else 'ЦП')"
   ]
  },
  {
   "cell_type": "markdown",
   "id": "b8a780e5-2a92-4ef1-9e8f-a4b9f5b546ef",
   "metadata": {
    "tags": []
   },
   "source": [
    "# Инициализация вспомогательных методов"
   ]
  },
  {
   "cell_type": "markdown",
   "id": "c69944b5-20cb-40a4-a6a1-683706cd8c29",
   "metadata": {
    "jp-MarkdownHeadingCollapsed": true,
    "tags": []
   },
   "source": [
    "## Комбинированная лосс функция"
   ]
  },
  {
   "cell_type": "code",
   "execution_count": 6,
   "id": "085cb466-1ca7-42f1-b994-d7cae2408970",
   "metadata": {},
   "outputs": [],
   "source": [
    "def combined_loss(cross_entropy_to_mse_proportion:float=1.0):\n",
    "    def loss_function(outputs, targets):\n",
    "        CELoss = torch.nn.functional.cross_entropy(outputs, targets)\n",
    "        MSELoss = torch.nn.functional.mse_loss(torch.nn.functional.softmax(outputs, dim=1), torch.nn.functional.one_hot(targets, num_classes=10).float())\n",
    "        loss = cross_entropy_to_mse_proportion*CELoss + (1.0-cross_entropy_to_mse_proportion)*MSELoss\n",
    "        return loss\n",
    "    return loss_function"
   ]
  },
  {
   "cell_type": "markdown",
   "id": "96b4241c-654f-4ea2-a6d6-dcbd90ab7042",
   "metadata": {
    "tags": []
   },
   "source": [
    "## Электронная моель ResNet"
   ]
  },
  {
   "cell_type": "code",
   "execution_count": 7,
   "id": "8af3af1b-89ad-4e4f-bd6d-366ea0ff94bb",
   "metadata": {},
   "outputs": [],
   "source": [
    "def resnet18(classes:int=10):\n",
    "    return timm.create_model('resnet18', pretrained=True,  in_chans=1, num_classes=classes).to(device)"
   ]
  },
  {
   "cell_type": "markdown",
   "id": "8854a17b-af3d-4331-8279-b91b59cae295",
   "metadata": {},
   "source": [
    "## Инициализация системы по полному набору параметров"
   ]
  },
  {
   "cell_type": "code",
   "execution_count": 8,
   "id": "586131b4-a9e4-4b65-baf3-8bfb332c13cd",
   "metadata": {
    "tags": []
   },
   "outputs": [],
   "source": [
    "def initialize(\n",
    "    wavelength:float, N:int, length:float, pixels:int, masks_amount:int, distance:float,\n",
    "    spatial_coherence:float, time_coherence:float, time_relaxation:float, mean_samples:int,\n",
    "    detector_size:float, detectors_amount:int,\n",
    "    loss_function_proportion:float,  batch_size:int, optimizer_type:str\n",
    "):\n",
    "    print(\"Инициализированна модель со следующими параметрами:\")\n",
    "    print(f\"\\tДлинна волны:                             {engineering(wavelength, 'м')}\")\n",
    "    print(f\"\\tКоличество вычислительных пикселей:       {N}\")\n",
    "    print(f\"\\tКоличество пикселей маски:                {pixels}\")\n",
    "    print(f\"\\tРазмер оптических элементов:              {engineering(length, 'м')}\")\n",
    "    print(f\"\\tРазмер пикселя маски:                     {engineering(length/pixels, 'м')}\")\n",
    "    print(f\"\\tРасстояние между слоями:                  {engineering(distance, 'м')}\")\n",
    "    \n",
    "    print(f\"\\tВременная когерентность:                  {engineering(time_coherence, 'с')}\")\n",
    "    print(f\"\\tВремя релаксации:                         {engineering(time_relaxation, 'c')}\")\n",
    "    print(f\"\\tПространственная когерентность:           {engineering(spatial_coherence, 'м')}\")\n",
    "    print(f\"\\tКоличество усреднений:                    {mean_samples}\")\n",
    "\n",
    "    print(f\"\\tРазмер детекторов:                        {engineering(detector_size, 'м')}\")\n",
    "    print(f\"\\tКоличество детекторов:                    {detectors_amount} на {detectors_amount}\")\n",
    "\n",
    "    print(f\"\\tПропорция CE к MSE лосс:                  {loss_function_proportion}\")\n",
    "    print(f\"\\tРазмер батча:                             {batch_size}\")\n",
    "    print(f\"\\tТип оптимизатора:                         {optimizer_type}\")\n",
    "    print()\n",
    "    \n",
    "    incoherent = Incoherent(spatial_coherence, time_coherence, time_relaxation, mean_samples, N, length).to(device)\n",
    "\n",
    "    spectral_filter = Window(centers=wavelength, sizes=300.0E-9)\n",
    "    detectors_filter = Gaussian((detector_size, detector_size), (0,0))\n",
    "    detectors = MatrixDetectors(N, length, wavelength, detectors_amount, detectors_filter, spectral_filter).to(device)\n",
    "\n",
    "    electronic = resnet18()\n",
    "\n",
    "    propagation = FurrierPropagation(N, length, wavelength, 1.0, 0.0, distance, 0.4)\n",
    "    phase_modulators = [PhaseModulator(N, length, pixels) for i in range(masks_amount)]\n",
    "    amplitude_modulators = [AmplitudeModulator(N, length, pixels) for i in range(masks_amount)]\n",
    "    elements = [phase_modulators[0], amplitude_modulators[0]]\n",
    "    for phase_modulator, amplitude_modulator in zip(phase_modulators[1:], amplitude_modulators[1:]):\n",
    "        elements.append(propagation)\n",
    "        elements.append(phase_modulator)\n",
    "        elements.append(amplitude_modulator)\n",
    "    elements.append(propagation)\n",
    "    chunker = CudaMemoryChunker(sub_chunks=mean_samples)\n",
    "    optical = CompositeModel(*elements)\n",
    "    optical.wrap(chunker)\n",
    "    optical.wrap(incoherent)\n",
    "    optical.to(device)\n",
    "    model = HybridModel(optical, detectors, electronic).to(device)\n",
    "\n",
    "    dataset = Dataset('CIFAR10', batch_size, N, N, torch.complex64)\n",
    "    dataset.train\n",
    "    dataset.test\n",
    "    \n",
    "    loss_function = combined_loss(loss_function_proportion)\n",
    "    optimizer_types_list = {'Adam':torch.optim.Adam, 'SGD':torch.optim.SGD, 'RMSprop':torch.optim.RMSprop, 'Adagrad':torch.optim.Adagrad}\n",
    "    optimizer_type = optimizer_types_list[optimizer_type]\n",
    "\n",
    "    return model, dataset, loss_function, optimizer_type, (incoherent, chunker, optical, detectors, electronic)"
   ]
  },
  {
   "cell_type": "markdown",
   "id": "a777e3a4-bcde-4580-b71d-77e0fce1db5a",
   "metadata": {
    "id": "a777e3a4-bcde-4580-b71d-77e0fce1db5a",
    "jp-MarkdownHeadingCollapsed": true,
    "tags": []
   },
   "source": [
    "# Установка не изменяемых параметров системы"
   ]
  },
  {
   "cell_type": "code",
   "execution_count": 9,
   "id": "d0a396e3-03a4-4310-a955-1275ce11aebd",
   "metadata": {
    "colab": {
     "base_uri": "https://localhost:8080/"
    },
    "id": "d0a396e3-03a4-4310-a955-1275ce11aebd",
    "outputId": "f6d473d3-ed12-4806-b64c-023742be2101",
    "tags": []
   },
   "outputs": [],
   "source": [
    "# Предпочтительные параметры\n",
    "size = 50.0E-6\n",
    "near_N = 300\n",
    "near_length = 5.0E-3\n",
    "wavelength = 500.0E-9\n",
    "detectors_amount = 24\n",
    "\n",
    "# Параметры когерентности\n",
    "spatial_coherence = 50.0E-6\n",
    "time_coherence = 10.0E-9\n",
    "time_relaxation = 1.0E-6\n",
    "mean_samples = 7"
   ]
  },
  {
   "cell_type": "code",
   "execution_count": 10,
   "id": "5fd8878d-4b4e-4db4-81ec-195a0414e82f",
   "metadata": {
    "tags": []
   },
   "outputs": [],
   "source": [
    "# Вычисляемые параметры\n",
    "pixels = upper_integer(near_length/size)\n",
    "length = pixels * size\n",
    "cppp = upper_integer(near_N * size / length)\n",
    "N = int(length / size) * cppp\n",
    "detector_size = length / 60"
   ]
  },
  {
   "cell_type": "markdown",
   "id": "8e66db38-721b-4cea-834c-41aa587ca64e",
   "metadata": {
    "tags": []
   },
   "source": [
    "# Отображение базы данных тренировок"
   ]
  },
  {
   "cell_type": "code",
   "execution_count": 11,
   "id": "c875cb02-9c92-4d2e-83eb-ed3da9be1dcb",
   "metadata": {
    "tags": []
   },
   "outputs": [
    {
     "name": "stderr",
     "output_type": "stream",
     "text": [
      "[I 2024-05-05 03:31:37,521] Using an existing study with name 'ID2NN' instead of creating a new one.\n"
     ]
    },
    {
     "name": "stdout",
     "output_type": "stream",
     "text": [
      "Кол-во исследований: 275\n"
     ]
    }
   ],
   "source": [
    "study = optuna.create_study(study_name=\"ID2NN\", storage=\"sqlite:///ID2NN.db\", direction='maximize', load_if_exists=True)\n",
    "dataframe:pandas.DataFrame = study.trials_dataframe()\n",
    "print(f\"Кол-во исследований: {len(study.trials)}\")"
   ]
  },
  {
   "cell_type": "code",
   "execution_count": 28,
   "id": "e3d9cd86-f0fa-42db-a612-bb080b83c89f",
   "metadata": {},
   "outputs": [
    {
     "data": {
      "text/html": [
       "<div>\n",
       "<style scoped>\n",
       "    .dataframe tbody tr th:only-of-type {\n",
       "        vertical-align: middle;\n",
       "    }\n",
       "\n",
       "    .dataframe tbody tr th {\n",
       "        vertical-align: top;\n",
       "    }\n",
       "\n",
       "    .dataframe thead th {\n",
       "        text-align: right;\n",
       "    }\n",
       "</style>\n",
       "<table border=\"1\" class=\"dataframe\">\n",
       "  <thead>\n",
       "    <tr style=\"text-align: right;\">\n",
       "      <th></th>\n",
       "      <th>number</th>\n",
       "      <th>value</th>\n",
       "      <th>datetime_start</th>\n",
       "      <th>datetime_complete</th>\n",
       "      <th>duration</th>\n",
       "      <th>params_batch size</th>\n",
       "      <th>params_cross entorpy proportion</th>\n",
       "      <th>params_distance</th>\n",
       "      <th>params_learning rate</th>\n",
       "      <th>params_masks amount</th>\n",
       "      <th>params_optimizer type</th>\n",
       "      <th>state</th>\n",
       "    </tr>\n",
       "  </thead>\n",
       "  <tbody>\n",
       "    <tr>\n",
       "      <th>108</th>\n",
       "      <td>108</td>\n",
       "      <td>30.02</td>\n",
       "      <td>2024-05-02 22:18:41.949319</td>\n",
       "      <td>2024-05-02 22:30:25.700272</td>\n",
       "      <td>0 days 00:11:43.750953</td>\n",
       "      <td>36</td>\n",
       "      <td>0.931286</td>\n",
       "      <td>0.080028</td>\n",
       "      <td>0.005589</td>\n",
       "      <td>6</td>\n",
       "      <td>RMSprop</td>\n",
       "      <td>COMPLETE</td>\n",
       "    </tr>\n",
       "    <tr>\n",
       "      <th>268</th>\n",
       "      <td>268</td>\n",
       "      <td>30.00</td>\n",
       "      <td>2024-05-04 21:01:40.271930</td>\n",
       "      <td>2024-05-04 21:13:24.276497</td>\n",
       "      <td>0 days 00:11:44.004567</td>\n",
       "      <td>38</td>\n",
       "      <td>0.829635</td>\n",
       "      <td>0.102949</td>\n",
       "      <td>0.004682</td>\n",
       "      <td>5</td>\n",
       "      <td>Adam</td>\n",
       "      <td>COMPLETE</td>\n",
       "    </tr>\n",
       "    <tr>\n",
       "      <th>273</th>\n",
       "      <td>273</td>\n",
       "      <td>29.81</td>\n",
       "      <td>2024-05-04 22:01:08.745629</td>\n",
       "      <td>2024-05-04 22:13:11.440205</td>\n",
       "      <td>0 days 00:12:02.694576</td>\n",
       "      <td>38</td>\n",
       "      <td>0.797449</td>\n",
       "      <td>0.111228</td>\n",
       "      <td>0.004454</td>\n",
       "      <td>5</td>\n",
       "      <td>Adam</td>\n",
       "      <td>COMPLETE</td>\n",
       "    </tr>\n",
       "    <tr>\n",
       "      <th>267</th>\n",
       "      <td>267</td>\n",
       "      <td>29.49</td>\n",
       "      <td>2024-05-04 20:49:53.941394</td>\n",
       "      <td>2024-05-04 21:01:40.242940</td>\n",
       "      <td>0 days 00:11:46.301546</td>\n",
       "      <td>38</td>\n",
       "      <td>0.798459</td>\n",
       "      <td>0.103915</td>\n",
       "      <td>0.004568</td>\n",
       "      <td>5</td>\n",
       "      <td>Adam</td>\n",
       "      <td>COMPLETE</td>\n",
       "    </tr>\n",
       "    <tr>\n",
       "      <th>272</th>\n",
       "      <td>272</td>\n",
       "      <td>29.44</td>\n",
       "      <td>2024-05-04 21:49:27.500663</td>\n",
       "      <td>2024-05-04 22:01:08.706298</td>\n",
       "      <td>0 days 00:11:41.205635</td>\n",
       "      <td>38</td>\n",
       "      <td>0.789457</td>\n",
       "      <td>0.112727</td>\n",
       "      <td>0.004565</td>\n",
       "      <td>5</td>\n",
       "      <td>Adam</td>\n",
       "      <td>COMPLETE</td>\n",
       "    </tr>\n",
       "    <tr>\n",
       "      <th>109</th>\n",
       "      <td>109</td>\n",
       "      <td>29.42</td>\n",
       "      <td>2024-05-02 22:30:25.719252</td>\n",
       "      <td>2024-05-02 22:42:09.999907</td>\n",
       "      <td>0 days 00:11:44.280655</td>\n",
       "      <td>36</td>\n",
       "      <td>0.992874</td>\n",
       "      <td>0.080766</td>\n",
       "      <td>0.005603</td>\n",
       "      <td>6</td>\n",
       "      <td>RMSprop</td>\n",
       "      <td>COMPLETE</td>\n",
       "    </tr>\n",
       "    <tr>\n",
       "      <th>262</th>\n",
       "      <td>262</td>\n",
       "      <td>29.29</td>\n",
       "      <td>2024-05-04 19:52:31.046571</td>\n",
       "      <td>2024-05-04 20:04:16.509982</td>\n",
       "      <td>0 days 00:11:45.463411</td>\n",
       "      <td>37</td>\n",
       "      <td>0.785131</td>\n",
       "      <td>0.103529</td>\n",
       "      <td>0.003100</td>\n",
       "      <td>5</td>\n",
       "      <td>Adam</td>\n",
       "      <td>COMPLETE</td>\n",
       "    </tr>\n",
       "    <tr>\n",
       "      <th>265</th>\n",
       "      <td>265</td>\n",
       "      <td>29.04</td>\n",
       "      <td>2024-05-04 20:26:50.107605</td>\n",
       "      <td>2024-05-04 20:38:10.500097</td>\n",
       "      <td>0 days 00:11:20.392492</td>\n",
       "      <td>38</td>\n",
       "      <td>0.793974</td>\n",
       "      <td>0.103155</td>\n",
       "      <td>0.004389</td>\n",
       "      <td>5</td>\n",
       "      <td>Adam</td>\n",
       "      <td>COMPLETE</td>\n",
       "    </tr>\n",
       "    <tr>\n",
       "      <th>243</th>\n",
       "      <td>243</td>\n",
       "      <td>29.03</td>\n",
       "      <td>2024-05-04 16:33:44.271063</td>\n",
       "      <td>2024-05-04 16:43:33.993515</td>\n",
       "      <td>0 days 00:09:49.722452</td>\n",
       "      <td>36</td>\n",
       "      <td>0.913746</td>\n",
       "      <td>0.096982</td>\n",
       "      <td>0.002657</td>\n",
       "      <td>5</td>\n",
       "      <td>Adam</td>\n",
       "      <td>COMPLETE</td>\n",
       "    </tr>\n",
       "    <tr>\n",
       "      <th>261</th>\n",
       "      <td>261</td>\n",
       "      <td>28.86</td>\n",
       "      <td>2024-05-04 19:41:01.919909</td>\n",
       "      <td>2024-05-04 19:52:31.020580</td>\n",
       "      <td>0 days 00:11:29.100671</td>\n",
       "      <td>37</td>\n",
       "      <td>0.839044</td>\n",
       "      <td>0.104015</td>\n",
       "      <td>0.003080</td>\n",
       "      <td>5</td>\n",
       "      <td>Adam</td>\n",
       "      <td>COMPLETE</td>\n",
       "    </tr>\n",
       "  </tbody>\n",
       "</table>\n",
       "</div>"
      ],
      "text/plain": [
       "     number  value             datetime_start          datetime_complete  \\\n",
       "108     108  30.02 2024-05-02 22:18:41.949319 2024-05-02 22:30:25.700272   \n",
       "268     268  30.00 2024-05-04 21:01:40.271930 2024-05-04 21:13:24.276497   \n",
       "273     273  29.81 2024-05-04 22:01:08.745629 2024-05-04 22:13:11.440205   \n",
       "267     267  29.49 2024-05-04 20:49:53.941394 2024-05-04 21:01:40.242940   \n",
       "272     272  29.44 2024-05-04 21:49:27.500663 2024-05-04 22:01:08.706298   \n",
       "109     109  29.42 2024-05-02 22:30:25.719252 2024-05-02 22:42:09.999907   \n",
       "262     262  29.29 2024-05-04 19:52:31.046571 2024-05-04 20:04:16.509982   \n",
       "265     265  29.04 2024-05-04 20:26:50.107605 2024-05-04 20:38:10.500097   \n",
       "243     243  29.03 2024-05-04 16:33:44.271063 2024-05-04 16:43:33.993515   \n",
       "261     261  28.86 2024-05-04 19:41:01.919909 2024-05-04 19:52:31.020580   \n",
       "\n",
       "                  duration  params_batch size  \\\n",
       "108 0 days 00:11:43.750953                 36   \n",
       "268 0 days 00:11:44.004567                 38   \n",
       "273 0 days 00:12:02.694576                 38   \n",
       "267 0 days 00:11:46.301546                 38   \n",
       "272 0 days 00:11:41.205635                 38   \n",
       "109 0 days 00:11:44.280655                 36   \n",
       "262 0 days 00:11:45.463411                 37   \n",
       "265 0 days 00:11:20.392492                 38   \n",
       "243 0 days 00:09:49.722452                 36   \n",
       "261 0 days 00:11:29.100671                 37   \n",
       "\n",
       "     params_cross entorpy proportion  params_distance  params_learning rate  \\\n",
       "108                         0.931286         0.080028              0.005589   \n",
       "268                         0.829635         0.102949              0.004682   \n",
       "273                         0.797449         0.111228              0.004454   \n",
       "267                         0.798459         0.103915              0.004568   \n",
       "272                         0.789457         0.112727              0.004565   \n",
       "109                         0.992874         0.080766              0.005603   \n",
       "262                         0.785131         0.103529              0.003100   \n",
       "265                         0.793974         0.103155              0.004389   \n",
       "243                         0.913746         0.096982              0.002657   \n",
       "261                         0.839044         0.104015              0.003080   \n",
       "\n",
       "     params_masks amount params_optimizer type     state  \n",
       "108                    6               RMSprop  COMPLETE  \n",
       "268                    5                  Adam  COMPLETE  \n",
       "273                    5                  Adam  COMPLETE  \n",
       "267                    5                  Adam  COMPLETE  \n",
       "272                    5                  Adam  COMPLETE  \n",
       "109                    6               RMSprop  COMPLETE  \n",
       "262                    5                  Adam  COMPLETE  \n",
       "265                    5                  Adam  COMPLETE  \n",
       "243                    5                  Adam  COMPLETE  \n",
       "261                    5                  Adam  COMPLETE  "
      ]
     },
     "execution_count": 28,
     "metadata": {},
     "output_type": "execute_result"
    }
   ],
   "source": [
    "dataframe.nlargest(10, 'value')"
   ]
  },
  {
   "cell_type": "code",
   "execution_count": 26,
   "id": "e73f94ef-2f06-4980-87b6-153c70a98a03",
   "metadata": {},
   "outputs": [
    {
     "data": {
      "text/html": [
       "<div>\n",
       "<style scoped>\n",
       "    .dataframe tbody tr th:only-of-type {\n",
       "        vertical-align: middle;\n",
       "    }\n",
       "\n",
       "    .dataframe tbody tr th {\n",
       "        vertical-align: top;\n",
       "    }\n",
       "\n",
       "    .dataframe thead th {\n",
       "        text-align: right;\n",
       "    }\n",
       "</style>\n",
       "<table border=\"1\" class=\"dataframe\">\n",
       "  <thead>\n",
       "    <tr style=\"text-align: right;\">\n",
       "      <th></th>\n",
       "      <th>number</th>\n",
       "      <th>value</th>\n",
       "      <th>datetime_start</th>\n",
       "      <th>datetime_complete</th>\n",
       "      <th>duration</th>\n",
       "      <th>params_batch size</th>\n",
       "      <th>params_cross entorpy proportion</th>\n",
       "      <th>params_distance</th>\n",
       "      <th>params_learning rate</th>\n",
       "      <th>params_masks amount</th>\n",
       "      <th>params_optimizer type</th>\n",
       "      <th>state</th>\n",
       "    </tr>\n",
       "  </thead>\n",
       "  <tbody>\n",
       "    <tr>\n",
       "      <th>272</th>\n",
       "      <td>272</td>\n",
       "      <td>29.44</td>\n",
       "      <td>2024-05-04 21:49:27.500663</td>\n",
       "      <td>2024-05-04 22:01:08.706298</td>\n",
       "      <td>0 days 00:11:41.205635</td>\n",
       "      <td>38</td>\n",
       "      <td>0.789457</td>\n",
       "      <td>0.112727</td>\n",
       "      <td>0.004565</td>\n",
       "      <td>5</td>\n",
       "      <td>Adam</td>\n",
       "      <td>COMPLETE</td>\n",
       "    </tr>\n",
       "    <tr>\n",
       "      <th>273</th>\n",
       "      <td>273</td>\n",
       "      <td>29.81</td>\n",
       "      <td>2024-05-04 22:01:08.745629</td>\n",
       "      <td>2024-05-04 22:13:11.440205</td>\n",
       "      <td>0 days 00:12:02.694576</td>\n",
       "      <td>38</td>\n",
       "      <td>0.797449</td>\n",
       "      <td>0.111228</td>\n",
       "      <td>0.004454</td>\n",
       "      <td>5</td>\n",
       "      <td>Adam</td>\n",
       "      <td>COMPLETE</td>\n",
       "    </tr>\n",
       "    <tr>\n",
       "      <th>267</th>\n",
       "      <td>267</td>\n",
       "      <td>29.49</td>\n",
       "      <td>2024-05-04 20:49:53.941394</td>\n",
       "      <td>2024-05-04 21:01:40.242940</td>\n",
       "      <td>0 days 00:11:46.301546</td>\n",
       "      <td>38</td>\n",
       "      <td>0.798459</td>\n",
       "      <td>0.103915</td>\n",
       "      <td>0.004568</td>\n",
       "      <td>5</td>\n",
       "      <td>Adam</td>\n",
       "      <td>COMPLETE</td>\n",
       "    </tr>\n",
       "    <tr>\n",
       "      <th>262</th>\n",
       "      <td>262</td>\n",
       "      <td>29.29</td>\n",
       "      <td>2024-05-04 19:52:31.046571</td>\n",
       "      <td>2024-05-04 20:04:16.509982</td>\n",
       "      <td>0 days 00:11:45.463411</td>\n",
       "      <td>37</td>\n",
       "      <td>0.785131</td>\n",
       "      <td>0.103529</td>\n",
       "      <td>0.003100</td>\n",
       "      <td>5</td>\n",
       "      <td>Adam</td>\n",
       "      <td>COMPLETE</td>\n",
       "    </tr>\n",
       "    <tr>\n",
       "      <th>265</th>\n",
       "      <td>265</td>\n",
       "      <td>29.04</td>\n",
       "      <td>2024-05-04 20:26:50.107605</td>\n",
       "      <td>2024-05-04 20:38:10.500097</td>\n",
       "      <td>0 days 00:11:20.392492</td>\n",
       "      <td>38</td>\n",
       "      <td>0.793974</td>\n",
       "      <td>0.103155</td>\n",
       "      <td>0.004389</td>\n",
       "      <td>5</td>\n",
       "      <td>Adam</td>\n",
       "      <td>COMPLETE</td>\n",
       "    </tr>\n",
       "    <tr>\n",
       "      <th>268</th>\n",
       "      <td>268</td>\n",
       "      <td>30.00</td>\n",
       "      <td>2024-05-04 21:01:40.271930</td>\n",
       "      <td>2024-05-04 21:13:24.276497</td>\n",
       "      <td>0 days 00:11:44.004567</td>\n",
       "      <td>38</td>\n",
       "      <td>0.829635</td>\n",
       "      <td>0.102949</td>\n",
       "      <td>0.004682</td>\n",
       "      <td>5</td>\n",
       "      <td>Adam</td>\n",
       "      <td>COMPLETE</td>\n",
       "    </tr>\n",
       "    <tr>\n",
       "      <th>243</th>\n",
       "      <td>243</td>\n",
       "      <td>29.03</td>\n",
       "      <td>2024-05-04 16:33:44.271063</td>\n",
       "      <td>2024-05-04 16:43:33.993515</td>\n",
       "      <td>0 days 00:09:49.722452</td>\n",
       "      <td>36</td>\n",
       "      <td>0.913746</td>\n",
       "      <td>0.096982</td>\n",
       "      <td>0.002657</td>\n",
       "      <td>5</td>\n",
       "      <td>Adam</td>\n",
       "      <td>COMPLETE</td>\n",
       "    </tr>\n",
       "    <tr>\n",
       "      <th>109</th>\n",
       "      <td>109</td>\n",
       "      <td>29.42</td>\n",
       "      <td>2024-05-02 22:30:25.719252</td>\n",
       "      <td>2024-05-02 22:42:09.999907</td>\n",
       "      <td>0 days 00:11:44.280655</td>\n",
       "      <td>36</td>\n",
       "      <td>0.992874</td>\n",
       "      <td>0.080766</td>\n",
       "      <td>0.005603</td>\n",
       "      <td>6</td>\n",
       "      <td>RMSprop</td>\n",
       "      <td>COMPLETE</td>\n",
       "    </tr>\n",
       "    <tr>\n",
       "      <th>108</th>\n",
       "      <td>108</td>\n",
       "      <td>30.02</td>\n",
       "      <td>2024-05-02 22:18:41.949319</td>\n",
       "      <td>2024-05-02 22:30:25.700272</td>\n",
       "      <td>0 days 00:11:43.750953</td>\n",
       "      <td>36</td>\n",
       "      <td>0.931286</td>\n",
       "      <td>0.080028</td>\n",
       "      <td>0.005589</td>\n",
       "      <td>6</td>\n",
       "      <td>RMSprop</td>\n",
       "      <td>COMPLETE</td>\n",
       "    </tr>\n",
       "  </tbody>\n",
       "</table>\n",
       "</div>"
      ],
      "text/plain": [
       "     number  value             datetime_start          datetime_complete  \\\n",
       "272     272  29.44 2024-05-04 21:49:27.500663 2024-05-04 22:01:08.706298   \n",
       "273     273  29.81 2024-05-04 22:01:08.745629 2024-05-04 22:13:11.440205   \n",
       "267     267  29.49 2024-05-04 20:49:53.941394 2024-05-04 21:01:40.242940   \n",
       "262     262  29.29 2024-05-04 19:52:31.046571 2024-05-04 20:04:16.509982   \n",
       "265     265  29.04 2024-05-04 20:26:50.107605 2024-05-04 20:38:10.500097   \n",
       "268     268  30.00 2024-05-04 21:01:40.271930 2024-05-04 21:13:24.276497   \n",
       "243     243  29.03 2024-05-04 16:33:44.271063 2024-05-04 16:43:33.993515   \n",
       "109     109  29.42 2024-05-02 22:30:25.719252 2024-05-02 22:42:09.999907   \n",
       "108     108  30.02 2024-05-02 22:18:41.949319 2024-05-02 22:30:25.700272   \n",
       "\n",
       "                  duration  params_batch size  \\\n",
       "272 0 days 00:11:41.205635                 38   \n",
       "273 0 days 00:12:02.694576                 38   \n",
       "267 0 days 00:11:46.301546                 38   \n",
       "262 0 days 00:11:45.463411                 37   \n",
       "265 0 days 00:11:20.392492                 38   \n",
       "268 0 days 00:11:44.004567                 38   \n",
       "243 0 days 00:09:49.722452                 36   \n",
       "109 0 days 00:11:44.280655                 36   \n",
       "108 0 days 00:11:43.750953                 36   \n",
       "\n",
       "     params_cross entorpy proportion  params_distance  params_learning rate  \\\n",
       "272                         0.789457         0.112727              0.004565   \n",
       "273                         0.797449         0.111228              0.004454   \n",
       "267                         0.798459         0.103915              0.004568   \n",
       "262                         0.785131         0.103529              0.003100   \n",
       "265                         0.793974         0.103155              0.004389   \n",
       "268                         0.829635         0.102949              0.004682   \n",
       "243                         0.913746         0.096982              0.002657   \n",
       "109                         0.992874         0.080766              0.005603   \n",
       "108                         0.931286         0.080028              0.005589   \n",
       "\n",
       "     params_masks amount params_optimizer type     state  \n",
       "272                    5                  Adam  COMPLETE  \n",
       "273                    5                  Adam  COMPLETE  \n",
       "267                    5                  Adam  COMPLETE  \n",
       "262                    5                  Adam  COMPLETE  \n",
       "265                    5                  Adam  COMPLETE  \n",
       "268                    5                  Adam  COMPLETE  \n",
       "243                    5                  Adam  COMPLETE  \n",
       "109                    6               RMSprop  COMPLETE  \n",
       "108                    6               RMSprop  COMPLETE  "
      ]
     },
     "execution_count": 26,
     "metadata": {},
     "output_type": "execute_result"
    }
   ],
   "source": [
    "dataframe[dataframe['value'] >= 29].nlargest(10, 'params_distance')"
   ]
  },
  {
   "cell_type": "markdown",
   "id": "ec1b022d-3792-4df7-89a0-9343ca365d0f",
   "metadata": {},
   "source": [
    "# Модель №1"
   ]
  },
  {
   "cell_type": "code",
   "execution_count": 27,
   "id": "effc4d0a-6952-42c7-8e28-21cb2a80bea6",
   "metadata": {},
   "outputs": [
    {
     "data": {
      "text/html": [
       "<div>\n",
       "<style scoped>\n",
       "    .dataframe tbody tr th:only-of-type {\n",
       "        vertical-align: middle;\n",
       "    }\n",
       "\n",
       "    .dataframe tbody tr th {\n",
       "        vertical-align: top;\n",
       "    }\n",
       "\n",
       "    .dataframe thead th {\n",
       "        text-align: right;\n",
       "    }\n",
       "</style>\n",
       "<table border=\"1\" class=\"dataframe\">\n",
       "  <thead>\n",
       "    <tr style=\"text-align: right;\">\n",
       "      <th></th>\n",
       "      <th>number</th>\n",
       "      <th>value</th>\n",
       "      <th>datetime_start</th>\n",
       "      <th>datetime_complete</th>\n",
       "      <th>duration</th>\n",
       "      <th>params_batch size</th>\n",
       "      <th>params_cross entorpy proportion</th>\n",
       "      <th>params_distance</th>\n",
       "      <th>params_learning rate</th>\n",
       "      <th>params_masks amount</th>\n",
       "      <th>params_optimizer type</th>\n",
       "      <th>state</th>\n",
       "    </tr>\n",
       "  </thead>\n",
       "  <tbody>\n",
       "    <tr>\n",
       "      <th>268</th>\n",
       "      <td>268</td>\n",
       "      <td>30.0</td>\n",
       "      <td>2024-05-04 21:01:40.271930</td>\n",
       "      <td>2024-05-04 21:13:24.276497</td>\n",
       "      <td>0 days 00:11:44.004567</td>\n",
       "      <td>38</td>\n",
       "      <td>0.829635</td>\n",
       "      <td>0.102949</td>\n",
       "      <td>0.004682</td>\n",
       "      <td>5</td>\n",
       "      <td>Adam</td>\n",
       "      <td>COMPLETE</td>\n",
       "    </tr>\n",
       "  </tbody>\n",
       "</table>\n",
       "</div>"
      ],
      "text/plain": [
       "     number  value             datetime_start          datetime_complete  \\\n",
       "268     268   30.0 2024-05-04 21:01:40.271930 2024-05-04 21:13:24.276497   \n",
       "\n",
       "                  duration  params_batch size  \\\n",
       "268 0 days 00:11:44.004567                 38   \n",
       "\n",
       "     params_cross entorpy proportion  params_distance  params_learning rate  \\\n",
       "268                         0.829635         0.102949              0.004682   \n",
       "\n",
       "     params_masks amount params_optimizer type     state  \n",
       "268                    5                  Adam  COMPLETE  "
      ]
     },
     "execution_count": 27,
     "metadata": {},
     "output_type": "execute_result"
    }
   ],
   "source": [
    "dataframe[dataframe['number'] == 268]"
   ]
  },
  {
   "cell_type": "markdown",
   "id": "b41b81ee-9f7d-4f32-b717-397919ea0af4",
   "metadata": {},
   "source": [
    "## Утсановка оптимизированных параметров системы"
   ]
  },
  {
   "cell_type": "code",
   "execution_count": 29,
   "id": "9a1f9518-3595-4e52-9be9-c3d0b31117fb",
   "metadata": {},
   "outputs": [],
   "source": [
    "masks_amount = 5\n",
    "batch_size = 38\n",
    "distance = 0.1\n",
    "learning_rate = 0.0047\n",
    "loss_function_proportion = 0.83\n",
    "optimizer_type = 'Adam'"
   ]
  },
  {
   "cell_type": "code",
   "execution_count": 30,
   "id": "e10b01e9-1385-48c7-a471-4c6938a5f33c",
   "metadata": {
    "tags": []
   },
   "outputs": [
    {
     "name": "stdout",
     "output_type": "stream",
     "text": [
      "Инициализированна модель со следующими параметрами:\n",
      "\tДлинна волны:                             500.0 нм\n",
      "\tКоличество вычислительных пикселей:       300\n",
      "\tКоличество пикселей маски:                100\n",
      "\tРазмер оптических элементов:              5.0 мм\n",
      "\tРазмер пикселя маски:                     50.0 мкм\n",
      "\tРасстояние между слоями:                  100.0 мм\n",
      "\tВременная когерентность:                  10.0 нс\n",
      "\tВремя релаксации:                         1.0 мкc\n",
      "\tПространственная когерентность:           50.0 мкм\n",
      "\tКоличество усреднений:                    7\n",
      "\tРазмер детекторов:                        83.333 мкм\n",
      "\tКоличество детекторов:                    24 на 24\n",
      "\tПропорция CE к MSE лосс:                  0.83\n",
      "\tРазмер батча:                             38\n",
      "\tТип оптимизатора:                         Adam\n",
      "\n",
      "Files already downloaded and verified\n",
      "Files already downloaded and verified\n"
     ]
    }
   ],
   "source": [
    "model, dataset, loss_function, optimizer_type, (incoherent, chunker, optical, detectors, electronic) = initialize(\n",
    "    wavelength, N, length, pixels, masks_amount, distance,\n",
    "    spatial_coherence, time_coherence, time_relaxation, mean_samples,\n",
    "    detector_size, detectors_amount,\n",
    "    loss_function_proportion,  batch_size, optimizer_type\n",
    ")"
   ]
  },
  {
   "cell_type": "markdown",
   "id": "9692c4e4-b530-4bae-ade0-19bf8616530c",
   "metadata": {},
   "source": [
    "## Тренировка"
   ]
  },
  {
   "cell_type": "code",
   "execution_count": 31,
   "id": "010f4a0a-7cfd-4113-b5f2-18b19af7ca73",
   "metadata": {},
   "outputs": [],
   "source": [
    "loss_histories = []\n",
    "cofusion_matrixes = []"
   ]
  },
  {
   "cell_type": "code",
   "execution_count": 32,
   "id": "44ad4fd4-4ac1-4950-b608-d3645b29aae0",
   "metadata": {
    "tags": []
   },
   "outputs": [
    {
     "name": "stderr",
     "output_type": "stream",
     "text": [
      "100%|█████████████████████████████████████████████████████████████████████████████████████████████████████████████████████████████████████████████████████████████████████████████████| 264/264 [00:55<00:00,  4.77it/s]\n"
     ]
    },
    {
     "name": "stdout",
     "output_type": "stream",
     "text": [
      "Точность: 10.0%\n"
     ]
    },
    {
     "name": "stderr",
     "output_type": "stream",
     "text": [
      "RLoss: 1.8761957765896906, RPI1000: -0.0333958314242043: 100%|██████████████████████████████████████████████████████████████████████████████████████████████████████████████████████| 1316/1316 [08:57<00:00,  2.45it/s]\n",
      "100%|█████████████████████████████████████████████████████████████████████████████████████████████████████████████████████████████████████████████████████████████████████████████████| 264/264 [00:53<00:00,  4.89it/s]\n"
     ]
    },
    {
     "name": "stdout",
     "output_type": "stream",
     "text": [
      "Точность: 15.1%\n"
     ]
    },
    {
     "name": "stderr",
     "output_type": "stream",
     "text": [
      "RLoss: 1.793234761947816, RPI1000: -0.0478075157397006: 100%|███████████████████████████████████████████████████████████████████████████████████████████████████████████████████████| 1316/1316 [09:06<00:00,  2.41it/s]\n",
      "100%|█████████████████████████████████████████████████████████████████████████████████████████████████████████████████████████████████████████████████████████████████████████████████| 264/264 [00:53<00:00,  4.93it/s]\n"
     ]
    },
    {
     "name": "stdout",
     "output_type": "stream",
     "text": [
      "Точность: 20.04%\n"
     ]
    },
    {
     "name": "stderr",
     "output_type": "stream",
     "text": [
      "RLoss: 1.7540429105092543, RPI1000: -0.011550227002639815: 100%|████████████████████████████████████████████████████████████████████████████████████████████████████████████████████| 1316/1316 [09:06<00:00,  2.41it/s]\n",
      "100%|█████████████████████████████████████████████████████████████████████████████████████████████████████████████████████████████████████████████████████████████████████████████████| 264/264 [00:53<00:00,  4.93it/s]\n"
     ]
    },
    {
     "name": "stdout",
     "output_type": "stream",
     "text": [
      "Точность: 21.74%\n"
     ]
    },
    {
     "name": "stderr",
     "output_type": "stream",
     "text": [
      "RLoss: 1.7249940315749304, RPI1000: -0.040555096819880516: 100%|████████████████████████████████████████████████████████████████████████████████████████████████████████████████████| 1316/1316 [09:05<00:00,  2.41it/s]\n",
      "100%|█████████████████████████████████████████████████████████████████████████████████████████████████████████████████████████████████████████████████████████████████████████████████| 264/264 [00:53<00:00,  4.93it/s]\n"
     ]
    },
    {
     "name": "stdout",
     "output_type": "stream",
     "text": [
      "Точность: 22.97%\n"
     ]
    },
    {
     "name": "stderr",
     "output_type": "stream",
     "text": [
      "RLoss: 1.6688201934389548, RPI1000: -0.007607282194973574: 100%|████████████████████████████████████████████████████████████████████████████████████████████████████████████████████| 1316/1316 [09:06<00:00,  2.41it/s]\n",
      "100%|█████████████████████████████████████████████████████████████████████████████████████████████████████████████████████████████████████████████████████████████████████████████████| 264/264 [00:53<00:00,  4.95it/s]\n"
     ]
    },
    {
     "name": "stdout",
     "output_type": "stream",
     "text": [
      "Точность: 24.96%\n"
     ]
    },
    {
     "name": "stderr",
     "output_type": "stream",
     "text": [
      "RLoss: 1.6891493900490355, RPI1000: -0.01284647441095389: 100%|█████████████████████████████████████████████████████████████████████████████████████████████████████████████████████| 1316/1316 [09:01<00:00,  2.43it/s]\n",
      "100%|█████████████████████████████████████████████████████████████████████████████████████████████████████████████████████████████████████████████████████████████████████████████████| 264/264 [00:51<00:00,  5.08it/s]\n"
     ]
    },
    {
     "name": "stdout",
     "output_type": "stream",
     "text": [
      "Точность: 26.51%\n"
     ]
    },
    {
     "name": "stderr",
     "output_type": "stream",
     "text": [
      "RLoss: 1.6410703964428481, RPI1000: -0.00816573878544998: 100%|█████████████████████████████████████████████████████████████████████████████████████████████████████████████████████| 1316/1316 [08:53<00:00,  2.47it/s]\n",
      "100%|█████████████████████████████████████████████████████████████████████████████████████████████████████████████████████████████████████████████████████████████████████████████████| 264/264 [00:52<00:00,  5.06it/s]\n"
     ]
    },
    {
     "name": "stdout",
     "output_type": "stream",
     "text": [
      "Точность: 27.55%\n"
     ]
    },
    {
     "name": "stderr",
     "output_type": "stream",
     "text": [
      "RLoss: 1.6280672489050876, RPI1000: -0.011741459562774373: 100%|████████████████████████████████████████████████████████████████████████████████████████████████████████████████████| 1316/1316 [08:54<00:00,  2.46it/s]\n",
      "100%|█████████████████████████████████████████████████████████████████████████████████████████████████████████████████████████████████████████████████████████████████████████████████| 264/264 [00:52<00:00,  5.07it/s]\n"
     ]
    },
    {
     "name": "stdout",
     "output_type": "stream",
     "text": [
      "Точность: 30.24%\n"
     ]
    },
    {
     "name": "stderr",
     "output_type": "stream",
     "text": [
      "RLoss: 1.5855433711639022, RPI1000: -0.012742357223237686: 100%|████████████████████████████████████████████████████████████████████████████████████████████████████████████████████| 1316/1316 [08:52<00:00,  2.47it/s]\n",
      "100%|█████████████████████████████████████████████████████████████████████████████████████████████████████████████████████████████████████████████████████████████████████████████████| 264/264 [00:52<00:00,  5.05it/s]\n"
     ]
    },
    {
     "name": "stdout",
     "output_type": "stream",
     "text": [
      "Точность: 30.88%\n"
     ]
    },
    {
     "name": "stderr",
     "output_type": "stream",
     "text": [
      "RLoss: 1.6589019383222756, RPI1000: -0.009282959766367206: 100%|████████████████████████████████████████████████████████████████████████████████████████████████████████████████████| 1316/1316 [08:52<00:00,  2.47it/s]\n",
      "100%|█████████████████████████████████████████████████████████████████████████████████████████████████████████████████████████████████████████████████████████████████████████████████| 264/264 [00:52<00:00,  5.05it/s]\n"
     ]
    },
    {
     "name": "stdout",
     "output_type": "stream",
     "text": [
      "Точность: 30.99%\n"
     ]
    },
    {
     "name": "stderr",
     "output_type": "stream",
     "text": [
      "RLoss: 1.5842931152868054, RPI1000: -0.0043468221314954475: 100%|███████████████████████████████████████████████████████████████████████████████████████████████████████████████████| 1316/1316 [08:53<00:00,  2.47it/s]\n",
      "100%|█████████████████████████████████████████████████████████████████████████████████████████████████████████████████████████████████████████████████████████████████████████████████| 264/264 [00:52<00:00,  5.06it/s]\n"
     ]
    },
    {
     "name": "stdout",
     "output_type": "stream",
     "text": [
      "Точность: 32.32%\n"
     ]
    },
    {
     "name": "stderr",
     "output_type": "stream",
     "text": [
      "RLoss: 1.515052522107292, RPI1000: 0.004169166308535743: 100%|██████████████████████████████████████████████████████████████████████████████████████████████████████████████████████| 1316/1316 [08:53<00:00,  2.47it/s]\n",
      "100%|█████████████████████████████████████████████████████████████████████████████████████████████████████████████████████████████████████████████████████████████████████████████████| 264/264 [00:51<00:00,  5.08it/s]\n"
     ]
    },
    {
     "name": "stdout",
     "output_type": "stream",
     "text": [
      "Точность: 32.49%\n"
     ]
    },
    {
     "name": "stderr",
     "output_type": "stream",
     "text": [
      "RLoss: 1.539535024947844, RPI1000: 0.0030775763267168743: 100%|█████████████████████████████████████████████████████████████████████████████████████████████████████████████████████| 1316/1316 [08:52<00:00,  2.47it/s]\n",
      "100%|█████████████████████████████████████████████████████████████████████████████████████████████████████████████████████████████████████████████████████████████████████████████████| 264/264 [00:52<00:00,  5.07it/s]\n"
     ]
    },
    {
     "name": "stdout",
     "output_type": "stream",
     "text": [
      "Точность: 32.66%\n"
     ]
    },
    {
     "name": "stderr",
     "output_type": "stream",
     "text": [
      "RLoss: 1.4952134083734774, RPI1000: -0.01779445401200587: 100%|█████████████████████████████████████████████████████████████████████████████████████████████████████████████████████| 1316/1316 [08:52<00:00,  2.47it/s]\n",
      "100%|█████████████████████████████████████████████████████████████████████████████████████████████████████████████████████████████████████████████████████████████████████████████████| 264/264 [00:52<00:00,  5.05it/s]\n"
     ]
    },
    {
     "name": "stdout",
     "output_type": "stream",
     "text": [
      "Точность: 33.43%\n"
     ]
    },
    {
     "name": "stderr",
     "output_type": "stream",
     "text": [
      "RLoss: 1.5629686789075763, RPI1000: -0.009565606864424864: 100%|████████████████████████████████████████████████████████████████████████████████████████████████████████████████████| 1316/1316 [08:54<00:00,  2.46it/s]\n",
      "100%|█████████████████████████████████████████████████████████████████████████████████████████████████████████████████████████████████████████████████████████████████████████████████| 264/264 [00:52<00:00,  5.03it/s]\n"
     ]
    },
    {
     "name": "stdout",
     "output_type": "stream",
     "text": [
      "Точность: 34.12%\n"
     ]
    },
    {
     "name": "stderr",
     "output_type": "stream",
     "text": [
      "RLoss: 1.5135543517781302, RPI1000: 0.00025241379487146465: 100%|███████████████████████████████████████████████████████████████████████████████████████████████████████████████████| 1316/1316 [08:52<00:00,  2.47it/s]\n",
      "100%|█████████████████████████████████████████████████████████████████████████████████████████████████████████████████████████████████████████████████████████████████████████████████| 264/264 [00:52<00:00,  5.05it/s]\n"
     ]
    },
    {
     "name": "stdout",
     "output_type": "stream",
     "text": [
      "Точность: 33.56%\n"
     ]
    },
    {
     "name": "stderr",
     "output_type": "stream",
     "text": [
      "RLoss: 1.462131572951119, RPI1000: -0.03131868845993495: 100%|██████████████████████████████████████████████████████████████████████████████████████████████████████████████████████| 1316/1316 [08:52<00:00,  2.47it/s]\n",
      "100%|█████████████████████████████████████████████████████████████████████████████████████████████████████████████████████████████████████████████████████████████████████████████████| 264/264 [00:52<00:00,  5.06it/s]\n"
     ]
    },
    {
     "name": "stdout",
     "output_type": "stream",
     "text": [
      "Точность: 34.68%\n"
     ]
    },
    {
     "name": "stderr",
     "output_type": "stream",
     "text": [
      "RLoss: 1.5579016350809891, RPI1000: -0.022175780940995288: 100%|████████████████████████████████████████████████████████████████████████████████████████████████████████████████████| 1316/1316 [08:53<00:00,  2.47it/s]\n",
      "100%|█████████████████████████████████████████████████████████████████████████████████████████████████████████████████████████████████████████████████████████████████████████████████| 264/264 [00:52<00:00,  5.07it/s]\n"
     ]
    },
    {
     "name": "stdout",
     "output_type": "stream",
     "text": [
      "Точность: 33.04%\n"
     ]
    },
    {
     "name": "stderr",
     "output_type": "stream",
     "text": [
      "RLoss: 1.5170965070221745, RPI1000: 0.00047048772273966153: 100%|███████████████████████████████████████████████████████████████████████████████████████████████████████████████████| 1316/1316 [08:53<00:00,  2.46it/s]\n",
      "100%|█████████████████████████████████████████████████████████████████████████████████████████████████████████████████████████████████████████████████████████████████████████████████| 264/264 [00:52<00:00,  5.06it/s]\n"
     ]
    },
    {
     "name": "stdout",
     "output_type": "stream",
     "text": [
      "Точность: 35.97%\n"
     ]
    },
    {
     "name": "stderr",
     "output_type": "stream",
     "text": [
      "RLoss: 1.5470445087809341, RPI1000: -0.003617960708409475: 100%|████████████████████████████████████████████████████████████████████████████████████████████████████████████████████| 1316/1316 [08:53<00:00,  2.46it/s]\n",
      "100%|█████████████████████████████████████████████████████████████████████████████████████████████████████████████████████████████████████████████████████████████████████████████████| 264/264 [00:52<00:00,  5.04it/s]\n"
     ]
    },
    {
     "name": "stdout",
     "output_type": "stream",
     "text": [
      "Точность: 36.62%\n"
     ]
    },
    {
     "name": "stderr",
     "output_type": "stream",
     "text": [
      "RLoss: 1.5003039885558347, RPI1000: -0.0036063711064207664: 100%|███████████████████████████████████████████████████████████████████████████████████████████████████████████████████| 1316/1316 [08:53<00:00,  2.47it/s]\n",
      "100%|█████████████████████████████████████████████████████████████████████████████████████████████████████████████████████████████████████████████████████████████████████████████████| 264/264 [00:52<00:00,  5.07it/s]\n"
     ]
    },
    {
     "name": "stdout",
     "output_type": "stream",
     "text": [
      "Точность: 37.18%\n"
     ]
    },
    {
     "name": "stderr",
     "output_type": "stream",
     "text": [
      "RLoss: 1.4615841890731094, RPI1000: 0.05330881706609788: 100%|██████████████████████████████████████████████████████████████████████████████████████████████████████████████████████| 1316/1316 [08:51<00:00,  2.47it/s]\n",
      "100%|█████████████████████████████████████████████████████████████████████████████████████████████████████████████████████████████████████████████████████████████████████████████████| 264/264 [00:51<00:00,  5.08it/s]\n"
     ]
    },
    {
     "name": "stdout",
     "output_type": "stream",
     "text": [
      "Точность: 35.99%\n"
     ]
    },
    {
     "name": "stderr",
     "output_type": "stream",
     "text": [
      "RLoss: 1.3683689742584288, RPI1000: -0.012338847876272005: 100%|████████████████████████████████████████████████████████████████████████████████████████████████████████████████████| 1316/1316 [08:53<00:00,  2.47it/s]\n",
      "100%|█████████████████████████████████████████████████████████████████████████████████████████████████████████████████████████████████████████████████████████████████████████████████| 264/264 [00:52<00:00,  5.07it/s]\n"
     ]
    },
    {
     "name": "stdout",
     "output_type": "stream",
     "text": [
      "Точность: 37.65%\n"
     ]
    },
    {
     "name": "stderr",
     "output_type": "stream",
     "text": [
      "RLoss: 1.4592152762759607, RPI1000: -0.01416615595729119: 100%|█████████████████████████████████████████████████████████████████████████████████████████████████████████████████████| 1316/1316 [08:52<00:00,  2.47it/s]\n",
      "100%|█████████████████████████████████████████████████████████████████████████████████████████████████████████████████████████████████████████████████████████████████████████████████| 264/264 [00:52<00:00,  5.07it/s]\n"
     ]
    },
    {
     "name": "stdout",
     "output_type": "stream",
     "text": [
      "Точность: 37.79%\n"
     ]
    },
    {
     "name": "stderr",
     "output_type": "stream",
     "text": [
      "RLoss: 1.542969874307183, RPI1000: 0.08535092376725446: 100%|███████████████████████████████████████████████████████████████████████████████████████████████████████████████████████| 1316/1316 [08:52<00:00,  2.47it/s]\n",
      "100%|█████████████████████████████████████████████████████████████████████████████████████████████████████████████████████████████████████████████████████████████████████████████████| 264/264 [00:51<00:00,  5.09it/s]\n"
     ]
    },
    {
     "name": "stdout",
     "output_type": "stream",
     "text": [
      "Точность: 37.43%\n"
     ]
    },
    {
     "name": "stderr",
     "output_type": "stream",
     "text": [
      "RLoss: 1.4203943083720216, RPI1000: -0.026493892414007673: 100%|████████████████████████████████████████████████████████████████████████████████████████████████████████████████████| 1316/1316 [08:52<00:00,  2.47it/s]\n",
      "100%|█████████████████████████████████████████████████████████████████████████████████████████████████████████████████████████████████████████████████████████████████████████████████| 264/264 [00:52<00:00,  5.05it/s]\n"
     ]
    },
    {
     "name": "stdout",
     "output_type": "stream",
     "text": [
      "Точность: 37.92%\n"
     ]
    },
    {
     "name": "stderr",
     "output_type": "stream",
     "text": [
      "RLoss: 1.4379075515674242, RPI1000: -0.008079824522958821: 100%|████████████████████████████████████████████████████████████████████████████████████████████████████████████████████| 1316/1316 [08:52<00:00,  2.47it/s]\n",
      "100%|█████████████████████████████████████████████████████████████████████████████████████████████████████████████████████████████████████████████████████████████████████████████████| 264/264 [00:51<00:00,  5.08it/s]\n"
     ]
    },
    {
     "name": "stdout",
     "output_type": "stream",
     "text": [
      "Точность: 38.78%\n"
     ]
    },
    {
     "name": "stderr",
     "output_type": "stream",
     "text": [
      "RLoss: 1.3890817353664657, RPI1000: 0.01362007737817894: 100%|██████████████████████████████████████████████████████████████████████████████████████████████████████████████████████| 1316/1316 [09:02<00:00,  2.42it/s]\n",
      "100%|█████████████████████████████████████████████████████████████████████████████████████████████████████████████████████████████████████████████████████████████████████████████████| 264/264 [00:53<00:00,  4.93it/s]\n"
     ]
    },
    {
     "name": "stdout",
     "output_type": "stream",
     "text": [
      "Точность: 40.03%\n"
     ]
    },
    {
     "name": "stderr",
     "output_type": "stream",
     "text": [
      "RLoss: 1.490924111527167, RPI1000: 0.011162067307486334: 100%|██████████████████████████████████████████████████████████████████████████████████████████████████████████████████████| 1316/1316 [09:05<00:00,  2.41it/s]\n",
      "100%|█████████████████████████████████████████████████████████████████████████████████████████████████████████████████████████████████████████████████████████████████████████████████| 264/264 [00:53<00:00,  4.97it/s]\n"
     ]
    },
    {
     "name": "stdout",
     "output_type": "stream",
     "text": [
      "Точность: 39.03%\n"
     ]
    },
    {
     "name": "stderr",
     "output_type": "stream",
     "text": [
      "RLoss: 1.3552342440118064, RPI1000: 0.0019030364479546594: 100%|████████████████████████████████████████████████████████████████████████████████████████████████████████████████████| 1316/1316 [09:05<00:00,  2.41it/s]\n",
      "100%|█████████████████████████████████████████████████████████████████████████████████████████████████████████████████████████████████████████████████████████████████████████████████| 264/264 [00:53<00:00,  4.94it/s]"
     ]
    },
    {
     "name": "stdout",
     "output_type": "stream",
     "text": [
      "Точность: 38.4%\n"
     ]
    },
    {
     "name": "stderr",
     "output_type": "stream",
     "text": [
      "\n"
     ]
    }
   ],
   "source": [
    "optimizer = optimizer_type(model.parameters(), lr=learning_rate)\n",
    "cofusion_matrixes.append(confusion(model, dataset))\n",
    "print(f\"Точность: {100*numpy.sum(numpy.diagonal(cofusion_matrixes[-1], 0))/numpy.sum(cofusion_matrixes[-1])}%\")\n",
    "for i in range(30):\n",
    "    loss_histories.append(train(model, dataset, optimizer, loss_function))\n",
    "    cofusion_matrixes.append(confusion(model, dataset))\n",
    "    print(f\"Точность: {100*numpy.sum(numpy.diagonal(cofusion_matrixes[-1], 0))/numpy.sum(cofusion_matrixes[-1])}%\")"
   ]
  },
  {
   "cell_type": "code",
   "execution_count": 33,
   "id": "626905b1-0905-4fbe-8667-0e662facc814",
   "metadata": {},
   "outputs": [
    {
     "name": "stderr",
     "output_type": "stream",
     "text": [
      "RLoss: 1.301670629734995, RPI1000: -0.024914056902260978: 100%|█████████████████████████████████████████████████████████████████████████████████████████████████████████████████████| 1316/1316 [09:07<00:00,  2.41it/s]\n",
      "100%|█████████████████████████████████████████████████████████████████████████████████████████████████████████████████████████████████████████████████████████████████████████████████| 264/264 [00:53<00:00,  4.94it/s]\n"
     ]
    },
    {
     "name": "stdout",
     "output_type": "stream",
     "text": [
      "Точность: 40.3%\n"
     ]
    },
    {
     "name": "stderr",
     "output_type": "stream",
     "text": [
      "RLoss: 1.438901318135695, RPI1000: -0.005007009728102194: 100%|█████████████████████████████████████████████████████████████████████████████████████████████████████████████████████| 1316/1316 [09:06<00:00,  2.41it/s]\n",
      "100%|█████████████████████████████████████████████████████████████████████████████████████████████████████████████████████████████████████████████████████████████████████████████████| 264/264 [00:53<00:00,  4.93it/s]\n"
     ]
    },
    {
     "name": "stdout",
     "output_type": "stream",
     "text": [
      "Точность: 40.66%\n"
     ]
    },
    {
     "name": "stderr",
     "output_type": "stream",
     "text": [
      "RLoss: 1.37697981577835, RPI1000: -0.0007854494406694627: 100%|█████████████████████████████████████████████████████████████████████████████████████████████████████████████████████| 1316/1316 [09:04<00:00,  2.42it/s]\n",
      "100%|█████████████████████████████████████████████████████████████████████████████████████████████████████████████████████████████████████████████████████████████████████████████████| 264/264 [00:53<00:00,  4.97it/s]\n"
     ]
    },
    {
     "name": "stdout",
     "output_type": "stream",
     "text": [
      "Точность: 40.87%\n"
     ]
    },
    {
     "name": "stderr",
     "output_type": "stream",
     "text": [
      "RLoss: 1.3952978261029827, RPI1000: 0.003078320994260908: 100%|█████████████████████████████████████████████████████████████████████████████████████████████████████████████████████| 1316/1316 [09:04<00:00,  2.42it/s]\n",
      "100%|█████████████████████████████████████████████████████████████████████████████████████████████████████████████████████████████████████████████████████████████████████████████████| 264/264 [00:54<00:00,  4.87it/s]\n"
     ]
    },
    {
     "name": "stdout",
     "output_type": "stream",
     "text": [
      "Точность: 40.57%\n"
     ]
    },
    {
     "name": "stderr",
     "output_type": "stream",
     "text": [
      "RLoss: 1.3755593107725705, RPI1000: -0.0010353458678568456: 100%|███████████████████████████████████████████████████████████████████████████████████████████████████████████████████| 1316/1316 [09:12<00:00,  2.38it/s]\n",
      "100%|█████████████████████████████████████████████████████████████████████████████████████████████████████████████████████████████████████████████████████████████████████████████████| 264/264 [00:54<00:00,  4.88it/s]\n"
     ]
    },
    {
     "name": "stdout",
     "output_type": "stream",
     "text": [
      "Точность: 40.64%\n"
     ]
    },
    {
     "name": "stderr",
     "output_type": "stream",
     "text": [
      "RLoss: 1.4231657505252688, RPI1000: -0.010788656570418118: 100%|████████████████████████████████████████████████████████████████████████████████████████████████████████████████████| 1316/1316 [09:12<00:00,  2.38it/s]\n",
      "100%|█████████████████████████████████████████████████████████████████████████████████████████████████████████████████████████████████████████████████████████████████████████████████| 264/264 [00:54<00:00,  4.83it/s]\n"
     ]
    },
    {
     "name": "stdout",
     "output_type": "stream",
     "text": [
      "Точность: 40.85%\n"
     ]
    },
    {
     "name": "stderr",
     "output_type": "stream",
     "text": [
      "RLoss: 1.3381361500042006, RPI1000: 0.013165681137351908: 100%|█████████████████████████████████████████████████████████████████████████████████████████████████████████████████████| 1316/1316 [09:12<00:00,  2.38it/s]\n",
      "100%|█████████████████████████████████████████████████████████████████████████████████████████████████████████████████████████████████████████████████████████████████████████████████| 264/264 [00:54<00:00,  4.86it/s]\n"
     ]
    },
    {
     "name": "stdout",
     "output_type": "stream",
     "text": [
      "Точность: 40.98%\n"
     ]
    },
    {
     "name": "stderr",
     "output_type": "stream",
     "text": [
      "RLoss: 1.3715477014912116, RPI1000: 0.00251488440272919: 100%|██████████████████████████████████████████████████████████████████████████████████████████████████████████████████████| 1316/1316 [08:55<00:00,  2.46it/s]\n",
      "100%|█████████████████████████████████████████████████████████████████████████████████████████████████████████████████████████████████████████████████████████████████████████████████| 264/264 [00:52<00:00,  5.01it/s]\n"
     ]
    },
    {
     "name": "stdout",
     "output_type": "stream",
     "text": [
      "Точность: 41.23%\n"
     ]
    },
    {
     "name": "stderr",
     "output_type": "stream",
     "text": [
      "RLoss: 1.271902868870185, RPI1000: -0.006783886983816974: 100%|█████████████████████████████████████████████████████████████████████████████████████████████████████████████████████| 1316/1316 [08:55<00:00,  2.46it/s]\n",
      "100%|█████████████████████████████████████████████████████████████████████████████████████████████████████████████████████████████████████████████████████████████████████████████████| 264/264 [00:52<00:00,  5.01it/s]\n"
     ]
    },
    {
     "name": "stdout",
     "output_type": "stream",
     "text": [
      "Точность: 41.57%\n"
     ]
    },
    {
     "name": "stderr",
     "output_type": "stream",
     "text": [
      "RLoss: 1.3792990730743748, RPI1000: 0.003137865736588916: 100%|█████████████████████████████████████████████████████████████████████████████████████████████████████████████████████| 1316/1316 [08:56<00:00,  2.45it/s]\n",
      "100%|█████████████████████████████████████████████████████████████████████████████████████████████████████████████████████████████████████████████████████████████████████████████████| 264/264 [00:52<00:00,  5.00it/s]\n"
     ]
    },
    {
     "name": "stdout",
     "output_type": "stream",
     "text": [
      "Точность: 41.17%\n"
     ]
    },
    {
     "name": "stderr",
     "output_type": "stream",
     "text": [
      "RLoss: 1.3675481806896417, RPI1000: 0.005704272721114305: 100%|█████████████████████████████████████████████████████████████████████████████████████████████████████████████████████| 1316/1316 [08:56<00:00,  2.45it/s]\n",
      "100%|█████████████████████████████████████████████████████████████████████████████████████████████████████████████████████████████████████████████████████████████████████████████████| 264/264 [00:52<00:00,  5.05it/s]\n"
     ]
    },
    {
     "name": "stdout",
     "output_type": "stream",
     "text": [
      "Точность: 41.28%\n"
     ]
    },
    {
     "name": "stderr",
     "output_type": "stream",
     "text": [
      "RLoss: 1.3305350484428293, RPI1000: -0.005737484313453649: 100%|████████████████████████████████████████████████████████████████████████████████████████████████████████████████████| 1316/1316 [08:56<00:00,  2.45it/s]\n",
      "100%|█████████████████████████████████████████████████████████████████████████████████████████████████████████████████████████████████████████████████████████████████████████████████| 264/264 [00:52<00:00,  5.02it/s]\n"
     ]
    },
    {
     "name": "stdout",
     "output_type": "stream",
     "text": [
      "Точность: 41.25%\n"
     ]
    },
    {
     "name": "stderr",
     "output_type": "stream",
     "text": [
      "RLoss: 1.2707820485484622, RPI1000: -0.009121763944059882: 100%|████████████████████████████████████████████████████████████████████████████████████████████████████████████████████| 1316/1316 [08:55<00:00,  2.46it/s]\n",
      "100%|█████████████████████████████████████████████████████████████████████████████████████████████████████████████████████████████████████████████████████████████████████████████████| 264/264 [00:52<00:00,  5.01it/s]\n"
     ]
    },
    {
     "name": "stdout",
     "output_type": "stream",
     "text": [
      "Точность: 41.39%\n"
     ]
    },
    {
     "name": "stderr",
     "output_type": "stream",
     "text": [
      "RLoss: 1.2947747426993004, RPI1000: 0.0034696533623764917: 100%|████████████████████████████████████████████████████████████████████████████████████████████████████████████████████| 1316/1316 [08:55<00:00,  2.46it/s]\n",
      "100%|█████████████████████████████████████████████████████████████████████████████████████████████████████████████████████████████████████████████████████████████████████████████████| 264/264 [00:52<00:00,  5.04it/s]\n"
     ]
    },
    {
     "name": "stdout",
     "output_type": "stream",
     "text": [
      "Точность: 41.64%\n"
     ]
    },
    {
     "name": "stderr",
     "output_type": "stream",
     "text": [
      "RLoss: 1.3878213915038748, RPI1000: 0.00951086721106711: 100%|██████████████████████████████████████████████████████████████████████████████████████████████████████████████████████| 1316/1316 [08:58<00:00,  2.44it/s]\n",
      "100%|█████████████████████████████████████████████████████████████████████████████████████████████████████████████████████████████████████████████████████████████████████████████████| 264/264 [00:52<00:00,  5.00it/s]\n"
     ]
    },
    {
     "name": "stdout",
     "output_type": "stream",
     "text": [
      "Точность: 41.5%\n"
     ]
    },
    {
     "name": "stderr",
     "output_type": "stream",
     "text": [
      "RLoss: 1.2970821688724914, RPI1000: -0.015553934567809919: 100%|████████████████████████████████████████████████████████████████████████████████████████████████████████████████████| 1316/1316 [09:00<00:00,  2.44it/s]\n",
      "100%|█████████████████████████████████████████████████████████████████████████████████████████████████████████████████████████████████████████████████████████████████████████████████| 264/264 [00:53<00:00,  4.97it/s]\n"
     ]
    },
    {
     "name": "stdout",
     "output_type": "stream",
     "text": [
      "Точность: 41.38%\n"
     ]
    },
    {
     "name": "stderr",
     "output_type": "stream",
     "text": [
      "RLoss: 1.2958332172321791, RPI1000: -0.013772008576517792: 100%|████████████████████████████████████████████████████████████████████████████████████████████████████████████████████| 1316/1316 [09:01<00:00,  2.43it/s]\n",
      "100%|█████████████████████████████████████████████████████████████████████████████████████████████████████████████████████████████████████████████████████████████████████████████████| 264/264 [00:52<00:00,  5.00it/s]\n"
     ]
    },
    {
     "name": "stdout",
     "output_type": "stream",
     "text": [
      "Точность: 41.28%\n"
     ]
    },
    {
     "name": "stderr",
     "output_type": "stream",
     "text": [
      "RLoss: 1.3096713119851988, RPI1000: -0.0073243196540219565: 100%|███████████████████████████████████████████████████████████████████████████████████████████████████████████████████| 1316/1316 [09:00<00:00,  2.43it/s]\n",
      "100%|█████████████████████████████████████████████████████████████████████████████████████████████████████████████████████████████████████████████████████████████████████████████████| 264/264 [00:53<00:00,  4.95it/s]\n"
     ]
    },
    {
     "name": "stdout",
     "output_type": "stream",
     "text": [
      "Точность: 41.29%\n"
     ]
    },
    {
     "name": "stderr",
     "output_type": "stream",
     "text": [
      "RLoss: 1.2720504301965323, RPI1000: -0.003527116920716072: 100%|████████████████████████████████████████████████████████████████████████████████████████████████████████████████████| 1316/1316 [08:58<00:00,  2.44it/s]\n",
      "100%|█████████████████████████████████████████████████████████████████████████████████████████████████████████████████████████████████████████████████████████████████████████████████| 264/264 [00:52<00:00,  5.02it/s]\n"
     ]
    },
    {
     "name": "stdout",
     "output_type": "stream",
     "text": [
      "Точность: 41.25%\n"
     ]
    },
    {
     "name": "stderr",
     "output_type": "stream",
     "text": [
      "RLoss: 1.3031295984788274, RPI1000: -0.005765622195688715: 100%|████████████████████████████████████████████████████████████████████████████████████████████████████████████████████| 1316/1316 [08:56<00:00,  2.45it/s]\n",
      "100%|█████████████████████████████████████████████████████████████████████████████████████████████████████████████████████████████████████████████████████████████████████████████████| 264/264 [00:52<00:00,  5.03it/s]\n"
     ]
    },
    {
     "name": "stdout",
     "output_type": "stream",
     "text": [
      "Точность: 41.4%\n"
     ]
    },
    {
     "name": "stderr",
     "output_type": "stream",
     "text": [
      "RLoss: 1.2477578045930167, RPI1000: -0.011095972723980512: 100%|████████████████████████████████████████████████████████████████████████████████████████████████████████████████████| 1316/1316 [08:55<00:00,  2.46it/s]\n",
      "100%|█████████████████████████████████████████████████████████████████████████████████████████████████████████████████████████████████████████████████████████████████████████████████| 264/264 [00:52<00:00,  5.05it/s]\n"
     ]
    },
    {
     "name": "stdout",
     "output_type": "stream",
     "text": [
      "Точность: 41.65%\n"
     ]
    },
    {
     "name": "stderr",
     "output_type": "stream",
     "text": [
      "RLoss: 1.3204861106959038, RPI1000: -0.008621296009412706: 100%|████████████████████████████████████████████████████████████████████████████████████████████████████████████████████| 1316/1316 [08:55<00:00,  2.46it/s]\n",
      "100%|█████████████████████████████████████████████████████████████████████████████████████████████████████████████████████████████████████████████████████████████████████████████████| 264/264 [00:52<00:00,  5.06it/s]\n"
     ]
    },
    {
     "name": "stdout",
     "output_type": "stream",
     "text": [
      "Точность: 41.33%\n"
     ]
    },
    {
     "name": "stderr",
     "output_type": "stream",
     "text": [
      "RLoss: 1.379837648447551, RPI1000: -0.016760244177841693: 100%|█████████████████████████████████████████████████████████████████████████████████████████████████████████████████████| 1316/1316 [08:55<00:00,  2.46it/s]\n",
      "100%|█████████████████████████████████████████████████████████████████████████████████████████████████████████████████████████████████████████████████████████████████████████████████| 264/264 [00:52<00:00,  4.99it/s]\n"
     ]
    },
    {
     "name": "stdout",
     "output_type": "stream",
     "text": [
      "Точность: 41.56%\n"
     ]
    },
    {
     "name": "stderr",
     "output_type": "stream",
     "text": [
      "RLoss: 1.2003753872455434, RPI1000: 0.004636043055711145: 100%|█████████████████████████████████████████████████████████████████████████████████████████████████████████████████████| 1316/1316 [08:55<00:00,  2.46it/s]\n",
      "100%|█████████████████████████████████████████████████████████████████████████████████████████████████████████████████████████████████████████████████████████████████████████████████| 264/264 [00:52<00:00,  5.04it/s]\n"
     ]
    },
    {
     "name": "stdout",
     "output_type": "stream",
     "text": [
      "Точность: 41.78%\n"
     ]
    },
    {
     "name": "stderr",
     "output_type": "stream",
     "text": [
      "RLoss: 1.372471872143014, RPI1000: 0.008247897603084909: 100%|██████████████████████████████████████████████████████████████████████████████████████████████████████████████████████| 1316/1316 [08:53<00:00,  2.47it/s]\n",
      "100%|█████████████████████████████████████████████████████████████████████████████████████████████████████████████████████████████████████████████████████████████████████████████████| 264/264 [00:52<00:00,  5.04it/s]\n"
     ]
    },
    {
     "name": "stdout",
     "output_type": "stream",
     "text": [
      "Точность: 41.85%\n"
     ]
    },
    {
     "name": "stderr",
     "output_type": "stream",
     "text": [
      "RLoss: 1.334303813711686, RPI1000: 0.0005573479551372692: 100%|█████████████████████████████████████████████████████████████████████████████████████████████████████████████████████| 1316/1316 [08:53<00:00,  2.47it/s]\n",
      "100%|█████████████████████████████████████████████████████████████████████████████████████████████████████████████████████████████████████████████████████████████████████████████████| 264/264 [00:52<00:00,  5.06it/s]\n"
     ]
    },
    {
     "name": "stdout",
     "output_type": "stream",
     "text": [
      "Точность: 40.89%\n"
     ]
    },
    {
     "name": "stderr",
     "output_type": "stream",
     "text": [
      "RLoss: 1.2452096123331007, RPI1000: -0.0009807223336560692: 100%|███████████████████████████████████████████████████████████████████████████████████████████████████████████████████| 1316/1316 [08:53<00:00,  2.47it/s]\n",
      "100%|█████████████████████████████████████████████████████████████████████████████████████████████████████████████████████████████████████████████████████████████████████████████████| 264/264 [00:52<00:00,  5.07it/s]\n"
     ]
    },
    {
     "name": "stdout",
     "output_type": "stream",
     "text": [
      "Точность: 42.14%\n"
     ]
    },
    {
     "name": "stderr",
     "output_type": "stream",
     "text": [
      "RLoss: 1.2753700044816105, RPI1000: 0.0057344504459364235: 100%|████████████████████████████████████████████████████████████████████████████████████████████████████████████████████| 1316/1316 [09:01<00:00,  2.43it/s]\n",
      "100%|█████████████████████████████████████████████████████████████████████████████████████████████████████████████████████████████████████████████████████████████████████████████████| 264/264 [00:58<00:00,  4.55it/s]\n"
     ]
    },
    {
     "name": "stdout",
     "output_type": "stream",
     "text": [
      "Точность: 41.39%\n"
     ]
    },
    {
     "name": "stderr",
     "output_type": "stream",
     "text": [
      "RLoss: 1.339557425368997, RPI1000: 0.00594153956887741: 100%|███████████████████████████████████████████████████████████████████████████████████████████████████████████████████████| 1316/1316 [09:03<00:00,  2.42it/s]\n",
      "100%|█████████████████████████████████████████████████████████████████████████████████████████████████████████████████████████████████████████████████████████████████████████████████| 264/264 [00:53<00:00,  4.98it/s]\n"
     ]
    },
    {
     "name": "stdout",
     "output_type": "stream",
     "text": [
      "Точность: 41.55%\n"
     ]
    },
    {
     "name": "stderr",
     "output_type": "stream",
     "text": [
      "RLoss: 1.2715889059391832, RPI1000: 0.004648382729553037: 100%|█████████████████████████████████████████████████████████████████████████████████████████████████████████████████████| 1316/1316 [09:04<00:00,  2.42it/s]\n",
      "100%|█████████████████████████████████████████████████████████████████████████████████████████████████████████████████████████████████████████████████████████████████████████████████| 264/264 [00:53<00:00,  4.96it/s]"
     ]
    },
    {
     "name": "stdout",
     "output_type": "stream",
     "text": [
      "Точность: 41.83%\n"
     ]
    },
    {
     "name": "stderr",
     "output_type": "stream",
     "text": [
      "\n"
     ]
    }
   ],
   "source": [
    "optimizer = optimizer_type(model.parameters(), lr=learning_rate/100)\n",
    "for i in range(30):\n",
    "    loss_histories.append(train(model, dataset, optimizer, loss_function))\n",
    "    cofusion_matrixes.append(confusion(model, dataset))\n",
    "    print(f\"Точность: {100*numpy.sum(numpy.diagonal(cofusion_matrixes[-1], 0))/numpy.sum(cofusion_matrixes[-1])}%\")"
   ]
  },
  {
   "cell_type": "code",
   "execution_count": null,
   "id": "739a6885-de01-4c8c-829e-23dd98eec7c4",
   "metadata": {},
   "outputs": [],
   "source": []
  }
 ],
 "metadata": {
  "accelerator": "GPU",
  "colab": {
   "gpuType": "L4",
   "machine_shape": "hm",
   "provenance": []
  },
  "kernelspec": {
   "display_name": "Python 3 (ipykernel)",
   "language": "python",
   "name": "python3"
  },
  "language_info": {
   "codemirror_mode": {
    "name": "ipython",
    "version": 3
   },
   "file_extension": ".py",
   "mimetype": "text/x-python",
   "name": "python",
   "nbconvert_exporter": "python",
   "pygments_lexer": "ipython3",
   "version": "3.12.1"
  },
  "toc-autonumbering": false,
  "toc-showmarkdowntxt": false
 },
 "nbformat": 4,
 "nbformat_minor": 5
}
