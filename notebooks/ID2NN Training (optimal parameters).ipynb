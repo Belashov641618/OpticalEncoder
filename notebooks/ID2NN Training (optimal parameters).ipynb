{
 "cells": [
  {
   "cell_type": "markdown",
   "id": "ccc45c47-db3b-4054-9d55-fe9d135dc729",
   "metadata": {
    "id": "ccc45c47-db3b-4054-9d55-fe9d135dc729",
    "tags": []
   },
   "source": [
    "# Настройка среды"
   ]
  },
  {
   "cell_type": "code",
   "execution_count": 1,
   "id": "eb08733f-d647-4841-baf1-21705ed7c72e",
   "metadata": {
    "colab": {
     "base_uri": "https://localhost:8080/"
    },
    "id": "eb08733f-d647-4841-baf1-21705ed7c72e",
    "outputId": "68907ff5-6494-4d13-f4d1-796b0d66d334",
    "tags": []
   },
   "outputs": [],
   "source": [
    "import os\n",
    "import sys\n",
    "\n",
    "### Yandex Datasphere\n",
    "sys.path.append(os.path.abspath(\"..\"))\n",
    "\n",
    "### Google Colab\n",
    "# !git clone https://github.com/Belashov641618/OpticalEncoder.git\n",
    "# sys.path.append(os.path.abspath(\"OpticalEncoder\"))"
   ]
  },
  {
   "cell_type": "code",
   "execution_count": 2,
   "id": "pVlSUHYglqtt",
   "metadata": {
    "colab": {
     "base_uri": "https://localhost:8080/"
    },
    "id": "pVlSUHYglqtt",
    "outputId": "aa9a6cea-d479-4fb9-9584-df604178fb5b"
   },
   "outputs": [],
   "source": [
    "# %cd OpticalEncoder\n",
    "# !dir\n",
    "# !git pull"
   ]
  },
  {
   "cell_type": "code",
   "execution_count": 3,
   "id": "198fbffb-6335-4e54-b0d5-94d0109e255d",
   "metadata": {
    "colab": {
     "base_uri": "https://localhost:8080/"
    },
    "id": "198fbffb-6335-4e54-b0d5-94d0109e255d",
    "outputId": "39bd3c64-7529-457c-9293-256e5c758a92",
    "tags": []
   },
   "outputs": [],
   "source": [
    "# %pip install belashovplot\n",
    "# %pip install optuna\n",
    "# %pip install timm"
   ]
  },
  {
   "cell_type": "code",
   "execution_count": 6,
   "id": "d1193e17-e375-41a3-8f98-9bea9bfd4d70",
   "metadata": {
    "id": "d1193e17-e375-41a3-8f98-9bea9bfd4d70",
    "tags": []
   },
   "outputs": [],
   "source": [
    "from belashovplot import TiledPlot\n",
    "from utilities import *\n",
    "from utilities.filters import Gaussian, Window\n",
    "from utilities.training import train, confusion\n",
    "from elements.modulators import Lens, PhaseModulator, AmplitudeModulator\n",
    "from elements.propagators import FurrierPropagation, ConvolutionalPropagation\n",
    "from elements.composition import CompositeModel, HybridModel\n",
    "from elements.wrappers import CudaMemoryChunker, Incoherent\n",
    "from elements.detectors import ClassificationDetectors, MatrixDetectors\n",
    "from parameters import FigureWidthHeight, FontLibrary\n",
    "from tqdm import tqdm\n",
    "from math import sin, sqrt\n",
    "from pickle import dump\n",
    "import torch\n",
    "import numpy\n",
    "import optuna\n",
    "import timm"
   ]
  },
  {
   "cell_type": "markdown",
   "id": "061cf94f-7076-4bd7-94ac-08f66f041a89",
   "metadata": {},
   "source": [
    "# Оптимизиция при оптимальной дистанции распространения"
   ]
  },
  {
   "cell_type": "markdown",
   "id": "08e55a8f-c557-4b7d-b457-c313c47d017a",
   "metadata": {},
   "source": [
    "## Установка не изменяемых параметров"
   ]
  },
  {
   "cell_type": "code",
   "execution_count": 8,
   "id": "02bf6d11-2926-4f14-b43a-e7929d9115b9",
   "metadata": {},
   "outputs": [
    {
     "name": "stdout",
     "output_type": "stream",
     "text": [
      "285.7142857142857\n",
      "286 572 0.01001\n"
     ]
    }
   ],
   "source": [
    "size = 35.0E-6\n",
    "\n",
    "near_N = 500\n",
    "near_length = 10.0E-3\n",
    "\n",
    "pixels = upper_integer(near_length/size)\n",
    "length = pixels * size\n",
    "\n",
    "cppp = upper_integer(near_N * size / length)\n",
    "N = int(length / size) * cppp\n",
    "\n"
   ]
  },
  {
   "cell_type": "code",
   "execution_count": null,
   "id": "ab0e3b9c-e411-4e9c-a5e5-4cf54fb17b85",
   "metadata": {},
   "outputs": [],
   "source": []
  },
  {
   "cell_type": "code",
   "execution_count": null,
   "id": "eafd2f11-d9e1-4e50-a278-7018d50edb43",
   "metadata": {},
   "outputs": [],
   "source": []
  },
  {
   "cell_type": "code",
   "execution_count": null,
   "id": "9f250b89-df62-4515-86b9-c8cb794d075e",
   "metadata": {},
   "outputs": [],
   "source": []
  },
  {
   "cell_type": "code",
   "execution_count": null,
   "id": "72759863-9b64-48a4-9080-8e5544a49a4c",
   "metadata": {},
   "outputs": [],
   "source": []
  },
  {
   "cell_type": "code",
   "execution_count": null,
   "id": "8a46b6ec-3b93-4bb4-a10f-a2ce5e8404b8",
   "metadata": {},
   "outputs": [],
   "source": []
  }
 ],
 "metadata": {
  "accelerator": "GPU",
  "colab": {
   "gpuType": "L4",
   "machine_shape": "hm",
   "provenance": []
  },
  "kernelspec": {
   "display_name": "Python 3 (ipykernel)",
   "language": "python",
   "name": "python3"
  },
  "language_info": {
   "codemirror_mode": {
    "name": "ipython",
    "version": 3
   },
   "file_extension": ".py",
   "mimetype": "text/x-python",
   "name": "python",
   "nbconvert_exporter": "python",
   "pygments_lexer": "ipython3",
   "version": "3.12.1"
  },
  "toc-autonumbering": false,
  "toc-showmarkdowntxt": false
 },
 "nbformat": 4,
 "nbformat_minor": 5
}
