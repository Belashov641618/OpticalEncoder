{
  "cells": [
    {
      "cell_type": "markdown",
      "id": "ccc45c47-db3b-4054-9d55-fe9d135dc729",
      "metadata": {
        "id": "ccc45c47-db3b-4054-9d55-fe9d135dc729",
        "tags": []
      },
      "source": [
        "# Настройка среды"
      ]
    },
    {
      "cell_type": "code",
      "execution_count": 1,
      "id": "eb08733f-d647-4841-baf1-21705ed7c72e",
      "metadata": {
        "colab": {
          "base_uri": "https://localhost:8080/"
        },
        "id": "eb08733f-d647-4841-baf1-21705ed7c72e",
        "outputId": "16a72639-16e2-4f02-d230-fe7d52c948d8",
        "tags": []
      },
      "outputs": [
        {
          "output_type": "stream",
          "name": "stdout",
          "text": [
            "fatal: destination path 'OpticalEncoder' already exists and is not an empty directory.\n"
          ]
        }
      ],
      "source": [
        "import os\n",
        "import sys\n",
        "\n",
        "### Yandex Datasphere\n",
        "# sys.path.append(os.path.abspath(\"..\"))\n",
        "\n",
        "### Google Colab\n",
        "!git clone https://github.com/Belashov641618/OpticalEncoder.git\n",
        "sys.path.append(os.path.abspath(\"OpticalEncoder\"))"
      ]
    },
    {
      "cell_type": "code",
      "execution_count": 2,
      "id": "pVlSUHYglqtt",
      "metadata": {
        "id": "pVlSUHYglqtt"
      },
      "outputs": [],
      "source": [
        "# %cd OpticalEncoder\n",
        "# !dir\n",
        "# !git pull"
      ]
    },
    {
      "cell_type": "code",
      "execution_count": 3,
      "id": "198fbffb-6335-4e54-b0d5-94d0109e255d",
      "metadata": {
        "colab": {
          "base_uri": "https://localhost:8080/"
        },
        "id": "198fbffb-6335-4e54-b0d5-94d0109e255d",
        "outputId": "43087a2a-8ae4-461c-d87d-731f59f91ec7",
        "tags": []
      },
      "outputs": [
        {
          "output_type": "stream",
          "name": "stdout",
          "text": [
            "Requirement already satisfied: belashovplot in /usr/local/lib/python3.10/dist-packages (1.0)\n",
            "Requirement already satisfied: optuna in /usr/local/lib/python3.10/dist-packages (3.6.1)\n",
            "Requirement already satisfied: alembic>=1.5.0 in /usr/local/lib/python3.10/dist-packages (from optuna) (1.13.1)\n",
            "Requirement already satisfied: colorlog in /usr/local/lib/python3.10/dist-packages (from optuna) (6.8.2)\n",
            "Requirement already satisfied: numpy in /usr/local/lib/python3.10/dist-packages (from optuna) (1.25.2)\n",
            "Requirement already satisfied: packaging>=20.0 in /usr/local/lib/python3.10/dist-packages (from optuna) (24.0)\n",
            "Requirement already satisfied: sqlalchemy>=1.3.0 in /usr/local/lib/python3.10/dist-packages (from optuna) (2.0.29)\n",
            "Requirement already satisfied: tqdm in /usr/local/lib/python3.10/dist-packages (from optuna) (4.66.2)\n",
            "Requirement already satisfied: PyYAML in /usr/local/lib/python3.10/dist-packages (from optuna) (6.0.1)\n",
            "Requirement already satisfied: Mako in /usr/local/lib/python3.10/dist-packages (from alembic>=1.5.0->optuna) (1.3.3)\n",
            "Requirement already satisfied: typing-extensions>=4 in /usr/local/lib/python3.10/dist-packages (from alembic>=1.5.0->optuna) (4.11.0)\n",
            "Requirement already satisfied: greenlet!=0.4.17 in /usr/local/lib/python3.10/dist-packages (from sqlalchemy>=1.3.0->optuna) (3.0.3)\n",
            "Requirement already satisfied: MarkupSafe>=0.9.2 in /usr/local/lib/python3.10/dist-packages (from Mako->alembic>=1.5.0->optuna) (2.1.5)\n",
            "Requirement already satisfied: timm in /usr/local/lib/python3.10/dist-packages (0.9.16)\n",
            "Requirement already satisfied: torch in /usr/local/lib/python3.10/dist-packages (from timm) (2.2.1+cu121)\n",
            "Requirement already satisfied: torchvision in /usr/local/lib/python3.10/dist-packages (from timm) (0.17.1+cu121)\n",
            "Requirement already satisfied: pyyaml in /usr/local/lib/python3.10/dist-packages (from timm) (6.0.1)\n",
            "Requirement already satisfied: huggingface_hub in /usr/local/lib/python3.10/dist-packages (from timm) (0.20.3)\n",
            "Requirement already satisfied: safetensors in /usr/local/lib/python3.10/dist-packages (from timm) (0.4.3)\n",
            "Requirement already satisfied: filelock in /usr/local/lib/python3.10/dist-packages (from huggingface_hub->timm) (3.13.4)\n",
            "Requirement already satisfied: fsspec>=2023.5.0 in /usr/local/lib/python3.10/dist-packages (from huggingface_hub->timm) (2023.6.0)\n",
            "Requirement already satisfied: requests in /usr/local/lib/python3.10/dist-packages (from huggingface_hub->timm) (2.31.0)\n",
            "Requirement already satisfied: tqdm>=4.42.1 in /usr/local/lib/python3.10/dist-packages (from huggingface_hub->timm) (4.66.2)\n",
            "Requirement already satisfied: typing-extensions>=3.7.4.3 in /usr/local/lib/python3.10/dist-packages (from huggingface_hub->timm) (4.11.0)\n",
            "Requirement already satisfied: packaging>=20.9 in /usr/local/lib/python3.10/dist-packages (from huggingface_hub->timm) (24.0)\n",
            "Requirement already satisfied: sympy in /usr/local/lib/python3.10/dist-packages (from torch->timm) (1.12)\n",
            "Requirement already satisfied: networkx in /usr/local/lib/python3.10/dist-packages (from torch->timm) (3.3)\n",
            "Requirement already satisfied: jinja2 in /usr/local/lib/python3.10/dist-packages (from torch->timm) (3.1.3)\n",
            "Requirement already satisfied: nvidia-cuda-nvrtc-cu12==12.1.105 in /usr/local/lib/python3.10/dist-packages (from torch->timm) (12.1.105)\n",
            "Requirement already satisfied: nvidia-cuda-runtime-cu12==12.1.105 in /usr/local/lib/python3.10/dist-packages (from torch->timm) (12.1.105)\n",
            "Requirement already satisfied: nvidia-cuda-cupti-cu12==12.1.105 in /usr/local/lib/python3.10/dist-packages (from torch->timm) (12.1.105)\n",
            "Requirement already satisfied: nvidia-cudnn-cu12==8.9.2.26 in /usr/local/lib/python3.10/dist-packages (from torch->timm) (8.9.2.26)\n",
            "Requirement already satisfied: nvidia-cublas-cu12==12.1.3.1 in /usr/local/lib/python3.10/dist-packages (from torch->timm) (12.1.3.1)\n",
            "Requirement already satisfied: nvidia-cufft-cu12==11.0.2.54 in /usr/local/lib/python3.10/dist-packages (from torch->timm) (11.0.2.54)\n",
            "Requirement already satisfied: nvidia-curand-cu12==10.3.2.106 in /usr/local/lib/python3.10/dist-packages (from torch->timm) (10.3.2.106)\n",
            "Requirement already satisfied: nvidia-cusolver-cu12==11.4.5.107 in /usr/local/lib/python3.10/dist-packages (from torch->timm) (11.4.5.107)\n",
            "Requirement already satisfied: nvidia-cusparse-cu12==12.1.0.106 in /usr/local/lib/python3.10/dist-packages (from torch->timm) (12.1.0.106)\n",
            "Requirement already satisfied: nvidia-nccl-cu12==2.19.3 in /usr/local/lib/python3.10/dist-packages (from torch->timm) (2.19.3)\n",
            "Requirement already satisfied: nvidia-nvtx-cu12==12.1.105 in /usr/local/lib/python3.10/dist-packages (from torch->timm) (12.1.105)\n",
            "Requirement already satisfied: triton==2.2.0 in /usr/local/lib/python3.10/dist-packages (from torch->timm) (2.2.0)\n",
            "Requirement already satisfied: nvidia-nvjitlink-cu12 in /usr/local/lib/python3.10/dist-packages (from nvidia-cusolver-cu12==11.4.5.107->torch->timm) (12.4.127)\n",
            "Requirement already satisfied: numpy in /usr/local/lib/python3.10/dist-packages (from torchvision->timm) (1.25.2)\n",
            "Requirement already satisfied: pillow!=8.3.*,>=5.3.0 in /usr/local/lib/python3.10/dist-packages (from torchvision->timm) (9.4.0)\n",
            "Requirement already satisfied: MarkupSafe>=2.0 in /usr/local/lib/python3.10/dist-packages (from jinja2->torch->timm) (2.1.5)\n",
            "Requirement already satisfied: charset-normalizer<4,>=2 in /usr/local/lib/python3.10/dist-packages (from requests->huggingface_hub->timm) (3.3.2)\n",
            "Requirement already satisfied: idna<4,>=2.5 in /usr/local/lib/python3.10/dist-packages (from requests->huggingface_hub->timm) (3.7)\n",
            "Requirement already satisfied: urllib3<3,>=1.21.1 in /usr/local/lib/python3.10/dist-packages (from requests->huggingface_hub->timm) (2.0.7)\n",
            "Requirement already satisfied: certifi>=2017.4.17 in /usr/local/lib/python3.10/dist-packages (from requests->huggingface_hub->timm) (2024.2.2)\n",
            "Requirement already satisfied: mpmath>=0.19 in /usr/local/lib/python3.10/dist-packages (from sympy->torch->timm) (1.3.0)\n"
          ]
        }
      ],
      "source": [
        "%pip install belashovplot\n",
        "%pip install optuna\n",
        "%pip install timm"
      ]
    },
    {
      "cell_type": "code",
      "execution_count": 4,
      "id": "d1193e17-e375-41a3-8f98-9bea9bfd4d70",
      "metadata": {
        "id": "d1193e17-e375-41a3-8f98-9bea9bfd4d70",
        "tags": []
      },
      "outputs": [],
      "source": [
        "from belashovplot import TiledPlot\n",
        "from utilities import *\n",
        "from utilities.filters import Gaussian, Window\n",
        "from utilities.training import train, confusion\n",
        "from elements.modulators import Lens, PhaseModulator, AmplitudeModulator\n",
        "from elements.propagators import FurrierPropagation, ConvolutionalPropagation\n",
        "from elements.composition import CompositeModel, HybridModel\n",
        "from elements.wrappers import CudaMemoryChunker, Incoherent\n",
        "from elements.detectors import ClassificationDetectors, MatrixDetectors\n",
        "from parameters import FigureWidthHeight, FontLibrary\n",
        "from tqdm import tqdm\n",
        "from math import sin, sqrt\n",
        "from pickle import dump\n",
        "import torch\n",
        "import numpy\n",
        "import optuna\n",
        "import timm"
      ]
    },
    {
      "cell_type": "code",
      "execution_count": 5,
      "id": "11ed2855-7b7d-4ce7-a4af-8567103cb13c",
      "metadata": {
        "id": "11ed2855-7b7d-4ce7-a4af-8567103cb13c"
      },
      "outputs": [],
      "source": [
        "FontLibrary.Fonts.ColumnDescriptionTop.FontSize = 9\n",
        "FontLibrary.Fonts.ColumnDescriptionBottom.FontSize = 9\n",
        "FontLibrary.Fonts.RowDescriptionLeft.FontSize = 9\n",
        "FontLibrary.Fonts.RowDescriptionRight.FontSize = 9\n",
        "FigureWidthHeight = (16, 16)"
      ]
    },
    {
      "cell_type": "code",
      "execution_count": 6,
      "id": "cf219e4a-de50-4c64-b401-9cf1ca33c9b5",
      "metadata": {
        "colab": {
          "base_uri": "https://localhost:8080/"
        },
        "id": "cf219e4a-de50-4c64-b401-9cf1ca33c9b5",
        "outputId": "8748e890-f0b4-4e95-e105-aee03311b5b2"
      },
      "outputs": [
        {
          "output_type": "stream",
          "name": "stdout",
          "text": [
            "Используемый девайс: NVIDIA L4\n"
          ]
        }
      ],
      "source": [
        "device = torch.device('cuda' if torch.cuda.is_available() else 'cpu')\n",
        "print('Используемый девайс:', torch.cuda.get_device_name(device) if torch.cuda.is_available() else 'ЦП')"
      ]
    },
    {
      "cell_type": "markdown",
      "id": "061cf94f-7076-4bd7-94ac-08f66f041a89",
      "metadata": {
        "id": "061cf94f-7076-4bd7-94ac-08f66f041a89"
      },
      "source": [
        "# Оптимизиция при оптимальной дистанции распространения"
      ]
    },
    {
      "cell_type": "markdown",
      "id": "08e55a8f-c557-4b7d-b457-c313c47d017a",
      "metadata": {
        "id": "08e55a8f-c557-4b7d-b457-c313c47d017a"
      },
      "source": [
        "## Установка не изменяемых параметров"
      ]
    },
    {
      "cell_type": "code",
      "execution_count": 7,
      "id": "02bf6d11-2926-4f14-b43a-e7929d9115b9",
      "metadata": {
        "id": "02bf6d11-2926-4f14-b43a-e7929d9115b9"
      },
      "outputs": [],
      "source": [
        "# Предпочтительные параметры\n",
        "size = 50.0E-6\n",
        "near_N = 400\n",
        "near_length = 5.0E-3\n",
        "wavelength = 500.0E-9\n",
        "optuna_epochs = 1\n",
        "\n",
        "# Параметры когерентности\n",
        "spatial_coherence = 50.0E-6\n",
        "time_coherence = 10.0E-9\n",
        "time_relaxation = 1.0E-6\n",
        "mean_samples = 12\n",
        "\n",
        "# Вычисляемые параметры\n",
        "pixels = upper_integer(near_length/size)\n",
        "length = pixels * size\n",
        "\n",
        "cppp = upper_integer(near_N * size / length)\n",
        "N = int(length / size) * cppp\n",
        "\n",
        "reference_distance = length * sqrt((size/wavelength)**2 - 1)"
      ]
    },
    {
      "cell_type": "markdown",
      "id": "d638c6d1-30ba-4416-8fc3-76e0804bea20",
      "metadata": {
        "id": "d638c6d1-30ba-4416-8fc3-76e0804bea20"
      },
      "source": [
        "## Инициализация некогерентной обёртки"
      ]
    },
    {
      "cell_type": "code",
      "execution_count": 8,
      "id": "01283fea-c88f-4d3a-af73-786714265b86",
      "metadata": {
        "id": "01283fea-c88f-4d3a-af73-786714265b86"
      },
      "outputs": [],
      "source": [
        "incoherent = Incoherent(spatial_coherence, time_coherence, time_relaxation, mean_samples, N, length).to(device)"
      ]
    },
    {
      "cell_type": "code",
      "execution_count": null,
      "id": "b3aa5f0a-2132-41b0-b863-2dc23f1069a0",
      "metadata": {
        "id": "b3aa5f0a-2132-41b0-b863-2dc23f1069a0"
      },
      "outputs": [],
      "source": [
        "autocorr = autocorrelation(incoherent.sample(), dims=[1,2], mean_dim=0, split=mean_samples)"
      ]
    },
    {
      "cell_type": "code",
      "execution_count": null,
      "id": "90cbe906-193a-4e39-9fea-c4c160d25484",
      "metadata": {
        "id": "90cbe906-193a-4e39-9fea-c4c160d25484"
      },
      "outputs": [],
      "source": [
        "autocorr_radius, _ = correlation_circle(autocorr, limits=((-length/2,+length/2),(-length/2,+length/2)), percent=0.8)\n",
        "incoherent_distribution, incoherent_distribution_values = distribution(incoherent.sample(), N=100, return_values=True)\n",
        "incoherent_sample = incoherent.sample()[0].cpu()\n",
        "print('Радиус автокорреляции:', engineering(autocorr_radius, 'м'))"
      ]
    },
    {
      "cell_type": "code",
      "execution_count": null,
      "id": "62f175a4-1f35-42e7-8608-f84816c5e28f",
      "metadata": {
        "id": "62f175a4-1f35-42e7-8608-f84816c5e28f"
      },
      "outputs": [],
      "source": [
        "plot = TiledPlot(*FigureWidthHeight)\n",
        "plot.FontLibrary = FontLibrary\n",
        "plot.title('Визуализация когерентности')\n",
        "\n",
        "formatter_xy, unit_xy = engineering.separatedformatter(length/2, 'м')\n",
        "formatter_rad, unit_rad = engineering.separatedformatter(autocorr_radius, 'м')\n",
        "\n",
        "axes = plot.axes.add(0,0)\n",
        "axes.imshow(incoherent_sample, aspect='auto', extent=[-length/2,+length/2]*2)\n",
        "axes.xaxis.set_major_formatter(formatter_xy)\n",
        "axes.yaxis.set_major_formatter(formatter_xy)\n",
        "plot.graph.label.x(unit_xy)\n",
        "plot.graph.label.y(unit_xy)\n",
        "plot.graph.title('Экземпляр поля')\n",
        "\n",
        "axes = plot.axes.add(1,0)\n",
        "axes.grid(True)\n",
        "axes.plot(incoherent_distribution_values, incoherent_distribution.cpu())\n",
        "plot.graph.title('Распределение')\n",
        "\n",
        "p0 = int(autocorr.shape[1]*(1 - 4*autocorr_radius/length)/2)\n",
        "p1 = p0 + int(8*autocorr.shape[1]*autocorr_radius/length)\n",
        "axes = plot.axes.add(2,0)\n",
        "axes.grid(True)\n",
        "axes.plot(numpy.linspace(-length/2, +length/2, autocorr.shape[1])[p0:p1], autocorr[autocorr.shape[0]//2][p0:p1]/autocorr.max())\n",
        "axes.xaxis.set_major_formatter(formatter_rad)\n",
        "plot.graph.label.x(unit_rad)\n",
        "plot.graph.title('Автокорреляция')\n",
        "\n",
        "plot.show()"
      ]
    },
    {
      "cell_type": "markdown",
      "id": "34493871-eab7-4bb2-873b-81addcdb7913",
      "metadata": {
        "id": "34493871-eab7-4bb2-873b-81addcdb7913"
      },
      "source": [
        "## Инициализация детекторов"
      ]
    },
    {
      "cell_type": "code",
      "execution_count": null,
      "id": "f58e85f0-cb8f-4418-8282-e018dc7a1f54",
      "metadata": {
        "id": "f58e85f0-cb8f-4418-8282-e018dc7a1f54"
      },
      "outputs": [],
      "source": [
        "detectors_amount = 24\n",
        "detector_size = length / 60\n",
        "\n",
        "spectral_filter = Window(centers=wavelength, sizes=300.0E-9)\n",
        "detectors_filter = Gaussian((detector_size, detector_size), (0,0))\n",
        "detectors = MatrixDetectors(N, length, wavelength, detectors_amount, detectors_filter, spectral_filter).to(device)"
      ]
    },
    {
      "cell_type": "code",
      "execution_count": null,
      "id": "9fcc573f-94a8-4a3a-91ea-89626b684a01",
      "metadata": {
        "id": "9fcc573f-94a8-4a3a-91ea-89626b684a01"
      },
      "outputs": [],
      "source": [
        "plot = TiledPlot(*FigureWidthHeight)\n",
        "plot.FontLibrary = FontLibrary\n",
        "plot.pad.graph.horizontal(0.1)\n",
        "plot.title('Характеристики детекторов')\n",
        "\n",
        "x_linspace = torch.linspace(-4*detector_size,+4*detector_size,100)\n",
        "y_linspace = detectors_filter(x_linspace, x_linspace)[50]\n",
        "wl_linspace = torch.linspace(0, 1000.0E-9, 100)\n",
        "s_linspace = spectral_filter(wl_linspace)\n",
        "formatter_xy, unit_xy = engineering.separatedformatter(length/2, 'м')\n",
        "formatter_d, unit_d = scientific.separatedformatter(y_linspace.max(), '')\n",
        "formatter_wl, unit_wl = engineering.separatedformatter(wl_linspace.max(), 'м')\n",
        "\n",
        "axes = plot.axes.add(0,0)\n",
        "axes.imshow(detectors.filter, aspect='auto', extent=[-length/2,+length/2]*2)\n",
        "axes.xaxis.set_major_formatter(formatter_xy)\n",
        "axes.yaxis.set_major_formatter(formatter_xy)\n",
        "plot.graph.label.x(unit_xy)\n",
        "plot.graph.label.y(unit_xy)\n",
        "plot.graph.title('Суммарная функция детекторов')\n",
        "\n",
        "axes = plot.axes.add(1,0)\n",
        "axes.grid(True)\n",
        "axes.plot(x_linspace, y_linspace)\n",
        "axes.xaxis.set_major_formatter(formatter_xy)\n",
        "axes.yaxis.set_major_formatter(formatter_d)\n",
        "plot.graph.label.x(unit_xy)\n",
        "plot.graph.label.y(unit_d)\n",
        "plot.graph.title('Пространственная функция детектора')\n",
        "\n",
        "axes = plot.axes.add(2,0)\n",
        "axes.grid(True)\n",
        "axes.plot(wl_linspace, s_linspace)\n",
        "axes.xaxis.set_major_formatter(formatter_wl)\n",
        "plot.graph.label.x(unit_wl)\n",
        "plot.graph.title('Спектральная функция детектора')\n",
        "\n",
        "plot.show()"
      ]
    },
    {
      "cell_type": "markdown",
      "id": "31673f63-49c6-42cc-b537-cfb9ea332937",
      "metadata": {
        "id": "31673f63-49c6-42cc-b537-cfb9ea332937"
      },
      "source": [
        "## Инициализация электронной части"
      ]
    },
    {
      "cell_type": "code",
      "execution_count": null,
      "id": "dfebe70a-7880-4dd9-a461-a146aa59c105",
      "metadata": {
        "id": "dfebe70a-7880-4dd9-a461-a146aa59c105"
      },
      "outputs": [],
      "source": [
        "electronic = timm.create_model('resnet18', pretrained=True,  in_chans=1, num_classes=10).to(device)"
      ]
    },
    {
      "cell_type": "markdown",
      "id": "b6fcd0d4-45dc-4cc7-ac78-a99081378bff",
      "metadata": {
        "id": "b6fcd0d4-45dc-4cc7-ac78-a99081378bff"
      },
      "source": [
        "## Комбинированная функция"
      ]
    },
    {
      "cell_type": "code",
      "execution_count": null,
      "id": "69b356ac-1a10-491f-82e2-57df4f6519eb",
      "metadata": {
        "id": "69b356ac-1a10-491f-82e2-57df4f6519eb"
      },
      "outputs": [],
      "source": [
        "def combined_loss(cross_entropy_to_mse_proportion:float=1.0):\n",
        "    def loss_function(outputs, targets):\n",
        "        CELoss = torch.nn.functional.cross_entropy(outputs, targets)\n",
        "        MSELoss = torch.nn.functional.mse_loss(torch.nn.functional.softmax(outputs, dim=1), torch.nn.functional.one_hot(targets, num_classes=10).float())\n",
        "        loss = cross_entropy_to_mse_proportion*CELoss + (1.0-cross_entropy_to_mse_proportion)*MSELoss\n",
        "        return loss\n",
        "    return loss_function"
      ]
    },
    {
      "cell_type": "markdown",
      "id": "16483bfa-2e05-41b6-836a-73fa9c4abec2",
      "metadata": {
        "id": "16483bfa-2e05-41b6-836a-73fa9c4abec2"
      },
      "source": [
        "## Выбор диапазона раcстояния распространения"
      ]
    },
    {
      "cell_type": "code",
      "execution_count": null,
      "id": "03faf613-671b-4303-9201-b9666b61774f",
      "metadata": {
        "id": "03faf613-671b-4303-9201-b9666b61774f"
      },
      "outputs": [],
      "source": [
        "# Настройка диапазона\n",
        "distance_left_multiplier = 0.05\n",
        "distance_right_multiplier = 0.5\n",
        "\n",
        "slices = 100\n",
        "distance_samples = 4\n",
        "distance_array = numpy.linspace(reference_distance*distance_left_multiplier, reference_distance*distance_right_multiplier, distance_samples)"
      ]
    },
    {
      "cell_type": "code",
      "execution_count": null,
      "id": "eafd2f11-d9e1-4e50-a278-7018d50edb43",
      "metadata": {
        "id": "eafd2f11-d9e1-4e50-a278-7018d50edb43"
      },
      "outputs": [],
      "source": [
        "different_distance_propagations = []\n",
        "# Вычисления\n",
        "initial = torch.zeros((1, 1, N, N), device=device, dtype=torch.complex64)\n",
        "p0 = N//2 - int(N*size/(length*2))\n",
        "p1 = p0 + int(N*size/length)\n",
        "initial[0,0,p0:p1,p0:p1] = 1.0\n",
        "\n",
        "chunker = CudaMemoryChunker().to(device)\n",
        "with torch.no_grad():\n",
        "    for max_distance in tqdm(distance_array):\n",
        "        result = torch.zeros((slices, N), dtype=torch.float32)\n",
        "        for i, distance in enumerate(numpy.linspace(0, max_distance, slices)):\n",
        "            propagation = FurrierPropagation(N, length, wavelength, 1.0, 0.0, distance).to(device)\n",
        "            chunker.attach_forward(propagation.forward)\n",
        "            incoherent.attach_forward(chunker.forward)\n",
        "            result[i] = incoherent.forward(initial)[0,0,N//2].abs().cpu()\n",
        "        different_distance_propagations.append((max_distance, result))"
      ]
    },
    {
      "cell_type": "code",
      "execution_count": null,
      "id": "9f250b89-df62-4515-86b9-c8cb794d075e",
      "metadata": {
        "id": "9f250b89-df62-4515-86b9-c8cb794d075e"
      },
      "outputs": [],
      "source": [
        "plot = TiledPlot(*FigureWidthHeight)\n",
        "plot.FontLibrary = FontLibrary\n",
        "plot.title('Распостранение от единичной неоднородности')\n",
        "\n",
        "formatter_xy, unit_xy = engineering.separatedformatter(length/2, 'м')\n",
        "\n",
        "axes = plot.axes.add((0,0),(1,1))\n",
        "axes.imshow(initial[0][0].abs().cpu(), aspect='auto', extent=[-length/2,+length/2]*2)\n",
        "axes.xaxis.set_major_formatter(formatter_xy)\n",
        "axes.yaxis.set_major_formatter(formatter_xy)\n",
        "plot.graph.label.x(unit_xy)\n",
        "plot.graph.label.y(unit_xy)\n",
        "\n",
        "plot.description.column.top('Исходное поле',0,1)\n",
        "\n",
        "for col, (distance, data) in enumerate(different_distance_propagations, 2):\n",
        "    formatter_z, unit_z = engineering.separatedformatter(distance, 'м')\n",
        "    plot.description.column.top(f\"Расстояние: {engineering(distance,'м', 2)}\", col)\n",
        "\n",
        "    axes = plot.axes.add(col, 0)\n",
        "    axes.imshow(torch.log10(data+0.0001), aspect='auto', extent=[-length/2,+length/2,distance,0])\n",
        "    axes.xaxis.set_major_formatter(formatter_xy)\n",
        "    axes.yaxis.set_major_formatter(formatter_z)\n",
        "    plot.graph.label.x(unit_xy)\n",
        "    plot.graph.label.y(unit_z)\n",
        "\n",
        "    axes = plot.axes.add(col,1)\n",
        "    axes.grid(True)\n",
        "    axes.plot(numpy.linspace(-length/2,+length/2,N), data[-1]/data[-1].max())\n",
        "    axes.xaxis.set_major_formatter(formatter_xy)\n",
        "    plot.graph.label.x(unit_xy)\n",
        "\n",
        "plot.show()"
      ]
    },
    {
      "cell_type": "markdown",
      "id": "cf87c857-d244-4c1e-8936-d5c5aebe6bcf",
      "metadata": {
        "id": "cf87c857-d244-4c1e-8936-d5c5aebe6bcf"
      },
      "source": [
        "## Вариации изменяемых параметров"
      ]
    },
    {
      "cell_type": "code",
      "execution_count": null,
      "id": "72759863-9b64-48a4-9080-8e5544a49a4c",
      "metadata": {
        "id": "72759863-9b64-48a4-9080-8e5544a49a4c"
      },
      "outputs": [],
      "source": [
        "# Установить вручную по картинкам выше (чем больше покрытие и меньше шумов, тем лучше)\n",
        "distance_limits = (50.0E-3, 150.0E-3)"
      ]
    },
    {
      "cell_type": "code",
      "execution_count": null,
      "id": "08f8fb48-3d2d-4239-9ff6-4c4c1246474d",
      "metadata": {
        "id": "08f8fb48-3d2d-4239-9ff6-4c4c1246474d"
      },
      "outputs": [],
      "source": [
        "masks_amount_limits = (3, 10)\n",
        "batch_size_limits = (20, 60)\n",
        "learning_rate_limits = (0.00001, 0.1)\n",
        "loss_functions_proportion_limits = (0.0, 1.0)\n",
        "optimizer_types_list = {'Adam':torch.optim.Adam, 'SGD':torch.optim.SGD, 'RMSprop':torch.optim.RMSprop, 'Adagrad':torch.optim.Adagrad}"
      ]
    },
    {
      "cell_type": "markdown",
      "id": "24bd2923-f9a8-41b8-b1e9-b99638a7b24b",
      "metadata": {
        "id": "24bd2923-f9a8-41b8-b1e9-b99638a7b24b"
      },
      "source": [
        "## Вывод окончательных параметров"
      ]
    },
    {
      "cell_type": "code",
      "execution_count": null,
      "id": "3c75fd1a-95c9-43f7-9a0e-15a0d5a75519",
      "metadata": {
        "id": "3c75fd1a-95c9-43f7-9a0e-15a0d5a75519"
      },
      "outputs": [],
      "source": [
        "print(f\"Длинна волны:                             {engineering(wavelength, 'м')}\")\n",
        "print(f\"Количество вычислительных пикселей:       {N}\")\n",
        "print(f\"Количество пикселей маски:                {pixels}\")\n",
        "print(f\"Размер оптических элементов:              {engineering(length, 'м')}\")\n",
        "print(f\"Размер пикселя маски:                     {engineering(size, 'м')}\")\n",
        "print(f\"Расстояние между слоями:                  {engineering(distance, 'м')}\")\n",
        "\n",
        "print(f\"Временная когерентность:                  {engineering(time_coherence, 'с')}\")\n",
        "print(f\"Время релаксации:                         {engineering(time_relaxation, 'c')}\")\n",
        "print(f\"Пространственная когерентность:           {engineering(spatial_coherence, 'м')}\")\n",
        "print(f\"Количество усреднений:                    {mean_samples}\")"
      ]
    },
    {
      "cell_type": "markdown",
      "id": "7ef10c32-8cb3-45c4-9878-8e19172485d6",
      "metadata": {
        "id": "7ef10c32-8cb3-45c4-9878-8e19172485d6"
      },
      "source": [
        "## Функция цели для optuna и оптимизация"
      ]
    },
    {
      "cell_type": "code",
      "execution_count": null,
      "id": "f9c1f9f3-f3f4-4cae-9811-83ae54dcbd7d",
      "metadata": {
        "id": "f9c1f9f3-f3f4-4cae-9811-83ae54dcbd7d"
      },
      "outputs": [],
      "source": [
        "def objective(trial:optuna.trial):\n",
        "    masks_amount = trial.suggest_int('masks amount', *masks_amount_limits)\n",
        "    batch_size = trial.suggest_int('batch size', *batch_size_limits)\n",
        "    distance = trial.suggest_float('distance', *distance_limits)\n",
        "    learning_rate = trial.suggest_float('learning rate', *learning_rate_limits, log=True)\n",
        "    loss_functions_proportion = trial.suggest_float('cross entorpy proportion', *loss_functions_proportion_limits)\n",
        "    optimizer_type = trial.suggest_categorical('optimizer type', optimizer_types_list.keys())\n",
        "\n",
        "    print('Эксперимент:')\n",
        "    print(f\"\\tКоличетсво масок:  {masks_amount}\")\n",
        "    print(f\"\\tРазмер батча:      {batch_size}\")\n",
        "    print(f\"\\tДистанция:         {engineering(distance, 'м')}\")\n",
        "    print(f\"\\tСкорость обучения: {learning_rate}\")\n",
        "    print(f\"\\tПропорция CELoss:  {loss_functions_proportion}\")\n",
        "    print(f\"\\tТип оптимизатора:  {optimizer_type}\")\n",
        "\n",
        "    # Инициализация оптической части и гибридной модели\n",
        "    propagation = FurrierPropagation(N, length, wavelength, 1.0, 0.0, distance, 0.4)\n",
        "    phase_modulators = [PhaseModulator(N, length, pixels) for i in range(masks_amount)]\n",
        "    amplitude_modulators = [AmplitudeModulator(N, length, pixels) for i in range(masks_amount)]\n",
        "    elements = [phase_modulators[0], amplitude_modulators[0]]\n",
        "    for phase_modulator, amplitude_modulator in zip(phase_modulators[1:], amplitude_modulators[1:]):\n",
        "        elements.append(propagation)\n",
        "        elements.append(phase_modulator)\n",
        "        elements.append(amplitude_modulator)\n",
        "    elements.append(propagation)\n",
        "    chunker = CudaMemoryChunker(sub_chunks=mean_samples)\n",
        "    optical = CompositeModel(*elements)\n",
        "    optical.wrap(chunker)\n",
        "    optical.wrap(incoherent)\n",
        "    optical.to(device)\n",
        "    model = HybridModel(optical, detectors, electronic)\n",
        "\n",
        "    # Подготовка данных, функции ошибки и оптимизатора\n",
        "    dataset = Dataset('CIFAR10', batch_size, N, N, torch.complex64)\n",
        "    dataset.train\n",
        "    dataset.test\n",
        "    loss_function = combined_loss(loss_functions_proportion)\n",
        "    optimizer = optimizer_types_list[optimizer_type](model.parameters(), lr=learning_rate)\n",
        "\n",
        "    # Обучение модели\n",
        "    for i in range(optuna_epochs):\n",
        "        train(model, dataset, optimizer, loss_function)\n",
        "    confusion_matrix = confusion(model, dataset)\n",
        "    return 100*numpy.sum(numpy.diagonal(confusion_matrix, 0))/numpy.sum(confusion_matrix)\n",
        "study = optuna.create_study(direction='minimize')"
      ]
    },
    {
      "cell_type": "code",
      "execution_count": null,
      "id": "9d530064-fe1f-425e-85e1-3c9362ffc9a2",
      "metadata": {
        "id": "9d530064-fe1f-425e-85e1-3c9362ffc9a2"
      },
      "outputs": [],
      "source": [
        "study.optimize(objective, n_trials=5)"
      ]
    },
    {
      "cell_type": "code",
      "source": [
        "study.optimize(objective, n_trials=5)"
      ],
      "metadata": {
        "id": "FBPpzJi4qhB-"
      },
      "id": "FBPpzJi4qhB-",
      "execution_count": null,
      "outputs": []
    },
    {
      "cell_type": "code",
      "source": [
        "study.optimize(objective, n_trials=5)"
      ],
      "metadata": {
        "id": "cSdxC3QjqhP9"
      },
      "id": "cSdxC3QjqhP9",
      "execution_count": null,
      "outputs": []
    },
    {
      "cell_type": "code",
      "source": [
        "study.optimize(objective, n_trials=5)"
      ],
      "metadata": {
        "id": "gYjDx8_HqhXh"
      },
      "id": "gYjDx8_HqhXh",
      "execution_count": null,
      "outputs": []
    },
    {
      "cell_type": "code",
      "source": [
        "study.optimize(objective, n_trials=5)"
      ],
      "metadata": {
        "id": "Gmfzmc_VqhaJ"
      },
      "id": "Gmfzmc_VqhaJ",
      "execution_count": null,
      "outputs": []
    },
    {
      "cell_type": "code",
      "source": [
        "study.optimize(objective, n_trials=5)"
      ],
      "metadata": {
        "id": "Hac7KIP3qhc2"
      },
      "id": "Hac7KIP3qhc2",
      "execution_count": null,
      "outputs": []
    },
    {
      "cell_type": "code",
      "source": [
        "study.optimize(objective, n_trials=5)"
      ],
      "metadata": {
        "id": "fwQQuzJiqhfe"
      },
      "id": "fwQQuzJiqhfe",
      "execution_count": null,
      "outputs": []
    },
    {
      "cell_type": "code",
      "source": [
        "study.optimize(objective, n_trials=5)"
      ],
      "metadata": {
        "id": "NWz4TLieqi-L"
      },
      "id": "NWz4TLieqi-L",
      "execution_count": null,
      "outputs": []
    },
    {
      "cell_type": "code",
      "source": [
        "study.optimize(objective, n_trials=5)"
      ],
      "metadata": {
        "id": "F2MRVhopqjBb"
      },
      "id": "F2MRVhopqjBb",
      "execution_count": null,
      "outputs": []
    },
    {
      "cell_type": "code",
      "source": [
        "study.optimize(objective, n_trials=5)"
      ],
      "metadata": {
        "id": "ZnEJFdAuqjHW"
      },
      "id": "ZnEJFdAuqjHW",
      "execution_count": null,
      "outputs": []
    },
    {
      "cell_type": "code",
      "execution_count": null,
      "id": "715632cb-5f10-4705-87e1-381a045a16ff",
      "metadata": {
        "id": "715632cb-5f10-4705-87e1-381a045a16ff"
      },
      "outputs": [],
      "source": [
        "print(\"Лучшие гиперпараметры:\", study.best_trial.params)"
      ]
    },
    {
      "cell_type": "code",
      "source": [],
      "metadata": {
        "id": "Anpomk2br3Hr"
      },
      "id": "Anpomk2br3Hr",
      "execution_count": null,
      "outputs": []
    }
  ],
  "metadata": {
    "accelerator": "GPU",
    "colab": {
      "gpuType": "L4",
      "machine_shape": "hm",
      "provenance": []
    },
    "kernelspec": {
      "display_name": "Python 3",
      "name": "python3"
    },
    "language_info": {
      "codemirror_mode": {
        "name": "ipython",
        "version": 3
      },
      "file_extension": ".py",
      "mimetype": "text/x-python",
      "name": "python",
      "nbconvert_exporter": "python",
      "pygments_lexer": "ipython3",
      "version": "3.12.1"
    },
    "toc-autonumbering": false,
    "toc-showmarkdowntxt": false
  },
  "nbformat": 4,
  "nbformat_minor": 5
}