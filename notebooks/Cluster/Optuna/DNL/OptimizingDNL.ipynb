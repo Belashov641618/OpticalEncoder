{
 "cells": [
  {
   "cell_type": "markdown",
   "id": "5572852b-d367-4d00-90ae-6d6365bd208d",
   "metadata": {},
   "source": [
    "# Настройка среды"
   ]
  },
  {
   "cell_type": "code",
   "execution_count": 1,
   "id": "e5cd5ca1-fca5-4425-a59d-e68f4bbbc9a7",
   "metadata": {},
   "outputs": [],
   "source": [
    "import os\n",
    "import sys\n",
    "sys.path.append(os.path.abspath(\"../../../..\"))"
   ]
  },
  {
   "cell_type": "code",
   "execution_count": 3,
   "id": "d3533648-9d9b-4998-97ab-2a1228af29c1",
   "metadata": {},
   "outputs": [],
   "source": [
    "from belashovplot import TiledPlot"
   ]
  },
  {
   "cell_type": "code",
   "execution_count": null,
   "id": "9cf9cb8b-a4c0-4147-a59e-c1be92b5e087",
   "metadata": {},
   "outputs": [],
   "source": []
  }
 ],
 "metadata": {
  "kernelspec": {
   "display_name": "Python 3 (ipykernel)",
   "language": "python",
   "name": "python3"
  },
  "language_info": {
   "codemirror_mode": {
    "name": "ipython",
    "version": 3
   },
   "file_extension": ".py",
   "mimetype": "text/x-python",
   "name": "python",
   "nbconvert_exporter": "python",
   "pygments_lexer": "ipython3",
   "version": "3.10.12"
  }
 },
 "nbformat": 4,
 "nbformat_minor": 5
}
