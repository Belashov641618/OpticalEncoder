{
 "cells": [
  {
   "cell_type": "markdown",
   "id": "5572852b-d367-4d00-90ae-6d6365bd208d",
   "metadata": {},
   "source": [
    "# Настройка среды"
   ]
  },
  {
   "cell_type": "code",
   "execution_count": null,
   "id": "e5cd5ca1-fca5-4425-a59d-e68f4bbbc9a7",
   "metadata": {},
   "outputs": [],
   "source": [
    "import os\n",
    "import sys\n",
    "sys.path.append(os.path.abspath(\"../../../..\"))"
   ]
  },
  {
   "cell_type": "code",
   "execution_count": null,
   "id": "d3533648-9d9b-4998-97ab-2a1228af29c1",
   "metadata": {},
   "outputs": [],
   "source": [
    "import optuna\n",
    "import torch\n",
    "import numpy\n",
    "import json\n",
    "import pickle\n",
    "from typing import Literal, Union, Any\n",
    "from belashovplot import TiledPlot\n",
    "\n",
    "from elements.propagators import FurrierPropagation\n",
    "from elements.modulators import PhaseModulator, AmplitudeModulator\n",
    "from elements.composition import CompositeModel\n",
    "from elements.detectors import ClassificationDetectors\n",
    "from elements.simple import IntensityToAmplitude, AmplitudeToIntensity\n",
    "\n",
    "from utilities.filters import Gaussian, Window\n",
    "from utilities.datasets import Dataset\n",
    "from utilities.losses import Normalizable, Normalization, LossLinearCombination\n",
    "import cluster"
   ]
  },
  {
   "cell_type": "code",
   "execution_count": null,
   "id": "6bbbe333-01cd-4cbc-80dc-54c438a196d2",
   "metadata": {},
   "outputs": [],
   "source": [
    "from cluster import epochs, SelectedGPUs\n",
    "SelectedGPUs.exclude(1)\n",
    "GPUCount = len(SelectedGPUs.ids)\n",
    "SelectedGPUs.ids"
   ]
  },
  {
   "cell_type": "markdown",
   "id": "9b1ee3e2-d0a8-4c16-8081-698001e43514",
   "metadata": {},
   "source": [
    "# Класс настройщик вариации"
   ]
  },
  {
   "cell_type": "code",
   "execution_count": null,
   "id": "3fab82d4-d3bf-405c-8550-a9731cb7e257",
   "metadata": {},
   "outputs": [],
   "source": [
    "class Variation:\n",
    "    class Abstract:\n",
    "        def __init__(self, name:str):\n",
    "            self._name = name\n",
    "        def __call__(self, trial:optuna.trial):\n",
    "            raise NotImplementedError\n",
    "    class Float(Abstract):\n",
    "        def __init__(self, name:str, v0:float, v1:float=None):\n",
    "            super().__init__(name)\n",
    "            if v1 is None: v1 = v0\n",
    "            self._limits = (v0, v1)\n",
    "        def __call__(self, trial:optuna.trial):\n",
    "            return trial.suggest_float(self._name, *self._limits)\n",
    "    class Int(Abstract):\n",
    "        def __init__(self, name:str, v0:int, v1:int=None):\n",
    "            super().__init__(name)\n",
    "            if v1 is None: v1 = v0\n",
    "            self._limits = (v0, v1)\n",
    "        def __call__(self, trial:optuna.trial):\n",
    "            return trial.suggest_int(self._name, *self._limits)\n",
    "    class Categorical(Abstract):\n",
    "        def __init__(self, name:str, cats:Union[list[str],str], reds:Union[list[Any],Any]=None):\n",
    "            super().__init__(name)\n",
    "            if not isinstance(cats, list): cats = list(cats)\n",
    "            if reds is not None and not isinstance(reds, list): reds = list(redirect)\n",
    "            self._cats = cats\n",
    "            self._reds = reds\n",
    "        def __call__(self, trial:optuna.trial):\n",
    "            val = trial.suggest_categorical(self._name, self._cats)\n",
    "            if self._reds is not None:\n",
    "                index = self._cats.index(val)\n",
    "                val = self._reds[index]\n",
    "            return val\n",
    "    class Proportion(Abstract):\n",
    "        def __init__(self, name:str, amount:int, nmap:list[str]=None):\n",
    "            super().__init__(name)\n",
    "            self._amount = amount\n",
    "            self._nmap = nmap\n",
    "        def __call__(self, trial:optuna.trial):\n",
    "            coefficients = []\n",
    "            for i in range(self._amount):\n",
    "                addition = f'{i}' if self._nmap is None else self._nmap[i]\n",
    "                coefficients.append(trial.suggest_float(f'{self._name}_{addition}', 0.0, 1.0))\n",
    "            integral = sum(coefficients)\n",
    "            coefficients = tuple([coefficient/integral for coefficient in coefficients])\n",
    "            return coefficients\n",
    "    \n",
    "    def __class_getitem__(cls, key:Literal['float', 'int', 'cat']):\n",
    "        if key == 'float': return Variation.Float\n",
    "        if key == 'int':   return Variation.Int\n",
    "        if key == 'cat':   return Variation.Categorical\n",
    "        raise KeyError"
   ]
  },
  {
   "cell_type": "markdown",
   "id": "07f70279-4f09-48a7-8573-19a799dc4235",
   "metadata": {},
   "source": [
    "# Настройки вариаций"
   ]
  },
  {
   "cell_type": "code",
   "execution_count": null,
   "id": "78a20902-30be-44f4-9d4a-47d5074bcbba",
   "metadata": {},
   "outputs": [],
   "source": [
    "# Параметры системы\n",
    "var_wavelength   = Variation.Float('wavelength', 500.0E-9)\n",
    "var_N            = Variation.Int('N', 5000) #5000\n",
    "var_length       = Variation.Float('length', 2.5E-3)\n",
    "var_pixels       = Variation.Int('pixels', 5000) #5000\n",
    "var_distance     = Variation.Float('distance', 1.0E-3, 500.0E-3)\n",
    "var_masks_amount = Variation.Int('masks', 1)\n",
    "var_detectors_norm   = Variation.Categorical('detectors_norm', ['none', 'integral', 'minmax'])\n",
    "\n",
    "# Параметры обучения\n",
    "var_epochs           = Variation.Int('epochs', 5) #5\n",
    "var_batch_per_device = Variation.Int('batch_per_device', 2, 8)\n",
    "var_dataset_scale    = Variation.Float('dataset_scale', 0.1, 1.0)\n",
    "var_loss_proportion  = Variation.Proportion('loss_proportion', 2, ['ce', 'mse'])\n",
    "var_ce_norm          = Variation.Categorical('ce_norm',  ['minmax','max','softmax'], [Normalization.Minmax(), Normalization.Max(), Normalization.Softmax()])\n",
    "var_mse_norm         = Variation.Categorical('mse_norm', ['minmax','max','softmax'], [Normalization.Minmax(), Normalization.Max(), Normalization.Softmax()])\n",
    "var_optimizer        = Variation.Categorical('optimizer', ['Adam', 'SGD', 'RMSProp'], [torch.optim.Adam, torch.optim.SGD, torch.optim.RMSprop])\n",
    "var_learning_rate    = Variation.Float('learning_rate', 1.0E-7, 10.0)\n",
    "\n",
    "# Не менять\n",
    "var_devices          = Variation.Int('devices', GPUCount)"
   ]
  },
  {
   "cell_type": "markdown",
   "id": "5d1495d6-bd3b-4ea1-9ca1-99a5485750e8",
   "metadata": {},
   "source": [
    "# Определение функции оптимизации"
   ]
  },
  {
   "cell_type": "code",
   "execution_count": null,
   "id": "9cf9cb8b-a4c0-4147-a59e-c1be92b5e087",
   "metadata": {},
   "outputs": [],
   "source": [
    "def objective(trial:optuna.trial):\n",
    "    wavelength = var_wavelength(trial)\n",
    "    N = var_N(trial)\n",
    "    length = var_length(trial)\n",
    "    pixels = var_pixels(trial)\n",
    "    distance = var_distance(trial)\n",
    "    masks_amount = var_masks_amount(trial)\n",
    "    detectors_norm = var_detectors_norm(trial)\n",
    "\n",
    "    epochs = var_epochs(trial)\n",
    "    devices = var_devices(trial)\n",
    "    batch_size = var_batch_per_device(trial) * devices\n",
    "    dataset_scale = var_dataset_scale(trial)\n",
    "    loss_proportion = var_loss_proportion(trial)\n",
    "    ce_norm = var_ce_norm(trial)\n",
    "    mse_norm = var_mse_norm(trial)\n",
    "    optimizer = var_optimizer(trial)\n",
    "    learning_rate = var_learning_rate(trial)\n",
    "\n",
    "    print(f\"Текущие параметры эксперимента: {trial.params}\")\n",
    "    \n",
    "    propagation = FurrierPropagation(N, length, wavelength, 1.0, 0.0, distance, 0.4)\n",
    "    phase_modulators = [PhaseModulator(N, length, pixels) for i in range(masks_amount)]\n",
    "    amplitude_modulators = [AmplitudeModulator(N, length, pixels) for i in range(masks_amount)]\n",
    "    elements = [propagation]\n",
    "    for phase_modulator, amplitude_modulator in zip(phase_modulators, amplitude_modulators):\n",
    "        elements += [phase_modulator, amplitude_modulator, propagation]\n",
    "    spectral_filter = Window(centers=wavelength, sizes=300.0E-9)\n",
    "    detectors_filter = Gaussian((length/10, length/10), (0,0))\n",
    "    detectors = ClassificationDetectors(N, length, wavelength, 10, detectors_filter, spectral_filter)\n",
    "    if detectors_norm == 'none':\n",
    "        detectors.normalization.none()\n",
    "    elif detectors_norm == 'integral':\n",
    "        detectors.normalization.integral()\n",
    "    elif detectors_norm == 'minmax':\n",
    "        detectors.normalization.minmax()\n",
    "    else: raise TypeError(f\"Incorrect detectors normalization {detectors_norm}\")\n",
    "    model = CompositeModel(IntensityToAmplitude(), *elements, AmplitudeToIntensity(), detectors)\n",
    "    \n",
    "    dataset = Dataset('MNIST', batch_size, N, N, torch.float32, threads=8, preload=10)\n",
    "    dataset.padding(surface_ratio=dataset_scale)\n",
    "    loss_function = LossLinearCombination(Normalizable.CrossEntropy(ce_norm), Normalizable.MeanSquareError(mse_norm))\n",
    "    loss_function.proportions(*loss_proportion)\n",
    "\n",
    "    mh, lh, cmh = cluster.epochs(epochs, 10, model, dataset, loss_function, optimizer, lr=learning_rate)\n",
    "\n",
    "    accuracies = [100*numpy.sum(numpy.diagonal(confusion, 0)) / numpy.sum(confusion) for confusion in cmh]\n",
    "    best_index = max(enumerate(accuracies), key=lambda x: x[1])[0]\n",
    "    best_accuracy = accuracies[best_index]\n",
    "\n",
    "    \n",
    "    model = pickle.dumps(mh[best_index-1]).hex()\n",
    "    accuracy = json.dumps(best_accuracy)\n",
    "    accuracies_history = json.dumps(best_accuracy)\n",
    "    loss_history = json.dumps(numpy.concatenate(lh).tolist())\n",
    "    confusion_matrixes = json.dumps(numpy.stack(cmh).tolist())\n",
    "\n",
    "    trial.set_user_attr('model', model)\n",
    "    trial.set_user_attr('accuracy', accuracy)\n",
    "    trial.set_user_attr('accuracies_history', accuracies_history)\n",
    "    trial.set_user_attr('loss_history', loss_history)\n",
    "    trial.set_user_attr('confusion_matrixes', confusion_matrixes)\n",
    "\n",
    "    return best_accuracy\n",
    "    \n",
    "study = optuna.create_study(study_name=\"Default\", storage=\"sqlite:///D2NN.db\", direction='maximize', load_if_exists=True)"
   ]
  },
  {
   "cell_type": "markdown",
   "id": "281ab1e5-ab71-4329-9881-b392ad55b332",
   "metadata": {},
   "source": [
    "# Оптимизация"
   ]
  },
  {
   "cell_type": "code",
   "execution_count": null,
   "id": "d74b1514-f7bc-4dd6-a703-5dd428b81427",
   "metadata": {},
   "outputs": [],
   "source": [
    "study.optimize(objective, n_trials=10)"
   ]
  },
  {
   "cell_type": "code",
   "execution_count": null,
   "id": "794bbc1f-4d3f-4d80-91bf-f418744c43b4",
   "metadata": {},
   "outputs": [],
   "source": [
    "study.optimize(objective, n_trials=10)"
   ]
  },
  {
   "cell_type": "code",
   "execution_count": null,
   "id": "dcca36ff-c3f2-46c2-89ba-7456303d9886",
   "metadata": {},
   "outputs": [],
   "source": [
    "study.optimize(objective, n_trials=10)"
   ]
  },
  {
   "cell_type": "code",
   "execution_count": null,
   "id": "56eb2b45-6c5f-4807-b191-89edd8f41391",
   "metadata": {},
   "outputs": [],
   "source": []
  }
 ],
 "metadata": {
  "kernelspec": {
   "display_name": "Python 3 (ipykernel)",
   "language": "python",
   "name": "python3"
  },
  "language_info": {
   "codemirror_mode": {
    "name": "ipython",
    "version": 3
   },
   "file_extension": ".py",
   "mimetype": "text/x-python",
   "name": "python",
   "nbconvert_exporter": "python",
   "pygments_lexer": "ipython3",
   "version": "3.10.12"
  }
 },
 "nbformat": 4,
 "nbformat_minor": 5
}
