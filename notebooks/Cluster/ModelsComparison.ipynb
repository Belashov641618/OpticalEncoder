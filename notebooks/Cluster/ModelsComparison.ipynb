{
 "cells": [
  {
   "cell_type": "markdown",
   "id": "bae80679-f1df-4ee2-a1b5-43133d10bd70",
   "metadata": {},
   "source": [
    "# Настройка среды"
   ]
  },
  {
   "cell_type": "code",
   "execution_count": 1,
   "id": "e5cd5ca1-fca5-4425-a59d-e68f4bbbc9a7",
   "metadata": {},
   "outputs": [],
   "source": [
    "import os\n",
    "import sys\n",
    "sys.path.append(os.path.abspath(\"../..\"))"
   ]
  },
  {
   "cell_type": "code",
   "execution_count": 2,
   "id": "f5528498-38eb-40c3-b3b2-6bf4cfd61735",
   "metadata": {},
   "outputs": [],
   "source": [
    "from belashovplot import TiledPlot\n",
    "from utilities import *\n",
    "from utilities.filters import Gaussian, Window\n",
    "from utilities.losses import MseCrossEntropyCombination\n",
    "from elements.abstracts import AbstractModulator\n",
    "from elements.modulators import Lens, PhaseModulator, AmplitudeModulator\n",
    "from elements.propagators import FurrierPropagation, ConvolutionalPropagation\n",
    "from elements.composition import CompositeModel, HybridModel\n",
    "from elements.wrappers import CudaMemoryChunker, Incoherent\n",
    "from elements.detectors import ClassificationDetectors, MatrixDetectors\n",
    "from elements.simple import AdjustSize, AmplitudeToIntensity, IntensityToAmplituder, Empty\n",
    "from parameters import FigureWidthHeight, FontLibrary\n",
    "from tqdm import tqdm\n",
    "from math import sin, sqrt\n",
    "import torch\n",
    "import torchvision\n",
    "import numpy\n",
    "import timm\n",
    "import pandas\n",
    "import json\n",
    "from copy import deepcopy\n",
    "from cluster import train, confusion, execute, epochs, SelectedGPUs\n",
    "from PIL import Image\n",
    "from itertools import product\n",
    "import optuna"
   ]
  },
  {
   "cell_type": "code",
   "execution_count": 3,
   "id": "e437ce31-d5ec-4785-8ff8-c7c0928ac06f",
   "metadata": {},
   "outputs": [],
   "source": [
    "FontLibrary.Fonts.PlotTitle.FontSize = 16\n",
    "\n",
    "FontLibrary.Fonts.DescriptionLeft.FontSize = 12\n",
    "FontLibrary.Fonts.DescriptionLeft.FontWeight = 'bold'\n",
    "FontLibrary.Fonts.DescriptionLeft.FontStyle = 'italic'\n",
    "\n",
    "FontLibrary.Fonts.DescriptionBottom.FontSize = 10\n",
    "FontLibrary.Fonts.DescriptionBottom.FontWeight = 'bold'\n",
    "FontLibrary.Fonts.DescriptionBottom.FontStyle = 'italic'\n",
    "\n",
    "FontLibrary.Fonts.DescriptionTop.FontSize = 10\n",
    "FontLibrary.Fonts.DescriptionTop.FontWeight = 'bold'\n",
    "FontLibrary.Fonts.DescriptionTop.FontStyle = 'italic'\n",
    "\n",
    "FontLibrary.Fonts.ColumnDescriptionTop.FontSize = 9\n",
    "FontLibrary.Fonts.ColumnDescriptionBottom.FontSize = 9\n",
    "FontLibrary.Fonts.RowDescriptionLeft.FontSize = 9\n",
    "FontLibrary.Fonts.RowDescriptionRight.FontSize = 9\n",
    "FontLibrary.Fonts.AxisX.FontSize = 8\n",
    "FontLibrary.Fonts.AxisY.FontSize = 8\n",
    "\n",
    "FontLibrary.Fonts.GraphTitle.FontSize = 10\n",
    "\n",
    "FigureWidthHeight = (6.69291, 10.1181-1.0)"
   ]
  },
  {
   "cell_type": "code",
   "execution_count": 4,
   "id": "7e2c4046-6db6-48aa-8e20-ffe47b0bce7e",
   "metadata": {},
   "outputs": [
    {
     "name": "stdout",
     "output_type": "stream",
     "text": [
      "Используемый девайс: NVIDIA A100-SXM4-80GB\n"
     ]
    }
   ],
   "source": [
    "device = torch.device(2 if torch.cuda.is_available() else 'cpu')\n",
    "print('Используемый девайс:', torch.cuda.get_device_name(device) if torch.cuda.is_available() else 'ЦП')"
   ]
  },
  {
   "cell_type": "markdown",
   "id": "7270fe56-edb4-4315-ad18-12e7eef2e536",
   "metadata": {},
   "source": [
    "# Определение методов"
   ]
  },
  {
   "cell_type": "code",
   "execution_count": 5,
   "id": "aff05e7b-0f03-483c-8b1a-dad6fb37fb08",
   "metadata": {},
   "outputs": [],
   "source": [
    "def resnet18(classes:int=10):\n",
    "    return timm.create_model('resnet18', pretrained=False, in_chans=1, num_classes=classes).to(device)"
   ]
  },
  {
   "cell_type": "markdown",
   "id": "53a5fbfe-b5bd-4f13-b7b9-30d965653659",
   "metadata": {},
   "source": [
    "# Определение цели для Optuna"
   ]
  },
  {
   "cell_type": "code",
   "execution_count": 6,
   "id": "dd08e081-bde0-47d8-a341-f976d41ea1df",
   "metadata": {},
   "outputs": [
    {
     "name": "stderr",
     "output_type": "stream",
     "text": [
      "[I 2024-08-16 09:39:04,826] Using an existing study with name 'ID2NN' instead of creating a new one.\n"
     ]
    }
   ],
   "source": [
    "def objective(trial:optuna.trial):\n",
    "    # Постоянные параметры \n",
    "    N = 1536//6 #1536\n",
    "    pixels = 1536//6 #1536\n",
    "    length = 3.0E-3\n",
    "    wavelength = 500.0E-9\n",
    "    spatial_coherence = 100.0E-6\n",
    "    time_coherence = 10.0E-9\n",
    "    time_relaxation = 1.0E-6\n",
    "    mean_samples = 20 #20\n",
    "    detectors_amount =/ 24\n",
    "    detector_size = length / 60 \n",
    "\n",
    "    # Записываем постоянные параметры\n",
    "    trial.set_user_attr('N',                 N)\n",
    "    trial.set_user_attr('pixels',            pixels)\n",
    "    trial.set_user_attr('length',            length)\n",
    "    trial.set_user_attr('wavelength',        wavelength)\n",
    "    trial.set_user_attr('spatial_coherence', spatial_coherence)\n",
    "    trial.set_user_attr('time_coherence',    time_coherence)\n",
    "    trial.set_user_attr('time_relaxation',   time_relaxation)\n",
    "    trial.set_user_attr('mean_samples',      mean_samples)\n",
    "    trial.set_user_attr('detectors',         detectors_amount)\n",
    "    trial.set_user_attr('detectors_size',    detector_size)\n",
    "    \n",
    "    # Варьируемые параметры\n",
    "    masks_amount              = trial.suggest_int('masks amount',               3,      10)\n",
    "    batch_size                = trial.suggest_int('batch size',                 32//8,  40//8)\n",
    "    distance                  = trial.suggest_float('distance',                 5.0E-3, 500.0E-3)\n",
    "    learning_rate             = trial.suggest_float('learning rate',            1.0E-6, 1.0E-2)\n",
    "    loss_functions_proportion = trial.suggest_float('cross entorpy proportion', 0.0,    1.0)\n",
    "    optimizer_type            = trial.suggest_categorical('optimizer type',     [\"Adam\", \"RMSprop\"])\n",
    "    optimizer_type = {\"Adam\":torch.optim.Adam, \"RMSprop\":torch.optim.RMSprop}[optimizer_type]\n",
    "    loss_function = MseCrossEntropyCombination(loss_functions_proportion)\n",
    "    \n",
    "    # Определение датасета\n",
    "    dataset = Dataset('CIFAR10', batch_size, N, N, torch.float32, threads=8, preload=10)\n",
    "    # dataset.padding(surface_ratio=0.3)\n",
    "    dataset.load.train()\n",
    "    dataset.load.test()\n",
    "\n",
    "    # Модуль некогерентности\n",
    "    incoherent = Incoherent(spatial_coherence, time_coherence, time_relaxation, mean_samples, N, length)\n",
    "    incoherent_encoder, incoherent_decoder = incoherent.pair()\n",
    "    incoherent_encoder, incoherent_decoder = incoherent_encoder.to(device), incoherent_decoder.to(device)\n",
    "    incoherent.sample()\n",
    "    incoherent_encoder, incoherent_decoder = incoherent_encoder.cpu(), incoherent_decoder.cpu()\n",
    "    torch.cuda.empty_cache()\n",
    "\n",
    "    # Инициализация детекторов\n",
    "    spectral_filter = Window(centers=wavelength, sizes=300.0E-9)\n",
    "    detectors_filter = Gaussian((detector_size, detector_size), (0,0))\n",
    "    detectors = MatrixDetectors(N, length, wavelength, detectors_amount, detectors_filter, spectral_filter)\n",
    "\n",
    "    # Инициализация дополнительных можулей\n",
    "    int_to_amp = IntensityToAmplituder()\n",
    "    full_propagation =  FurrierPropagation(N, length, wavelength, 1.0, 0.0, distance*masks_amount, 0.4)\n",
    "    \n",
    "    # Инициализация электронной, оптической части и гибридной модели\n",
    "    electronic = timm.create_model('resnet18', pretrained=False,  in_chans=1, num_classes=10)\n",
    "    propagation = FurrierPropagation(N, length, wavelength, 1.0, 0.0, distance, 0.4)\n",
    "    phase_modulators     = [PhaseModulator(N, length, pixels)     for i in range(masks_amount)]\n",
    "    amplitude_modulators = [AmplitudeModulator(N, length, pixels) for i in range(masks_amount)]\n",
    "    elements = [phase_modulators[0], amplitude_modulators[0]]\n",
    "    for phase_modulator, amplitude_modulator in zip(phase_modulators[1:], amplitude_modulators[1:]):\n",
    "        elements.append(propagation)\n",
    "        elements.append(phase_modulator)\n",
    "        elements.append(amplitude_modulator)\n",
    "    elements.append(propagation)\n",
    "    optical = CompositeModel(int_to_amp, incoherent_encoder, *elements, incoherent_decoder)\n",
    "    model = HybridModel(optical, detectors, electronic)\n",
    "\n",
    "    # Инициализация пустой модели (без оптической части)\n",
    "    empty_incoherent = deepcopy(incoherent)\n",
    "    empty_incoherent_encoder, empty_incoherent_decoder = empty_incoherent.pair()\n",
    "    empty_optical = CompositeModel(int_to_amp, empty_incoherent_encoder, full_propagation, empty_incoherent_decoder)\n",
    "    empty_model = HybridModel(empty_optical, deepcopy(detectors), deepcopy(electronic))\n",
    "\n",
    "    # Обучение моделей\n",
    "    mh, lh, cmh, emh, elh, ecmh = [], [], [], [], [], []\n",
    "    mh, lh, cmh    = epochs(10, 10, model,       dataset, loss_function, optimizer_type, lr=learning_rate)\n",
    "    emh, elh, ecmh = epochs(10, 10, empty_model, dataset, loss_function, optimizer_type, lr=learning_rate)\n",
    "\n",
    "    # Запись результатов\n",
    "    accuracy = 100*numpy.sum(numpy.diagonal(cmh[-1], 0))/numpy.sum(cmh[-1])\n",
    "    empty_accuracy = 100*numpy.sum(numpy.diagonal(ecmh[-1], 0))/numpy.sum(ecmh[-1])\n",
    "    trial.set_user_attr('accuracy',       accuracy)\n",
    "    trial.set_user_attr('empty_accuracy', empty_accuracy)\n",
    "    print(f\"Точности модели и пустой модели: {accuracy} | {empty_accuracy}\")\n",
    "\n",
    "    # Запись истории ошибок\n",
    "    lh = numpy.concatenate(lh).tolist()\n",
    "    trial.set_user_attr('loss_history', json.dumps(lh))\n",
    "    \n",
    "    return accuracy\n",
    "\n",
    "# optuna.delete_study(study_name=\"ID2NN\", storage=\"sqlite:///ID2NN.db\")\n",
    "study = optuna.create_study(study_name=\"ID2NN\", storage=\"sqlite:///ID2NN.db\", direction='maximize', load_if_exists=True)"
   ]
  },
  {
   "cell_type": "markdown",
   "id": "bdfaf804-e6be-4a93-9abc-a1c39ad5a61f",
   "metadata": {},
   "source": [
    "# Оптимизация"
   ]
  },
  {
   "cell_type": "code",
   "execution_count": null,
   "id": "31b4e580-a1c7-4c6f-8d69-09bc9aeeed86",
   "metadata": {},
   "outputs": [],
   "source": [
    "study.optimize(objective, n_trials=3)"
   ]
  },
  {
   "cell_type": "code",
   "execution_count": 9,
   "id": "3db41ff3-54b1-417a-828d-23fdb6c1b56b",
   "metadata": {},
   "outputs": [
    {
     "data": {
      "text/html": [
       "<div>\n",
       "<style scoped>\n",
       "    .dataframe tbody tr th:only-of-type {\n",
       "        vertical-align: middle;\n",
       "    }\n",
       "\n",
       "    .dataframe tbody tr th {\n",
       "        vertical-align: top;\n",
       "    }\n",
       "\n",
       "    .dataframe thead th {\n",
       "        text-align: right;\n",
       "    }\n",
       "</style>\n",
       "<table border=\"1\" class=\"dataframe\">\n",
       "  <thead>\n",
       "    <tr style=\"text-align: right;\">\n",
       "      <th></th>\n",
       "      <th>user_attrs_accuracy</th>\n",
       "      <th>user_attrs_empty_accuracy</th>\n",
       "    </tr>\n",
       "  </thead>\n",
       "  <tbody>\n",
       "    <tr>\n",
       "      <th>0</th>\n",
       "      <td>9.218227</td>\n",
       "      <td>42.755473</td>\n",
       "    </tr>\n",
       "    <tr>\n",
       "      <th>1</th>\n",
       "      <td>42.755473</td>\n",
       "      <td>42.755473</td>\n",
       "    </tr>\n",
       "    <tr>\n",
       "      <th>2</th>\n",
       "      <td>NaN</td>\n",
       "      <td>NaN</td>\n",
       "    </tr>\n",
       "  </tbody>\n",
       "</table>\n",
       "</div>"
      ],
      "text/plain": [
       "   user_attrs_accuracy  user_attrs_empty_accuracy\n",
       "0             9.218227                  42.755473\n",
       "1            42.755473                  42.755473\n",
       "2                  NaN                        NaN"
      ]
     },
     "execution_count": 9,
     "metadata": {},
     "output_type": "execute_result"
    }
   ],
   "source": [
    "dataframe:pandas.DataFrame = study.trials_dataframe()\n",
    "dataframe[['user_attrs_accuracy', 'user_attrs_empty_accuracy']]"
   ]
  },
  {
   "cell_type": "code",
   "execution_count": null,
   "id": "75d7e8da-7d3f-4737-96da-605cf5f7779b",
   "metadata": {},
   "outputs": [],
   "source": [
    "study.optimize(objective, n_trials=3)"
   ]
  },
  {
   "cell_type": "code",
   "execution_count": null,
   "id": "bc04058d-a71d-43e4-9ab5-281008476ed5",
   "metadata": {},
   "outputs": [],
   "source": [
    "study.optimize(objective, n_trials=3)"
   ]
  },
  {
   "cell_type": "code",
   "execution_count": null,
   "id": "69f7260a-abcc-42ca-b8ce-c7b9da130904",
   "metadata": {},
   "outputs": [],
   "source": [
    "study.optimize(objective, n_trials=3)"
   ]
  },
  {
   "cell_type": "code",
   "execution_count": null,
   "id": "2a4c073e-01ea-4ff8-a52e-e467a2a7f1ff",
   "metadata": {},
   "outputs": [],
   "source": [
    "study.optimize(objective, n_trials=3)"
   ]
  },
  {
   "cell_type": "code",
   "execution_count": null,
   "id": "46c12b29-7c40-410d-aa2a-69a7cedccf9d",
   "metadata": {},
   "outputs": [],
   "source": [
    "study.optimize(objective, n_trials=3)"
   ]
  },
  {
   "cell_type": "code",
   "execution_count": null,
   "id": "e0e964bc-89bc-470b-a7b3-b49e4b2762a8",
   "metadata": {},
   "outputs": [],
   "source": [
    "study.optimize(objective, n_trials=3)"
   ]
  },
  {
   "cell_type": "code",
   "execution_count": null,
   "id": "9edbb4c4-9e82-4bf0-afe6-73c57113597a",
   "metadata": {},
   "outputs": [],
   "source": [
    "study.optimize(objective, n_trials=3)"
   ]
  }
 ],
 "metadata": {
  "kernelspec": {
   "display_name": "Python 3 (ipykernel)",
   "language": "python",
   "name": "python3"
  },
  "language_info": {
   "codemirror_mode": {
    "name": "ipython",
    "version": 3
   },
   "file_extension": ".py",
   "mimetype": "text/x-python",
   "name": "python",
   "nbconvert_exporter": "python",
   "pygments_lexer": "ipython3",
   "version": "3.10.12"
  }
 },
 "nbformat": 4,
 "nbformat_minor": 5
}
