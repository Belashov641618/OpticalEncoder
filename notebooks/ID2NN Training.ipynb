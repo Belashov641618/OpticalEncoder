{
 "cells": [
  {
   "cell_type": "markdown",
   "id": "ccc45c47-db3b-4054-9d55-fe9d135dc729",
   "metadata": {},
   "source": [
    "### Настройка среды"
   ]
  },
  {
   "cell_type": "code",
   "execution_count": 1,
   "id": "eb08733f-d647-4841-baf1-21705ed7c72e",
   "metadata": {
    "execution": {
     "iopub.execute_input": "2024-04-22T14:13:16.403012Z",
     "iopub.status.busy": "2024-04-22T14:13:16.401982Z",
     "iopub.status.idle": "2024-04-22T14:13:16.446075Z",
     "shell.execute_reply": "2024-04-22T14:13:16.445454Z",
     "shell.execute_reply.started": "2024-04-22T14:13:16.402951Z"
    },
    "tags": []
   },
   "outputs": [],
   "source": [
    "import os\n",
    "import sys\n",
    "\n",
    "sys.path.append(os.path.abspath(\"..\"))"
   ]
  },
  {
   "cell_type": "code",
   "execution_count": 2,
   "id": "198fbffb-6335-4e54-b0d5-94d0109e255d",
   "metadata": {
    "execution": {
     "iopub.execute_input": "2024-04-22T14:13:16.822681Z",
     "iopub.status.busy": "2024-04-22T14:13:16.822073Z",
     "iopub.status.idle": "2024-04-22T14:13:22.027179Z",
     "shell.execute_reply": "2024-04-22T14:13:22.026255Z",
     "shell.execute_reply.started": "2024-04-22T14:13:16.822646Z"
    },
    "tags": []
   },
   "outputs": [
    {
     "name": "stdout",
     "output_type": "stream",
     "text": [
      "Defaulting to user installation because normal site-packages is not writeable\n",
      "Requirement already satisfied: belashovplot in /home/jupyter/.local/lib/python3.10/site-packages (1.0)\n",
      "\n",
      "\u001b[1m[\u001b[0m\u001b[34;49mnotice\u001b[0m\u001b[1;39;49m]\u001b[0m\u001b[39;49m A new release of pip is available: \u001b[0m\u001b[31;49m23.0.1\u001b[0m\u001b[39;49m -> \u001b[0m\u001b[32;49m24.0\u001b[0m\n",
      "\u001b[1m[\u001b[0m\u001b[34;49mnotice\u001b[0m\u001b[1;39;49m]\u001b[0m\u001b[39;49m To update, run: \u001b[0m\u001b[32;49mpython3 -m pip install --upgrade pip\u001b[0m\n"
     ]
    }
   ],
   "source": [
    "%pip install belashovplot"
   ]
  },
  {
   "cell_type": "code",
   "execution_count": 3,
   "id": "d1193e17-e375-41a3-8f98-9bea9bfd4d70",
   "metadata": {
    "execution": {
     "iopub.execute_input": "2024-04-22T14:13:22.033304Z",
     "iopub.status.busy": "2024-04-22T14:13:22.032487Z",
     "iopub.status.idle": "2024-04-22T14:13:28.042703Z",
     "shell.execute_reply": "2024-04-22T14:13:28.042036Z",
     "shell.execute_reply.started": "2024-04-22T14:13:22.033269Z"
    },
    "tags": []
   },
   "outputs": [],
   "source": [
    "from belashovplot import TiledPlot\n",
    "from utilities import *\n",
    "from elements.modulators import Lens, PhaseModulator\n",
    "from elements.propagators import FurrierPropagation\n",
    "from elements.composition import CompositeModel\n",
    "from elements.wrappers import CudaMemoryChunker, Incoherent\n",
    "from tqdm import tqdm\n",
    "from math import sin, sqrt\n",
    "import torch"
   ]
  },
  {
   "cell_type": "markdown",
   "id": "781efbd0-e345-44d6-8658-198a72df08ec",
   "metadata": {},
   "source": [
    "### Цель эксперемента"
   ]
  },
  {
   "cell_type": "markdown",
   "id": "debc8cd9-181a-4852-90e2-e3aa8bc3e7c3",
   "metadata": {},
   "source": [
    "Целью данного эксперемента является задание системы ..."
   ]
  },
  {
   "cell_type": "markdown",
   "id": "a777e3a4-bcde-4580-b71d-77e0fce1db5a",
   "metadata": {},
   "source": [
    "### Настройка некогерентности"
   ]
  },
  {
   "cell_type": "code",
   "execution_count": 5,
   "id": "d0a396e3-03a4-4310-a955-1275ce11aebd",
   "metadata": {
    "execution": {
     "iopub.execute_input": "2024-04-22T14:13:53.761272Z",
     "iopub.status.busy": "2024-04-22T14:13:53.760530Z",
     "iopub.status.idle": "2024-04-22T14:13:53.775425Z",
     "shell.execute_reply": "2024-04-22T14:13:53.774833Z",
     "shell.execute_reply.started": "2024-04-22T14:13:53.761234Z"
    },
    "tags": []
   },
   "outputs": [
    {
     "name": "stdout",
     "output_type": "stream",
     "text": [
      "Временная когерентность:        10.0 нс\n",
      "Время релаксации:               1.0 мкc\n",
      "Пространственная когерентность: 50.0 мкм\n"
     ]
    }
   ],
   "source": [
    "spatial_coherence = 50.0E-6\n",
    "time_coherence = 10.0E-9\n",
    "time_relaxation = 1.0E-6\n",
    "mean_samples = 100\n",
    "\n",
    "print(f\"Временная когерентность:        {engineering(time_coherence, 'с')}\")\n",
    "print(f\"Время релаксации:               {engineering(time_relaxation, 'c')}\")\n",
    "print(f\"Пространственная когерентность: {engineering(spatial_coherence, 'м')}\")"
   ]
  },
  {
   "cell_type": "markdown",
   "id": "9b02c2e1-0d18-4264-9cdb-24e57e286145",
   "metadata": {
    "tags": []
   },
   "source": [
    "## Система без линз"
   ]
  },
  {
   "cell_type": "markdown",
   "id": "086d0caf-d227-4214-8bcf-34056778c849",
   "metadata": {},
   "source": [
    "Описание системы"
   ]
  },
  {
   "cell_type": "markdown",
   "id": "63ef77d2-0ac6-43e4-b85d-d409f0f2e5eb",
   "metadata": {},
   "source": [
    "### Настройка параметров системы"
   ]
  },
  {
   "cell_type": "code",
   "execution_count": 15,
   "id": "31080e4f-5c18-4e0c-9cf6-5dbb0c80c194",
   "metadata": {
    "execution": {
     "iopub.execute_input": "2024-04-22T14:22:09.163663Z",
     "iopub.status.busy": "2024-04-22T14:22:09.162980Z",
     "iopub.status.idle": "2024-04-22T14:22:09.179474Z",
     "shell.execute_reply": "2024-04-22T14:22:09.178875Z",
     "shell.execute_reply.started": "2024-04-22T14:22:09.163630Z"
    },
    "tags": []
   },
   "outputs": [
    {
     "name": "stdout",
     "output_type": "stream",
     "text": [
      "Длинна волны:                             500.0 нм\n",
      "Количество вычислительных пикселей:       3000\n",
      "Количество пикселей маски:                1000\n",
      "Количество модуляторов:                   5\n",
      "Размер оптических элементов:              10.0 мм\n",
      "Размер пикселя маски:                     10.0 мкм\n",
      "Расстояние между слоями:                  99.875 мм\n"
     ]
    }
   ],
   "source": [
    "length = 10.0E-3\n",
    "wavelength = 500E-9\n",
    "mask_unit_length = 10.0E-6\n",
    "masks_amount = 5\n",
    "cppp = 3\n",
    "\n",
    "pixels = int(length/mask_unit_length) + 1\n",
    "N = int(pixels*cppp)\n",
    "distance = length * sqrt((mask_unit_length/wavelength)**2-1) * 0.5\n",
    "\n",
    "print(f\"Длинна волны:                             {engineering(wavelength, 'м')}\")\n",
    "print(f\"Количество вычислительных пикселей:       {N}\")\n",
    "print(f\"Количество пикселей маски:                {pixels}\")\n",
    "print(f\"Количество модуляторов:                   {masks_amount}\")\n",
    "print(f\"Размер оптических элементов:              {engineering(length, 'м')}\")\n",
    "print(f\"Размер пикселя маски:                     {engineering(mask_unit_length, 'м')}\")\n",
    "print(f\"Расстояние между слоями:                  {engineering(distance, 'м')}\")"
   ]
  },
  {
   "cell_type": "markdown",
   "id": "03e95613-89ca-42c8-8947-4ffeac60a6da",
   "metadata": {},
   "source": [
    "### Инициализация оптической модели"
   ]
  },
  {
   "cell_type": "code",
   "execution_count": 17,
   "id": "4484cc15-f7f1-49a1-89d6-88d2611cb310",
   "metadata": {
    "execution": {
     "iopub.execute_input": "2024-04-22T14:24:59.016570Z",
     "iopub.status.busy": "2024-04-22T14:24:59.015947Z",
     "iopub.status.idle": "2024-04-22T14:25:01.274124Z",
     "shell.execute_reply": "2024-04-22T14:25:01.273455Z",
     "shell.execute_reply.started": "2024-04-22T14:24:59.016533Z"
    },
    "tags": []
   },
   "outputs": [],
   "source": [
    "propagation = FurrierPropagation(N, length, wavelength, 1.0, 0.0, distance, 0.7)\n",
    "modulators = [PhaseModulator(N, length, pixels) for i in range(masks_amount)]\n",
    "elements = [modulators[0]]\n",
    "for modulator in modulators[1:]:\n",
    "    elements.append(propagation)\n",
    "    elements.append(modulator)\n",
    "\n",
    "incoherent = Incoherent(spatial_coherence, time_coherence, time_relaxation, mean_samples, pixels, length)\n",
    "chunker = CudaMemoryChunker()\n",
    "\n",
    "model = CompositeModel(*elements)\n",
    "model.wrap(chunker)\n",
    "model.wrap(incoherent)"
   ]
  },
  {
   "cell_type": "markdown",
   "id": "eb0f2f25-8da1-42d9-94b5-9749b336b6cc",
   "metadata": {},
   "source": [
    "### Инициализация набора данных"
   ]
  },
  {
   "cell_type": "code",
   "execution_count": null,
   "id": "124f036a-8687-409b-8a41-316541ea2551",
   "metadata": {},
   "outputs": [],
   "source": [
    "dataset = Dataset('Flowers', 100, N, N, torch.complex64)\n",
    "dataset.train\n",
    "dataset.test"
   ]
  },
  {
   "cell_type": "markdown",
   "id": "fc20e6b4-38de-478e-b0c4-f2f0ce932864",
   "metadata": {
    "jp-MarkdownHeadingCollapsed": true,
    "tags": []
   },
   "source": [
    "## Система с одной линзой"
   ]
  },
  {
   "cell_type": "markdown",
   "id": "70734edf-4fd5-4a66-b121-303895b4c1fa",
   "metadata": {},
   "source": [
    "Описание системы ..."
   ]
  },
  {
   "cell_type": "markdown",
   "id": "6a5a5786-126a-4f66-83c2-ec135d868148",
   "metadata": {},
   "source": [
    "### Настройка параметров системы"
   ]
  },
  {
   "cell_type": "code",
   "execution_count": 11,
   "id": "dd91a25b-90cc-4ae5-8f72-e7bec2e6cd8d",
   "metadata": {
    "execution": {
     "iopub.execute_input": "2024-04-22T14:18:48.307640Z",
     "iopub.status.busy": "2024-04-22T14:18:48.306924Z",
     "iopub.status.idle": "2024-04-22T14:18:48.330436Z",
     "shell.execute_reply": "2024-04-22T14:18:48.329647Z",
     "shell.execute_reply.started": "2024-04-22T14:18:48.307603Z"
    },
    "tags": []
   },
   "outputs": [
    {
     "name": "stdout",
     "output_type": "stream",
     "text": [
      "Длинна волны:                             500.0 нм\n",
      "Количество вычислительных пикселей:       3000\n",
      "Количество пикселей маски:                1000\n",
      "Количество пикселей входного изображения: 2\n",
      "Количество модуляторов:                   5\n",
      "Размер оптических элементов:              20.0 мм\n",
      "Размер пикселя маски:                     20.0 мкм\n",
      "Размер входного изображения:              41.767 мкм\n",
      "Расстояние между слоями:                  799.75 мм\n",
      "Фокусное расстояние линзы:                10.0 мм\n",
      "Расстояние до линзы:                      10.021 мм\n",
      "Расстояние после линзы:                   4.798 м\n"
     ]
    }
   ],
   "source": [
    "length = 20.0E-3\n",
    "wavelength = 500E-9\n",
    "mask_unit_length = 20.0E-6\n",
    "masks_amount = 5\n",
    "cppp = 3\n",
    "\n",
    "pixels = int(length/mask_unit_length) + 1\n",
    "N = int(pixels*cppp)\n",
    "distance = length * sqrt((mask_unit_length/wavelength)**2-1)\n",
    "\n",
    "focus = length / 2\n",
    "b = distance*(masks_amount + 1)\n",
    "H = length*focus / (b - focus)\n",
    "a = b * H / length\n",
    "h_pixels = int(pixels * H / length)\n",
    "\n",
    "print(f\"Длинна волны:                             {engineering(wavelength, 'м')}\")\n",
    "print(f\"Количество вычислительных пикселей:       {N}\")\n",
    "print(f\"Количество пикселей маски:                {pixels}\")\n",
    "print(f\"Количество пикселей входного изображения: {h_pixels}\")\n",
    "print(f\"Количество модуляторов:                   {masks_amount}\")\n",
    "print(f\"Размер оптических элементов:              {engineering(length, 'м')}\")\n",
    "print(f\"Размер пикселя маски:                     {engineering(mask_unit_length, 'м')}\")\n",
    "print(f\"Размер входного изображения:              {engineering(H, 'м')}\")\n",
    "print(f\"Расстояние между слоями:                  {engineering(distance, 'м')}\")\n",
    "print(f\"Фокусное расстояние линзы:                {engineering(focus, 'м')}\")\n",
    "print(f\"Расстояние до линзы:                      {engineering(a, 'м')}\")\n",
    "print(f\"Расстояние после линзы:                   {engineering(b, 'м')}\")"
   ]
  },
  {
   "cell_type": "markdown",
   "id": "b261319b-b0f2-4ad6-9f07-13b147f936dc",
   "metadata": {},
   "source": [
    "### Инициализация модулей и оптической модели"
   ]
  },
  {
   "cell_type": "code",
   "execution_count": 7,
   "id": "4ce0ffb7-ab50-4ca9-a071-302c8474d797",
   "metadata": {
    "execution": {
     "iopub.execute_input": "2024-04-22T14:14:00.142809Z",
     "iopub.status.busy": "2024-04-22T14:14:00.142121Z",
     "iopub.status.idle": "2024-04-22T14:14:05.113478Z",
     "shell.execute_reply": "2024-04-22T14:14:05.109096Z",
     "shell.execute_reply.started": "2024-04-22T14:14:00.142779Z"
    },
    "tags": []
   },
   "outputs": [
    {
     "ename": "NameError",
     "evalue": "name 'modulators_amount' is not defined",
     "output_type": "error",
     "traceback": [
      "\u001b[0;31m---------------------------------------------------------------------------\u001b[0m",
      "\u001b[0;31mNameError\u001b[0m                                 Traceback (most recent call last)",
      "\u001b[0;32m<ipython-input-7-1f940fa7d4c3>\u001b[0m in \u001b[0;36m<module>\u001b[0;34m\u001b[0m\n\u001b[1;32m      1\u001b[0m \u001b[0mр_pagation\u001b[0m \u001b[0;34m=\u001b[0m \u001b[0mFurrierPropagation\u001b[0m\u001b[0;34m(\u001b[0m\u001b[0mN\u001b[0m\u001b[0;34m,\u001b[0m \u001b[0mlength\u001b[0m\u001b[0;34m,\u001b[0m \u001b[0mwavelength\u001b[0m\u001b[0;34m,\u001b[0m \u001b[0;36m1.0\u001b[0m\u001b[0;34m,\u001b[0m \u001b[0;36m0.0\u001b[0m\u001b[0;34m,\u001b[0m \u001b[0mdistance\u001b[0m\u001b[0;34m,\u001b[0m \u001b[0;36m0.7\u001b[0m\u001b[0;34m)\u001b[0m\u001b[0;34m\u001b[0m\u001b[0;34m\u001b[0m\u001b[0m\n\u001b[1;32m      2\u001b[0m \u001b[0mpropagation\u001b[0m \u001b[0;34m=\u001b[0m \u001b[0mFurrierPropagation\u001b[0m\u001b[0;34m(\u001b[0m\u001b[0mN\u001b[0m\u001b[0;34m,\u001b[0m \u001b[0mlength\u001b[0m\u001b[0;34m,\u001b[0m \u001b[0mwavelength\u001b[0m\u001b[0;34m,\u001b[0m \u001b[0;36m1.0\u001b[0m\u001b[0;34m,\u001b[0m \u001b[0;36m0.0\u001b[0m\u001b[0;34m,\u001b[0m \u001b[0mdistance\u001b[0m\u001b[0;34m,\u001b[0m \u001b[0;36m0.7\u001b[0m\u001b[0;34m)\u001b[0m\u001b[0;34m\u001b[0m\u001b[0;34m\u001b[0m\u001b[0m\n\u001b[0;32m----> 3\u001b[0;31m \u001b[0mmodulators\u001b[0m \u001b[0;34m=\u001b[0m \u001b[0;34m[\u001b[0m\u001b[0mPhaseModulator\u001b[0m\u001b[0;34m(\u001b[0m\u001b[0mN\u001b[0m\u001b[0;34m,\u001b[0m \u001b[0mlength\u001b[0m\u001b[0;34m,\u001b[0m \u001b[0mpixels\u001b[0m\u001b[0;34m)\u001b[0m \u001b[0;32mfor\u001b[0m \u001b[0mi\u001b[0m \u001b[0;32min\u001b[0m \u001b[0mrange\u001b[0m\u001b[0;34m(\u001b[0m\u001b[0mmodulators_amount\u001b[0m\u001b[0;34m)\u001b[0m\u001b[0;34m]\u001b[0m\u001b[0;34m\u001b[0m\u001b[0;34m\u001b[0m\u001b[0m\n\u001b[0m\u001b[1;32m      4\u001b[0m \u001b[0melements\u001b[0m \u001b[0;34m=\u001b[0m \u001b[0;34m[\u001b[0m\u001b[0mmodulators\u001b[0m\u001b[0;34m[\u001b[0m\u001b[0;36m0\u001b[0m\u001b[0;34m]\u001b[0m\u001b[0;34m]\u001b[0m\u001b[0;34m\u001b[0m\u001b[0;34m\u001b[0m\u001b[0m\n\u001b[1;32m      5\u001b[0m \u001b[0;32mfor\u001b[0m \u001b[0mmodulator\u001b[0m \u001b[0;32min\u001b[0m \u001b[0mmodulators\u001b[0m\u001b[0;34m[\u001b[0m\u001b[0;36m1\u001b[0m\u001b[0;34m:\u001b[0m\u001b[0;34m]\u001b[0m\u001b[0;34m:\u001b[0m\u001b[0;34m\u001b[0m\u001b[0;34m\u001b[0m\u001b[0m\n",
      "\u001b[0;31mNameError\u001b[0m: name 'modulators_amount' is not defined"
     ]
    }
   ],
   "source": [
    "р_pagation = FurrierPropagation(N, length, wavelength, 1.0, 0.0, distance, 0.7)\n",
    "propagation = FurrierPropagation(N, length, wavelength, 1.0, 0.0, distance, 0.7)\n",
    "modulators = [PhaseModulator(N, length, pixels) for i in range(modulators_amount)]\n",
    "elements = [modulators[0]]\n",
    "for modulator in modulators[1:]:\n",
    "    elements.append(propagation)\n",
    "    elements.append(modulator)\n",
    "\n",
    "incoherent = Incoherent(spatial_coherence, time_coherence, time_relaxation, mean_samples, pixels, length)\n",
    "chunker = CudaMemoryChunker()\n",
    "\n",
    "model = CompositeModel(*elements)\n",
    "model.wrap(chunker)\n",
    "model.wrap(incoherent)"
   ]
  },
  {
   "cell_type": "markdown",
   "id": "dac9ec2a-3bcb-4cd3-ba1b-b3e51d4ad3e5",
   "metadata": {
    "tags": []
   },
   "source": [
    "### Выбор набора данных"
   ]
  },
  {
   "cell_type": "code",
   "execution_count": null,
   "id": "cc2c2286-f0ce-463f-9484-f62895de952d",
   "metadata": {
    "execution": {
     "iopub.status.busy": "2024-04-22T14:14:05.114397Z",
     "iopub.status.idle": "2024-04-22T14:14:05.114899Z",
     "shell.execute_reply": "2024-04-22T14:14:05.114730Z"
    },
    "tags": []
   },
   "outputs": [],
   "source": [
    "dataset = Dataset('Flowers', 100, N, N, torch.complex64)\n",
    "dataset.train\n",
    "dataset.test"
   ]
  },
  {
   "cell_type": "markdown",
   "id": "fc3c7a71-8419-488f-bf75-fecba4b6d250",
   "metadata": {},
   "source": [
    "### Тестирование модели"
   ]
  },
  {
   "cell_type": "code",
   "execution_count": null,
   "id": "afc42f66-53a7-4aa9-8e4e-a71290bf6e0b",
   "metadata": {},
   "outputs": [],
   "source": []
  }
 ],
 "metadata": {
  "kernelspec": {
   "display_name": "DataSphere Kernel",
   "language": "python",
   "name": "python3"
  },
  "language_info": {
   "codemirror_mode": {
    "name": "ipython",
    "version": 3
   },
   "file_extension": ".py",
   "mimetype": "text/x-python",
   "name": "python",
   "nbconvert_exporter": "python",
   "pygments_lexer": "ipython3",
   "version": "3.10.12"
  }
 },
 "nbformat": 4,
 "nbformat_minor": 5
}
