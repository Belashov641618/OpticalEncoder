{
 "cells": [
  {
   "cell_type": "code",
   "execution_count": 1,
   "id": "eb08733f-d647-4841-baf1-21705ed7c72e",
   "metadata": {
    "execution": {
     "iopub.execute_input": "2024-04-19T17:14:02.124764Z",
     "iopub.status.busy": "2024-04-19T17:14:02.124066Z",
     "iopub.status.idle": "2024-04-19T17:14:02.145755Z",
     "shell.execute_reply": "2024-04-19T17:14:02.144878Z",
     "shell.execute_reply.started": "2024-04-19T17:14:02.124717Z"
    },
    "tags": []
   },
   "outputs": [],
   "source": [
    "import os\n",
    "import sys\n",
    "\n",
    "sys.path.append(os.path.abspath(\"..\"))"
   ]
  },
  {
   "cell_type": "code",
   "execution_count": 2,
   "id": "198fbffb-6335-4e54-b0d5-94d0109e255d",
   "metadata": {
    "execution": {
     "iopub.execute_input": "2024-04-19T17:14:04.363442Z",
     "iopub.status.busy": "2024-04-19T17:14:04.362748Z",
     "iopub.status.idle": "2024-04-19T17:14:08.812419Z",
     "shell.execute_reply": "2024-04-19T17:14:08.811622Z",
     "shell.execute_reply.started": "2024-04-19T17:14:04.363412Z"
    },
    "tags": []
   },
   "outputs": [
    {
     "name": "stdout",
     "output_type": "stream",
     "text": [
      "Defaulting to user installation because normal site-packages is not writeable\n",
      "Requirement already satisfied: belashovplot in /home/jupyter/.local/lib/python3.10/site-packages (1.0)\n",
      "\n",
      "\u001b[1m[\u001b[0m\u001b[34;49mnotice\u001b[0m\u001b[1;39;49m]\u001b[0m\u001b[39;49m A new release of pip is available: \u001b[0m\u001b[31;49m23.0.1\u001b[0m\u001b[39;49m -> \u001b[0m\u001b[32;49m24.0\u001b[0m\n",
      "\u001b[1m[\u001b[0m\u001b[34;49mnotice\u001b[0m\u001b[1;39;49m]\u001b[0m\u001b[39;49m To update, run: \u001b[0m\u001b[32;49mpython3 -m pip install --upgrade pip\u001b[0m\n"
     ]
    }
   ],
   "source": [
    "%pip install belashovplot"
   ]
  },
  {
   "cell_type": "code",
   "execution_count": 43,
   "id": "d1193e17-e375-41a3-8f98-9bea9bfd4d70",
   "metadata": {
    "execution": {
     "iopub.execute_input": "2024-04-19T18:01:35.742385Z",
     "iopub.status.busy": "2024-04-19T18:01:35.741643Z",
     "iopub.status.idle": "2024-04-19T18:01:35.774251Z",
     "shell.execute_reply": "2024-04-19T18:01:35.773486Z",
     "shell.execute_reply.started": "2024-04-19T18:01:35.742343Z"
    },
    "tags": []
   },
   "outputs": [],
   "source": [
    "from belashovplot import TiledPlot\n",
    "from utilities import *\n",
    "from elements.modulators import Lens, PhaseModulator\n",
    "from elements.propagators import FurrierPropagation\n",
    "from elements.composition import CompositeModel\n",
    "from elements.wrappers import CudaMemoryChunker, Incoherent\n",
    "from tqdm import tqdm\n",
    "from math import sin, sqrt\n",
    "import torch"
   ]
  },
  {
   "cell_type": "markdown",
   "id": "6a5a5786-126a-4f66-83c2-ec135d868148",
   "metadata": {},
   "source": [
    "### Настройка параметров системы"
   ]
  },
  {
   "cell_type": "code",
   "execution_count": 35,
   "id": "dd91a25b-90cc-4ae5-8f72-e7bec2e6cd8d",
   "metadata": {
    "execution": {
     "iopub.execute_input": "2024-04-19T17:52:34.358549Z",
     "iopub.status.busy": "2024-04-19T17:52:34.357755Z",
     "iopub.status.idle": "2024-04-19T17:52:34.377992Z",
     "shell.execute_reply": "2024-04-19T17:52:34.377264Z",
     "shell.execute_reply.started": "2024-04-19T17:52:34.358469Z"
    },
    "tags": []
   },
   "outputs": [
    {
     "name": "stdout",
     "output_type": "stream",
     "text": [
      "Количество вычислительных пикселей: 2997\n",
      "Количество пикселей маски:          999\n",
      "Размер пикселя:                     20.0 мкм\n",
      "Расстояние между слоями:            799.75 мм\n",
      "Количество модуляторов:             5\n"
     ]
    }
   ],
   "source": [
    "length = 20.0E-3\n",
    "wavelength = 500E-9\n",
    "b = 20.0E-6\n",
    "cppp = 3\n",
    "modulators_amount = 5\n",
    "\n",
    "pixels = int(length/b)\n",
    "N = int(pixels*cppp)\n",
    "distance = length * sqrt((b/wavelength)**2-1)\n",
    "\n",
    "print(f\"Количество вычислительных пикселей: {N}\")\n",
    "print(f\"Количество пикселей маски:          {pixels}\")\n",
    "print(f\"Размер пикселя:                     {engineering(b, 'м')}\")\n",
    "print(f\"Расстояние между слоями:            {engineering(distance, 'м')}\")\n",
    "print(f\"Количество модуляторов:             {modulators_amount}\")"
   ]
  },
  {
   "cell_type": "markdown",
   "id": "a777e3a4-bcde-4580-b71d-77e0fce1db5a",
   "metadata": {},
   "source": [
    "### Настройка некогерентности"
   ]
  },
  {
   "cell_type": "code",
   "execution_count": 39,
   "id": "d0a396e3-03a4-4310-a955-1275ce11aebd",
   "metadata": {
    "execution": {
     "iopub.execute_input": "2024-04-19T17:57:45.380007Z",
     "iopub.status.busy": "2024-04-19T17:57:45.379182Z",
     "iopub.status.idle": "2024-04-19T17:57:45.402326Z",
     "shell.execute_reply": "2024-04-19T17:57:45.401578Z",
     "shell.execute_reply.started": "2024-04-19T17:57:45.379961Z"
    },
    "tags": []
   },
   "outputs": [
    {
     "name": "stdout",
     "output_type": "stream",
     "text": [
      "Временная когерентность:        10.0 нс\n",
      "Время релаксации:               1.0 мкc\n",
      "Пространственная когерентность: 50.0 мкм\n",
      "Пространственный масштаб:       20.0 мм\n"
     ]
    }
   ],
   "source": [
    "spatial_coherence = 50.0E-6\n",
    "time_coherence = 10.0E-9\n",
    "time_relaxation = 1.0E-6\n",
    "mean_samples = 100\n",
    "\n",
    "print(f\"Временная когерентность:        {engineering(time_coherence, 'с')}\")\n",
    "print(f\"Время релаксации:               {engineering(time_relaxation, 'c')}\")\n",
    "print(f\"Пространственная когерентность: {engineering(spatial_coherence, 'м')}\")\n",
    "print(f\"Пространственный масштаб:       {engineering(length, 'м')}\")"
   ]
  },
  {
   "cell_type": "markdown",
   "id": "b261319b-b0f2-4ad6-9f07-13b147f936dc",
   "metadata": {},
   "source": [
    "### Инициализация модулей и оптической модели"
   ]
  },
  {
   "cell_type": "code",
   "execution_count": 41,
   "id": "4ce0ffb7-ab50-4ca9-a071-302c8474d797",
   "metadata": {
    "execution": {
     "iopub.execute_input": "2024-04-19T17:59:02.372513Z",
     "iopub.status.busy": "2024-04-19T17:59:02.371804Z",
     "iopub.status.idle": "2024-04-19T17:59:04.791528Z",
     "shell.execute_reply": "2024-04-19T17:59:04.790761Z",
     "shell.execute_reply.started": "2024-04-19T17:59:02.372471Z"
    },
    "tags": []
   },
   "outputs": [],
   "source": [
    "propagation = FurrierPropagation(N, length, wavelength, 1.0, 0.0, distance, 0.7)\n",
    "modulators = [PhaseModulator(N, length, pixels) for i in range(modulators_amount)]\n",
    "elements = [modulators[0]]\n",
    "for modulator in modulators[1:]:\n",
    "    elements.append(propagation)\n",
    "    elements.append(modulator)\n",
    "\n",
    "incoherent = Incoherent(spatial_coherence, time_coherence, time_relaxation, mean_samples, pixels, length)\n",
    "chunker = CudaMemoryChunker()\n",
    "\n",
    "model = CompositeModel(*elements)\n",
    "model.wrap(chunker)\n",
    "model.wrap(incoherent)"
   ]
  },
  {
   "cell_type": "markdown",
   "id": "dac9ec2a-3bcb-4cd3-ba1b-b3e51d4ad3e5",
   "metadata": {
    "tags": []
   },
   "source": [
    "### Выбор набора данных"
   ]
  },
  {
   "cell_type": "code",
   "execution_count": 51,
   "id": "cc2c2286-f0ce-463f-9484-f62895de952d",
   "metadata": {
    "execution": {
     "iopub.execute_input": "2024-04-19T18:07:02.236455Z",
     "iopub.status.busy": "2024-04-19T18:07:02.235734Z",
     "iopub.status.idle": "2024-04-19T18:07:54.934813Z",
     "shell.execute_reply": "2024-04-19T18:07:54.934050Z",
     "shell.execute_reply.started": "2024-04-19T18:07:02.236421Z"
    },
    "tags": []
   },
   "outputs": [
    {
     "name": "stdout",
     "output_type": "stream",
     "text": [
      "Downloading https://thor.robots.ox.ac.uk/datasets/flowers-102/102flowers.tgz to /home/jupyter/work/resources/OpticalEncoder/datasets/flowers-102/102flowers.tgz\n"
     ]
    },
    {
     "name": "stderr",
     "output_type": "stream",
     "text": [
      "100%|██████████| 344862509/344862509 [00:06<00:00, 54911204.17it/s]\n"
     ]
    },
    {
     "name": "stdout",
     "output_type": "stream",
     "text": [
      "Extracting /home/jupyter/work/resources/OpticalEncoder/datasets/flowers-102/102flowers.tgz to /home/jupyter/work/resources/OpticalEncoder/datasets/flowers-102\n",
      "Downloading https://thor.robots.ox.ac.uk/datasets/flowers-102/imagelabels.mat to /home/jupyter/work/resources/OpticalEncoder/datasets/flowers-102/imagelabels.mat\n"
     ]
    },
    {
     "name": "stderr",
     "output_type": "stream",
     "text": [
      "100%|██████████| 502/502 [00:00<00:00, 1024095.63it/s]\n"
     ]
    },
    {
     "name": "stdout",
     "output_type": "stream",
     "text": [
      "Downloading https://thor.robots.ox.ac.uk/datasets/flowers-102/setid.mat to /home/jupyter/work/resources/OpticalEncoder/datasets/flowers-102/setid.mat\n"
     ]
    },
    {
     "name": "stderr",
     "output_type": "stream",
     "text": [
      "100%|██████████| 14989/14989 [00:00<00:00, 27086782.70it/s]\n"
     ]
    },
    {
     "data": {
      "text/plain": [
       "<torch.utils.data.dataloader.DataLoader at 0x7fe31078e9e0>"
      ]
     },
     "execution_count": 51,
     "metadata": {},
     "output_type": "execute_result"
    }
   ],
   "source": [
    "dataset = Dataset('Flowers', 100, N, N, torch.complex64)\n",
    "dataset.train\n",
    "dataset.test"
   ]
  },
  {
   "cell_type": "markdown",
   "id": "fc3c7a71-8419-488f-bf75-fecba4b6d250",
   "metadata": {},
   "source": [
    "### Тестирование модели"
   ]
  },
  {
   "cell_type": "code",
   "execution_count": null,
   "id": "afc42f66-53a7-4aa9-8e4e-a71290bf6e0b",
   "metadata": {},
   "outputs": [],
   "source": []
  }
 ],
 "metadata": {
  "kernelspec": {
   "display_name": "DataSphere Kernel",
   "language": "python",
   "name": "python3"
  },
  "language_info": {
   "name": ""
  }
 },
 "nbformat": 4,
 "nbformat_minor": 5
}
