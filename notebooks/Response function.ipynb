{
  "cells": [
    {
      "cell_type": "markdown",
      "id": "ccc45c47-db3b-4054-9d55-fe9d135dc729",
      "metadata": {
        "id": "ccc45c47-db3b-4054-9d55-fe9d135dc729",
        "tags": []
      },
      "source": [
        "### Настройка среды"
      ]
    },
    {
      "cell_type": "code",
      "execution_count": 1,
      "id": "eb08733f-d647-4841-baf1-21705ed7c72e",
      "metadata": {
        "colab": {
          "base_uri": "https://localhost:8080/"
        },
        "id": "eb08733f-d647-4841-baf1-21705ed7c72e",
        "outputId": "265944f9-1901-4bcc-c4e9-f251a19bb6a5",
        "tags": []
      },
      "outputs": [
        {
          "output_type": "stream",
          "name": "stdout",
          "text": [
            "fatal: destination path 'OpticalEncoder' already exists and is not an empty directory.\n"
          ]
        }
      ],
      "source": [
        "import os\n",
        "import sys\n",
        "\n",
        "### Yandex Datasphere\n",
        "# sys.path.append(os.path.abspath(\"..\"))\n",
        "\n",
        "### Google Colab\n",
        "!git clone https://github.com/Belashov641618/OpticalEncoder.git\n",
        "sys.path.append(os.path.abspath(\"OpticalEncoder\"))"
      ]
    },
    {
      "cell_type": "code",
      "execution_count": 2,
      "id": "pVlSUHYglqtt",
      "metadata": {
        "colab": {
          "base_uri": "https://localhost:8080/"
        },
        "id": "pVlSUHYglqtt",
        "outputId": "0c90d73b-8dc7-478c-b4d0-d9c595b61fea"
      },
      "outputs": [
        {
          "output_type": "stream",
          "name": "stdout",
          "text": [
            "/content/OpticalEncoder\n",
            "datasets  elements  main.py  notebooks\tparameters.py  __pycache__  tests  utilities\n",
            "Already up to date.\n"
          ]
        }
      ],
      "source": [
        "%cd OpticalEncoder\n",
        "!dir\n",
        "!git pull"
      ]
    },
    {
      "cell_type": "code",
      "execution_count": 3,
      "id": "198fbffb-6335-4e54-b0d5-94d0109e255d",
      "metadata": {
        "colab": {
          "base_uri": "https://localhost:8080/"
        },
        "id": "198fbffb-6335-4e54-b0d5-94d0109e255d",
        "outputId": "fea87392-e48e-4217-fece-72e4c51f7633",
        "tags": []
      },
      "outputs": [
        {
          "output_type": "stream",
          "name": "stdout",
          "text": [
            "Requirement already satisfied: belashovplot in /usr/local/lib/python3.10/dist-packages (1.0)\n"
          ]
        }
      ],
      "source": [
        "%pip install belashovplot"
      ]
    },
    {
      "cell_type": "code",
      "execution_count": 4,
      "id": "d1193e17-e375-41a3-8f98-9bea9bfd4d70",
      "metadata": {
        "id": "d1193e17-e375-41a3-8f98-9bea9bfd4d70",
        "tags": []
      },
      "outputs": [],
      "source": [
        "from belashovplot import TiledPlot\n",
        "from utilities import *\n",
        "from utilities.filters import Gaussian, Window\n",
        "from utilities.training import train, confusion\n",
        "from elements.modulators import Lens, PhaseModulator, AmplitudeModulator\n",
        "from elements.propagators import FurrierPropagation, ConvolutionalPropagation\n",
        "from elements.composition import CompositeModel, HybridModel\n",
        "from elements.wrappers import CudaMemoryChunker, Incoherent\n",
        "from elements.detectors import ClassificationDetectors, MatrixDetectors\n",
        "from parameters import FigureWidthHeight, FontLibrary\n",
        "from tqdm import tqdm\n",
        "from math import sin, sqrt\n",
        "from pickle import dump\n",
        "import torch\n",
        "import numpy\n",
        "from itertools import product"
      ]
    },
    {
      "cell_type": "code",
      "source": [
        "FontLibrary.Fonts.ColumnDescriptionTop.FontSize = 11\n",
        "FontLibrary.Fonts.ColumnDescriptionBottom.FontSize = 11\n",
        "FontLibrary.Fonts.RowDescriptionLeft.FontSize = 11\n",
        "FontLibrary.Fonts.RowDescriptionRight.FontSize = 11"
      ],
      "metadata": {
        "id": "1uAobMJNPJnF"
      },
      "id": "1uAobMJNPJnF",
      "execution_count": 5,
      "outputs": []
    },
    {
      "cell_type": "code",
      "source": [
        "device = torch.device('cuda' if torch.cuda.is_available() else 'cpu')\n",
        "print(device)"
      ],
      "metadata": {
        "colab": {
          "base_uri": "https://localhost:8080/"
        },
        "id": "fBfaZCljOfxE",
        "outputId": "d3051335-2cfd-4d73-d935-e8ae286fbd15"
      },
      "id": "fBfaZCljOfxE",
      "execution_count": 6,
      "outputs": [
        {
          "output_type": "stream",
          "name": "stdout",
          "text": [
            "cuda\n"
          ]
        }
      ]
    },
    {
      "cell_type": "markdown",
      "source": [
        "# Распространение от щели"
      ],
      "metadata": {
        "id": "B4B3ju8DNRnI"
      },
      "id": "B4B3ju8DNRnI"
    },
    {
      "cell_type": "code",
      "source": [
        "N = 500\n",
        "size = 30.0E-6\n",
        "\n",
        "b_spatial_coherence = 50.0E-6\n",
        "b_time_coherence = 10.0E-9\n",
        "b_time_relaxation = 1.0E-6\n",
        "b_mean_samples = 1000\n",
        "\n",
        "b_length = 10.0E-3\n",
        "b_wavelength = 500E-9\n",
        "b_distance = b_length*sqrt((size/b_wavelength)**2-1)"
      ],
      "metadata": {
        "id": "eFS4zWaLNWFF"
      },
      "id": "eFS4zWaLNWFF",
      "execution_count": 7,
      "outputs": []
    },
    {
      "cell_type": "markdown",
      "source": [
        "## Зависимость от степени пространственной некогерентности и дистанции"
      ],
      "metadata": {
        "id": "hvBe6sxMNXHk"
      },
      "id": "hvBe6sxMNXHk"
    },
    {
      "cell_type": "code",
      "source": [
        "distance_samples = 10\n",
        "coherence_samples = 10\n",
        "slices = 100\n",
        "\n",
        "distance_array = numpy.linspace(b_distance*0.1, b_distance, distance_samples)\n",
        "spatial_coherence_array = numpy.linspace(5.0E-6, b_length, coherence_samples)"
      ],
      "metadata": {
        "id": "XLVcmowGNjVP"
      },
      "id": "XLVcmowGNjVP",
      "execution_count": 8,
      "outputs": []
    },
    {
      "cell_type": "code",
      "source": [
        "initial = torch.zeros((1, 1, N, N), device=device, dtype=torch.complex64)\n",
        "p0 = N//2 - int(N*size/(b_length*2))\n",
        "p1 = p0 + int(N*size/b_length)\n",
        "initial[0,0,p0:p1,p0:p1] = 1.0\n",
        "\n",
        "plot = TiledPlot(*FigureWidthHeight)\n",
        "plot.FontLibrary = FontLibrary\n",
        "plot.title('Исходное поле')\n",
        "formatter, unit = engineering.separatedformatter(b_length, 'м')\n",
        "\n",
        "axes = plot.axes.add(0,0)\n",
        "axes.imshow(initial[0,0].abs().cpu(), aspect='auto', extent=[-b_length/2, +b_length/2]*2)\n",
        "axes.xaxis.set_major_formatter(formatter)\n",
        "axes.yaxis.set_major_formatter(formatter)\n",
        "plot.graph.label.x(unit)\n",
        "plot.graph.label.y(unit)\n",
        "\n",
        "plot.show()"
      ],
      "metadata": {
        "colab": {
          "base_uri": "https://localhost:8080/",
          "height": 885
        },
        "id": "ZHKfJGE7OeFr",
        "outputId": "10cd1f4e-ebbc-4a82-edda-e8eaa2937b82"
      },
      "id": "ZHKfJGE7OeFr",
      "execution_count": 9,
      "outputs": [
        {
          "output_type": "display_data",
          "data": {
            "text/plain": [
              "<Figure size 786.203x819 with 2 Axes>"
            ],
            "image/png": "[encoded data removed]"
          },
          "metadata": {}
        }
      ]
    },
    {
      "cell_type": "code",
      "source": [
        "with torch.no_grad():\n",
        "  results = []\n",
        "  chunker = CudaMemoryChunker(sub_chunks=10).to(device)\n",
        "  for (col, spatial_coherence), (row, max_distance) in tqdm(product(enumerate(spatial_coherence_array), enumerate(distance_array)), total=distance_samples*coherence_samples):\n",
        "    incoherent = Incoherent(spatial_coherence, b_time_coherence, b_time_relaxation, b_mean_samples, N, b_length).to(device)\n",
        "    result = torch.zeros((slices, N), dtype=torch.float32)\n",
        "    for i, distance in enumerate(numpy.linspace(0, max_distance, slices)):\n",
        "      propagation = FurrierPropagation(N, b_length, b_wavelength, 1.0, 0.0, distance).to(device)\n",
        "      chunker.attach_forward(propagation.forward)\n",
        "      incoherent.attach_forward(chunker.forward)\n",
        "      result[i] = incoherent.forward(initial)[0,0,N//2].abs().cpu()\n",
        "    results.append((col, row, spatial_coherence, max_distance, result))\n",
        "    result = None"
      ],
      "metadata": {
        "colab": {
          "base_uri": "https://localhost:8080/"
        },
        "id": "9qKz_pLMQRyA",
        "outputId": "c712b691-f64c-4c67-a4f2-047d6f2b7ccf"
      },
      "id": "9qKz_pLMQRyA",
      "execution_count": null,
      "outputs": [
        {
          "output_type": "stream",
          "name": "stderr",
          "text": [
            "\r  0%|          | 0/100 [00:00<?, ?it/s]"
          ]
        }
      ]
    },
    {
      "cell_type": "code",
      "source": [
        "plot = TiledPlot(*FigureWidthHeight)\n",
        "plot.FontLibrary = FontLibrary\n",
        "plot.title('Распространение при различных параметрах')\n",
        "kwargs = {'aspect':'auto', 'extent':[-b_length/2,+b_length/2]*2, 'interpolation':'nearest'}\n",
        "formatter, unit = engineering.separatedformatter(b_length, 'м')\n",
        "\n",
        "for col, spatial_coherence in enumerate(spatial_coherence_array):\n",
        "  plot.description.column.top(f\"Когерентность: {engineering(spatial_coherence, 'м')}\", col)\n",
        "\n",
        "for row, distance in enumerate(distance_array):\n",
        "  plot.description.row.left(f\"Дистанция: {engineering(distance, 'м')}\", row)\n",
        "\n",
        "for col, row, spatial_coherence, distance, data in results:\n",
        "  axes = plot.axes.add(col, row)\n",
        "  axes.imshow(data, **kwargs)\n",
        "  axes.xaxis.set_major_formatter(formatter)\n",
        "  axes.yaxis.set_major_formatter(formatter)\n",
        "  plot.graph.label.x(unit)\n",
        "  plot.graph.label.y(unit)"
      ],
      "metadata": {
        "id": "-btvuN3fSGq2"
      },
      "id": "-btvuN3fSGq2",
      "execution_count": null,
      "outputs": []
    },
    {
      "cell_type": "code",
      "source": [],
      "metadata": {
        "id": "P6vfWzUVUFvr"
      },
      "id": "P6vfWzUVUFvr",
      "execution_count": null,
      "outputs": []
    }
  ],
  "metadata": {
    "accelerator": "GPU",
    "colab": {
      "gpuType": "L4",
      "machine_shape": "hm",
      "provenance": []
    },
    "kernelspec": {
      "display_name": "Python 3 (ipykernel)",
      "language": "python",
      "name": "python3"
    },
    "language_info": {
      "codemirror_mode": {
        "name": "ipython",
        "version": 3
      },
      "file_extension": ".py",
      "mimetype": "text/x-python",
      "name": "python",
      "nbconvert_exporter": "python",
      "pygments_lexer": "ipython3",
      "version": "3.12.1"
    },
    "toc-autonumbering": false,
    "toc-showmarkdowntxt": false
  },
  "nbformat": 4,
  "nbformat_minor": 5
}