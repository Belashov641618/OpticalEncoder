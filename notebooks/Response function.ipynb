{
  "cells": [
    {
      "cell_type": "markdown",
      "id": "ccc45c47-db3b-4054-9d55-fe9d135dc729",
      "metadata": {
        "id": "ccc45c47-db3b-4054-9d55-fe9d135dc729",
        "tags": []
      },
      "source": [
        "### Настройка среды"
      ]
    },
    {
      "cell_type": "code",
      "execution_count": 1,
      "id": "eb08733f-d647-4841-baf1-21705ed7c72e",
      "metadata": {
        "colab": {
          "base_uri": "https://localhost:8080/"
        },
        "id": "eb08733f-d647-4841-baf1-21705ed7c72e",
        "outputId": "d70b824f-20a1-49e0-ac2e-14e9718b17a4",
        "tags": []
      },
      "outputs": [
        {
          "output_type": "stream",
          "name": "stdout",
          "text": [
            "Cloning into 'OpticalEncoder'...\n",
            "remote: Enumerating objects: 456, done.\u001b[K\n",
            "remote: Counting objects: 100% (70/70), done.\u001b[K\n",
            "remote: Compressing objects: 100% (48/48), done.\u001b[K\n",
            "remote: Total 456 (delta 39), reused 47 (delta 20), pack-reused 386\u001b[K\n",
            "Receiving objects: 100% (456/456), 22.53 MiB | 25.69 MiB/s, done.\n",
            "Resolving deltas: 100% (253/253), done.\n"
          ]
        }
      ],
      "source": [
        "import os\n",
        "import sys\n",
        "\n",
        "### Yandex Datasphere\n",
        "# sys.path.append(os.path.abspath(\"..\"))\n",
        "\n",
        "### Google Colab\n",
        "!git clone https://github.com/Belashov641618/OpticalEncoder.git\n",
        "sys.path.append(os.path.abspath(\"OpticalEncoder\"))"
      ]
    },
    {
      "cell_type": "code",
      "execution_count": 3,
      "id": "pVlSUHYglqtt",
      "metadata": {
        "colab": {
          "base_uri": "https://localhost:8080/"
        },
        "id": "pVlSUHYglqtt",
        "outputId": "01df3bba-7f13-4a66-b60b-1286d97f6725"
      },
      "outputs": [
        {
          "output_type": "stream",
          "name": "stdout",
          "text": [
            "/content/OpticalEncoder\n",
            "elements  main.py  notebooks  parameters.py  tests  utilities\n",
            "Already up to date.\n"
          ]
        }
      ],
      "source": [
        "%cd OpticalEncoder\n",
        "!dir\n",
        "!git pull"
      ]
    },
    {
      "cell_type": "code",
      "execution_count": 5,
      "id": "198fbffb-6335-4e54-b0d5-94d0109e255d",
      "metadata": {
        "colab": {
          "base_uri": "https://localhost:8080/"
        },
        "id": "198fbffb-6335-4e54-b0d5-94d0109e255d",
        "outputId": "bbb8be10-18f2-4223-d86e-14d6750d7794",
        "tags": []
      },
      "outputs": [
        {
          "output_type": "stream",
          "name": "stdout",
          "text": [
            "Collecting belashovplot\n",
            "  Downloading belashovplot-1.0.tar.gz (12 kB)\n",
            "  Preparing metadata (setup.py) ... \u001b[?25l\u001b[?25hdone\n",
            "Building wheels for collected packages: belashovplot\n",
            "  Building wheel for belashovplot (setup.py) ... \u001b[?25l\u001b[?25hdone\n",
            "  Created wheel for belashovplot: filename=belashovplot-1.0-py3-none-any.whl size=12758 sha256=6bd28558d21bd9ef2034f35b2262bd14377ae2e281ba169118864d8e250e7148\n",
            "  Stored in directory: /root/.cache/pip/wheels/55/7b/e2/e5bf08c4c48d0989afbcb220497fa4bb6805a32f6c7826eece\n",
            "Successfully built belashovplot\n",
            "Installing collected packages: belashovplot\n",
            "Successfully installed belashovplot-1.0\n"
          ]
        }
      ],
      "source": [
        "%pip install belashovplot"
      ]
    },
    {
      "cell_type": "code",
      "execution_count": 19,
      "id": "d1193e17-e375-41a3-8f98-9bea9bfd4d70",
      "metadata": {
        "id": "d1193e17-e375-41a3-8f98-9bea9bfd4d70",
        "tags": []
      },
      "outputs": [],
      "source": [
        "from belashovplot import TiledPlot\n",
        "from utilities import *\n",
        "from utilities.filters import Gaussian, Window\n",
        "from utilities.training import train, confusion\n",
        "from elements.modulators import Lens, PhaseModulator, AmplitudeModulator\n",
        "from elements.propagators import FurrierPropagation, ConvolutionalPropagation\n",
        "from elements.composition import CompositeModel, HybridModel\n",
        "from elements.wrappers import CudaMemoryChunker, Incoherent\n",
        "from elements.detectors import ClassificationDetectors, MatrixDetectors\n",
        "from parameters import FigureWidthHeight, FontLibrary\n",
        "from tqdm import tqdm\n",
        "from math import sin, sqrt\n",
        "from pickle import dump\n",
        "import torch\n",
        "import numpy\n",
        "from itertools import product"
      ]
    },
    {
      "cell_type": "code",
      "source": [
        "FontLibrary.Fonts.ColumnDescriptionTop.FontSize = 11\n",
        "FontLibrary.Fonts.ColumnDescriptionBottom.FontSize = 11\n",
        "FontLibrary.Fonts.RowDescriptionLeft.FontSize = 11\n",
        "FontLibrary.Fonts.RowDescriptionRight.FontSize = 11"
      ],
      "metadata": {
        "id": "1uAobMJNPJnF"
      },
      "id": "1uAobMJNPJnF",
      "execution_count": 8,
      "outputs": []
    },
    {
      "cell_type": "code",
      "source": [
        "device = torch.device('cuda' if torch.cuda.is_available() else 'cpu')\n",
        "print(device)"
      ],
      "metadata": {
        "id": "fBfaZCljOfxE",
        "outputId": "c9207f08-b7d9-4a5e-8e96-0f168111c8e1",
        "colab": {
          "base_uri": "https://localhost:8080/"
        }
      },
      "id": "fBfaZCljOfxE",
      "execution_count": 11,
      "outputs": [
        {
          "output_type": "stream",
          "name": "stdout",
          "text": [
            "cuda\n"
          ]
        }
      ]
    },
    {
      "cell_type": "markdown",
      "source": [
        "# Распространение от щели"
      ],
      "metadata": {
        "id": "B4B3ju8DNRnI"
      },
      "id": "B4B3ju8DNRnI"
    },
    {
      "cell_type": "code",
      "source": [
        "N = 1000\n",
        "size = 30.0E-6\n",
        "\n",
        "b_spatial_coherence = 50.0E-6\n",
        "b_time_coherence = 10.0E-9\n",
        "b_time_relaxation = 1.0E-6\n",
        "b_mean_samples = 1000\n",
        "\n",
        "b_length = 10.0E-3\n",
        "b_wavelength = 500E-9\n",
        "b_distance = b_length*sqrt((size/b_wavelength)**2-1)"
      ],
      "metadata": {
        "id": "eFS4zWaLNWFF"
      },
      "id": "eFS4zWaLNWFF",
      "execution_count": 12,
      "outputs": []
    },
    {
      "cell_type": "markdown",
      "source": [
        "## Зависимость от степени пространственной некогерентности и дистанции"
      ],
      "metadata": {
        "id": "hvBe6sxMNXHk"
      },
      "id": "hvBe6sxMNXHk"
    },
    {
      "cell_type": "code",
      "source": [
        "distance_samples = 10\n",
        "coherence_samples = 10\n",
        "slices = 100\n",
        "\n",
        "distance_array = numpy.linspace(b_distance*0.1, b_distance, distance_samples)\n",
        "spatial_coherence_array = numpy.linspace(5.0E-6, b_length, coherence_samples)"
      ],
      "metadata": {
        "id": "XLVcmowGNjVP"
      },
      "id": "XLVcmowGNjVP",
      "execution_count": 22,
      "outputs": []
    },
    {
      "cell_type": "code",
      "source": [
        "initial = torch.zeros((1, 1, N, N), device=device, dtype=torch.complex64)\n",
        "p0 = N//2 - int(N*size/(b_length*2))\n",
        "p1 = p0 + int(N*size/b_length)\n",
        "initial[0,0,p0:p1,p0:p1] = 1.0\n",
        "\n",
        "plot = TiledPlot(*FigureWidthHeight)\n",
        "plot.FontLibrary = FontLibrary\n",
        "plot.title('Исходное поле')\n",
        "formatter, unit = engineering.separatedformatter(b_length, 'м')\n",
        "\n",
        "axes = plot.axes.add(0,0)\n",
        "axes.imshow(initial[0,0].abs().cpu(), aspect='auto', extent=[-b_length/2, +b_length/2]*2)\n",
        "axes.xaxis.set_major_formatter(formatter)\n",
        "axes.yaxis.set_major_formatter(formatter)\n",
        "plot.graph.label.x(unit)\n",
        "plot.graph.label.y(unit)\n",
        "\n",
        "plot.show()"
      ],
      "metadata": {
        "id": "ZHKfJGE7OeFr",
        "outputId": "37b1d4aa-6e61-4982-d41d-e5640d1d3ed1",
        "colab": {
          "base_uri": "https://localhost:8080/",
          "height": 885
        }
      },
      "id": "ZHKfJGE7OeFr",
      "execution_count": 23,
      "outputs": [
        {
          "output_type": "display_data",
          "data": {
            "text/plain": [
              "<Figure size 786.203x819 with 2 Axes>"
            ],
            "image/png": "[encoded data removed]"
          },
          "metadata": {}
        }
      ]
    },
    {
      "cell_type": "code",
      "source": [
        "with torch.no_grad():\n",
        "  results = []\n",
        "  chunker = CudaMemoryChunker(sub_chunks=4).to(device)\n",
        "  for (col, spatial_coherence), (row, max_distance) in tqdm(product(enumerate(spatial_coherence_array), enumerate(distance_array)), total=distance_samples*coherence_samples):\n",
        "    incoherent = Incoherent(spatial_coherence, b_time_coherence, b_time_relaxation, b_mean_samples, N, b_length).to(device)\n",
        "    result = torch.zeros((slices, N), device=device, dtype=torch.float32)\n",
        "    for i, distance in enumerate(numpy.linspace(0, max_distance, slices)):\n",
        "      propagation = FurrierPropagation(N, b_length, b_wavelength, 1.0, 0.0, distance).to(device)\n",
        "      chunker.attach_forward(propagation.forward)\n",
        "      incoherent.attach_forward(chunker.forward)\n",
        "      result[i] = incoherent.forward(initial)[0,0,N//2].abs()\n",
        "    results.append((col, row, spatial_coherence, max_distance, result.cpu()))\n",
        "    result = None"
      ],
      "metadata": {
        "id": "9qKz_pLMQRyA",
        "outputId": "fec51918-b3aa-4fb9-d648-097d9cc2ff91",
        "colab": {
          "base_uri": "https://localhost:8080/",
          "height": 373
        }
      },
      "id": "9qKz_pLMQRyA",
      "execution_count": 26,
      "outputs": [
        {
          "output_type": "stream",
          "name": "stderr",
          "text": [
            " 32%|███▏      | 32/100 [06:52<14:36, 12.89s/it]\n"
          ]
        },
        {
          "output_type": "error",
          "ename": "KeyboardInterrupt",
          "evalue": "",
          "traceback": [
            "\u001b[0;31m---------------------------------------------------------------------------\u001b[0m",
            "\u001b[0;31mKeyboardInterrupt\u001b[0m                         Traceback (most recent call last)",
            "\u001b[0;32m<ipython-input-26-3ebaa485b6f1>\u001b[0m in \u001b[0;36m<cell line: 1>\u001b[0;34m()\u001b[0m\n\u001b[1;32m      6\u001b[0m     \u001b[0mresult\u001b[0m \u001b[0;34m=\u001b[0m \u001b[0mtorch\u001b[0m\u001b[0;34m.\u001b[0m\u001b[0mzeros\u001b[0m\u001b[0;34m(\u001b[0m\u001b[0;34m(\u001b[0m\u001b[0mslices\u001b[0m\u001b[0;34m,\u001b[0m \u001b[0mN\u001b[0m\u001b[0;34m)\u001b[0m\u001b[0;34m,\u001b[0m \u001b[0mdevice\u001b[0m\u001b[0;34m=\u001b[0m\u001b[0mdevice\u001b[0m\u001b[0;34m,\u001b[0m \u001b[0mdtype\u001b[0m\u001b[0;34m=\u001b[0m\u001b[0mtorch\u001b[0m\u001b[0;34m.\u001b[0m\u001b[0mfloat32\u001b[0m\u001b[0;34m)\u001b[0m\u001b[0;34m\u001b[0m\u001b[0;34m\u001b[0m\u001b[0m\n\u001b[1;32m      7\u001b[0m     \u001b[0;32mfor\u001b[0m \u001b[0mi\u001b[0m\u001b[0;34m,\u001b[0m \u001b[0mdistance\u001b[0m \u001b[0;32min\u001b[0m \u001b[0menumerate\u001b[0m\u001b[0;34m(\u001b[0m\u001b[0mnumpy\u001b[0m\u001b[0;34m.\u001b[0m\u001b[0mlinspace\u001b[0m\u001b[0;34m(\u001b[0m\u001b[0;36m0\u001b[0m\u001b[0;34m,\u001b[0m \u001b[0mmax_distance\u001b[0m\u001b[0;34m,\u001b[0m \u001b[0mslices\u001b[0m\u001b[0;34m)\u001b[0m\u001b[0;34m)\u001b[0m\u001b[0;34m:\u001b[0m\u001b[0;34m\u001b[0m\u001b[0;34m\u001b[0m\u001b[0m\n\u001b[0;32m----> 8\u001b[0;31m       \u001b[0mpropagation\u001b[0m \u001b[0;34m=\u001b[0m \u001b[0mFurrierPropagation\u001b[0m\u001b[0;34m(\u001b[0m\u001b[0mN\u001b[0m\u001b[0;34m,\u001b[0m \u001b[0mb_length\u001b[0m\u001b[0;34m,\u001b[0m \u001b[0mb_wavelength\u001b[0m\u001b[0;34m,\u001b[0m \u001b[0;36m1.0\u001b[0m\u001b[0;34m,\u001b[0m \u001b[0;36m0.0\u001b[0m\u001b[0;34m,\u001b[0m \u001b[0mdistance\u001b[0m\u001b[0;34m)\u001b[0m\u001b[0;34m.\u001b[0m\u001b[0mto\u001b[0m\u001b[0;34m(\u001b[0m\u001b[0mdevice\u001b[0m\u001b[0;34m)\u001b[0m\u001b[0;34m\u001b[0m\u001b[0;34m\u001b[0m\u001b[0m\n\u001b[0m\u001b[1;32m      9\u001b[0m       \u001b[0mchunker\u001b[0m\u001b[0;34m.\u001b[0m\u001b[0mattach_forward\u001b[0m\u001b[0;34m(\u001b[0m\u001b[0mpropagation\u001b[0m\u001b[0;34m.\u001b[0m\u001b[0mforward\u001b[0m\u001b[0;34m)\u001b[0m\u001b[0;34m\u001b[0m\u001b[0;34m\u001b[0m\u001b[0m\n\u001b[1;32m     10\u001b[0m       \u001b[0mincoherent\u001b[0m\u001b[0;34m.\u001b[0m\u001b[0mattach_forward\u001b[0m\u001b[0;34m(\u001b[0m\u001b[0mchunker\u001b[0m\u001b[0;34m.\u001b[0m\u001b[0mforward\u001b[0m\u001b[0;34m)\u001b[0m\u001b[0;34m\u001b[0m\u001b[0;34m\u001b[0m\u001b[0m\n",
            "\u001b[0;32m/usr/local/lib/python3.10/dist-packages/torch/nn/modules/module.py\u001b[0m in \u001b[0;36mto\u001b[0;34m(self, *args, **kwargs)\u001b[0m\n\u001b[1;32m   1150\u001b[0m             \u001b[0;32mreturn\u001b[0m \u001b[0mt\u001b[0m\u001b[0;34m.\u001b[0m\u001b[0mto\u001b[0m\u001b[0;34m(\u001b[0m\u001b[0mdevice\u001b[0m\u001b[0;34m,\u001b[0m \u001b[0mdtype\u001b[0m \u001b[0;32mif\u001b[0m \u001b[0mt\u001b[0m\u001b[0;34m.\u001b[0m\u001b[0mis_floating_point\u001b[0m\u001b[0;34m(\u001b[0m\u001b[0;34m)\u001b[0m \u001b[0;32mor\u001b[0m \u001b[0mt\u001b[0m\u001b[0;34m.\u001b[0m\u001b[0mis_complex\u001b[0m\u001b[0;34m(\u001b[0m\u001b[0;34m)\u001b[0m \u001b[0;32melse\u001b[0m \u001b[0;32mNone\u001b[0m\u001b[0;34m,\u001b[0m \u001b[0mnon_blocking\u001b[0m\u001b[0;34m)\u001b[0m\u001b[0;34m\u001b[0m\u001b[0;34m\u001b[0m\u001b[0m\n\u001b[1;32m   1151\u001b[0m \u001b[0;34m\u001b[0m\u001b[0m\n\u001b[0;32m-> 1152\u001b[0;31m         \u001b[0;32mreturn\u001b[0m \u001b[0mself\u001b[0m\u001b[0;34m.\u001b[0m\u001b[0m_apply\u001b[0m\u001b[0;34m(\u001b[0m\u001b[0mconvert\u001b[0m\u001b[0;34m)\u001b[0m\u001b[0;34m\u001b[0m\u001b[0;34m\u001b[0m\u001b[0m\n\u001b[0m\u001b[1;32m   1153\u001b[0m \u001b[0;34m\u001b[0m\u001b[0m\n\u001b[1;32m   1154\u001b[0m     def register_full_backward_pre_hook(\n",
            "\u001b[0;32m/usr/local/lib/python3.10/dist-packages/torch/nn/modules/module.py\u001b[0m in \u001b[0;36m_apply\u001b[0;34m(self, fn, recurse)\u001b[0m\n\u001b[1;32m    847\u001b[0m         \u001b[0;32mfor\u001b[0m \u001b[0mkey\u001b[0m\u001b[0;34m,\u001b[0m \u001b[0mbuf\u001b[0m \u001b[0;32min\u001b[0m \u001b[0mself\u001b[0m\u001b[0;34m.\u001b[0m\u001b[0m_buffers\u001b[0m\u001b[0;34m.\u001b[0m\u001b[0mitems\u001b[0m\u001b[0;34m(\u001b[0m\u001b[0;34m)\u001b[0m\u001b[0;34m:\u001b[0m\u001b[0;34m\u001b[0m\u001b[0;34m\u001b[0m\u001b[0m\n\u001b[1;32m    848\u001b[0m             \u001b[0;32mif\u001b[0m \u001b[0mbuf\u001b[0m \u001b[0;32mis\u001b[0m \u001b[0;32mnot\u001b[0m \u001b[0;32mNone\u001b[0m\u001b[0;34m:\u001b[0m\u001b[0;34m\u001b[0m\u001b[0;34m\u001b[0m\u001b[0m\n\u001b[0;32m--> 849\u001b[0;31m                 \u001b[0mself\u001b[0m\u001b[0;34m.\u001b[0m\u001b[0m_buffers\u001b[0m\u001b[0;34m[\u001b[0m\u001b[0mkey\u001b[0m\u001b[0;34m]\u001b[0m \u001b[0;34m=\u001b[0m \u001b[0mfn\u001b[0m\u001b[0;34m(\u001b[0m\u001b[0mbuf\u001b[0m\u001b[0;34m)\u001b[0m\u001b[0;34m\u001b[0m\u001b[0;34m\u001b[0m\u001b[0m\n\u001b[0m\u001b[1;32m    850\u001b[0m \u001b[0;34m\u001b[0m\u001b[0m\n\u001b[1;32m    851\u001b[0m         \u001b[0;32mreturn\u001b[0m \u001b[0mself\u001b[0m\u001b[0;34m\u001b[0m\u001b[0;34m\u001b[0m\u001b[0m\n",
            "\u001b[0;32m/usr/local/lib/python3.10/dist-packages/torch/nn/modules/module.py\u001b[0m in \u001b[0;36mconvert\u001b[0;34m(t)\u001b[0m\n\u001b[1;32m   1148\u001b[0m                 return t.to(device, dtype if t.is_floating_point() or t.is_complex() else None,\n\u001b[1;32m   1149\u001b[0m                             non_blocking, memory_format=convert_to_format)\n\u001b[0;32m-> 1150\u001b[0;31m             \u001b[0;32mreturn\u001b[0m \u001b[0mt\u001b[0m\u001b[0;34m.\u001b[0m\u001b[0mto\u001b[0m\u001b[0;34m(\u001b[0m\u001b[0mdevice\u001b[0m\u001b[0;34m,\u001b[0m \u001b[0mdtype\u001b[0m \u001b[0;32mif\u001b[0m \u001b[0mt\u001b[0m\u001b[0;34m.\u001b[0m\u001b[0mis_floating_point\u001b[0m\u001b[0;34m(\u001b[0m\u001b[0;34m)\u001b[0m \u001b[0;32mor\u001b[0m \u001b[0mt\u001b[0m\u001b[0;34m.\u001b[0m\u001b[0mis_complex\u001b[0m\u001b[0;34m(\u001b[0m\u001b[0;34m)\u001b[0m \u001b[0;32melse\u001b[0m \u001b[0;32mNone\u001b[0m\u001b[0;34m,\u001b[0m \u001b[0mnon_blocking\u001b[0m\u001b[0;34m)\u001b[0m\u001b[0;34m\u001b[0m\u001b[0;34m\u001b[0m\u001b[0m\n\u001b[0m\u001b[1;32m   1151\u001b[0m \u001b[0;34m\u001b[0m\u001b[0m\n\u001b[1;32m   1152\u001b[0m         \u001b[0;32mreturn\u001b[0m \u001b[0mself\u001b[0m\u001b[0;34m.\u001b[0m\u001b[0m_apply\u001b[0m\u001b[0;34m(\u001b[0m\u001b[0mconvert\u001b[0m\u001b[0;34m)\u001b[0m\u001b[0;34m\u001b[0m\u001b[0;34m\u001b[0m\u001b[0m\n",
            "\u001b[0;31mKeyboardInterrupt\u001b[0m: "
          ]
        }
      ]
    },
    {
      "cell_type": "code",
      "source": [
        "plot = TiledPlot(*FigureWidthHeight)\n",
        "plot.FontLibrary = FontLibrary\n",
        "plot.title('Распространение при различных параметрах')\n",
        "kwargs = {'aspect':'auto', 'extent':[-b_length/2,+b_length/2]*2, 'interpolation':'nearest'}\n",
        "formatter, unit = engineering.separatedformatter(b_length, 'м')\n",
        "\n",
        "for col, spatial_coherence in enumerate(spatial_coherence_array):\n",
        "  plot.description.column.top(f\"Когерентность: {engineering(spatial_coherence, 'м')}\", col)\n",
        "\n",
        "for row, distance in enumerate(distance_array):\n",
        "  plot.description.row.left(f\"Дистанция: {engineering(distance, 'м')}\", row)\n",
        "\n",
        "for col, row, spatial_coherence, distance, data in results:\n",
        "  axes = plot.axes.add(col, row)\n",
        "  axes.imshow(data, **kwargs)\n",
        "  axes.xaxis.set_major_formatter(formatter)\n",
        "  axes.yaxis.set_major_formatter(formatter)\n",
        "  plot.graph.label.x(unit)\n",
        "  plot.graph.label.y(unit)"
      ],
      "metadata": {
        "id": "-btvuN3fSGq2"
      },
      "id": "-btvuN3fSGq2",
      "execution_count": 24,
      "outputs": []
    }
  ],
  "metadata": {
    "accelerator": "GPU",
    "colab": {
      "gpuType": "L4",
      "machine_shape": "hm",
      "provenance": []
    },
    "kernelspec": {
      "display_name": "Python 3 (ipykernel)",
      "language": "python",
      "name": "python3"
    },
    "language_info": {
      "codemirror_mode": {
        "name": "ipython",
        "version": 3
      },
      "file_extension": ".py",
      "mimetype": "text/x-python",
      "name": "python",
      "nbconvert_exporter": "python",
      "pygments_lexer": "ipython3",
      "version": "3.12.1"
    },
    "toc-autonumbering": false,
    "toc-showmarkdowntxt": false
  },
  "nbformat": 4,
  "nbformat_minor": 5
}