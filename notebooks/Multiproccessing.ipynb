{
 "cells": [
  {
   "cell_type": "code",
   "execution_count": 1,
   "id": "c136c0b0-a514-4cbd-ad50-4a9eb0305507",
   "metadata": {
    "editable": true,
    "slideshow": {
     "slide_type": ""
    },
    "tags": []
   },
   "outputs": [],
   "source": [
    "import os\n",
    "import sys\n",
    "sys.path.append(os.path.abspath(\"..\"))"
   ]
  },
  {
   "cell_type": "code",
   "execution_count": 2,
   "id": "e4bbfb6c-102b-4769-a954-19002f395ae2",
   "metadata": {},
   "outputs": [],
   "source": [
    "from belashovplot import TiledPlot\n",
    "from utilities import *\n",
    "from utilities.filters import Gaussian, Window\n",
    "from utilities.training import train, confusion\n",
    "from elements.abstracts import AbstractModulator\n",
    "from elements.modulators import Lens, PhaseModulator, AmplitudeModulator\n",
    "from elements.propagators import FurrierPropagation, ConvolutionalPropagation\n",
    "from elements.composition import CompositeModel, HybridModel\n",
    "from elements.wrappers import CudaMemoryChunker, Incoherent\n",
    "from elements.detectors import ClassificationDetectors, MatrixDetectors\n",
    "from parameters import FigureWidthHeight, FontLibrary\n",
    "from tqdm import tqdm\n",
    "from math import sin, sqrt\n",
    "from pickle import dump, load\n",
    "import torch\n",
    "import numpy\n",
    "import timm\n",
    "import pandas\n",
    "from copy import deepcopy"
   ]
  },
  {
   "cell_type": "code",
   "execution_count": 3,
   "id": "4603a3b6-fa6b-40ac-ac03-b63292f5bb9e",
   "metadata": {},
   "outputs": [
    {
     "name": "stdout",
     "output_type": "stream",
     "text": [
      "Используемый девайс: NVIDIA A100-SXM4-80GB\n"
     ]
    }
   ],
   "source": [
    "device = torch.device('cuda' if torch.cuda.is_available() else 'cpu')\n",
    "print('Используемый девайс:', torch.cuda.get_device_name(device) if torch.cuda.is_available() else 'ЦП')"
   ]
  },
  {
   "cell_type": "code",
   "execution_count": 4,
   "id": "84eab818-39b4-499a-a6ff-9f0d3478be54",
   "metadata": {},
   "outputs": [],
   "source": [
    "def resnet18(classes:int=10):\n",
    "    return timm.create_model('resnet18', pretrained=False,  in_chans=1, num_classes=classes).to(device)"
   ]
  },
  {
   "cell_type": "code",
   "execution_count": 5,
   "id": "7625b6b1-196f-4222-8bc2-e9d1d242cbe4",
   "metadata": {},
   "outputs": [],
   "source": [
    "def combined_loss(cross_entropy_to_mse_proportion:float=1.0):\n",
    "    def loss_function(outputs, targets):\n",
    "        CELoss = torch.nn.functional.cross_entropy(outputs, targets)\n",
    "        MSELoss = torch.nn.functional.mse_loss(torch.nn.functional.softmax(outputs, dim=1), torch.nn.functional.one_hot(targets, num_classes=10).float())\n",
    "        loss = cross_entropy_to_mse_proportion*CELoss + (1.0-cross_entropy_to_mse_proportion)*MSELoss\n",
    "        return loss\n",
    "    return loss_function"
   ]
  },
  {
   "cell_type": "code",
   "execution_count": 6,
   "id": "eff8a9e0-e806-42f7-a53b-9c5941de75cf",
   "metadata": {},
   "outputs": [
    {
     "name": "stdout",
     "output_type": "stream",
     "text": [
      "Длинна волны:                             500.0 нм\n",
      "Количество вычислительных пикселей:       1336\n",
      "Количество пикселей маски:                334\n",
      "Размер оптических элементов:              10.02 мм\n",
      "Размер пикселя маски:                     30.0 мкм\n",
      "Расстояние между слоями:                  90.52 мм\n",
      "Временная когерентность:                  10.0 нс\n",
      "Время релаксации:                         1.0 мкc\n",
      "Пространственная когерентность:           100.0 мкм\n",
      "Количество усреднений:                    100\n",
      "Размер детекторов:                        167.0 мкм\n",
      "Количество детекторов:                    24 на 24\n",
      "Пропорция CE к MSE лосс:                  0.609798\n",
      "Размер батча:                             64\n",
      "Тип оптимизатора:                         RMSprop\n"
     ]
    }
   ],
   "source": [
    "# Предпочтительные параметры\n",
    "size = 30.0E-6\n",
    "near_N = 1336 #1336\n",
    "near_length = 10.0E-3\n",
    "wavelength = 500.0E-9\n",
    "detectors_amount = 24\n",
    "masks_amount = 3\n",
    "distance = 0.09052\n",
    "\n",
    "# Параметры обучения\n",
    "batch_size = 64\n",
    "learning_rate = 0.009854\n",
    "loss_function_proportion = 0.609798\n",
    "optimizer_type_name = 'RMSprop'\n",
    "optimizer_types_list = {'Adam':torch.optim.Adam, 'SGD':torch.optim.SGD, 'RMSprop':torch.optim.RMSprop, 'Adagrad':torch.optim.Adagrad}\n",
    "\n",
    "# Параметры когерентности\n",
    "spatial_coherence = 100.0E-6\n",
    "time_coherence = 10.0E-9\n",
    "time_relaxation = 1.0E-6\n",
    "mean_samples = 100\n",
    "\n",
    "# Вычисляемые параметры\n",
    "pixels = upper_integer(near_length/size)\n",
    "length = pixels * size\n",
    "cppp = upper_integer(near_N * size / length)\n",
    "N = upper_integer(length*cppp / size) \n",
    "detector_size = length / 60\n",
    "\n",
    "print(f\"Длинна волны:                             {engineering(wavelength, 'м')}\")\n",
    "print(f\"Количество вычислительных пикселей:       {N}\")\n",
    "print(f\"Количество пикселей маски:                {pixels}\")\n",
    "print(f\"Размер оптических элементов:              {engineering(length, 'м')}\")\n",
    "print(f\"Размер пикселя маски:                     {engineering(length/pixels, 'м')}\")\n",
    "print(f\"Расстояние между слоями:                  {engineering(distance, 'м')}\")\n",
    "\n",
    "print(f\"Временная когерентность:                  {engineering(time_coherence, 'с')}\")\n",
    "print(f\"Время релаксации:                         {engineering(time_relaxation, 'c')}\")\n",
    "print(f\"Пространственная когерентность:           {engineering(spatial_coherence, 'м')}\")\n",
    "print(f\"Количество усреднений:                    {mean_samples}\")\n",
    "\n",
    "print(f\"Размер детекторов:                        {engineering(detector_size, 'м')}\")\n",
    "print(f\"Количество детекторов:                    {detectors_amount} на {detectors_amount}\")\n",
    "\n",
    "print(f\"Пропорция CE к MSE лосс:                  {loss_function_proportion}\")\n",
    "print(f\"Размер батча:                             {batch_size}\")\n",
    "print(f\"Тип оптимизатора:                         {optimizer_type_name}\")"
   ]
  },
  {
   "cell_type": "code",
   "execution_count": 7,
   "id": "302fd5ca-bfbc-4bbe-bd03-22efeb2a3dbe",
   "metadata": {},
   "outputs": [
    {
     "name": "stdout",
     "output_type": "stream",
     "text": [
      "Files already downloaded and verified\n",
      "Files already downloaded and verified\n"
     ]
    },
    {
     "data": {
      "text/plain": [
       "<torch.utils.data.dataloader.DataLoader at 0x7f78772c6770>"
      ]
     },
     "execution_count": 7,
     "metadata": {},
     "output_type": "execute_result"
    }
   ],
   "source": [
    "spectral_filter = Window(centers=wavelength, sizes=300.0E-9)\n",
    "detectors_filter = Gaussian((detector_size, detector_size), (0,0))\n",
    "\n",
    "dataset = Dataset('CIFAR10', batch_size, N, N, torch.complex64)\n",
    "dataset.train\n",
    "dataset.test"
   ]
  },
  {
   "cell_type": "code",
   "execution_count": 14,
   "id": "5ffb6620-1dc5-45b6-86c8-295bc3ae458a",
   "metadata": {},
   "outputs": [
    {
     "name": "stdout",
     "output_type": "stream",
     "text": [
      "FurrierPropagation Initialization\n",
      "AbstractPropagator buffer registering\n",
      "AbstractModulator.to triggered with: (device(type='cuda'),), {}\n",
      "AbstractModulator.to triggered with: (device(type='cuda'),), {}\n"
     ]
    }
   ],
   "source": [
    "propagation         = FurrierPropagation(N, length, wavelength, 1.0, 0.0, distance, 0.4)\n",
    "phase_modulator     = PhaseModulator(N, length, pixels)\n",
    "amplitude_modulator = AmplitudeModulator(N, length, pixels)\n",
    "detectors = MatrixDetectors(N, length, wavelength, detectors_amount, detectors_filter, spectral_filter).to(device)\n",
    "electronic = resnet18()\n",
    "\n",
    "propagation = propagation.to(device)\n",
    "phase_modulator = phase_modulator.to(device)\n",
    "amplitude_modulator = amplitude_modulator.to(device)\n",
    "detectors = detectors.to(device)\n",
    "electronic = electronic.to(device)\n",
    "\n",
    "model = CompositeModel(phase_modulator, amplitude_modulator, propagation).to(device)\n",
    "model = torch.nn.DataParallel(model).to(device)\n",
    "\n",
    "# propagation = torch.nn.DataParallel(propagation)\n",
    "# phase_modulator = torch.nn.DataParallel(phase_modulator)\n",
    "# amplitude_modulator = torch.nn.DataParallel(amplitude_modulator)\n",
    "# detectors = torch.nn.DataParallel(detectors)\n",
    "# electronic = torch.nn.DataParallel(electronic)\n",
    "# shape_fixer = torch.nn.DataParallel(shape_fixer)"
   ]
  },
  {
   "cell_type": "code",
   "execution_count": 15,
   "id": "231a582a-6cc3-423c-970c-c3834d01b6b3",
   "metadata": {},
   "outputs": [
    {
     "name": "stdout",
     "output_type": "stream",
     "text": [
      "cuda:0\n",
      "cuda:0\n",
      "cuda:0\n",
      "cuda:7\n",
      "cuda:7\n",
      "cuda:7\n",
      "cuda:0\n",
      "cuda:0\n",
      "cuda:0\n"
     ]
    }
   ],
   "source": [
    "model.forward(torch.rand(1,1,N,N, device=device, dtype=torch.complex64))\n",
    "for param in model.parameters():\n",
    "    print(param.device)\n",
    "for buffer in model.buffers():\n",
    "    print(buffer.device)\n",
    "\n",
    "model = model.to(torch.device(torch.cuda.device_count() - 1))\n",
    "for param in model.parameters():\n",
    "    print(param.device)\n",
    "for buffer in model.buffers():\n",
    "    print(buffer.device)\n",
    "\n",
    "model = model.to(device)\n",
    "for param in model.parameters():\n",
    "    print(param.device)\n",
    "for buffer in model.buffers():\n",
    "    print(buffer.device)"
   ]
  },
  {
   "cell_type": "code",
   "execution_count": 16,
   "id": "26c239e6-8dad-469d-948e-5df1afa01e5b",
   "metadata": {},
   "outputs": [
    {
     "name": "stdout",
     "output_type": "stream",
     "text": [
      "torch.Size([64, 1, 1336, 1336])\n",
      "torch.Size([64, 1, 1336, 1336, 2])\n"
     ]
    }
   ],
   "source": [
    "field, _ = next(iter(dataset.train))\n",
    "field = field.to(device)\n",
    "print(field.shape)\n",
    "\n",
    "field = model.forward(field)\n",
    "print(field.shape)"
   ]
  },
  {
   "cell_type": "code",
   "execution_count": null,
   "id": "80b1b761-22bc-4105-ab0e-c8541c5a4930",
   "metadata": {},
   "outputs": [],
   "source": []
  },
  {
   "cell_type": "code",
   "execution_count": null,
   "id": "5e30e207-9c9d-4846-9754-7a7e2f65f5ef",
   "metadata": {},
   "outputs": [],
   "source": []
  },
  {
   "cell_type": "code",
   "execution_count": null,
   "id": "990e94aa-316c-4d46-a505-f835b261ac92",
   "metadata": {},
   "outputs": [],
   "source": []
  },
  {
   "cell_type": "code",
   "execution_count": null,
   "id": "f48d68ba-66df-4c83-b808-8935abfb6e83",
   "metadata": {},
   "outputs": [],
   "source": []
  },
  {
   "cell_type": "code",
   "execution_count": null,
   "id": "678261ee-c73a-4998-b6cf-ff6bc5afefaf",
   "metadata": {},
   "outputs": [],
   "source": []
  },
  {
   "cell_type": "code",
   "execution_count": null,
   "id": "dff2ddf8-b7fe-4742-bdd9-1f88a5406efa",
   "metadata": {},
   "outputs": [],
   "source": []
  },
  {
   "cell_type": "code",
   "execution_count": null,
   "id": "897056b3-2f50-4702-8dc8-0650d2afe509",
   "metadata": {},
   "outputs": [],
   "source": []
  },
  {
   "cell_type": "code",
   "execution_count": null,
   "id": "fdef3c1c-3415-405e-b341-f344a02f09d7",
   "metadata": {},
   "outputs": [],
   "source": [
    "import torch\n",
    "import torch.nn as nn\n",
    "import torch.optim as optim\n",
    "\n",
    "# Определение моделей\n",
    "class Model1(nn.Module):\n",
    "    def __init__(self):\n",
    "        super(Model1, self).__init__()\n",
    "        self.layer = nn.Linear(10000, 20000)\n",
    "\n",
    "    def forward(self, x):\n",
    "        return self.layer(x)\n",
    "\n",
    "class Model2(nn.Module):\n",
    "    def __init__(self):\n",
    "        super(Model2, self).__init__()\n",
    "        self.layer = nn.Linear(20000, 30000)\n",
    "\n",
    "    def forward(self, x):\n",
    "        return self.layer(x)\n",
    "\n",
    "# Инициализация моделей\n",
    "model1 = Model1()\n",
    "model2 = Model2()\n",
    "\n",
    "# Перемещение моделей на доступные GPU\n",
    "device = torch.device(\"cuda\" if torch.cuda.is_available() else \"cpu\")\n",
    "model1 = model1.to(device)\n",
    "model2 = model2.to(device)\n",
    "\n",
    "# Использование DataParallel для автоматического распределения по GPU\n",
    "if torch.cuda.device_count() > 1:\n",
    "    model1 = nn.DataParallel(model1)\n",
    "    model2 = nn.DataParallel(model2)\n",
    "\n",
    "for i in range(100):\n",
    "    # Пример данных\n",
    "    data = torch.randn(64, 10000).to(device)  # Батч размером 64, каждый с вектором размером 10\n",
    "    \n",
    "    # Оптимизация и критерий потерь\n",
    "    criterion = nn.MSELoss()\n",
    "    optimizer = optim.SGD(list(model1.parameters()) + list(model2.parameters()), lr=0.01)\n",
    "    \n",
    "    # Обработка данных первой моделью\n",
    "    output1 = model1(data)\n",
    "    \n",
    "    # Обработка данных второй моделью\n",
    "    output2 = model2(output1)\n",
    "    \n",
    "    # Пример цели\n",
    "    target = torch.randn(64, 30000).to(device)\n",
    "    loss = criterion(output2, target)\n",
    "    loss.backward()\n",
    "    optimizer.step()\n",
    "    \n",
    "    print(f\"Loss: {loss.item()}\")"
   ]
  },
  {
   "cell_type": "code",
   "execution_count": null,
   "id": "4e59e43e-132c-4324-ba96-5d21dc8ba16c",
   "metadata": {},
   "outputs": [],
   "source": []
  }
 ],
 "metadata": {
  "kernelspec": {
   "display_name": "Python 3 (ipykernel)",
   "language": "python",
   "name": "python3"
  },
  "language_info": {
   "codemirror_mode": {
    "name": "ipython",
    "version": 3
   },
   "file_extension": ".py",
   "mimetype": "text/x-python",
   "name": "python",
   "nbconvert_exporter": "python",
   "pygments_lexer": "ipython3",
   "version": "3.10.12"
  }
 },
 "nbformat": 4,
 "nbformat_minor": 5
}
