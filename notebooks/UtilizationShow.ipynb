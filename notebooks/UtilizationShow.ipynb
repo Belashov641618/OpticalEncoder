{
 "cells": [
  {
   "cell_type": "code",
   "execution_count": 1,
   "id": "6005eb4f-e1c9-48c8-8c34-da707673ec5b",
   "metadata": {},
   "outputs": [],
   "source": [
    "import psutil\n",
    "import GPUtil\n",
    "import time\n",
    "from IPython.display import clear_output\n",
    "\n",
    "\n",
    "\n",
    "def get_gpu_info():\n",
    "    gpus = GPUtil.getGPUs()\n",
    "    gpu_info = []\n",
    "    for gpu in gpus:\n",
    "        gpu_info.append({\n",
    "            'id': gpu.id,\n",
    "            'name': gpu.name,\n",
    "            'load': f\"{gpu.load*100:.2f}%\",\n",
    "            'memory_free': f\"{gpu.memoryFree}MB\",\n",
    "            'memory_used': f\"{gpu.memoryUsed}MB\",\n",
    "            'memory_total': f\"{gpu.memoryTotal}MB\",\n",
    "            'temperature': f\"{gpu.temperature} C\",\n",
    "            'driver_version': gpu.driver\n",
    "        })\n",
    "    return gpu_info\n",
    "\n",
    "def get_cpu_info():\n",
    "    cpu_info = {\n",
    "        'cpu_percent': f\"{psutil.cpu_percent(interval=1)}%\",\n",
    "        'cpu_freq': f\"{psutil.cpu_freq().current:.2f}Mhz\",\n",
    "        'cpu_cores': psutil.cpu_count(logical=False),\n",
    "        'cpu_threads': psutil.cpu_count(logical=True)\n",
    "    }\n",
    "    return cpu_info\n",
    "\n",
    "def get_memory_info():\n",
    "    virtual_mem = psutil.virtual_memory()\n",
    "    swap_mem = psutil.swap_memory()\n",
    "    memory_info = {\n",
    "        'virtual_memory_total': f\"{virtual_mem.total / (1024 ** 3):.2f} GB\",\n",
    "        'virtual_memory_used': f\"{virtual_mem.used / (1024 ** 3):.2f} GB\",\n",
    "        'virtual_memory_available': f\"{virtual_mem.available / (1024 ** 3):.2f} GB\",\n",
    "        'swap_memory_total': f\"{swap_mem.total / (1024 ** 3):.2f} GB\",\n",
    "        'swap_memory_used': f\"{swap_mem.used / (1024 ** 3):.2f} GB\"\n",
    "    }\n",
    "    return memory_info"
   ]
  },
  {
   "cell_type": "code",
   "execution_count": null,
   "id": "72a1d6f2-4757-423f-914f-1bd72f84856d",
   "metadata": {},
   "outputs": [
    {
     "ename": "KeyboardInterrupt",
     "evalue": "",
     "output_type": "error",
     "traceback": [
      "\u001b[0;31m---------------------------------------------------------------------------\u001b[0m",
      "\u001b[0;31mKeyboardInterrupt\u001b[0m                         Traceback (most recent call last)",
      "Cell \u001b[0;32mIn[2], line 5\u001b[0m\n\u001b[1;32m      2\u001b[0m clear_output(wait\u001b[38;5;241m=\u001b[39m\u001b[38;5;28;01mTrue\u001b[39;00m)\n\u001b[1;32m      4\u001b[0m gpu_info \u001b[38;5;241m=\u001b[39m get_gpu_info()\n\u001b[0;32m----> 5\u001b[0m cpu_info \u001b[38;5;241m=\u001b[39m \u001b[43mget_cpu_info\u001b[49m\u001b[43m(\u001b[49m\u001b[43m)\u001b[49m\n\u001b[1;32m      6\u001b[0m memory_info \u001b[38;5;241m=\u001b[39m get_memory_info()\n\u001b[1;32m      8\u001b[0m \u001b[38;5;28mprint\u001b[39m(\u001b[38;5;124m\"\u001b[39m\u001b[38;5;130;01m\\t\u001b[39;00m\u001b[38;5;124mGPU Info:\u001b[39m\u001b[38;5;124m\"\u001b[39m)\n",
      "Cell \u001b[0;32mIn[1], line 26\u001b[0m, in \u001b[0;36mget_cpu_info\u001b[0;34m()\u001b[0m\n\u001b[1;32m     24\u001b[0m \u001b[38;5;28;01mdef\u001b[39;00m \u001b[38;5;21mget_cpu_info\u001b[39m():\n\u001b[1;32m     25\u001b[0m     cpu_info \u001b[38;5;241m=\u001b[39m {\n\u001b[0;32m---> 26\u001b[0m         \u001b[38;5;124m'\u001b[39m\u001b[38;5;124mcpu_percent\u001b[39m\u001b[38;5;124m'\u001b[39m: \u001b[38;5;124mf\u001b[39m\u001b[38;5;124m\"\u001b[39m\u001b[38;5;132;01m{\u001b[39;00m\u001b[43mpsutil\u001b[49m\u001b[38;5;241;43m.\u001b[39;49m\u001b[43mcpu_percent\u001b[49m\u001b[43m(\u001b[49m\u001b[43minterval\u001b[49m\u001b[38;5;241;43m=\u001b[39;49m\u001b[38;5;241;43m1\u001b[39;49m\u001b[43m)\u001b[49m\u001b[38;5;132;01m}\u001b[39;00m\u001b[38;5;124m%\u001b[39m\u001b[38;5;124m\"\u001b[39m,\n\u001b[1;32m     27\u001b[0m         \u001b[38;5;124m'\u001b[39m\u001b[38;5;124mcpu_freq\u001b[39m\u001b[38;5;124m'\u001b[39m: \u001b[38;5;124mf\u001b[39m\u001b[38;5;124m\"\u001b[39m\u001b[38;5;132;01m{\u001b[39;00mpsutil\u001b[38;5;241m.\u001b[39mcpu_freq()\u001b[38;5;241m.\u001b[39mcurrent\u001b[38;5;132;01m:\u001b[39;00m\u001b[38;5;124m.2f\u001b[39m\u001b[38;5;132;01m}\u001b[39;00m\u001b[38;5;124mMhz\u001b[39m\u001b[38;5;124m\"\u001b[39m,\n\u001b[1;32m     28\u001b[0m         \u001b[38;5;124m'\u001b[39m\u001b[38;5;124mcpu_cores\u001b[39m\u001b[38;5;124m'\u001b[39m: psutil\u001b[38;5;241m.\u001b[39mcpu_count(logical\u001b[38;5;241m=\u001b[39m\u001b[38;5;28;01mFalse\u001b[39;00m),\n\u001b[1;32m     29\u001b[0m         \u001b[38;5;124m'\u001b[39m\u001b[38;5;124mcpu_threads\u001b[39m\u001b[38;5;124m'\u001b[39m: psutil\u001b[38;5;241m.\u001b[39mcpu_count(logical\u001b[38;5;241m=\u001b[39m\u001b[38;5;28;01mTrue\u001b[39;00m)\n\u001b[1;32m     30\u001b[0m     }\n\u001b[1;32m     31\u001b[0m     \u001b[38;5;28;01mreturn\u001b[39;00m cpu_info\n",
      "File \u001b[0;32m/usr/lib/python3/dist-packages/psutil/__init__.py:1747\u001b[0m, in \u001b[0;36mcpu_percent\u001b[0;34m(interval, percpu)\u001b[0m\n\u001b[1;32m   1745\u001b[0m \u001b[38;5;28;01mif\u001b[39;00m blocking:\n\u001b[1;32m   1746\u001b[0m     t1 \u001b[38;5;241m=\u001b[39m cpu_times()\n\u001b[0;32m-> 1747\u001b[0m     \u001b[43mtime\u001b[49m\u001b[38;5;241;43m.\u001b[39;49m\u001b[43msleep\u001b[49m\u001b[43m(\u001b[49m\u001b[43minterval\u001b[49m\u001b[43m)\u001b[49m\n\u001b[1;32m   1748\u001b[0m \u001b[38;5;28;01melse\u001b[39;00m:\n\u001b[1;32m   1749\u001b[0m     t1 \u001b[38;5;241m=\u001b[39m _last_cpu_times\n",
      "\u001b[0;31mKeyboardInterrupt\u001b[0m: "
     ]
    }
   ],
   "source": [
    "while True:\n",
    "    clear_output(wait=True)\n",
    "    \n",
    "    gpu_info = get_gpu_info()\n",
    "    cpu_info = get_cpu_info()\n",
    "    memory_info = get_memory_info()\n",
    "    \n",
    "    print(\"\\tGPU Info:\")\n",
    "    for gpu in gpu_info:\n",
    "        print(f\"ID: {gpu['id']}, Name: {gpu['name']}, Load: {gpu['load']}, \"\n",
    "              f\"Memory Free: {gpu['memory_free']}, Memory Used: {gpu['memory_used']}, \"\n",
    "              f\"Memory Total: {gpu['memory_total']}, Temperature: {gpu['temperature']}, \"\n",
    "              #f\"Driver Version: {gpu['driver_version']}\"\n",
    "            )\n",
    "    \n",
    "    print(\"\\n\\tCPU Info:\")\n",
    "    print(f\"CPU Percent: {cpu_info['cpu_percent']}\")\n",
    "    print(f\"CPU Frequency: {cpu_info['cpu_freq']}\")\n",
    "    print(f\"CPU Cores: {cpu_info['cpu_cores']}\")\n",
    "    print(f\"CPU Threads: {cpu_info['cpu_threads']}\")\n",
    "    \n",
    "    print(\"\\n\\tMemory Info:\")\n",
    "    print(f\"Virtual Memory Total: {memory_info['virtual_memory_total']}\")\n",
    "    print(f\"Virtual Memory Used: {memory_info['virtual_memory_used']}\")\n",
    "    print(f\"Virtual Memory Available: {memory_info['virtual_memory_available']}\")\n",
    "    print(f\"Swap Memory Total: {memory_info['swap_memory_total']}\")\n",
    "    print(f\"Swap Memory Used: {memory_info['swap_memory_used']}\")\n",
    "    \n",
    "    time.sleep(0.3)"
   ]
  },
  {
   "cell_type": "code",
   "execution_count": null,
   "id": "9d7afce1-973f-4672-924c-eb57a4283e31",
   "metadata": {},
   "outputs": [],
   "source": []
  }
 ],
 "metadata": {
  "kernelspec": {
   "display_name": "Python 3 (ipykernel)",
   "language": "python",
   "name": "python3"
  },
  "language_info": {
   "codemirror_mode": {
    "name": "ipython",
    "version": 3
   },
   "file_extension": ".py",
   "mimetype": "text/x-python",
   "name": "python",
   "nbconvert_exporter": "python",
   "pygments_lexer": "ipython3",
   "version": "3.10.12"
  }
 },
 "nbformat": 4,
 "nbformat_minor": 5
}
