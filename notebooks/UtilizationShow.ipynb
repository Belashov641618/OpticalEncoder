{
 "cells": [
  {
   "cell_type": "code",
   "execution_count": 1,
   "id": "6005eb4f-e1c9-48c8-8c34-da707673ec5b",
   "metadata": {},
   "outputs": [],
   "source": [
    "import psutil\n",
    "import GPUtil\n",
    "import time\n",
    "from IPython.display import clear_output\n",
    "\n",
    "def get_gpu_info():\n",
    "    gpus = GPUtil.getGPUs()\n",
    "    gpu_info = []\n",
    "    for gpu in gpus:\n",
    "        gpu_info.append({\n",
    "            'id': gpu.id,\n",
    "            'name': gpu.name,\n",
    "            'load': f\"{gpu.load*100:.2f}%\",\n",
    "            'memory_free': f\"{gpu.memoryFree}MB\",\n",
    "            'memory_used': f\"{gpu.memoryUsed}MB\",\n",
    "            'memory_total': f\"{gpu.memoryTotal}MB\",\n",
    "            'temperature': f\"{gpu.temperature} C\",\n",
    "            'driver_version': gpu.driver\n",
    "        })\n",
    "    return gpu_info\n",
    "\n",
    "def get_cpu_info():\n",
    "    cpu_info = {\n",
    "        'cpu_percent': f\"{psutil.cpu_percent(interval=1)}%\",\n",
    "        'cpu_freq': f\"{psutil.cpu_freq().current:.2f}Mhz\",\n",
    "        'cpu_cores': psutil.cpu_count(logical=False),\n",
    "        'cpu_threads': psutil.cpu_count(logical=True)\n",
    "    }\n",
    "    return cpu_info\n",
    "\n",
    "def get_memory_info():\n",
    "    virtual_mem = psutil.virtual_memory()\n",
    "    swap_mem = psutil.swap_memory()\n",
    "    memory_info = {\n",
    "        'virtual_memory_total': f\"{virtual_mem.total / (1024 ** 3):.2f} GB\",\n",
    "        'virtual_memory_used': f\"{virtual_mem.used / (1024 ** 3):.2f} GB\",\n",
    "        'virtual_memory_available': f\"{virtual_mem.available / (1024 ** 3):.2f} GB\",\n",
    "        'swap_memory_total': f\"{swap_mem.total / (1024 ** 3):.2f} GB\",\n",
    "        'swap_memory_used': f\"{swap_mem.used / (1024 ** 3):.2f} GB\"\n",
    "    }\n",
    "    return memory_info"
   ]
  },
  {
   "cell_type": "code",
   "execution_count": null,
   "id": "72a1d6f2-4757-423f-914f-1bd72f84856d",
   "metadata": {},
   "outputs": [
    {
     "name": "stdout",
     "output_type": "stream",
     "text": [
      "\tGPU Info:\n",
      "ID: 0, Name: NVIDIA A100-SXM4-80GB, Load: 24.00%, Memory Free: 57042.0MB, Memory Used: 24008.0MB, Memory Total: 81920.0MB, Temperature: 31.0 C, \n",
      "ID: 1, Name: NVIDIA A100-SXM4-80GB, Load: 0.00%, Memory Free: 78615.0MB, Memory Used: 2434.0MB, Memory Total: 81920.0MB, Temperature: 25.0 C, \n",
      "ID: 2, Name: NVIDIA A100-SXM4-80GB, Load: 0.00%, Memory Free: 78615.0MB, Memory Used: 2434.0MB, Memory Total: 81920.0MB, Temperature: 25.0 C, \n",
      "ID: 3, Name: NVIDIA A100-SXM4-80GB, Load: 0.00%, Memory Free: 78615.0MB, Memory Used: 2434.0MB, Memory Total: 81920.0MB, Temperature: 28.0 C, \n",
      "ID: 4, Name: NVIDIA A100-SXM4-80GB, Load: 0.00%, Memory Free: 78615.0MB, Memory Used: 2434.0MB, Memory Total: 81920.0MB, Temperature: 27.0 C, \n",
      "ID: 5, Name: NVIDIA A100-SXM4-80GB, Load: 0.00%, Memory Free: 78615.0MB, Memory Used: 2434.0MB, Memory Total: 81920.0MB, Temperature: 24.0 C, \n",
      "ID: 6, Name: NVIDIA A100-SXM4-80GB, Load: 0.00%, Memory Free: 78615.0MB, Memory Used: 2434.0MB, Memory Total: 81920.0MB, Temperature: 25.0 C, \n",
      "ID: 7, Name: NVIDIA A100-SXM4-80GB, Load: 0.00%, Memory Free: 12937.0MB, Memory Used: 68112.0MB, Memory Total: 81920.0MB, Temperature: 26.0 C, \n",
      "\n",
      "\tCPU Info:\n",
      "CPU Percent: 96.0%\n",
      "CPU Frequency: 2.96Mhz\n",
      "CPU Cores: 128\n",
      "CPU Threads: 128\n",
      "\n",
      "\tMemory Info:\n",
      "Virtual Memory Total: 2015.70 GB\n",
      "Virtual Memory Used: 16.27 GB\n",
      "Virtual Memory Available: 1991.56 GB\n",
      "Swap Memory Total: 0.00 GB\n",
      "Swap Memory Used: 0.00 GB\n"
     ]
    }
   ],
   "source": [
    "while True:\n",
    "    clear_output(wait=True)\n",
    "    \n",
    "    gpu_info = get_gpu_info()\n",
    "    cpu_info = get_cpu_info()\n",
    "    memory_info = get_memory_info()\n",
    "    \n",
    "    print(\"\\tGPU Info:\")\n",
    "    for gpu in gpu_info:\n",
    "        print(f\"ID: {gpu['id']}, Name: {gpu['name']}, Load: {gpu['load']}, \"\n",
    "              f\"Memory Free: {gpu['memory_free']}, Memory Used: {gpu['memory_used']}, \"\n",
    "              f\"Memory Total: {gpu['memory_total']}, Temperature: {gpu['temperature']}, \"\n",
    "              #f\"Driver Version: {gpu['driver_version']}\"\n",
    "            )\n",
    "    \n",
    "    print(\"\\n\\tCPU Info:\")\n",
    "    print(f\"CPU Percent: {cpu_info['cpu_percent']}\")\n",
    "    print(f\"CPU Frequency: {cpu_info['cpu_freq']}\")\n",
    "    print(f\"CPU Cores: {cpu_info['cpu_cores']}\")\n",
    "    print(f\"CPU Threads: {cpu_info['cpu_threads']}\")\n",
    "    \n",
    "    print(\"\\n\\tMemory Info:\")\n",
    "    print(f\"Virtual Memory Total: {memory_info['virtual_memory_total']}\")\n",
    "    print(f\"Virtual Memory Used: {memory_info['virtual_memory_used']}\")\n",
    "    print(f\"Virtual Memory Available: {memory_info['virtual_memory_available']}\")\n",
    "    print(f\"Swap Memory Total: {memory_info['swap_memory_total']}\")\n",
    "    print(f\"Swap Memory Used: {memory_info['swap_memory_used']}\")\n",
    "    \n",
    "    time.sleep(1)"
   ]
  },
  {
   "cell_type": "code",
   "execution_count": null,
   "id": "9faa7c96-0b22-48fc-9fbb-385434eaaeae",
   "metadata": {},
   "outputs": [],
   "source": []
  },
  {
   "cell_type": "code",
   "execution_count": null,
   "id": "b04f882b-2fce-4e72-9868-8812ed1da2e5",
   "metadata": {},
   "outputs": [],
   "source": []
  }
 ],
 "metadata": {
  "kernelspec": {
   "display_name": "Python 3 (ipykernel)",
   "language": "python",
   "name": "python3"
  },
  "language_info": {
   "codemirror_mode": {
    "name": "ipython",
    "version": 3
   },
   "file_extension": ".py",
   "mimetype": "text/x-python",
   "name": "python",
   "nbconvert_exporter": "python",
   "pygments_lexer": "ipython3",
   "version": "3.10.12"
  }
 },
 "nbformat": 4,
 "nbformat_minor": 5
}
